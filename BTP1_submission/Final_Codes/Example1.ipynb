{
  "cells": [
    {
      "cell_type": "markdown",
      "metadata": {},
      "source": [
        "# Dynamic Programming Approach for Single asset"
      ]
    },
    {
      "cell_type": "code",
      "execution_count": 1,
      "metadata": {
        "colab": {
          "base_uri": "https://localhost:8080/"
        },
        "execution": {
          "iopub.execute_input": "2023-10-29T11:53:56.455689Z",
          "iopub.status.busy": "2023-10-29T11:53:56.455228Z",
          "iopub.status.idle": "2023-10-29T11:53:56.477425Z",
          "shell.execute_reply": "2023-10-29T11:53:56.476151Z",
          "shell.execute_reply.started": "2023-10-29T11:53:56.455644Z"
        },
        "id": "pJD44qpGi8xV",
        "outputId": "59bace5c-bd3a-4b56-a63e-d93d76596712",
        "trusted": true
      },
      "outputs": [
        {
          "data": {
            "text/plain": [
              "[[1, [0.016895254446052575, 0.000308]],\n",
              " [1, array([0.0003967, 0.000308 ])],\n",
              " [1, array([-0.02719728,  0.000308  ])],\n",
              " [1, array([-0.04433015,  0.000308  ])],\n",
              " [1, array([0.00786953, 0.000308  ])],\n",
              " [1, array([0.04600472, 0.000308  ])],\n",
              " [0, array([0.0125583, 0.000308 ])],\n",
              " [0, array([-0.0169421,  0.000308 ])],\n",
              " [0, array([0.03499199, 0.000308  ])],\n",
              " [0, array([0.01839231, 0.000308  ])],\n",
              " [0, array([0.00620441, 0.000308  ])],\n",
              " [0, array([0.0153194, 0.000308 ])],\n",
              " [0, array([-0.01041823,  0.000308  ])],\n",
              " [0, array([0.0126089, 0.000308 ])],\n",
              " [1, array([-0.02226973,  0.000308  ])],\n",
              " [1, array([-0.052128,  0.000308])],\n",
              " [1, array([0.00882563, 0.000308  ])],\n",
              " [1, array([0.03259286, 0.000308  ])],\n",
              " [1, array([0.03233749, 0.000308  ])],\n",
              " [1, array([0.05860924, 0.000308  ])],\n",
              " [1, array([-0.00246903,  0.000308  ])],\n",
              " [1, array([0.02950264, 0.000308  ])],\n",
              " [1, array([0.02847514, 0.000308  ])],\n",
              " [1, array([0.02823885, 0.000308  ])],\n",
              " [1, array([-0.0598599,  0.000308 ])],\n",
              " [1, array([0.01178552, 0.000308  ])],\n",
              " [1, array([0.00595689, 0.000308  ])],\n",
              " [1, array([-0.00572003,  0.000308  ])],\n",
              " [1, array([-0.03386137,  0.000308  ])],\n",
              " [0, array([0.00944273, 0.000308  ])],\n",
              " [0, array([0.00016299, 0.000308  ])],\n",
              " [0, array([-0.03505905,  0.000308  ])],\n",
              " [0, array([-0.0024059,  0.000308 ])],\n",
              " [0, array([0.02256507, 0.000308  ])],\n",
              " [0, array([-0.00033879,  0.000308  ])],\n",
              " [0, array([0.01964739, 0.000308  ])],\n",
              " [0, array([0.00179828, 0.000308  ])],\n",
              " [0, array([-0.02160121,  0.000308  ])],\n",
              " [0, array([0.00988421, 0.000308  ])],\n",
              " [0, array([0.01965205, 0.000308  ])],\n",
              " [0, array([-0.00443308,  0.000308  ])],\n",
              " [0, array([0.00973052, 0.000308  ])],\n",
              " [0, array([0.00011289, 0.000308  ])],\n",
              " [0, array([0.01012794, 0.000308  ])],\n",
              " [0, array([0.00938089, 0.000308  ])],\n",
              " [0, array([-0.00742607,  0.000308  ])],\n",
              " [0, array([-0.02271226,  0.000308  ])],\n",
              " [0, array([0.02868822, 0.000308  ])],\n",
              " [0, array([-0.01369347,  0.000308  ])],\n",
              " [0, array([-0.00578272,  0.000308  ])]]"
            ]
          },
          "execution_count": 1,
          "metadata": {},
          "output_type": "execute_result"
        }
      ],
      "source": [
        "import numpy as np\n",
        "from scipy.stats import multivariate_normal\n",
        "def generate_normal_distribution(n):\n",
        "\n",
        "    L = np.random.rand(n, n)\n",
        "    cov_matrix = np.dot(L, L.T)\n",
        "\n",
        "    mean = np.random.randn(n)\n",
        "    print(mean)\n",
        "\n",
        "    return [mean,cov_matrix]\n",
        "\n",
        "\n",
        "n = 1\n",
        "regimes = []\n",
        "N = 2\n",
        "T= 50\n",
        "rf = 0.0154/50\n",
        "gamma = -1\n",
        "tpm = np.array([[0.981,0.019],[0.047,0.953]])\n",
        "regimes = [[[0.00312],[[0.00022]]],[[-0.00175],[[0.00116]]]]\n",
        "\n",
        "def generate_scenario(prob,t):\n",
        "    current_regime = np.random.choice(N,p = prob)\n",
        "    sample = list(np.random.multivariate_normal(mean = regimes[current_regime][0], cov= regimes[current_regime][1]))\n",
        "    sample.append(rf)\n",
        "    return np.array(sample)\n",
        "\n",
        "def generate_monte_carlo_sample():\n",
        "    sample = []\n",
        "    curr_regime = np.random.choice(range(N))\n",
        "    returns = list(np.random.multivariate_normal(mean = regimes[curr_regime][0], cov= regimes[curr_regime][1]))\n",
        "    returns.append(rf)\n",
        "    sample.append([curr_regime,returns])\n",
        "    for i in range(T-1):\n",
        "        curr_regime = np.random.choice(range(N), p = tpm[curr_regime])\n",
        "        returns = list(np.random.multivariate_normal(mean = regimes[curr_regime][0], cov= regimes[curr_regime][1]))\n",
        "        returns.append(rf)\n",
        "        returns = np.array(returns)\n",
        "        sample.append([curr_regime,returns])\n",
        "\n",
        "    return sample\n",
        "\n",
        "\n",
        "generate_monte_carlo_sample()"
      ]
    },
    {
      "cell_type": "code",
      "execution_count": 2,
      "metadata": {
        "colab": {
          "base_uri": "https://localhost:8080/"
        },
        "id": "cPvpgto4DHFq",
        "outputId": "2f6cd782-d4f4-45b3-cddf-f61cf45404b4"
      },
      "outputs": [
        {
          "data": {
            "text/plain": [
              "array([0.02753074, 0.000308  ])"
            ]
          },
          "execution_count": 2,
          "metadata": {},
          "output_type": "execute_result"
        }
      ],
      "source": [
        "generate_scenario([1,0],0)"
      ]
    },
    {
      "cell_type": "code",
      "execution_count": 3,
      "metadata": {
        "colab": {
          "base_uri": "https://localhost:8080/"
        },
        "execution": {
          "iopub.execute_input": "2023-10-29T11:53:56.479957Z",
          "iopub.status.busy": "2023-10-29T11:53:56.479589Z",
          "iopub.status.idle": "2023-10-29T11:53:56.490274Z",
          "shell.execute_reply": "2023-10-29T11:53:56.488968Z",
          "shell.execute_reply.started": "2023-10-29T11:53:56.479926Z"
        },
        "id": "bTNJzmbsi8xW",
        "outputId": "d412802c-8995-4161-c033-955fe5f295e3",
        "trusted": true
      },
      "outputs": [
        {
          "name": "stdout",
          "output_type": "stream",
          "text": [
            "[[-0.00175], [[0.00116]]]\n"
          ]
        }
      ],
      "source": [
        "print(regimes[1][:])"
      ]
    },
    {
      "cell_type": "code",
      "execution_count": 25,
      "metadata": {
        "colab": {
          "base_uri": "https://localhost:8080/",
          "height": 430
        },
        "execution": {
          "iopub.execute_input": "2023-10-29T11:53:56.492140Z",
          "iopub.status.busy": "2023-10-29T11:53:56.491748Z",
          "iopub.status.idle": "2023-10-29T11:53:56.808186Z",
          "shell.execute_reply": "2023-10-29T11:53:56.806933Z",
          "shell.execute_reply.started": "2023-10-29T11:53:56.492093Z"
        },
        "id": "MqqadhkWi8xW",
        "outputId": "cef64381-4965-42ce-d823-c60bc18f99fd",
        "trusted": true
      },
      "outputs": [
        {
          "data": {
            "image/png": "[encoded data removed]",
            "text/plain": [
              "<Figure size 640x480 with 1 Axes>"
            ]
          },
          "metadata": {},
          "output_type": "display_data"
        }
      ],
      "source": [
        "sample_returns = generate_monte_carlo_sample()\n",
        "import matplotlib.pyplot as plt\n",
        "x_values = [i for i in range(T)]\n",
        "y_values = [array[1][0] for array in sample_returns]\n",
        "regimes_for_this_sample = [array[0] for array in sample_returns]\n",
        "flig,ax = plt.subplots()\n",
        "ax.plot(x_values,y_values)\n",
        "ax.fill_between(x_values,min(y_values),max(y_values),where = [regimes_for_this_sample[i]==1 for i in range(T)],color = 'grey',alpha = 0.5)\n",
        "plt.xlabel(\"Time in weeks\")\n",
        "plt.ylabel(\"Returns of risky asset\")\n",
        "plt.show()"
      ]
    },
    {
      "cell_type": "markdown",
      "metadata": {
        "id": "inYU_pl2i8xX"
      },
      "source": [
        "## Probabilty set initialization over different regimes"
      ]
    },
    {
      "cell_type": "code",
      "execution_count": 109,
      "metadata": {
        "execution": {
          "iopub.execute_input": "2023-10-29T11:53:56.812638Z",
          "iopub.status.busy": "2023-10-29T11:53:56.811765Z",
          "iopub.status.idle": "2023-10-29T11:53:56.822766Z",
          "shell.execute_reply": "2023-10-29T11:53:56.821547Z",
          "shell.execute_reply.started": "2023-10-29T11:53:56.812584Z"
        },
        "id": "HlEu8hiti8xX",
        "trusted": true
      },
      "outputs": [],
      "source": [
        "from itertools import product\n",
        "from scipy.optimize import minimize\n",
        "\n",
        "discrete_prob = 50\n",
        "prob_set = []\n",
        "for i in range(discrete_prob+1):\n",
        "    prob_set.append(1/(discrete_prob)*i)\n",
        "\n",
        "combinations = product(prob_set, repeat=N)\n",
        "possible_probabities = [vector for vector in combinations if sum(vector) == 1]\n",
        "reverse_index = {}\n",
        "for _,p in enumerate(possible_probabities):\n",
        "    reverse_index[p]= _\n",
        "\n",
        "possible_probabities = [np.array(x) for x in possible_probabities]\n"
      ]
    },
    {
      "cell_type": "code",
      "execution_count": 110,
      "metadata": {
        "execution": {
          "iopub.execute_input": "2023-10-29T11:53:56.825134Z",
          "iopub.status.busy": "2023-10-29T11:53:56.824605Z",
          "iopub.status.idle": "2023-10-29T11:53:56.849029Z",
          "shell.execute_reply": "2023-10-29T11:53:56.847940Z",
          "shell.execute_reply.started": "2023-10-29T11:53:56.825086Z"
        },
        "id": "wKNgAv0ei8xX",
        "trusted": true
      },
      "outputs": [],
      "source": [
        "delta_pi = 0.02\n",
        "pi_set = []\n",
        "curr_pi = -1\n",
        "while curr_pi<=1+1e-5:\n",
        "    pi_set.append(curr_pi)\n",
        "    curr_pi+=delta_pi\n",
        "\n",
        "pi_combinations = product(pi_set,repeat=n)\n",
        "possible_pi = [np.append(np.array(vector),1-np.sum(vector)) for vector in pi_combinations]\n"
      ]
    },
    {
      "cell_type": "code",
      "execution_count": 111,
      "metadata": {
        "colab": {
          "base_uri": "https://localhost:8080/"
        },
        "execution": {
          "iopub.execute_input": "2023-10-29T11:53:56.851501Z",
          "iopub.status.busy": "2023-10-29T11:53:56.850540Z",
          "iopub.status.idle": "2023-10-29T11:53:56.866638Z",
          "shell.execute_reply": "2023-10-29T11:53:56.865331Z",
          "shell.execute_reply.started": "2023-10-29T11:53:56.851457Z"
        },
        "id": "A7BfwaR3i8xX",
        "outputId": "f82abf9b-2495-4004-ba46-921fc888513c",
        "trusted": true
      },
      "outputs": [
        {
          "name": "stdout",
          "output_type": "stream",
          "text": [
            "[ 1.00000000e+00 -1.11022302e-15]\n"
          ]
        }
      ],
      "source": [
        "print(possible_pi[-1])"
      ]
    },
    {
      "cell_type": "code",
      "execution_count": 112,
      "metadata": {
        "execution": {
          "iopub.execute_input": "2023-10-29T11:53:56.871749Z",
          "iopub.status.busy": "2023-10-29T11:53:56.868275Z",
          "iopub.status.idle": "2023-10-29T11:53:56.884802Z",
          "shell.execute_reply": "2023-10-29T11:53:56.883417Z",
          "shell.execute_reply.started": "2023-10-29T11:53:56.871677Z"
        },
        "id": "NosoKv9ii8xY",
        "trusted": true
      },
      "outputs": [],
      "source": [
        "def closest_probability_distn(p_in):\n",
        "    lowest_norm = np.array(float('inf'))\n",
        "    ind = 0\n",
        "\n",
        "    for _,array in enumerate(possible_probabities):\n",
        "        norm = np.linalg.norm(p_in - array)\n",
        "        if norm < lowest_norm:\n",
        "            lowest_norm = norm\n",
        "            closest_array = array\n",
        "            ind = _\n",
        "\n",
        "    return ind,closest_array\n",
        "\n",
        "def updateBelief(r,p):\n",
        "    r = r[:-1]\n",
        "    density = np.array([multivariate_normal.pdf(r,mean = regimes[i][0], cov = regimes[i][1]) for i in range(N)])\n",
        "    p_new = tpm.T@(density*p)\n",
        "    p_new/=np.sum(p_new)\n",
        "    \n",
        "    closest_p_ind,_ = closest_probability_distn(p_new)\n",
        "    return p_new,closest_p_ind\n",
        "\n",
        "def newWealth(r, pi):\n",
        "  return np.sum(pi*(1+r))"
      ]
    },
    {
      "cell_type": "markdown",
      "metadata": {},
      "source": [
        "# Dynamic Programming Algorithm"
      ]
    },
    {
      "cell_type": "code",
      "execution_count": 113,
      "metadata": {
        "colab": {
          "base_uri": "https://localhost:8080/"
        },
        "execution": {
          "iopub.execute_input": "2023-10-29T11:53:56.887996Z",
          "iopub.status.busy": "2023-10-29T11:53:56.886802Z",
          "iopub.status.idle": "2023-10-29T11:55:25.657984Z",
          "shell.execute_reply": "2023-10-29T11:55:25.656816Z",
          "shell.execute_reply.started": "2023-10-29T11:53:56.887934Z"
        },
        "id": "bIqmZaXui8xY",
        "outputId": "c0564245-73af-4d0e-a4c3-c6824cde383d",
        "trusted": true
      },
      "outputs": [
        {
          "name": "stdout",
          "output_type": "stream",
          "text": [
            "0 4 [0. 1.] [-0.92  1.92]\n",
            "0 4 [0.02 0.98] [-1  2]\n",
            "0 4 [0.04 0.96] [-0.96  1.96]\n",
            "0 4 [0.06 0.94] [-0.8  1.8]\n",
            "0 4 [0.08 0.92] [-0.66  1.66]\n",
            "0 4 [0.1 0.9] [-0.48  1.48]\n",
            "0 4 [0.12 0.88] [-0.84  1.84]\n",
            "0 4 [0.14 0.86] [-0.74  1.74]\n",
            "0 4 [0.16 0.84] [-0.54  1.54]\n",
            "0 4 [0.18 0.82] [-0.88  1.88]\n",
            "0 4 [0.2 0.8] [-0.5  1.5]\n",
            "0 4 [0.22 0.78] [-0.62  1.62]\n",
            "0 4 [0.24 0.76] [-0.56  1.56]\n",
            "0 4 [0.26 0.74] [-0.38  1.38]\n",
            "0 4 [0.28 0.72] [-0.52  1.52]\n",
            "0 4 [0.3 0.7] [-0.4  1.4]\n",
            "0 4 [0.32 0.68] [-0.1  1.1]\n",
            "0 4 [0.34 0.66] [-0.34  1.34]\n",
            "0 4 [0.36 0.64] [-0.28  1.28]\n",
            "0 4 [0.38 0.62] [-0.1  1.1]\n",
            "0 4 [0.4 0.6] [6.17561557e-16 1.00000000e+00]\n",
            "0 4 [0.42 0.58] [-0.02  1.02]\n",
            "0 4 [0.44 0.56] [0.04 0.96]\n",
            "0 4 [0.46 0.54] [6.17561557e-16 1.00000000e+00]\n",
            "0 4 [0.48 0.52] [0.04 0.96]\n",
            "0 4 [0.5 0.5] [0.14 0.86]\n",
            "0 4 [0.52 0.48] [0.18 0.82]\n",
            "0 4 [0.54 0.46] [0.52 0.48]\n",
            "0 4 [0.56 0.44] [0.68 0.32]\n",
            "0 4 [0.58 0.42] [0.7 0.3]\n",
            "0 4 [0.6 0.4] [0.72 0.28]\n",
            "0 4 [0.62 0.38] [0.72 0.28]\n",
            "0 4 [0.64 0.36] [ 1.00000000e+00 -1.11022302e-15]\n",
            "0 4 [0.66 0.34] [ 1.00000000e+00 -1.11022302e-15]\n",
            "0 4 [0.68 0.32] [ 1.00000000e+00 -1.11022302e-15]\n",
            "0 4 [0.7 0.3] [ 1.00000000e+00 -1.11022302e-15]\n",
            "0 4 [0.72 0.28] [ 1.00000000e+00 -1.11022302e-15]\n",
            "0 4 [0.74 0.26] [ 1.00000000e+00 -1.11022302e-15]\n",
            "0 4 [0.76 0.24] [ 1.00000000e+00 -1.11022302e-15]\n",
            "0 4 [0.78 0.22] [ 1.00000000e+00 -1.11022302e-15]\n",
            "0 4 [0.8 0.2] [ 1.00000000e+00 -1.11022302e-15]\n",
            "0 4 [0.82 0.18] [ 1.00000000e+00 -1.11022302e-15]\n",
            "0 4 [0.84 0.16] [ 1.00000000e+00 -1.11022302e-15]\n",
            "0 4 [0.86 0.14] [ 1.00000000e+00 -1.11022302e-15]\n",
            "0 4 [0.88 0.12] [ 1.00000000e+00 -1.11022302e-15]\n",
            "0 4 [0.9 0.1] [ 1.00000000e+00 -1.11022302e-15]\n",
            "0 4 [0.92 0.08] [ 1.00000000e+00 -1.11022302e-15]\n",
            "0 4 [0.94 0.06] [ 1.00000000e+00 -1.11022302e-15]\n",
            "0 4 [0.96 0.04] [ 1.00000000e+00 -1.11022302e-15]\n",
            "0 4 [0.98 0.02] [ 1.00000000e+00 -1.11022302e-15]\n",
            "0 4 [1. 0.] [ 1.00000000e+00 -1.11022302e-15]\n",
            "\n",
            "\n",
            "0 3 [0. 1.] [-0.82  1.82]\n",
            "0 3 [0.02 0.98] [-0.74  1.74]\n",
            "0 3 [0.04 0.96] [-0.78  1.78]\n",
            "0 3 [0.06 0.94] [-0.72  1.72]\n",
            "0 3 [0.08 0.92] [-0.82  1.82]\n",
            "0 3 [0.1 0.9] [-0.62  1.62]\n",
            "0 3 [0.12 0.88] [-0.86  1.86]\n",
            "0 3 [0.14 0.86] [-0.78  1.78]\n",
            "0 3 [0.16 0.84] [-0.74  1.74]\n",
            "0 3 [0.18 0.82] [-0.72  1.72]\n",
            "0 3 [0.2 0.8] [-0.4  1.4]\n",
            "0 3 [0.22 0.78] [-0.62  1.62]\n",
            "0 3 [0.24 0.76] [-0.4  1.4]\n",
            "0 3 [0.26 0.74] [-0.44  1.44]\n",
            "0 3 [0.28 0.72] [-0.52  1.52]\n",
            "0 3 [0.3 0.7] [-0.44  1.44]\n",
            "0 3 [0.32 0.68] [-0.1  1.1]\n",
            "0 3 [0.34 0.66] [-0.04  1.04]\n",
            "0 3 [0.36 0.64] [-0.44  1.44]\n",
            "0 3 [0.38 0.62] [-0.08  1.08]\n",
            "0 3 [0.4 0.6] [-0.08  1.08]\n",
            "0 3 [0.42 0.58] [-0.02  1.02]\n",
            "0 3 [0.44 0.56] [0.08 0.92]\n",
            "0 3 [0.46 0.54] [0.3 0.7]\n",
            "0 3 [0.48 0.52] [0.18 0.82]\n",
            "0 3 [0.5 0.5] [0.34 0.66]\n",
            "0 3 [0.52 0.48] [0.46 0.54]\n",
            "0 3 [0.54 0.46] [0.28 0.72]\n",
            "0 3 [0.56 0.44] [0.38 0.62]\n",
            "0 3 [0.58 0.42] [0.82 0.18]\n",
            "0 3 [0.6 0.4] [0.82 0.18]\n",
            "0 3 [0.62 0.38] [0.84 0.16]\n",
            "0 3 [0.64 0.36] [0.82 0.18]\n",
            "0 3 [0.66 0.34] [ 1.00000000e+00 -1.11022302e-15]\n",
            "0 3 [0.68 0.32] [ 1.00000000e+00 -1.11022302e-15]\n",
            "0 3 [0.7 0.3] [ 1.00000000e+00 -1.11022302e-15]\n",
            "0 3 [0.72 0.28] [ 1.00000000e+00 -1.11022302e-15]\n",
            "0 3 [0.74 0.26] [ 1.00000000e+00 -1.11022302e-15]\n",
            "0 3 [0.76 0.24] [ 1.00000000e+00 -1.11022302e-15]\n",
            "0 3 [0.78 0.22] [ 1.00000000e+00 -1.11022302e-15]\n",
            "0 3 [0.8 0.2] [ 1.00000000e+00 -1.11022302e-15]\n",
            "0 3 [0.82 0.18] [ 1.00000000e+00 -1.11022302e-15]\n",
            "0 3 [0.84 0.16] [ 1.00000000e+00 -1.11022302e-15]\n",
            "0 3 [0.86 0.14] [ 1.00000000e+00 -1.11022302e-15]\n",
            "0 3 [0.88 0.12] [ 1.00000000e+00 -1.11022302e-15]\n",
            "0 3 [0.9 0.1] [ 1.00000000e+00 -1.11022302e-15]\n",
            "0 3 [0.92 0.08] [ 1.00000000e+00 -1.11022302e-15]\n",
            "0 3 [0.94 0.06] [ 1.00000000e+00 -1.11022302e-15]\n",
            "0 3 [0.96 0.04] [ 1.00000000e+00 -1.11022302e-15]\n",
            "0 3 [0.98 0.02] [ 1.00000000e+00 -1.11022302e-15]\n",
            "0 3 [1. 0.] [ 1.00000000e+00 -1.11022302e-15]\n",
            "\n",
            "\n",
            "0 2 [0. 1.] [-0.78  1.78]\n",
            "0 2 [0.02 0.98] [-0.88  1.88]\n",
            "0 2 [0.04 0.96] [-0.84  1.84]\n",
            "0 2 [0.06 0.94] [-0.94  1.94]\n",
            "0 2 [0.08 0.92] [-0.74  1.74]\n",
            "0 2 [0.1 0.9] [-0.76  1.76]\n",
            "0 2 [0.12 0.88] [-0.58  1.58]\n",
            "0 2 [0.14 0.86] [-0.6  1.6]\n",
            "0 2 [0.16 0.84] [-0.52  1.52]\n",
            "0 2 [0.18 0.82] [-0.6  1.6]\n",
            "0 2 [0.2 0.8] [-0.38  1.38]\n",
            "0 2 [0.22 0.78] [-0.4  1.4]\n",
            "0 2 [0.24 0.76] [-0.54  1.54]\n",
            "0 2 [0.26 0.74] [-0.56  1.56]\n",
            "0 2 [0.28 0.72] [-0.26  1.26]\n",
            "0 2 [0.3 0.7] [-0.38  1.38]\n",
            "0 2 [0.32 0.68] [-0.18  1.18]\n",
            "0 2 [0.34 0.66] [-0.22  1.22]\n",
            "0 2 [0.36 0.64] [-0.02  1.02]\n",
            "0 2 [0.38 0.62] [-0.18  1.18]\n",
            "0 2 [0.4 0.6] [-0.08  1.08]\n",
            "0 2 [0.42 0.58] [-0.1  1.1]\n",
            "0 2 [0.44 0.56] [0.08 0.92]\n",
            "0 2 [0.46 0.54] [0.04 0.96]\n",
            "0 2 [0.48 0.52] [-0.04  1.04]\n",
            "0 2 [0.5 0.5] [0.18 0.82]\n",
            "0 2 [0.52 0.48] [0.36 0.64]\n",
            "0 2 [0.54 0.46] [0.02 0.98]\n",
            "0 2 [0.56 0.44] [0.58 0.42]\n",
            "0 2 [0.58 0.42] [0.64 0.36]\n",
            "0 2 [0.6 0.4] [0.7 0.3]\n",
            "0 2 [0.62 0.38] [ 1.00000000e+00 -1.11022302e-15]\n",
            "0 2 [0.64 0.36] [0.8 0.2]\n",
            "0 2 [0.66 0.34] [ 1.00000000e+00 -1.11022302e-15]\n",
            "0 2 [0.68 0.32] [0.94 0.06]\n",
            "0 2 [0.7 0.3] [ 1.00000000e+00 -1.11022302e-15]\n",
            "0 2 [0.72 0.28] [ 1.00000000e+00 -1.11022302e-15]\n",
            "0 2 [0.74 0.26] [ 1.00000000e+00 -1.11022302e-15]\n",
            "0 2 [0.76 0.24] [ 1.00000000e+00 -1.11022302e-15]\n",
            "0 2 [0.78 0.22] [ 1.00000000e+00 -1.11022302e-15]\n",
            "0 2 [0.8 0.2] [ 1.00000000e+00 -1.11022302e-15]\n",
            "0 2 [0.82 0.18] [ 1.00000000e+00 -1.11022302e-15]\n",
            "0 2 [0.84 0.16] [ 1.00000000e+00 -1.11022302e-15]\n",
            "0 2 [0.86 0.14] [ 1.00000000e+00 -1.11022302e-15]\n",
            "0 2 [0.88 0.12] [ 1.00000000e+00 -1.11022302e-15]\n",
            "0 2 [0.9 0.1] [ 1.00000000e+00 -1.11022302e-15]\n",
            "0 2 [0.92 0.08] [ 1.00000000e+00 -1.11022302e-15]\n",
            "0 2 [0.94 0.06] [ 1.00000000e+00 -1.11022302e-15]\n",
            "0 2 [0.96 0.04] [ 1.00000000e+00 -1.11022302e-15]\n",
            "0 2 [0.98 0.02] [ 1.00000000e+00 -1.11022302e-15]\n",
            "0 2 [1. 0.] [ 1.00000000e+00 -1.11022302e-15]\n",
            "\n",
            "\n",
            "0 1 [0. 1.] [-0.92  1.92]\n",
            "0 1 [0.02 0.98] [-0.82  1.82]\n",
            "0 1 [0.04 0.96] [-0.94  1.94]\n",
            "0 1 [0.06 0.94] [-0.78  1.78]\n",
            "0 1 [0.08 0.92] [-0.78  1.78]\n",
            "0 1 [0.1 0.9] [-0.48  1.48]\n",
            "0 1 [0.12 0.88] [-0.76  1.76]\n",
            "0 1 [0.14 0.86] [-0.62  1.62]\n",
            "0 1 [0.16 0.84] [-0.82  1.82]\n",
            "0 1 [0.18 0.82] [-0.28  1.28]\n",
            "0 1 [0.2 0.8] [-0.5  1.5]\n",
            "0 1 [0.22 0.78] [-0.4  1.4]\n",
            "0 1 [0.24 0.76] [-0.56  1.56]\n",
            "0 1 [0.26 0.74] [-0.44  1.44]\n",
            "0 1 [0.28 0.72] [-0.44  1.44]\n",
            "0 1 [0.3 0.7] [-0.48  1.48]\n",
            "0 1 [0.32 0.68] [-0.4  1.4]\n",
            "0 1 [0.34 0.66] [-0.18  1.18]\n",
            "0 1 [0.36 0.64] [-0.22  1.22]\n",
            "0 1 [0.38 0.62] [-0.3  1.3]\n",
            "0 1 [0.4 0.6] [0.04 0.96]\n",
            "0 1 [0.42 0.58] [-0.12  1.12]\n",
            "0 1 [0.44 0.56] [0.1 0.9]\n",
            "0 1 [0.46 0.54] [0.12 0.88]\n",
            "0 1 [0.48 0.52] [6.17561557e-16 1.00000000e+00]\n",
            "0 1 [0.5 0.5] [0.52 0.48]\n",
            "0 1 [0.52 0.48] [0.4 0.6]\n",
            "0 1 [0.54 0.46] [0.42 0.58]\n",
            "0 1 [0.56 0.44] [0.68 0.32]\n",
            "0 1 [0.58 0.42] [0.54 0.46]\n",
            "0 1 [0.6 0.4] [0.78 0.22]\n",
            "0 1 [0.62 0.38] [0.7 0.3]\n",
            "0 1 [0.64 0.36] [ 1.00000000e+00 -1.11022302e-15]\n",
            "0 1 [0.66 0.34] [ 1.00000000e+00 -1.11022302e-15]\n",
            "0 1 [0.68 0.32] [ 1.00000000e+00 -1.11022302e-15]\n",
            "0 1 [0.7 0.3] [ 1.00000000e+00 -1.11022302e-15]\n",
            "0 1 [0.72 0.28] [ 1.00000000e+00 -1.11022302e-15]\n",
            "0 1 [0.74 0.26] [ 1.00000000e+00 -1.11022302e-15]\n",
            "0 1 [0.76 0.24] [ 1.00000000e+00 -1.11022302e-15]\n",
            "0 1 [0.78 0.22] [ 1.00000000e+00 -1.11022302e-15]\n",
            "0 1 [0.8 0.2] [ 1.00000000e+00 -1.11022302e-15]\n",
            "0 1 [0.82 0.18] [ 1.00000000e+00 -1.11022302e-15]\n",
            "0 1 [0.84 0.16] [ 1.00000000e+00 -1.11022302e-15]\n",
            "0 1 [0.86 0.14] [ 1.00000000e+00 -1.11022302e-15]\n",
            "0 1 [0.88 0.12] [ 1.00000000e+00 -1.11022302e-15]\n",
            "0 1 [0.9 0.1] [ 1.00000000e+00 -1.11022302e-15]\n",
            "0 1 [0.92 0.08] [ 1.00000000e+00 -1.11022302e-15]\n",
            "0 1 [0.94 0.06] [ 1.00000000e+00 -1.11022302e-15]\n",
            "0 1 [0.96 0.04] [ 1.00000000e+00 -1.11022302e-15]\n",
            "0 1 [0.98 0.02] [ 1.00000000e+00 -1.11022302e-15]\n",
            "0 1 [1. 0.] [ 1.00000000e+00 -1.11022302e-15]\n",
            "\n",
            "\n",
            "0 0 [0. 1.] [-1  2]\n",
            "0 0 [0.02 0.98] [-0.78  1.78]\n",
            "0 0 [0.04 0.96] [-0.84  1.84]\n",
            "0 0 [0.06 0.94] [-0.94  1.94]\n",
            "0 0 [0.08 0.92] [-0.66  1.66]\n",
            "0 0 [0.1 0.9] [-0.56  1.56]\n",
            "0 0 [0.12 0.88] [-0.58  1.58]\n",
            "0 0 [0.14 0.86] [-0.72  1.72]\n",
            "0 0 [0.16 0.84] [-0.56  1.56]\n",
            "0 0 [0.18 0.82] [-0.62  1.62]\n",
            "0 0 [0.2 0.8] [-0.52  1.52]\n",
            "0 0 [0.22 0.78] [-0.42  1.42]\n",
            "0 0 [0.24 0.76] [-0.42  1.42]\n",
            "0 0 [0.26 0.74] [-0.48  1.48]\n",
            "0 0 [0.28 0.72] [-0.18  1.18]\n",
            "0 0 [0.3 0.7] [-0.32  1.32]\n",
            "0 0 [0.32 0.68] [-0.22  1.22]\n",
            "0 0 [0.34 0.66] [-0.16  1.16]\n",
            "0 0 [0.36 0.64] [0.1 0.9]\n",
            "0 0 [0.38 0.62] [0.08 0.92]\n",
            "0 0 [0.4 0.6] [0.1 0.9]\n",
            "0 0 [0.42 0.58] [0.12 0.88]\n",
            "0 0 [0.44 0.56] [0.12 0.88]\n",
            "0 0 [0.46 0.54] [0.18 0.82]\n",
            "0 0 [0.48 0.52] [0.22 0.78]\n",
            "0 0 [0.5 0.5] [0.26 0.74]\n",
            "0 0 [0.52 0.48] [0.26 0.74]\n",
            "0 0 [0.54 0.46] [0.46 0.54]\n",
            "0 0 [0.56 0.44] [0.38 0.62]\n",
            "0 0 [0.58 0.42] [0.56 0.44]\n",
            "0 0 [0.6 0.4] [0.94 0.06]\n",
            "0 0 [0.62 0.38] [0.72 0.28]\n",
            "0 0 [0.64 0.36] [0.98 0.02]\n",
            "0 0 [0.66 0.34] [ 1.00000000e+00 -1.11022302e-15]\n",
            "0 0 [0.68 0.32] [ 1.00000000e+00 -1.11022302e-15]\n",
            "0 0 [0.7 0.3] [ 1.00000000e+00 -1.11022302e-15]\n",
            "0 0 [0.72 0.28] [ 1.00000000e+00 -1.11022302e-15]\n",
            "0 0 [0.74 0.26] [ 1.00000000e+00 -1.11022302e-15]\n",
            "0 0 [0.76 0.24] [ 1.00000000e+00 -1.11022302e-15]\n",
            "0 0 [0.78 0.22] [ 1.00000000e+00 -1.11022302e-15]\n",
            "0 0 [0.8 0.2] [ 1.00000000e+00 -1.11022302e-15]\n",
            "0 0 [0.82 0.18] [ 1.00000000e+00 -1.11022302e-15]\n",
            "0 0 [0.84 0.16] [ 1.00000000e+00 -1.11022302e-15]\n",
            "0 0 [0.86 0.14] [ 1.00000000e+00 -1.11022302e-15]\n",
            "0 0 [0.88 0.12] [ 1.00000000e+00 -1.11022302e-15]\n",
            "0 0 [0.9 0.1] [ 1.00000000e+00 -1.11022302e-15]\n",
            "0 0 [0.92 0.08] [ 1.00000000e+00 -1.11022302e-15]\n",
            "0 0 [0.94 0.06] [ 1.00000000e+00 -1.11022302e-15]\n",
            "0 0 [0.96 0.04] [ 1.00000000e+00 -1.11022302e-15]\n",
            "0 0 [0.98 0.02] [ 1.00000000e+00 -1.11022302e-15]\n",
            "0 0 [1. 0.] [ 1.00000000e+00 -1.11022302e-15]\n",
            "\n",
            "\n"
          ]
        }
      ],
      "source": [
        "T = 5\n",
        "V = {}\n",
        "for _ in range(len(possible_probabities)):\n",
        "    V[(_,T)] = (1**gamma)/gamma\n",
        "\n",
        "\n",
        "t = T-1\n",
        "M = 20000\n",
        "pi_l = -1.0\n",
        "pi_u = 1.0\n",
        "\n",
        "\n",
        "optimal_pi_star = {}\n",
        "\n",
        "# scenarios = []_star = {}\n",
        "for iter in range(1):\n",
        "    # scenarios = []\n",
        "    # for j in range(M):\n",
        "    #     sample = generate_monte_carlo_sample()\n",
        "    #     scenarios.append(sample)\n",
        "    # print(\"Samples generated\")\n",
        "    t = T-1\n",
        "    while (t>=0):\n",
        "        # returns_at_this_time = [scenarios[i][t][1] for i in range(M)]\n",
        "        #print(returns_at_this_time)\n",
        "        for _ in range(len(possible_probabities)):\n",
        "            returns_at_this_time = []\n",
        "            updateBelief_saved = np.zeros(M)\n",
        "            for j in range(M):\n",
        "                sample = generate_scenario(possible_probabities[_],t)\n",
        "                returns_at_this_time.append(sample)\n",
        "                updateBelief_saved[j] = updateBelief(sample,possible_probabities[_])[1]\n",
        "\n",
        "            # print(updateBelief_saved)\n",
        "            def objective_function(pi):\n",
        "                return np.average(np.array([(newWealth(returns_at_this_time[i],pi)**gamma)*V[(updateBelief_saved[i],t+1)] for i in range(M)]))\n",
        "\n",
        "            # constraints = ([{'type': 'eq', 'fun': lambda pi: np.sum(pi) - 1}])  \n",
        "            # initial_pi_guess = np.ones(n+1)/(n+1)\n",
        "            # if(_):\n",
        "            #     initial_pi_guess = optimal_pi_star[(_-1,t)]\n",
        "            \n",
        "\n",
        "            # pi_star = minimize(lambda x: (-1)*objective_function(x),  initial_pi_guess,\n",
        "            #                    constraints=constraints,\n",
        "            #                     bounds = [(pi_l,pi_u) for i in range(n)] + [(None,None)],\n",
        "            #                   )\n",
        "\n",
        "            # print(pi_star.message)\n",
        "            # pi_star = pi_star.x\n",
        "\n",
        "\n",
        "            pi_star = max(possible_pi,key = objective_function)\n",
        "            \n",
        "            V[(_,t)] = np.average([(newWealth(returns_at_this_time[i],pi_star)**gamma)*V[(updateBelief_saved[i],t+1)] for i in range(M)])\n",
        "            optimal_pi_star[(_,t)] = pi_star\n",
        "            print(iter,t,possible_probabities[_],pi_star)\n",
        "\n",
        "        t= t-1\n",
        "        print(\"\\n\")\n",
        "\n"
      ]
    },
    {
      "cell_type": "code",
      "execution_count": 114,
      "metadata": {
        "colab": {
          "base_uri": "https://localhost:8080/",
          "height": 430
        },
        "execution": {
          "iopub.execute_input": "2023-10-29T11:55:25.659553Z",
          "iopub.status.busy": "2023-10-29T11:55:25.659250Z",
          "iopub.status.idle": "2023-10-29T11:55:25.941106Z",
          "shell.execute_reply": "2023-10-29T11:55:25.940016Z",
          "shell.execute_reply.started": "2023-10-29T11:55:25.659526Z"
        },
        "id": "PPN5MYbYi8xZ",
        "outputId": "36cd3a54-f577-438c-f52c-e0692f70b74e",
        "trusted": true
      },
      "outputs": [
        {
          "data": {
            "image/png": "[encoded data removed]",
            "text/plain": [
              "<Figure size 640x480 with 1 Axes>"
            ]
          },
          "metadata": {},
          "output_type": "display_data"
        }
      ],
      "source": [
        "import matplotlib.pyplot as plt\n",
        "\n",
        "xpoints = [x[0] for x in possible_probabities]\n",
        "ypoints = [optimal_pi_star[_,2][0] for _ in range(len(possible_probabities))]\n",
        "\n",
        "plt.plot(xpoints,ypoints)\n",
        "plt.show()\n",
        "\n",
        "#print([optimal_pi_star[_,0] for _ in range(5)])"
      ]
    },
    {
      "cell_type": "code",
      "execution_count": 115,
      "metadata": {},
      "outputs": [],
      "source": [
        "import pickle\n",
        "\n",
        "\n",
        "with open(\"Example1_DP_V_values.pkl\", \"wb\") as fp:\n",
        "    pickle.dump(V, fp)  \n",
        "\n",
        "with open(\"Example1_DP_optimal_allocation.pkl\", \"wb\") as fp:\n",
        "    pickle.dump(optimal_pi_star, fp)  "
      ]
    }
  ],
  "metadata": {
    "accelerator": "GPU",
    "colab": {
      "gpuType": "T4",
      "provenance": []
    },
    "kernelspec": {
      "display_name": "Python 3",
      "name": "python3"
    },
    "language_info": {
      "codemirror_mode": {
        "name": "ipython",
        "version": 3
      },
      "file_extension": ".py",
      "mimetype": "text/x-python",
      "name": "python",
      "nbconvert_exporter": "python",
      "pygments_lexer": "ipython3",
      "version": "3.9.18"
    }
  },
  "nbformat": 4,
  "nbformat_minor": 0
}
