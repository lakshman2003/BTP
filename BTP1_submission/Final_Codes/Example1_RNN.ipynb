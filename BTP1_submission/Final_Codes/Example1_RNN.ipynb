{
 "cells": [
  {
   "cell_type": "markdown",
   "metadata": {},
   "source": [
    "# Neural Network using Dynamic Program solution as a startpoint"
   ]
  },
  {
   "cell_type": "code",
   "execution_count": 2,
   "metadata": {},
   "outputs": [],
   "source": [
    "import numpy as np\n",
    "import tensorflow as tf\n",
    "import keras\n",
    "from keras import layers\n",
    "import torch\n",
    "import torch.nn as nn\n",
    "import torch.optim as optim\n",
    "from scipy.stats import multivariate_normal\n"
   ]
  },
  {
   "cell_type": "code",
   "execution_count": 3,
   "metadata": {},
   "outputs": [
    {
     "data": {
      "text/plain": [
       "[[1, [0.08007781581325278, 0.000308]],\n",
       " [1, array([-0.00472471,  0.000308  ])],\n",
       " [1, array([0.02342877, 0.000308  ])],\n",
       " [1, array([-0.06924446,  0.000308  ])],\n",
       " [1, array([-0.04556195,  0.000308  ])],\n",
       " [1, array([-0.00683954,  0.000308  ])],\n",
       " [1, array([0.04197487, 0.000308  ])],\n",
       " [1, array([0.0056533, 0.000308 ])],\n",
       " [1, array([0.00548555, 0.000308  ])],\n",
       " [1, array([-0.02001591,  0.000308  ])],\n",
       " [1, array([0.01979011, 0.000308  ])],\n",
       " [1, array([-0.00806801,  0.000308  ])],\n",
       " [0, array([-0.0140968,  0.000308 ])],\n",
       " [0, array([0.01681309, 0.000308  ])],\n",
       " [0, array([-0.00225135,  0.000308  ])],\n",
       " [0, array([-0.00245717,  0.000308  ])],\n",
       " [0, array([-0.00486752,  0.000308  ])],\n",
       " [1, array([0.01388213, 0.000308  ])],\n",
       " [1, array([0.03110624, 0.000308  ])],\n",
       " [1, array([-0.0008986,  0.000308 ])],\n",
       " [0, array([0.02836125, 0.000308  ])],\n",
       " [0, array([-0.01414512,  0.000308  ])],\n",
       " [0, array([-0.02623265,  0.000308  ])],\n",
       " [0, array([-0.02057082,  0.000308  ])],\n",
       " [0, array([0.00505088, 0.000308  ])],\n",
       " [0, array([0.00436922, 0.000308  ])],\n",
       " [0, array([-0.00485511,  0.000308  ])],\n",
       " [0, array([-0.01462026,  0.000308  ])],\n",
       " [0, array([-0.00188338,  0.000308  ])],\n",
       " [0, array([0.00985135, 0.000308  ])],\n",
       " [0, array([0.03863524, 0.000308  ])],\n",
       " [0, array([0.00816218, 0.000308  ])],\n",
       " [0, array([0.01126339, 0.000308  ])],\n",
       " [0, array([-0.01553826,  0.000308  ])],\n",
       " [0, array([-0.00741328,  0.000308  ])],\n",
       " [0, array([-0.00882798,  0.000308  ])],\n",
       " [0, array([-0.00574728,  0.000308  ])],\n",
       " [0, array([0.00128857, 0.000308  ])],\n",
       " [0, array([-0.01483711,  0.000308  ])],\n",
       " [0, array([0.02369814, 0.000308  ])],\n",
       " [0, array([0.01371702, 0.000308  ])],\n",
       " [0, array([0.00614137, 0.000308  ])],\n",
       " [0, array([0.01734869, 0.000308  ])],\n",
       " [0, array([0.02866987, 0.000308  ])],\n",
       " [0, array([-0.0080087,  0.000308 ])],\n",
       " [0, array([0.01084047, 0.000308  ])],\n",
       " [0, array([-0.0053587,  0.000308 ])],\n",
       " [0, array([-0.01846984,  0.000308  ])],\n",
       " [0, array([-0.01863484,  0.000308  ])],\n",
       " [0, array([0.01160907, 0.000308  ])]]"
      ]
     },
     "execution_count": 3,
     "metadata": {},
     "output_type": "execute_result"
    }
   ],
   "source": [
    "import numpy as np\n",
    "from scipy.stats import multivariate_normal\n",
    "def generate_normal_distribution(n):\n",
    "\n",
    "    L = np.random.rand(n, n)\n",
    "    cov_matrix = np.dot(L, L.T)\n",
    "\n",
    "    mean = np.random.randn(n)\n",
    "    print(mean)\n",
    "\n",
    "    return [mean,cov_matrix]\n",
    "\n",
    "\n",
    "n = 1\n",
    "regimes = []\n",
    "N = 2\n",
    "T= 50\n",
    "rf = 0.0154/50\n",
    "gamma = -1\n",
    "tpm = np.array([[0.981,0.019],[0.047,0.953]])\n",
    "regimes = [[[0.00312],[[0.00022]]],[[-0.00175],[[0.00116]]]]\n",
    "\n",
    "def generate_scenario(prob,t):\n",
    "    current_regime = np.random.choice(N,p = prob)\n",
    "    sample = list(np.random.multivariate_normal(mean = regimes[current_regime][0], cov= regimes[current_regime][1]))\n",
    "    sample.append(rf)\n",
    "    return np.array(sample)\n",
    "\n",
    "def generate_monte_carlo_sample():\n",
    "    sample = []\n",
    "    curr_regime = np.random.choice(range(N))\n",
    "    returns = list(np.random.multivariate_normal(mean = regimes[curr_regime][0], cov= regimes[curr_regime][1]))\n",
    "    returns.append(rf)\n",
    "    sample.append([curr_regime,returns])\n",
    "    for i in range(T-1):\n",
    "        curr_regime = np.random.choice(range(N), p = tpm[curr_regime])\n",
    "        returns = list(np.random.multivariate_normal(mean = regimes[curr_regime][0], cov= regimes[curr_regime][1]))\n",
    "        returns.append(rf)\n",
    "        returns = np.array(returns)\n",
    "        sample.append([curr_regime,returns])\n",
    "\n",
    "    return sample\n",
    "\n",
    "\n",
    "generate_monte_carlo_sample()"
   ]
  },
  {
   "cell_type": "code",
   "execution_count": 4,
   "metadata": {},
   "outputs": [
    {
     "data": {
      "text/plain": [
       "array([-0.013459,  0.000308])"
      ]
     },
     "execution_count": 4,
     "metadata": {},
     "output_type": "execute_result"
    }
   ],
   "source": [
    "generate_scenario([1,0],0)\n"
   ]
  },
  {
   "cell_type": "code",
   "execution_count": 5,
   "metadata": {},
   "outputs": [
    {
     "name": "stdout",
     "output_type": "stream",
     "text": [
      "[[-0.00175], [[0.00116]]]\n"
     ]
    }
   ],
   "source": [
    "print(regimes[1][:])"
   ]
  },
  {
   "cell_type": "markdown",
   "metadata": {},
   "source": [
    "## Probabilty set initialization over different regimes"
   ]
  },
  {
   "cell_type": "code",
   "execution_count": 6,
   "metadata": {},
   "outputs": [],
   "source": [
    "from itertools import product\n",
    "from scipy.optimize import minimize\n",
    "\n",
    "discrete_prob = 50\n",
    "prob_set = []\n",
    "for i in range(discrete_prob+1):\n",
    "    prob_set.append(1/(discrete_prob)*i)\n",
    "\n",
    "combinations = product(prob_set, repeat=N)\n",
    "possible_probabities = [vector for vector in combinations if sum(vector) == 1]\n",
    "reverse_index = {}\n",
    "for _,p in enumerate(possible_probabities):\n",
    "    reverse_index[p]= _\n",
    "\n",
    "possible_probabities = [np.array(x) for x in possible_probabities]\n"
   ]
  },
  {
   "cell_type": "code",
   "execution_count": 7,
   "metadata": {},
   "outputs": [],
   "source": [
    "delta_pi = 0.02\n",
    "pi_set = []\n",
    "curr_pi = -1\n",
    "while curr_pi<=1+1e-5:\n",
    "    pi_set.append(curr_pi)\n",
    "    curr_pi+=delta_pi\n",
    "\n",
    "pi_combinations = product(pi_set,repeat=n)\n",
    "possible_pi = [np.append(np.array(vector),1-np.sum(vector)) for vector in pi_combinations]\n"
   ]
  },
  {
   "cell_type": "code",
   "execution_count": 8,
   "metadata": {},
   "outputs": [
    {
     "name": "stdout",
     "output_type": "stream",
     "text": [
      "[ 1.00000000e+00 -1.11022302e-15]\n"
     ]
    }
   ],
   "source": [
    "print(possible_pi[-1])"
   ]
  },
  {
   "cell_type": "code",
   "execution_count": 9,
   "metadata": {},
   "outputs": [],
   "source": [
    "def closest_probability_distn(p_in):\n",
    "    lowest_norm = np.array(float('inf'))\n",
    "    ind = 0\n",
    "\n",
    "    for _,array in enumerate(possible_probabities):\n",
    "        norm = np.linalg.norm(p_in - array)\n",
    "        if norm < lowest_norm:\n",
    "            lowest_norm = norm\n",
    "            closest_array = array\n",
    "            ind = _\n",
    "\n",
    "    return ind,closest_array\n",
    "\n",
    "def updateBelief(r,p):\n",
    "    r = r[:-1]\n",
    "    density = np.array([multivariate_normal.pdf(r,mean = regimes[i][0], cov = regimes[i][1]) for i in range(N)])\n",
    "    p_new = tpm.T@(density*p)\n",
    "    p_new/=np.sum(p_new)\n",
    "    \n",
    "    closest_p_ind,_ = closest_probability_distn(p_new)\n",
    "    return p_new,closest_p_ind\n",
    "\n",
    "def newWealth(r, pi):\n",
    "  return np.sum(pi*(1+r))"
   ]
  },
  {
   "cell_type": "markdown",
   "metadata": {},
   "source": [
    "## Random path observation"
   ]
  },
  {
   "cell_type": "code",
   "execution_count": 10,
   "metadata": {},
   "outputs": [
    {
     "data": {
      "image/png": "[encoded data removed]",
      "text/plain": [
       "<Figure size 640x480 with 2 Axes>"
      ]
     },
     "metadata": {},
     "output_type": "display_data"
    }
   ],
   "source": [
    "sample_returns = generate_monte_carlo_sample()\n",
    "\n",
    "initial_belief = np.random.rand(N)\n",
    "initial_belief/=np.sum(initial_belief)\n",
    "\n",
    "belief_values = [initial_belief[0]]\n",
    "prev_belief = initial_belief\n",
    "\n",
    "for i in range(T):\n",
    "    upd_belief,_ = updateBelief(sample_returns[i][1],prev_belief)\n",
    "    belief_values.append(upd_belief[0])\n",
    "    prev_belief = upd_belief\n",
    "\n",
    "import matplotlib.pyplot as plt\n",
    "x_values = [i for i in range(T)]\n",
    "y_values = [array[1][0] for array in sample_returns]\n",
    "regimes_for_this_sample = [array[0] for array in sample_returns]\n",
    "fig,ax1 = plt.subplots()\n",
    "ax1.plot(x_values,y_values,color = 'r')\n",
    "ax1.fill_between(x_values,min(y_values),max(y_values),where = [regimes_for_this_sample[i]==1 for i in range(T)],color = 'grey',alpha = 0.2)\n",
    "ax1.set_xlabel(\"TIme in weeks\")\n",
    "ax1.set_ylabel(\"Return of risky asset (one sample path)\",color='r')\n",
    "ax1.tick_params(axis = 'y',labelcolor = 'r')\n",
    "\n",
    "ax2 = ax1.twinx()\n",
    "ax2.set_ylabel('prob of est.of current regime being normal', color = 'b') \n",
    "ax2.plot(x_values, belief_values[:-1], color = 'b',linestyle ='--',alpha = 0.5)  \n",
    "ax2.tick_params(axis = 'y',labelcolor = 'b')\n",
    "\n",
    "plt.title(\"Random path of returns of risky asset\")\n",
    "plt.show()"
   ]
  },
  {
   "cell_type": "markdown",
   "metadata": {},
   "source": [
    "## Loading dynamic programming results"
   ]
  },
  {
   "cell_type": "code",
   "execution_count": 11,
   "metadata": {},
   "outputs": [],
   "source": [
    "import pickle\n",
    "\n",
    "with open(\"Example1_DP_V_values.pkl\", \"rb\") as fp:\n",
    "    V = pickle.load(fp)\n",
    "\n",
    "with open(\"Example1_DP_optimal_allocation.pkl\", \"rb\") as fp:\n",
    "    optimal_pi_star = pickle.load(fp)"
   ]
  },
  {
   "cell_type": "code",
   "execution_count": 12,
   "metadata": {},
   "outputs": [
    {
     "data": {
      "image/png": "[encoded data removed]",
      "text/plain": [
       "<Figure size 640x480 with 1 Axes>"
      ]
     },
     "metadata": {},
     "output_type": "display_data"
    }
   ],
   "source": [
    "import matplotlib.pyplot as plt\n",
    "\n",
    "xpoints = [x[0] for x in possible_probabities]\n",
    "ypoints = [optimal_pi_star[_,2][0] for _ in range(len(possible_probabities))]\n",
    "\n",
    "plt.plot(xpoints,ypoints)\n",
    "plt.xlabel(\"Probability of current regime being normal (t=2)\")\n",
    "plt.ylabel(\"Position in risky asset\")\n",
    "plt.show()\n",
    "\n",
    "#print([optimal_pi_star[_,0] for _ in range(5)])"
   ]
  },
  {
   "cell_type": "markdown",
   "metadata": {},
   "source": [
    "# Neural Network Approach"
   ]
  },
  {
   "cell_type": "code",
   "execution_count": 12,
   "metadata": {},
   "outputs": [
    {
     "name": "stderr",
     "output_type": "stream",
     "text": [
      "C:\\Users\\91897\\AppData\\Local\\Temp\\ipykernel_12860\\2711901114.py:29: UserWarning: Creating a tensor from a list of numpy.ndarrays is extremely slow. Please consider converting the list to a single numpy.ndarray with numpy.array() before converting to a tensor. (Triggered internally at C:\\actions-runner\\_work\\pytorch\\pytorch\\builder\\windows\\pytorch\\torch\\csrc\\utils\\tensor_new.cpp:264.)\n",
      "  input_data = torch.tensor(input_data,dtype= torch.float32)\n",
      "C:\\Users\\91897\\AppData\\Local\\Temp\\ipykernel_12860\\2711901114.py:31: UserWarning: To copy construct from a tensor, it is recommended to use sourceTensor.clone().detach() or sourceTensor.clone().detach().requires_grad_(True), rather than torch.tensor(sourceTensor).\n",
      "  model_input_data = [[torch.tensor(input_data[i],requires_grad=True),\n"
     ]
    },
    {
     "name": "stdout",
     "output_type": "stream",
     "text": [
      "2541\n",
      "25000\n"
     ]
    },
    {
     "data": {
      "image/png": "[encoded data removed]",
      "text/plain": [
       "<Figure size 640x480 with 1 Axes>"
      ]
     },
     "metadata": {},
     "output_type": "display_data"
    }
   ],
   "source": [
    "#Training data\n",
    "T = 5\n",
    "n_samples = 5000\n",
    "\n",
    "input_data = []\n",
    "return_samples= []\n",
    "cnt0 = 0\n",
    "plot_x = []\n",
    "for i in range(n_samples):\n",
    "    sample = generate_monte_carlo_sample()\n",
    "    if(sample[0][0]==0):\n",
    "        cnt0+=1\n",
    "    returns_for_this_sample = []\n",
    "    for time in range(T):\n",
    "        returns_for_this_sample.append(sample[time][1])\n",
    "    return_samples.append(returns_for_this_sample)\n",
    "    #return_samples.append()\n",
    "    initial_p = np.random.rand(N)\n",
    "    initial_p/=np.sum(initial_p)\n",
    "    plot_x.append(initial_p[0])\n",
    "    input_to_rnn = [initial_p]\n",
    "    for time in range(T-1):\n",
    "        p = input_to_rnn[-1]\n",
    "        p_new,___ = updateBelief(sample[time][1],p)\n",
    "        #p_new = closest_probability_distn(p_new)[1]\n",
    "        plot_x.append(p_new[0])\n",
    "        input_to_rnn.append(p_new)\n",
    "    input_data.append(input_to_rnn)\n",
    "input_data = torch.tensor(input_data,dtype= torch.float32)\n",
    "\n",
    "model_input_data = [[torch.tensor(input_data[i],requires_grad=True),\n",
    "                     torch.tensor(1000.0,requires_grad=True),\n",
    "                     torch.ones(n+1,requires_grad=True)/(n+1),\n",
    "                     torch.tensor(return_samples[i],requires_grad = True)] for i in range(n_samples)]\n",
    "\n",
    "print(cnt0)\n",
    "print(len(plot_x))\n",
    "\n",
    "\n",
    "import matplotlib.pyplot as plt\n",
    "plt.hist(plot_x,bins = 100)\n",
    "plt.xlabel(\"Probability of market in normal regimes\")\n",
    "plt.ylabel(\"No of weeks (over all samples)\")\n",
    "plt.show()"
   ]
  },
  {
   "cell_type": "code",
   "execution_count": 13,
   "metadata": {},
   "outputs": [
    {
     "name": "stdout",
     "output_type": "stream",
     "text": [
      "[tensor([[0.7948, 0.2052],\n",
      "        [0.8085, 0.1915],\n",
      "        [0.6964, 0.3036],\n",
      "        [0.8130, 0.1870],\n",
      "        [0.0470, 0.9530]], requires_grad=True), tensor(1000., requires_grad=True), tensor([0.5000, 0.5000], grad_fn=<DivBackward0>), tensor([[ 0.0239,  0.0003],\n",
      "        [-0.0239,  0.0003],\n",
      "        [-0.0050,  0.0003],\n",
      "        [-0.0920,  0.0003],\n",
      "        [-0.0072,  0.0003]], dtype=torch.float64, requires_grad=True)]\n"
     ]
    }
   ],
   "source": [
    "print(model_input_data[0])"
   ]
  },
  {
   "cell_type": "code",
   "execution_count": 13,
   "metadata": {},
   "outputs": [],
   "source": [
    "from tqdm import tqdm\n",
    "\n",
    "transaction_rate = 0.005\n",
    "\n",
    "\n",
    "class CustomRNNCell(nn.Module):\n",
    "    def __init__(self, input_size, output_size):\n",
    "        super(CustomRNNCell, self).__init__()\n",
    "        self.input_size = input_size\n",
    "        self.output_size = output_size\n",
    "        # self.rnn = nn.RNN(input_size, hidden_size = 2*output_size, num_layers = 1, batch_first=False)\n",
    "        self.fc1 = nn.Sequential(\n",
    "            nn.Linear(input_size, 20, bias=True),\n",
    "            nn.Tanh(),  \n",
    "            nn.Dropout(p= 0.2),\n",
    "            nn.Linear(20, 40, bias=True),\n",
    "            nn.Tanh(),  \n",
    "            nn.Dropout(p = 0.2),\n",
    "            nn.Linear(40, 80, bias=True),\n",
    "            nn.Tanh(), \n",
    "            nn.Dropout(p = 0.2),\n",
    "            nn.Linear(80, output_size,bias = True),\n",
    "            nn.Sigmoid()\n",
    "        )\n",
    "\n",
    "        self.fc2 = nn.Sequential(\n",
    "            nn.Linear(input_size, 20, bias=True),\n",
    "            nn.Tanh(), \n",
    "            nn.Dropout(p = 0.2),\n",
    "            nn.Linear(20, 40, bias=True),\n",
    "            nn.Tanh(), \n",
    "            nn.Dropout(p = 0.2),\n",
    "            nn.Linear(40, 80, bias=True),\n",
    "            nn.Tanh(), \n",
    "            nn.Dropout(p = 0.2),\n",
    "            nn.Linear(80, output_size, bias=True),\n",
    "            nn.Sigmoid()\n",
    "        )\n",
    "\n",
    "\n",
    "    def forward(self, x):\n",
    "        out_l = self.fc1(x)\n",
    "        out_u = self.fc2(x)\n",
    "        return out_l,out_u\n",
    "\n",
    "\n",
    "\n",
    "class Model(nn.Module):\n",
    "    def __init__(self, crra_coefficient,input_size,output_size):\n",
    "        super(Model, self).__init__()\n",
    "        self.crra_coefficient = crra_coefficient\n",
    "        self.RNN  = CustomRNNCell(input_size,output_size)\n",
    "\n",
    "    def forward(self, x):\n",
    "        inputs_to_cell = x[0]\n",
    "        inital_wealth = x[1]\n",
    "        initial_portfolio = x[2]\n",
    "        returns_sequence = x[3]\n",
    "\n",
    "        wealth = [inital_wealth]\n",
    "        portfolio = [initial_portfolio]\n",
    "        pi_star_arrays = []\n",
    "\n",
    "        for i in range(T):\n",
    "            closest_p_ind,__ = closest_probability_distn(inputs_to_cell[i].detach().numpy())\n",
    "            pi_star = torch.tensor(optimal_pi_star[(closest_p_ind,i)],requires_grad=True,dtype=torch.float32)\n",
    "            pi_star_arrays.append(pi_star)\n",
    "\n",
    "        lower_bounds = []\n",
    "        upper_bounds = []\n",
    "\n",
    "        for i in range(T):\n",
    "            w = wealth[-1]\n",
    "            pi = portfolio[-1]\n",
    "            pi_new = pi[:-1]\n",
    "            \n",
    "            l_b,u_b = self.RNN(inputs_to_cell[i])\n",
    "            l_b.retain_grad()\n",
    "            u_b.retain_grad()\n",
    "\n",
    "            \n",
    "            u_b_clipped = torch.min(torch.ones(n),torch.add(pi_star_arrays[i][:-1],u_b))\n",
    "            l_b_clipped = torch.max(-torch.ones(n),torch.add(pi_star_arrays[i][:-1],-l_b))\n",
    "            lower_bounds.append(l_b_clipped)\n",
    "            upper_bounds.append(u_b_clipped)\n",
    "            pi_new = torch.max(l_b_clipped,torch.min(u_b_clipped,pi_new))  \n",
    "            risk_free_allocation = torch.tensor(1.0)-torch.sum(pi_new)\n",
    "            \n",
    "            pi_new = torch.stack((pi_new.squeeze(),risk_free_allocation))\n",
    "\n",
    "            new_wealth_after_rebalancing = torch.subtract(w,w*transaction_rate*torch.norm(pi-pi_new,p = 1))\n",
    "\n",
    "            new_wealth_at_weekstart = new_wealth_after_rebalancing*torch.sum(torch.mul(pi_new,torch.add(torch.ones(n+1),returns_sequence[i])))\n",
    "            pi_at_week_start = torch.mul(pi_new,torch.add(torch.ones(n+1),returns_sequence[i]))\n",
    "            pi_at_week_start/= torch.sum(pi_at_week_start)\n",
    "            \n",
    "            wealth.append(new_wealth_at_weekstart)\n",
    "            portfolio.append(pi_at_week_start)\n",
    "            \n",
    "\n",
    "        return portfolio,lower_bounds,upper_bounds,wealth\n",
    "\n",
    "\n"
   ]
  },
  {
   "cell_type": "code",
   "execution_count": null,
   "metadata": {},
   "outputs": [],
   "source": [
    "crra_coefficient = -1\n",
    "model = Model(crra_coefficient = crra_coefficient,input_size=N,output_size=n)\n",
    "\n",
    "# from torchsummary import summary\n",
    "# summary(model.RNN,(N,))\n",
    "optimizer = torch.optim.Adam(model.parameters(), lr=0.0001)"
   ]
  },
  {
   "cell_type": "code",
   "execution_count": 15,
   "metadata": {},
   "outputs": [
    {
     "name": "stdout",
     "output_type": "stream",
     "text": [
      "Epoch: 0\n"
     ]
    },
    {
     "name": "stderr",
     "output_type": "stream",
     "text": [
      "5000it [01:36, 51.81it/s]\n"
     ]
    },
    {
     "name": "stdout",
     "output_type": "stream",
     "text": [
      "Loss:  0.0009994448314637327\n",
      "Epoch: 1\n"
     ]
    },
    {
     "name": "stderr",
     "output_type": "stream",
     "text": [
      "5000it [01:35, 52.17it/s]\n"
     ]
    },
    {
     "name": "stdout",
     "output_type": "stream",
     "text": [
      "Loss:  0.0009985617117685157\n",
      "Epoch: 2\n"
     ]
    },
    {
     "name": "stderr",
     "output_type": "stream",
     "text": [
      "5000it [01:31, 54.92it/s]\n"
     ]
    },
    {
     "name": "stdout",
     "output_type": "stream",
     "text": [
      "Loss:  0.0009985351707233509\n",
      "Epoch: 3\n"
     ]
    },
    {
     "name": "stderr",
     "output_type": "stream",
     "text": [
      "5000it [01:34, 52.74it/s]\n"
     ]
    },
    {
     "name": "stdout",
     "output_type": "stream",
     "text": [
      "Loss:  0.0009985313709256827\n",
      "Epoch: 4\n"
     ]
    },
    {
     "name": "stderr",
     "output_type": "stream",
     "text": [
      "5000it [01:36, 52.01it/s]\n"
     ]
    },
    {
     "name": "stdout",
     "output_type": "stream",
     "text": [
      "Loss:  0.000998530668118969\n",
      "Epoch: 5\n"
     ]
    },
    {
     "name": "stderr",
     "output_type": "stream",
     "text": [
      "5000it [01:35, 52.18it/s]\n"
     ]
    },
    {
     "name": "stdout",
     "output_type": "stream",
     "text": [
      "Loss:  0.0009985300444111654\n",
      "Epoch: 6\n"
     ]
    },
    {
     "name": "stderr",
     "output_type": "stream",
     "text": [
      "5000it [01:37, 51.46it/s]\n"
     ]
    },
    {
     "name": "stdout",
     "output_type": "stream",
     "text": [
      "Loss:  0.0009985296084223567\n",
      "Epoch: 7\n"
     ]
    },
    {
     "name": "stderr",
     "output_type": "stream",
     "text": [
      "5000it [01:37, 51.18it/s]\n"
     ]
    },
    {
     "name": "stdout",
     "output_type": "stream",
     "text": [
      "Loss:  0.0009985296354556247\n",
      "Epoch: 8\n"
     ]
    },
    {
     "name": "stderr",
     "output_type": "stream",
     "text": [
      "5000it [01:37, 51.46it/s]\n"
     ]
    },
    {
     "name": "stdout",
     "output_type": "stream",
     "text": [
      "Loss:  0.0009985296280546013\n",
      "Epoch: 9\n"
     ]
    },
    {
     "name": "stderr",
     "output_type": "stream",
     "text": [
      "5000it [01:36, 51.66it/s]\n"
     ]
    },
    {
     "name": "stdout",
     "output_type": "stream",
     "text": [
      "Loss:  0.0009985295923813698\n",
      "Epoch: 10\n"
     ]
    },
    {
     "name": "stderr",
     "output_type": "stream",
     "text": [
      "5000it [01:37, 51.31it/s]\n"
     ]
    },
    {
     "name": "stdout",
     "output_type": "stream",
     "text": [
      "Loss:  0.0009985290817992446\n",
      "Epoch: 11\n"
     ]
    },
    {
     "name": "stderr",
     "output_type": "stream",
     "text": [
      "5000it [01:36, 51.99it/s]\n"
     ]
    },
    {
     "name": "stdout",
     "output_type": "stream",
     "text": [
      "Loss:  0.0009985296926329672\n",
      "Epoch: 12\n"
     ]
    },
    {
     "name": "stderr",
     "output_type": "stream",
     "text": [
      "5000it [01:36, 51.94it/s]\n"
     ]
    },
    {
     "name": "stdout",
     "output_type": "stream",
     "text": [
      "Loss:  0.000998529635573347\n",
      "Epoch: 13\n"
     ]
    },
    {
     "name": "stderr",
     "output_type": "stream",
     "text": [
      "5000it [01:36, 51.84it/s]\n"
     ]
    },
    {
     "name": "stdout",
     "output_type": "stream",
     "text": [
      "Loss:  0.0009985295058620848\n",
      "Epoch: 14\n"
     ]
    },
    {
     "name": "stderr",
     "output_type": "stream",
     "text": [
      "5000it [01:36, 51.89it/s]\n"
     ]
    },
    {
     "name": "stdout",
     "output_type": "stream",
     "text": [
      "Loss:  0.000998529495221152\n",
      "Epoch: 15\n"
     ]
    },
    {
     "name": "stderr",
     "output_type": "stream",
     "text": [
      "5000it [01:35, 52.13it/s]\n"
     ]
    },
    {
     "name": "stdout",
     "output_type": "stream",
     "text": [
      "Loss:  0.0009985296185814113\n",
      "Epoch: 16\n"
     ]
    },
    {
     "name": "stderr",
     "output_type": "stream",
     "text": [
      "5000it [01:36, 51.87it/s]\n"
     ]
    },
    {
     "name": "stdout",
     "output_type": "stream",
     "text": [
      "Loss:  0.0009985295552358154\n",
      "Epoch: 17\n"
     ]
    },
    {
     "name": "stderr",
     "output_type": "stream",
     "text": [
      "5000it [01:36, 51.93it/s]\n"
     ]
    },
    {
     "name": "stdout",
     "output_type": "stream",
     "text": [
      "Loss:  0.0009985295725439952\n",
      "Epoch: 18\n"
     ]
    },
    {
     "name": "stderr",
     "output_type": "stream",
     "text": [
      "5000it [01:38, 50.69it/s]\n"
     ]
    },
    {
     "name": "stdout",
     "output_type": "stream",
     "text": [
      "Loss:  0.0009985293834787695\n",
      "Epoch: 19\n"
     ]
    },
    {
     "name": "stderr",
     "output_type": "stream",
     "text": [
      "5000it [01:36, 52.02it/s]\n"
     ]
    },
    {
     "name": "stdout",
     "output_type": "stream",
     "text": [
      "Loss:  0.0009985297141956256\n",
      "Epoch: 20\n"
     ]
    },
    {
     "name": "stderr",
     "output_type": "stream",
     "text": [
      "5000it [01:36, 52.06it/s]\n"
     ]
    },
    {
     "name": "stdout",
     "output_type": "stream",
     "text": [
      "Loss:  0.0009985293240806728\n",
      "Epoch: 21\n"
     ]
    },
    {
     "name": "stderr",
     "output_type": "stream",
     "text": [
      "5000it [01:36, 51.98it/s]\n"
     ]
    },
    {
     "name": "stdout",
     "output_type": "stream",
     "text": [
      "Loss:  0.0009985295262991169\n",
      "Epoch: 22\n"
     ]
    },
    {
     "name": "stderr",
     "output_type": "stream",
     "text": [
      "5000it [01:37, 51.33it/s]\n"
     ]
    },
    {
     "name": "stdout",
     "output_type": "stream",
     "text": [
      "Loss:  0.0009985294912619091\n",
      "Epoch: 23\n"
     ]
    },
    {
     "name": "stderr",
     "output_type": "stream",
     "text": [
      "5000it [01:39, 50.35it/s]\n"
     ]
    },
    {
     "name": "stdout",
     "output_type": "stream",
     "text": [
      "Loss:  0.00099852978974097\n",
      "Epoch: 24\n"
     ]
    },
    {
     "name": "stderr",
     "output_type": "stream",
     "text": [
      "5000it [01:44, 47.88it/s]\n"
     ]
    },
    {
     "name": "stdout",
     "output_type": "stream",
     "text": [
      "Loss:  0.0009985296040797647\n",
      "Epoch: 25\n"
     ]
    },
    {
     "name": "stderr",
     "output_type": "stream",
     "text": [
      "5000it [01:43, 48.31it/s]\n"
     ]
    },
    {
     "name": "stdout",
     "output_type": "stream",
     "text": [
      "Loss:  0.000998529533152155\n",
      "Epoch: 26\n"
     ]
    },
    {
     "name": "stderr",
     "output_type": "stream",
     "text": [
      "5000it [01:49, 45.80it/s]\n"
     ]
    },
    {
     "name": "stdout",
     "output_type": "stream",
     "text": [
      "Loss:  0.0009985297208431989\n",
      "Epoch: 27\n"
     ]
    },
    {
     "name": "stderr",
     "output_type": "stream",
     "text": [
      "5000it [01:38, 50.95it/s]\n"
     ]
    },
    {
     "name": "stdout",
     "output_type": "stream",
     "text": [
      "Loss:  0.0009985293090610397\n",
      "Epoch: 28\n"
     ]
    },
    {
     "name": "stderr",
     "output_type": "stream",
     "text": [
      "5000it [01:36, 51.95it/s]\n"
     ]
    },
    {
     "name": "stdout",
     "output_type": "stream",
     "text": [
      "Loss:  0.0009985295401026312\n",
      "Epoch: 29\n"
     ]
    },
    {
     "name": "stderr",
     "output_type": "stream",
     "text": [
      "5000it [01:37, 51.13it/s]\n"
     ]
    },
    {
     "name": "stdout",
     "output_type": "stream",
     "text": [
      "Loss:  0.0009985295968766707\n",
      "Epoch: 30\n"
     ]
    },
    {
     "name": "stderr",
     "output_type": "stream",
     "text": [
      "5000it [01:38, 50.82it/s]\n"
     ]
    },
    {
     "name": "stdout",
     "output_type": "stream",
     "text": [
      "Loss:  0.0009985296235829459\n",
      "Epoch: 31\n"
     ]
    },
    {
     "name": "stderr",
     "output_type": "stream",
     "text": [
      "5000it [01:37, 51.27it/s]\n"
     ]
    },
    {
     "name": "stdout",
     "output_type": "stream",
     "text": [
      "Loss:  0.000998529545255881\n",
      "Epoch: 32\n"
     ]
    },
    {
     "name": "stderr",
     "output_type": "stream",
     "text": [
      "5000it [01:40, 49.62it/s]\n"
     ]
    },
    {
     "name": "stdout",
     "output_type": "stream",
     "text": [
      "Loss:  0.000998529356426604\n",
      "Epoch: 33\n"
     ]
    },
    {
     "name": "stderr",
     "output_type": "stream",
     "text": [
      "5000it [01:38, 50.78it/s]\n"
     ]
    },
    {
     "name": "stdout",
     "output_type": "stream",
     "text": [
      "Loss:  0.0009985294082580918\n",
      "Epoch: 34\n"
     ]
    },
    {
     "name": "stderr",
     "output_type": "stream",
     "text": [
      "5000it [01:43, 48.22it/s]\n"
     ]
    },
    {
     "name": "stdout",
     "output_type": "stream",
     "text": [
      "Loss:  0.0009985298042747693\n",
      "Epoch: 35\n"
     ]
    },
    {
     "name": "stderr",
     "output_type": "stream",
     "text": [
      "5000it [01:42, 48.55it/s]\n"
     ]
    },
    {
     "name": "stdout",
     "output_type": "stream",
     "text": [
      "Loss:  0.0009985294168660466\n",
      "Epoch: 36\n"
     ]
    },
    {
     "name": "stderr",
     "output_type": "stream",
     "text": [
      "5000it [01:40, 49.68it/s]\n"
     ]
    },
    {
     "name": "stdout",
     "output_type": "stream",
     "text": [
      "Loss:  0.0009985298146623753\n",
      "Epoch: 37\n"
     ]
    },
    {
     "name": "stderr",
     "output_type": "stream",
     "text": [
      "5000it [01:39, 50.29it/s]\n"
     ]
    },
    {
     "name": "stdout",
     "output_type": "stream",
     "text": [
      "Loss:  0.0009985293795239454\n",
      "Epoch: 38\n"
     ]
    },
    {
     "name": "stderr",
     "output_type": "stream",
     "text": [
      "5000it [01:37, 51.39it/s]\n"
     ]
    },
    {
     "name": "stdout",
     "output_type": "stream",
     "text": [
      "Loss:  0.0009985299696394427\n",
      "Epoch: 39\n"
     ]
    },
    {
     "name": "stderr",
     "output_type": "stream",
     "text": [
      "5000it [01:35, 52.51it/s]\n"
     ]
    },
    {
     "name": "stdout",
     "output_type": "stream",
     "text": [
      "Loss:  0.0009985295768334935\n",
      "Epoch: 40\n"
     ]
    },
    {
     "name": "stderr",
     "output_type": "stream",
     "text": [
      "5000it [01:35, 52.39it/s]\n"
     ]
    },
    {
     "name": "stdout",
     "output_type": "stream",
     "text": [
      "Loss:  0.0009985297365567142\n",
      "Epoch: 41\n"
     ]
    },
    {
     "name": "stderr",
     "output_type": "stream",
     "text": [
      "5000it [01:35, 52.59it/s]\n"
     ]
    },
    {
     "name": "stdout",
     "output_type": "stream",
     "text": [
      "Loss:  0.0009985296747498822\n",
      "Epoch: 42\n"
     ]
    },
    {
     "name": "stderr",
     "output_type": "stream",
     "text": [
      "5000it [01:35, 52.56it/s]\n"
     ]
    },
    {
     "name": "stdout",
     "output_type": "stream",
     "text": [
      "Loss:  0.0009985297454379494\n",
      "Epoch: 43\n"
     ]
    },
    {
     "name": "stderr",
     "output_type": "stream",
     "text": [
      "5000it [01:36, 51.57it/s]\n"
     ]
    },
    {
     "name": "stdout",
     "output_type": "stream",
     "text": [
      "Loss:  0.0009985300376013579\n",
      "Epoch: 44\n"
     ]
    },
    {
     "name": "stderr",
     "output_type": "stream",
     "text": [
      "5000it [01:34, 53.00it/s]\n"
     ]
    },
    {
     "name": "stdout",
     "output_type": "stream",
     "text": [
      "Loss:  0.0009985295237769738\n",
      "Epoch: 45\n"
     ]
    },
    {
     "name": "stderr",
     "output_type": "stream",
     "text": [
      "5000it [01:36, 51.82it/s]\n"
     ]
    },
    {
     "name": "stdout",
     "output_type": "stream",
     "text": [
      "Loss:  0.0009985295468808012\n",
      "Epoch: 46\n"
     ]
    },
    {
     "name": "stderr",
     "output_type": "stream",
     "text": [
      "5000it [01:34, 53.17it/s]\n"
     ]
    },
    {
     "name": "stdout",
     "output_type": "stream",
     "text": [
      "Loss:  0.0009985294889830424\n",
      "Epoch: 47\n"
     ]
    },
    {
     "name": "stderr",
     "output_type": "stream",
     "text": [
      "5000it [01:33, 53.26it/s]\n"
     ]
    },
    {
     "name": "stdout",
     "output_type": "stream",
     "text": [
      "Loss:  0.000998529615492854\n",
      "Epoch: 48\n"
     ]
    },
    {
     "name": "stderr",
     "output_type": "stream",
     "text": [
      "5000it [01:39, 50.28it/s]\n"
     ]
    },
    {
     "name": "stdout",
     "output_type": "stream",
     "text": [
      "Loss:  0.000998529341195277\n",
      "Epoch: 49\n"
     ]
    },
    {
     "name": "stderr",
     "output_type": "stream",
     "text": [
      "5000it [01:31, 54.66it/s]"
     ]
    },
    {
     "name": "stdout",
     "output_type": "stream",
     "text": [
      "Loss:  0.0009985296484540831\n"
     ]
    },
    {
     "name": "stderr",
     "output_type": "stream",
     "text": [
      "\n"
     ]
    }
   ],
   "source": [
    "\n",
    "n_epochs = 50\n",
    "loss_hist=[]\n",
    "# Training Loop\n",
    "for epoch in range(n_epochs):\n",
    "  print(\"Epoch:\",epoch)\n",
    "  sz = 1\n",
    "  avg_loss = 0\n",
    "  for idx, X in tqdm(enumerate(model_input_data)):\n",
    "   \n",
    "    optimizer.zero_grad()\n",
    "    portfolios,lower_bounds,upper_bounds,wealth = model(X)\n",
    "    loss = -(wealth[-1]**crra_coefficient)/crra_coefficient\n",
    "    loss.backward(\n",
    "        retain_graph = True\n",
    "    )\n",
    "    #print(loss.grad)\n",
    "    optimizer.step()\n",
    "\n",
    "    avg_loss+= loss.item()\n",
    "    sz+=1\n",
    "\n",
    "  avg_loss/=sz\n",
    "  loss_hist.append(avg_loss)\n",
    "  print(\"Loss: \",avg_loss)"
   ]
  },
  {
   "cell_type": "code",
   "execution_count": 69,
   "metadata": {},
   "outputs": [
    {
     "ename": "SyntaxError",
     "evalue": "invalid syntax (667286001.py, line 4)",
     "output_type": "error",
     "traceback": [
      "\u001b[1;36m  Cell \u001b[1;32mIn[69], line 4\u001b[1;36m\u001b[0m\n\u001b[1;33m    export CUDA_VISIBLE_DEVICES=\"\"\u001b[0m\n\u001b[1;37m           ^\u001b[0m\n\u001b[1;31mSyntaxError\u001b[0m\u001b[1;31m:\u001b[0m invalid syntax\n"
     ]
    }
   ],
   "source": [
    "\n"
   ]
  },
  {
   "cell_type": "code",
   "execution_count": 24,
   "metadata": {},
   "outputs": [
    {
     "data": {
      "image/png": "[encoded data removed]",
      "text/plain": [
       "<Figure size 640x480 with 1 Axes>"
      ]
     },
     "metadata": {},
     "output_type": "display_data"
    }
   ],
   "source": [
    "import matplotlib.pyplot as plt\n",
    "plt.plot([epoch for epoch in range(n_epochs)],loss_hist,color = 'r')\n",
    "plt.xlabel('Epoch')\n",
    "plt.ylabel('Loss')\n",
    "plt.show()"
   ]
  },
  {
   "cell_type": "code",
   "execution_count": 17,
   "metadata": {},
   "outputs": [
    {
     "name": "stdout",
     "output_type": "stream",
     "text": [
      "Model's state_dict:\n",
      "RNN.fc1.0.weight \t torch.Size([20, 2])\n",
      "RNN.fc1.0.bias \t torch.Size([20])\n",
      "RNN.fc1.3.weight \t torch.Size([40, 20])\n",
      "RNN.fc1.3.bias \t torch.Size([40])\n",
      "RNN.fc1.6.weight \t torch.Size([80, 40])\n",
      "RNN.fc1.6.bias \t torch.Size([80])\n",
      "RNN.fc1.9.weight \t torch.Size([1, 80])\n",
      "RNN.fc1.9.bias \t torch.Size([1])\n",
      "RNN.fc2.0.weight \t torch.Size([20, 2])\n",
      "RNN.fc2.0.bias \t torch.Size([20])\n",
      "RNN.fc2.3.weight \t torch.Size([40, 20])\n",
      "RNN.fc2.3.bias \t torch.Size([40])\n",
      "RNN.fc2.6.weight \t torch.Size([80, 40])\n",
      "RNN.fc2.6.bias \t torch.Size([80])\n",
      "RNN.fc2.9.weight \t torch.Size([1, 80])\n",
      "RNN.fc2.9.bias \t torch.Size([1])\n"
     ]
    }
   ],
   "source": [
    "# Print model's state_dict\n",
    "print(\"Model's state_dict:\")\n",
    "for param_tensor in model.state_dict():\n",
    "    print(param_tensor, \"\\t\", model.state_dict()[param_tensor].size())"
   ]
  },
  {
   "cell_type": "code",
   "execution_count": 18,
   "metadata": {},
   "outputs": [
    {
     "name": "stdout",
     "output_type": "stream",
     "text": [
      "[0. 1.] [0.91614723] [0.99999917]\n",
      "[0.02 0.98] [0.8566756] [0.99999964]\n",
      "[0.04 0.96] [0.80303943] [0.99999774]\n",
      "[0.06 0.94] [0.87874216] [0.9999981]\n",
      "[0.08 0.92] [0.90023535] [0.99999774]\n",
      "[0.1 0.9] [0.9105935] [0.9999999]\n",
      "[0.12 0.88] [0.89457846] [0.9999994]\n",
      "[0.14 0.86] [0.84545857] [0.999998]\n",
      "[0.16 0.84] [0.9144717] [0.9999981]\n",
      "[0.18 0.82] [0.88554054] [0.9999987]\n",
      "[0.2 0.8] [0.9081891] [0.9999988]\n",
      "[0.22 0.78] [0.82256705] [0.99999595]\n",
      "[0.24 0.76] [0.9012466] [0.99999726]\n",
      "[0.26 0.74] [0.84602433] [0.9999988]\n",
      "[0.28 0.72] [0.8863221] [0.99998915]\n",
      "[0.3 0.7] [0.8652411] [0.9999958]\n",
      "[0.32 0.68] [0.88467836] [0.9999958]\n",
      "[0.34 0.66] [0.8856252] [0.9999994]\n",
      "[0.36 0.64] [0.88240397] [0.9999987]\n",
      "[0.38 0.62] [0.85158616] [0.9999962]\n",
      "[0.4 0.6] [0.8782467] [0.9999993]\n",
      "[0.42 0.58] [0.8730337] [0.99999976]\n",
      "[0.44 0.56] [0.89454323] [0.9999994]\n",
      "[0.46 0.54] [0.8980149] [0.9999975]\n",
      "[0.48 0.52] [0.9077559] [0.9999995]\n",
      "[0.5 0.5] [0.8427951] [0.99999595]\n",
      "[0.52 0.48] [0.8883486] [0.9999994]\n",
      "[0.54 0.46] [0.8597818] [0.9999993]\n",
      "[0.56 0.44] [0.8874675] [0.9999988]\n",
      "[0.58 0.42] [0.89328897] [0.9999988]\n",
      "[0.6 0.4] [0.8461688] [0.99999607]\n",
      "[0.62 0.38] [0.9018019] [0.99999976]\n",
      "[0.64 0.36] [0.90874463] [0.99999785]\n",
      "[0.66 0.34] [0.8641166] [0.9999994]\n",
      "[0.68 0.32] [0.88359773] [0.9999914]\n",
      "[0.7 0.3] [0.9206531] [0.9999975]\n",
      "[0.72 0.28] [0.8184707] [0.9999976]\n",
      "[0.74 0.26] [0.8718271] [0.9999976]\n",
      "[0.76 0.24] [0.89263755] [0.99999857]\n",
      "[0.78 0.22] [0.91672575] [0.9999994]\n",
      "[0.8 0.2] [0.92165226] [0.9999981]\n",
      "[0.82 0.18] [0.9215931] [0.9999981]\n",
      "[0.84 0.16] [0.8748676] [0.9999995]\n",
      "[0.86 0.14] [0.9052842] [0.99999845]\n",
      "[0.88 0.12] [0.86962175] [0.9999981]\n",
      "[0.9 0.1] [0.8789081] [0.9999993]\n",
      "[0.92 0.08] [0.9089126] [0.9999988]\n",
      "[0.94 0.06] [0.8819063] [0.99999917]\n",
      "[0.96 0.04] [0.86665934] [0.9999993]\n",
      "[0.98 0.02] [0.8567864] [0.9999976]\n",
      "[1. 0.] [0.88803256] [0.99999225]\n"
     ]
    },
    {
     "data": {
      "image/png": "[encoded data removed]",
      "text/plain": [
       "<Figure size 640x480 with 1 Axes>"
      ]
     },
     "metadata": {},
     "output_type": "display_data"
    }
   ],
   "source": [
    "import matplotlib.pyplot as plt\n",
    "x_values = []\n",
    "upper_b = []\n",
    "lower_b = []\n",
    "portfolio_values = []\n",
    "for p in possible_probabities:\n",
    "    p_normal = p[0]\n",
    "    x_values.append(p_normal)\n",
    "    pi_star = optimal_pi_star[(reverse_index[tuple(p)],2)]\n",
    "    portfolio_values.append(pi_star[0])\n",
    "    l_b,u_b = model.RNN(torch.tensor(p,dtype = torch.float32))\n",
    "    l_b = l_b.detach().numpy()\n",
    "    u_b = u_b.detach().numpy()\n",
    "    print(p,l_b,u_b)\n",
    "    lower_b.append(max(-1.0,(pi_star[0]-l_b[0])))\n",
    "    upper_b.append(min(1.0,(pi_star[0]+u_b[0])))\n",
    "\n",
    "plt.plot(x_values,lower_b,color= 'g',label = 'lower bounds')\n",
    "plt.plot(x_values,upper_b,color = 'b',label = 'upper bounds')\n",
    "plt.plot(x_values,portfolio_values,color = 'r',label = 'optimal portfolio')\n",
    "plt.xlabel('No trade Zone (tc = 0) at time t = 2')\n",
    "plt.ylabel('Position in risky asset')\n",
    "plt.legend()\n",
    "plt.show()"
   ]
  },
  {
   "cell_type": "code",
   "execution_count": 19,
   "metadata": {},
   "outputs": [],
   "source": [
    "torch.save(model.state_dict(), 'Example1_model_tc0.5')"
   ]
  },
  {
   "cell_type": "code",
   "execution_count": 20,
   "metadata": {},
   "outputs": [
    {
     "data": {
      "text/plain": [
       "<All keys matched successfully>"
      ]
     },
     "execution_count": 20,
     "metadata": {},
     "output_type": "execute_result"
    }
   ],
   "source": [
    "model_Replica = Model(crra_coefficient = -1,input_size = N,output_size = n)\n",
    "model_Replica.load_state_dict(torch.load('Example1_model_tc0.5'))"
   ]
  },
  {
   "cell_type": "markdown",
   "metadata": {},
   "source": [
    "## Test for a Random path"
   ]
  },
  {
   "cell_type": "code",
   "execution_count": 60,
   "metadata": {},
   "outputs": [
    {
     "name": "stdout",
     "output_type": "stream",
     "text": [
      "tensor([[0.5857, 0.4143],\n",
      "        [0.7427, 0.2573],\n",
      "        [0.7246, 0.2754],\n",
      "        [0.6934, 0.3066],\n",
      "        [0.8048, 0.1952]]) tensor([[ 0.0123,  0.0003],\n",
      "        [ 0.0268,  0.0003],\n",
      "        [-0.0191,  0.0003],\n",
      "        [-0.0062,  0.0003],\n",
      "        [-0.0012,  0.0003]])\n"
     ]
    }
   ],
   "source": [
    "def generate_random_path(n_samples):\n",
    "    input_data = []\n",
    "    return_samples= []\n",
    "    for i in range(n_samples):\n",
    "        sample = generate_monte_carlo_sample()\n",
    "        \n",
    "        returns_for_this_sample = []\n",
    "        for time in range(T):\n",
    "            returns_for_this_sample.append(sample[time][1])\n",
    "        return_samples.append(torch.tensor(returns_for_this_sample,dtype = torch.float32))\n",
    "        \n",
    "        initial_p = np.random.rand(N)\n",
    "        initial_p/=np.sum(initial_p)\n",
    "        plot_x.append(initial_p[0])\n",
    "        \n",
    "        input_to_rnn = [initial_p]\n",
    "        for time in range(T-1):\n",
    "            p = input_to_rnn[-1]\n",
    "            p_new,___ = updateBelief(sample[time][1],p)\n",
    "            #p_new = closest_probability_distn(p_new)[1]\n",
    "            \n",
    "            input_to_rnn.append(p_new)\n",
    "        input_data.append(torch.tensor(input_to_rnn, dtype = torch.float32))\n",
    "\n",
    "    return input_data,return_samples\n",
    "\n",
    "random_path= generate_random_path(1)\n",
    "random_beliefs, random_returns = random_path[0][0],random_path[1][0]\n",
    "print(random_beliefs,random_returns)"
   ]
  },
  {
   "cell_type": "code",
   "execution_count": 61,
   "metadata": {},
   "outputs": [
    {
     "data": {
      "image/png": "[encoded data removed]",
      "text/plain": [
       "<Figure size 640x480 with 1 Axes>"
      ]
     },
     "metadata": {},
     "output_type": "display_data"
    }
   ],
   "source": [
    "test_wealth = torch.tensor(1000.0)\n",
    "test_inital_portfolio = torch.rand(n+1)\n",
    "test_inital_portfolio = test_inital_portfolio/torch.sum(test_inital_portfolio)\n",
    "\n",
    "values_from_rnn = model([random_beliefs,test_wealth,test_inital_portfolio,random_returns])\n",
    "wealth_sample = [w.item() for w in values_from_rnn[-1]]\n",
    "\n",
    "\n",
    "fixed_strategy = torch.tensor([0.6,0.4])\n",
    "wealth_fixed_strategy = [1000]\n",
    "for i in range(T):\n",
    "    prev_wealth = wealth_fixed_strategy[-1]\n",
    "    new_wealth = prev_wealth*torch.sum(torch.mul(fixed_strategy,1+random_returns[i]))\n",
    "    curr_allocation = torch.mul(fixed_strategy,1+random_returns[i])\n",
    "    curr_allocation/=torch.sum(curr_allocation)\n",
    "    new_wealth -= transaction_rate*new_wealth*torch.norm(fixed_strategy-curr_allocation,p = 1)\n",
    "    wealth_fixed_strategy.append(new_wealth)\n",
    "\n",
    "\n",
    "wealth_buy_and_hold = [1000]\n",
    "for i in range(T):\n",
    "    prev_wealth = wealth_buy_and_hold[-1]\n",
    "    new_wealth = prev_wealth*(1+random_returns[i][0]).item()\n",
    "    wealth_buy_and_hold.append(new_wealth)\n",
    "\n",
    "import matplotlib.pyplot as plt\n",
    "plt.plot([i for i in range(T+1)],wealth_sample,color ='b',label = 'Combined Strategy')\n",
    "plt.plot([i for i in range(T+1)],wealth_fixed_strategy,color ='g',label = 'Fixed Mix allocation')\n",
    "plt.plot([i for i in range(T+1)],wealth_buy_and_hold,color ='orange',label = 'Buy and hold risky asset')\n",
    "plt.xlabel(\"Time in weeks\")\n",
    "plt.ylabel(\"Wealth\")\n",
    "plt.legend()\n",
    "plt.show()"
   ]
  }
 ],
 "metadata": {
  "kernelspec": {
   "display_name": "myenv",
   "language": "python",
   "name": "python3"
  },
  "language_info": {
   "codemirror_mode": {
    "name": "ipython",
    "version": 3
   },
   "file_extension": ".py",
   "mimetype": "text/x-python",
   "name": "python",
   "nbconvert_exporter": "python",
   "pygments_lexer": "ipython3",
   "version": "3.9.18"
  }
 },
 "nbformat": 4,
 "nbformat_minor": 2
}
