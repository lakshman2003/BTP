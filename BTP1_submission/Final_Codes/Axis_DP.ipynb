{
  "cells": [
    {
      "cell_type": "markdown",
      "metadata": {
        "id": "fVh2fxQNi8xc"
      },
      "source": [
        "## Dataset Loading "
      ]
    },
    {
      "cell_type": "code",
      "execution_count": 2,
      "metadata": {
        "colab": {
          "base_uri": "https://localhost:8080/"
        },
        "id": "qP2TWjyQjulg",
        "outputId": "854e44f2-23d0-42f8-ec5c-622ef508e0bb"
      },
      "outputs": [
        {
          "name": "stdout",
          "output_type": "stream",
          "text": [
            "Requirement already satisfied: hmmlearn in c:\\users\\91897\\anaconda3\\lib\\site-packages (0.3.0)\n",
            "Requirement already satisfied: scikit-learn!=0.22.0,>=0.16 in c:\\users\\91897\\anaconda3\\lib\\site-packages (from hmmlearn) (1.0.2)\n",
            "Requirement already satisfied: scipy>=0.19 in c:\\users\\91897\\anaconda3\\lib\\site-packages (from hmmlearn) (1.7.3)\n",
            "Requirement already satisfied: numpy>=1.10 in c:\\users\\91897\\anaconda3\\lib\\site-packages (from hmmlearn) (1.22.4)\n",
            "Requirement already satisfied: joblib>=0.11 in c:\\users\\91897\\anaconda3\\lib\\site-packages (from scikit-learn!=0.22.0,>=0.16->hmmlearn) (1.1.0)\n",
            "Requirement already satisfied: threadpoolctl>=2.0.0 in c:\\users\\91897\\anaconda3\\lib\\site-packages (from scikit-learn!=0.22.0,>=0.16->hmmlearn) (2.2.0)\n"
          ]
        }
      ],
      "source": [
        "!pip install hmmlearn"
      ]
    },
    {
      "cell_type": "code",
      "execution_count": 3,
      "metadata": {
        "colab": {
          "base_uri": "https://localhost:8080/",
          "height": 423
        },
        "id": "RtkbPDZajh-3",
        "outputId": "54b4117f-4380-4ac3-ff12-f26568595838"
      },
      "outputs": [
        {
          "data": {
            "text/html": [
              "<div>\n",
              "<style scoped>\n",
              "    .dataframe tbody tr th:only-of-type {\n",
              "        vertical-align: middle;\n",
              "    }\n",
              "\n",
              "    .dataframe tbody tr th {\n",
              "        vertical-align: top;\n",
              "    }\n",
              "\n",
              "    .dataframe thead th {\n",
              "        text-align: right;\n",
              "    }\n",
              "</style>\n",
              "<table border=\"1\" class=\"dataframe\">\n",
              "  <thead>\n",
              "    <tr style=\"text-align: right;\">\n",
              "      <th></th>\n",
              "      <th>Date</th>\n",
              "      <th>Open</th>\n",
              "      <th>High</th>\n",
              "      <th>Low</th>\n",
              "      <th>Close</th>\n",
              "      <th>Adj Close</th>\n",
              "      <th>Volume</th>\n",
              "    </tr>\n",
              "  </thead>\n",
              "  <tbody>\n",
              "    <tr>\n",
              "      <th>0</th>\n",
              "      <td>2018-10-29</td>\n",
              "      <td>564.849976</td>\n",
              "      <td>617.900024</td>\n",
              "      <td>558.000000</td>\n",
              "      <td>610.650024</td>\n",
              "      <td>607.715393</td>\n",
              "      <td>49195226.0</td>\n",
              "    </tr>\n",
              "    <tr>\n",
              "      <th>1</th>\n",
              "      <td>2018-11-05</td>\n",
              "      <td>628.900024</td>\n",
              "      <td>633.000000</td>\n",
              "      <td>600.049988</td>\n",
              "      <td>613.200012</td>\n",
              "      <td>610.253174</td>\n",
              "      <td>55011591.0</td>\n",
              "    </tr>\n",
              "    <tr>\n",
              "      <th>2</th>\n",
              "      <td>2018-11-12</td>\n",
              "      <td>612.549988</td>\n",
              "      <td>636.700012</td>\n",
              "      <td>604.049988</td>\n",
              "      <td>619.799988</td>\n",
              "      <td>616.821411</td>\n",
              "      <td>49062729.0</td>\n",
              "    </tr>\n",
              "    <tr>\n",
              "      <th>3</th>\n",
              "      <td>2018-11-19</td>\n",
              "      <td>619.799988</td>\n",
              "      <td>629.400024</td>\n",
              "      <td>608.599976</td>\n",
              "      <td>614.549988</td>\n",
              "      <td>611.596619</td>\n",
              "      <td>30494480.0</td>\n",
              "    </tr>\n",
              "    <tr>\n",
              "      <th>4</th>\n",
              "      <td>2018-11-26</td>\n",
              "      <td>618.650024</td>\n",
              "      <td>638.700012</td>\n",
              "      <td>616.500000</td>\n",
              "      <td>625.750000</td>\n",
              "      <td>622.742737</td>\n",
              "      <td>58443729.0</td>\n",
              "    </tr>\n",
              "    <tr>\n",
              "      <th>...</th>\n",
              "      <td>...</td>\n",
              "      <td>...</td>\n",
              "      <td>...</td>\n",
              "      <td>...</td>\n",
              "      <td>...</td>\n",
              "      <td>...</td>\n",
              "      <td>...</td>\n",
              "    </tr>\n",
              "    <tr>\n",
              "      <th>256</th>\n",
              "      <td>2023-09-25</td>\n",
              "      <td>1015.200012</td>\n",
              "      <td>1041.000000</td>\n",
              "      <td>1004.000000</td>\n",
              "      <td>1036.699951</td>\n",
              "      <td>1036.699951</td>\n",
              "      <td>44017306.0</td>\n",
              "    </tr>\n",
              "    <tr>\n",
              "      <th>257</th>\n",
              "      <td>2023-10-02</td>\n",
              "      <td>1036.699951</td>\n",
              "      <td>1044.699951</td>\n",
              "      <td>988.849976</td>\n",
              "      <td>1000.950012</td>\n",
              "      <td>1000.950012</td>\n",
              "      <td>47413699.0</td>\n",
              "    </tr>\n",
              "    <tr>\n",
              "      <th>258</th>\n",
              "      <td>2023-10-09</td>\n",
              "      <td>994.799988</td>\n",
              "      <td>1031.000000</td>\n",
              "      <td>988.250000</td>\n",
              "      <td>994.049988</td>\n",
              "      <td>994.049988</td>\n",
              "      <td>37041880.0</td>\n",
              "    </tr>\n",
              "    <tr>\n",
              "      <th>259</th>\n",
              "      <td>2023-10-16</td>\n",
              "      <td>990.000000</td>\n",
              "      <td>1014.700012</td>\n",
              "      <td>977.750000</td>\n",
              "      <td>980.349976</td>\n",
              "      <td>980.349976</td>\n",
              "      <td>29071998.0</td>\n",
              "    </tr>\n",
              "    <tr>\n",
              "      <th>260</th>\n",
              "      <td>2023-10-23</td>\n",
              "      <td>980.000000</td>\n",
              "      <td>1004.750000</td>\n",
              "      <td>951.400024</td>\n",
              "      <td>1002.750000</td>\n",
              "      <td>1002.750000</td>\n",
              "      <td>43837254.0</td>\n",
              "    </tr>\n",
              "  </tbody>\n",
              "</table>\n",
              "<p>261 rows × 7 columns</p>\n",
              "</div>"
            ],
            "text/plain": [
              "           Date         Open         High          Low        Close  \\\n",
              "0    2018-10-29   564.849976   617.900024   558.000000   610.650024   \n",
              "1    2018-11-05   628.900024   633.000000   600.049988   613.200012   \n",
              "2    2018-11-12   612.549988   636.700012   604.049988   619.799988   \n",
              "3    2018-11-19   619.799988   629.400024   608.599976   614.549988   \n",
              "4    2018-11-26   618.650024   638.700012   616.500000   625.750000   \n",
              "..          ...          ...          ...          ...          ...   \n",
              "256  2023-09-25  1015.200012  1041.000000  1004.000000  1036.699951   \n",
              "257  2023-10-02  1036.699951  1044.699951   988.849976  1000.950012   \n",
              "258  2023-10-09   994.799988  1031.000000   988.250000   994.049988   \n",
              "259  2023-10-16   990.000000  1014.700012   977.750000   980.349976   \n",
              "260  2023-10-23   980.000000  1004.750000   951.400024  1002.750000   \n",
              "\n",
              "       Adj Close      Volume  \n",
              "0     607.715393  49195226.0  \n",
              "1     610.253174  55011591.0  \n",
              "2     616.821411  49062729.0  \n",
              "3     611.596619  30494480.0  \n",
              "4     622.742737  58443729.0  \n",
              "..           ...         ...  \n",
              "256  1036.699951  44017306.0  \n",
              "257  1000.950012  47413699.0  \n",
              "258   994.049988  37041880.0  \n",
              "259   980.349976  29071998.0  \n",
              "260  1002.750000  43837254.0  \n",
              "\n",
              "[261 rows x 7 columns]"
            ]
          },
          "execution_count": 3,
          "metadata": {},
          "output_type": "execute_result"
        }
      ],
      "source": [
        "import numpy as np\n",
        "import pandas as pd\n",
        "path = \"../Dataset/AXISBANK.NS.csv\"\n",
        "prices_hist_data = pd.read_csv(path)\n",
        "\n",
        "\n",
        "\n",
        "prices_hist_data = prices_hist_data.dropna()\n",
        "prices_hist_data = prices_hist_data.reset_index(drop=True)\n",
        "prices_hist_data"
      ]
    },
    {
      "cell_type": "code",
      "execution_count": 4,
      "metadata": {
        "colab": {
          "base_uri": "https://localhost:8080/",
          "height": 391
        },
        "id": "HrNVka9w1Hw5",
        "outputId": "a3081e2e-7a51-4ec6-ee76-eaff1862b000"
      },
      "outputs": [
        {
          "data": {
            "image/png": "[encoded data removed]",
            "text/plain": [
              "<Figure size 576x288 with 1 Axes>"
            ]
          },
          "metadata": {
            "needs_background": "light"
          },
          "output_type": "display_data"
        }
      ],
      "source": [
        "from matplotlib import pyplot as plt\n",
        "prices_hist_data['Close'].plot(kind='line', figsize=(8, 4), title='Close')\n",
        "plt.xlabel(\"Time\")\n",
        "plt.ylabel(\"Price\")\n",
        "plt.gca().spines[['top', 'right']].set_visible(False)"
      ]
    },
    {
      "cell_type": "code",
      "execution_count": 5,
      "metadata": {
        "colab": {
          "base_uri": "https://localhost:8080/"
        },
        "id": "KhqyXQMyi8xc",
        "outputId": "768cc85e-749c-4f56-f40c-369d0c9d096d"
      },
      "outputs": [
        {
          "name": "stdout",
          "output_type": "stream",
          "text": [
            "           Date   Returns\n",
            "0    2018-10-29  0.000000\n",
            "1    2018-11-05  0.004176\n",
            "2    2018-11-12  0.010763\n",
            "3    2018-11-19 -0.008470\n",
            "4    2018-11-26  0.018225\n",
            "..          ...       ...\n",
            "256  2023-09-25  0.018119\n",
            "257  2023-10-02 -0.034484\n",
            "258  2023-10-09 -0.006893\n",
            "259  2023-10-16 -0.013782\n",
            "260  2023-10-23  0.022849\n",
            "\n",
            "[261 rows x 2 columns]\n"
          ]
        }
      ],
      "source": [
        "returns_hist_data = {}\n",
        "total_data_time = len(prices_hist_data)\n",
        "returns_hist_data[prices_hist_data['Date'][0]] = 0\n",
        "prev_price = float(prices_hist_data['Close'][0])\n",
        "\n",
        "for i in range(1,total_data_time):\n",
        "    curr_price = float(prices_hist_data['Close'][i])\n",
        "    returns_hist_data[prices_hist_data['Date'][i]] = (curr_price-prev_price)/prev_price\n",
        "    prev_price = curr_price\n",
        "\n",
        "returns_hist_data = pd.DataFrame(data=returns_hist_data.items(),columns=['Date','Returns'])\n",
        "print(returns_hist_data)"
      ]
    },
    {
      "cell_type": "code",
      "execution_count": 6,
      "metadata": {},
      "outputs": [
        {
          "data": {
            "image/png": "[encoded data removed]",
            "text/plain": [
              "<Figure size 720x432 with 1 Axes>"
            ]
          },
          "metadata": {
            "needs_background": "light"
          },
          "output_type": "display_data"
        }
      ],
      "source": [
        "import matplotlib.pyplot as plt\n",
        "plt.figure(figsize=(10,6))\n",
        "plt.plot([i for i in range(len(returns_hist_data.Returns))],returns_hist_data.Returns,color = 'b')\n",
        "plt.xlabel('Time in weeks')\n",
        "plt.ylabel('Returns')\n",
        "plt.show()"
      ]
    },
    {
      "cell_type": "code",
      "execution_count": 7,
      "metadata": {},
      "outputs": [
        {
          "data": {
            "text/html": [
              "<div>\n",
              "<style scoped>\n",
              "    .dataframe tbody tr th:only-of-type {\n",
              "        vertical-align: middle;\n",
              "    }\n",
              "\n",
              "    .dataframe tbody tr th {\n",
              "        vertical-align: top;\n",
              "    }\n",
              "\n",
              "    .dataframe thead th {\n",
              "        text-align: right;\n",
              "    }\n",
              "</style>\n",
              "<table border=\"1\" class=\"dataframe\">\n",
              "  <thead>\n",
              "    <tr style=\"text-align: right;\">\n",
              "      <th></th>\n",
              "      <th>Returns</th>\n",
              "    </tr>\n",
              "  </thead>\n",
              "  <tbody>\n",
              "    <tr>\n",
              "      <th>count</th>\n",
              "      <td>261.000000</td>\n",
              "    </tr>\n",
              "    <tr>\n",
              "      <th>mean</th>\n",
              "      <td>0.003172</td>\n",
              "    </tr>\n",
              "    <tr>\n",
              "      <th>std</th>\n",
              "      <td>0.050405</td>\n",
              "    </tr>\n",
              "    <tr>\n",
              "      <th>min</th>\n",
              "      <td>-0.247275</td>\n",
              "    </tr>\n",
              "    <tr>\n",
              "      <th>25%</th>\n",
              "      <td>-0.017021</td>\n",
              "    </tr>\n",
              "    <tr>\n",
              "      <th>50%</th>\n",
              "      <td>0.002421</td>\n",
              "    </tr>\n",
              "    <tr>\n",
              "      <th>75%</th>\n",
              "      <td>0.022502</td>\n",
              "    </tr>\n",
              "    <tr>\n",
              "      <th>max</th>\n",
              "      <td>0.290982</td>\n",
              "    </tr>\n",
              "  </tbody>\n",
              "</table>\n",
              "</div>"
            ],
            "text/plain": [
              "          Returns\n",
              "count  261.000000\n",
              "mean     0.003172\n",
              "std      0.050405\n",
              "min     -0.247275\n",
              "25%     -0.017021\n",
              "50%      0.002421\n",
              "75%      0.022502\n",
              "max      0.290982"
            ]
          },
          "execution_count": 7,
          "metadata": {},
          "output_type": "execute_result"
        }
      ],
      "source": [
        "s = pd.DataFrame(returns_hist_data)\n",
        "s.describe()"
      ]
    },
    {
      "cell_type": "markdown",
      "metadata": {},
      "source": [
        "# Hidden Markov Model to estimate the parameters of stock market"
      ]
    },
    {
      "cell_type": "code",
      "execution_count": 11,
      "metadata": {
        "colab": {
          "base_uri": "https://localhost:8080/"
        },
        "id": "cyYIuyZvi8xQ",
        "outputId": "2fc07c27-15e2-4a5b-f4b7-bd490ef9f2c9"
      },
      "outputs": [
        {
          "name": "stdout",
          "output_type": "stream",
          "text": [
            "Estimated Means for Each Regime:\n",
            "[[ 0.00368073]\n",
            " [-0.00135544]]\n",
            "Estimated Covariance Matrices for Each Regime:\n",
            "[[[0.00113993]]\n",
            "\n",
            " [[0.01564435]]]\n",
            "Estimated Transition Probabilities:\n",
            "[[0.98556237 0.01443763]\n",
            " [0.12772067 0.87227933]]\n"
          ]
        }
      ],
      "source": [
        "import hmmlearn.hmm as hmm\n",
        "\n",
        "observed_returns = np.array(returns_hist_data['Returns'])\n",
        "\n",
        "hmm_model = hmm.GaussianHMM(n_components=2, covariance_type=\"full\", n_iter=10000)\n",
        "\n",
        "hmm_model.fit(observed_returns.reshape(-1,1))\n",
        "\n",
        "means = hmm_model.means_\n",
        "covariances = hmm_model.covars_\n",
        "transition_matrix = hmm_model.transmat_\n",
        "\n",
        "print(\"Estimated Means for Each Regime:\")\n",
        "print(means)\n",
        "print(\"Estimated Covariance Matrices for Each Regime:\")\n",
        "print(covariances)\n",
        "print(\"Estimated Transition Probabilities:\")\n",
        "print(transition_matrix)"
      ]
    },
    {
      "cell_type": "markdown",
      "metadata": {
        "id": "GIraa2hii8xU"
      },
      "source": [
        "# Dynamic Programming Approach for Single asset"
      ]
    },
    {
      "cell_type": "code",
      "execution_count": 16,
      "metadata": {
        "colab": {
          "base_uri": "https://localhost:8080/"
        },
        "execution": {
          "iopub.execute_input": "2023-10-29T11:53:56.455689Z",
          "iopub.status.busy": "2023-10-29T11:53:56.455228Z",
          "iopub.status.idle": "2023-10-29T11:53:56.477425Z",
          "shell.execute_reply": "2023-10-29T11:53:56.476151Z",
          "shell.execute_reply.started": "2023-10-29T11:53:56.455644Z"
        },
        "id": "pJD44qpGi8xV",
        "outputId": "59bace5c-bd3a-4b56-a63e-d93d76596712",
        "trusted": true
      },
      "outputs": [
        {
          "data": {
            "text/plain": [
              "[[0, [-0.023754081054800823, 0.001]],\n",
              " [0, [0.013354411252020137, 0.001]],\n",
              " [0, [0.033537353725291756, 0.001]],\n",
              " [0, [0.046562961109519616, 0.001]],\n",
              " [0, [0.026081924630809807, 0.001]],\n",
              " [0, [0.002989837350198567, 0.001]],\n",
              " [0, [0.04450680510880074, 0.001]],\n",
              " [0, [0.013591644482895682, 0.001]],\n",
              " [0, [0.020156728954233177, 0.001]],\n",
              " [0, [-0.02308971714754545, 0.001]],\n",
              " [0, [-0.038815977863697004, 0.001]],\n",
              " [0, [-0.014629145463689503, 0.001]],\n",
              " [0, [0.0077661422119121625, 0.001]],\n",
              " [0, [-0.024254930007125395, 0.001]],\n",
              " [0, [0.009038612011903636, 0.001]],\n",
              " [0, [-0.006689149253140846, 0.001]],\n",
              " [0, [-0.050759390500906686, 0.001]],\n",
              " [0, [-0.014622598775738089, 0.001]],\n",
              " [0, [0.0002063483281378375, 0.001]],\n",
              " [0, [-0.07162926893499012, 0.001]],\n",
              " [0, [-0.04327824798929503, 0.001]],\n",
              " [0, [-0.054857823910327855, 0.001]],\n",
              " [0, [0.01672340040597655, 0.001]],\n",
              " [0, [-0.06250683746515283, 0.001]],\n",
              " [0, [0.008743430309692768, 0.001]],\n",
              " [0, [0.015901828411595067, 0.001]],\n",
              " [0, [-0.01664732942211225, 0.001]],\n",
              " [0, [0.011964089906071437, 0.001]],\n",
              " [0, [0.0325577765249999, 0.001]],\n",
              " [0, [0.01913541949311841, 0.001]],\n",
              " [0, [0.05149074763355588, 0.001]],\n",
              " [0, [0.03995745444118799, 0.001]],\n",
              " [0, [-0.040687570752234455, 0.001]],\n",
              " [0, [-0.026941459252602783, 0.001]],\n",
              " [0, [-0.02402402658929877, 0.001]],\n",
              " [0, [0.03815371084128209, 0.001]],\n",
              " [0, [0.0561851355686451, 0.001]],\n",
              " [0, [0.06512136438944355, 0.001]],\n",
              " [0, [0.03259644310922753, 0.001]],\n",
              " [0, [0.02659995716001917, 0.001]],\n",
              " [0, [-0.07580090108927104, 0.001]],\n",
              " [0, [0.0036373670604595274, 0.001]],\n",
              " [0, [-0.0021333304803938333, 0.001]],\n",
              " [0, [-0.07357485093444625, 0.001]],\n",
              " [0, [0.050697995344398665, 0.001]],\n",
              " [0, [-0.016467379838124064, 0.001]],\n",
              " [0, [0.027025681079556392, 0.001]],\n",
              " [0, [-0.042536905655803814, 0.001]],\n",
              " [0, [0.009560875673268892, 0.001]],\n",
              " [0, [0.05955336786712434, 0.001]]]"
            ]
          },
          "execution_count": 16,
          "metadata": {},
          "output_type": "execute_result"
        }
      ],
      "source": [
        "import numpy as np\n",
        "from scipy.stats import multivariate_normal\n",
        "def generate_normal_distribution(n):\n",
        "\n",
        "    L = np.random.rand(n, n)\n",
        "    cov_matrix = np.dot(L, L.T)\n",
        "\n",
        "    mean = np.random.randn(n)\n",
        "    print(mean)\n",
        "\n",
        "    return [mean,cov_matrix]\n",
        "\n",
        "\n",
        "n = 1\n",
        "regimes = []\n",
        "N = 2\n",
        "T= 50\n",
        "rf = (5/50)/100\n",
        "gama = -1\n",
        "tpm = np.array([[0.98581142, 0.01418858]\n",
        ",[0.12509587,0.87490413]])\n",
        "regimes = [[[ 0.00368291],[[0.00114034]]],[[-0.00135955],  [[0.01559686]]]]\n",
        "\n",
        "def generate_scenario(prob,t):\n",
        "    current_regime = np.random.choice(N,p = prob)\n",
        "    sample = list(np.random.multivariate_normal(mean = regimes[current_regime][0], cov= regimes[current_regime][1]))\n",
        "    sample.append(rf)\n",
        "    return np.array(sample)\n",
        "\n",
        "def generate_monte_carlo_sample():\n",
        "    sample = []\n",
        "    curr_regime = np.random.choice(range(N))\n",
        "    returns = list(np.random.multivariate_normal(mean = regimes[curr_regime][0], cov= regimes[curr_regime][1]))\n",
        "    returns.append(rf)\n",
        "    sample.append([curr_regime,returns])\n",
        "    for i in range(T-1):\n",
        "        curr_regime = np.random.choice(range(N), p = tpm[curr_regime])\n",
        "        returns = list(np.random.multivariate_normal(mean = regimes[curr_regime][0], cov= regimes[curr_regime][1]))\n",
        "        returns.append(rf)\n",
        "        sample.append([curr_regime,returns])\n",
        "\n",
        "    return sample\n",
        "\n",
        "\n",
        "generate_monte_carlo_sample()"
      ]
    },
    {
      "cell_type": "code",
      "execution_count": 17,
      "metadata": {
        "colab": {
          "base_uri": "https://localhost:8080/"
        },
        "id": "cPvpgto4DHFq",
        "outputId": "2f6cd782-d4f4-45b3-cddf-f61cf45404b4"
      },
      "outputs": [
        {
          "data": {
            "text/plain": [
              "array([0.0230878, 0.001    ])"
            ]
          },
          "execution_count": 17,
          "metadata": {},
          "output_type": "execute_result"
        }
      ],
      "source": [
        "generate_scenario([1,0],0)"
      ]
    },
    {
      "cell_type": "code",
      "execution_count": 18,
      "metadata": {
        "colab": {
          "base_uri": "https://localhost:8080/"
        },
        "execution": {
          "iopub.execute_input": "2023-10-29T11:53:56.479957Z",
          "iopub.status.busy": "2023-10-29T11:53:56.479589Z",
          "iopub.status.idle": "2023-10-29T11:53:56.490274Z",
          "shell.execute_reply": "2023-10-29T11:53:56.488968Z",
          "shell.execute_reply.started": "2023-10-29T11:53:56.479926Z"
        },
        "id": "bTNJzmbsi8xW",
        "outputId": "d412802c-8995-4161-c033-955fe5f295e3",
        "trusted": true
      },
      "outputs": [
        {
          "name": "stdout",
          "output_type": "stream",
          "text": [
            "[[-0.00135955], [[0.01559686]]]\n"
          ]
        }
      ],
      "source": [
        "print(regimes[1][:])"
      ]
    },
    {
      "cell_type": "code",
      "execution_count": 19,
      "metadata": {
        "colab": {
          "base_uri": "https://localhost:8080/",
          "height": 430
        },
        "execution": {
          "iopub.execute_input": "2023-10-29T11:53:56.492140Z",
          "iopub.status.busy": "2023-10-29T11:53:56.491748Z",
          "iopub.status.idle": "2023-10-29T11:53:56.808186Z",
          "shell.execute_reply": "2023-10-29T11:53:56.806933Z",
          "shell.execute_reply.started": "2023-10-29T11:53:56.492093Z"
        },
        "id": "MqqadhkWi8xW",
        "outputId": "cef64381-4965-42ce-d823-c60bc18f99fd",
        "trusted": true
      },
      "outputs": [
        {
          "data": {
            "image/png": "[encoded data removed]",
            "text/plain": [
              "<Figure size 432x288 with 1 Axes>"
            ]
          },
          "metadata": {
            "needs_background": "light"
          },
          "output_type": "display_data"
        }
      ],
      "source": [
        "sample_returns = generate_monte_carlo_sample()\n",
        "import matplotlib.pyplot as plt\n",
        "x_values = [i for i in range(T)]\n",
        "y_values = [array[1][0] for array in sample_returns]\n",
        "regimes_for_this_sample = [array[0] for array in sample_returns]\n",
        "flig,ax = plt.subplots()\n",
        "ax.plot(x_values,y_values)\n",
        "ax.fill_between(x_values,min(y_values),max(y_values),where = [regimes_for_this_sample[i]==1 for i in range(T)],color = 'grey',alpha = 0.5)\n",
        "plt.xlabel(\"Time in weeks\")\n",
        "plt.ylabel(\"Returns of risky asset\")\n",
        "plt.show()"
      ]
    },
    {
      "cell_type": "markdown",
      "metadata": {
        "id": "inYU_pl2i8xX"
      },
      "source": [
        "## Probabilty set initialization over different regimes"
      ]
    },
    {
      "cell_type": "code",
      "execution_count": 21,
      "metadata": {
        "execution": {
          "iopub.execute_input": "2023-10-29T11:53:56.812638Z",
          "iopub.status.busy": "2023-10-29T11:53:56.811765Z",
          "iopub.status.idle": "2023-10-29T11:53:56.822766Z",
          "shell.execute_reply": "2023-10-29T11:53:56.821547Z",
          "shell.execute_reply.started": "2023-10-29T11:53:56.812584Z"
        },
        "id": "HlEu8hiti8xX",
        "trusted": true
      },
      "outputs": [],
      "source": [
        "from itertools import product\n",
        "from scipy.optimize import minimize\n",
        "discrete_prob = 50\n",
        "prob_set = []\n",
        "for i in range(discrete_prob+1):\n",
        "    prob_set.append(1/(discrete_prob)*i)\n",
        "\n",
        "combinations = product(prob_set, repeat=N)\n",
        "possible_probabities = [vector for vector in combinations if sum(vector) == 1]\n",
        "reverse_index = {}\n",
        "for _,p in enumerate(possible_probabities):\n",
        "    reverse_index[p]= _\n",
        "\n",
        "possible_probabities = [np.array(x) for x in possible_probabities]\n"
      ]
    },
    {
      "cell_type": "code",
      "execution_count": 22,
      "metadata": {
        "execution": {
          "iopub.execute_input": "2023-10-29T11:53:56.825134Z",
          "iopub.status.busy": "2023-10-29T11:53:56.824605Z",
          "iopub.status.idle": "2023-10-29T11:53:56.849029Z",
          "shell.execute_reply": "2023-10-29T11:53:56.847940Z",
          "shell.execute_reply.started": "2023-10-29T11:53:56.825086Z"
        },
        "id": "wKNgAv0ei8xX",
        "trusted": true
      },
      "outputs": [],
      "source": [
        "delta_pi = 0.02\n",
        "pi_set = []\n",
        "curr_pi = -1\n",
        "while curr_pi<=1+1e-5:\n",
        "    pi_set.append(curr_pi)\n",
        "    curr_pi+=delta_pi\n",
        "\n",
        "pi_combinations = product(pi_set,repeat=n)\n",
        "possible_pi = [np.append(np.array(vector),1-np.sum(vector)) for vector in pi_combinations]\n"
      ]
    },
    {
      "cell_type": "code",
      "execution_count": 23,
      "metadata": {
        "colab": {
          "base_uri": "https://localhost:8080/"
        },
        "execution": {
          "iopub.execute_input": "2023-10-29T11:53:56.851501Z",
          "iopub.status.busy": "2023-10-29T11:53:56.850540Z",
          "iopub.status.idle": "2023-10-29T11:53:56.866638Z",
          "shell.execute_reply": "2023-10-29T11:53:56.865331Z",
          "shell.execute_reply.started": "2023-10-29T11:53:56.851457Z"
        },
        "id": "A7BfwaR3i8xX",
        "outputId": "f82abf9b-2495-4004-ba46-921fc888513c",
        "trusted": true
      },
      "outputs": [
        {
          "name": "stdout",
          "output_type": "stream",
          "text": [
            "[ 1.00000000e+00 -1.11022302e-15]\n"
          ]
        }
      ],
      "source": [
        "print(possible_pi[-1])"
      ]
    },
    {
      "cell_type": "code",
      "execution_count": 24,
      "metadata": {
        "execution": {
          "iopub.execute_input": "2023-10-29T11:53:56.871749Z",
          "iopub.status.busy": "2023-10-29T11:53:56.868275Z",
          "iopub.status.idle": "2023-10-29T11:53:56.884802Z",
          "shell.execute_reply": "2023-10-29T11:53:56.883417Z",
          "shell.execute_reply.started": "2023-10-29T11:53:56.871677Z"
        },
        "id": "NosoKv9ii8xY",
        "trusted": true
      },
      "outputs": [],
      "source": [
        "def closest_probability_distn(p_in):\n",
        "    lowest_norm = np.array(float('inf'))\n",
        "    ind = 0\n",
        "\n",
        "    for _,array in enumerate(possible_probabities):\n",
        "        norm = np.linalg.norm(p_in - array)\n",
        "        if norm < lowest_norm:\n",
        "            lowest_norm = norm\n",
        "            closest_array = array\n",
        "            ind = _\n",
        "\n",
        "    return ind,closest_array\n",
        "\n",
        "def updateBelief(r,p):\n",
        "    r = r[:-1]\n",
        "    density = np.array([multivariate_normal.pdf(r,mean = regimes[i][0], cov = regimes[i][1]) for i in range(N)])\n",
        "    p_new = tpm.T@(density*p)\n",
        "    p_new/=np.sum(p_new)\n",
        "    \n",
        "    closest_p_ind,_ = closest_probability_distn(p_new)\n",
        "    return p_new,closest_p_ind\n",
        "\n",
        "def newWealth(r, pi):\n",
        "  return np.sum(pi*(1+r))"
      ]
    },
    {
      "cell_type": "code",
      "execution_count": 239,
      "metadata": {
        "colab": {
          "base_uri": "https://localhost:8080/"
        },
        "execution": {
          "iopub.execute_input": "2023-10-29T11:53:56.887996Z",
          "iopub.status.busy": "2023-10-29T11:53:56.886802Z",
          "iopub.status.idle": "2023-10-29T11:55:25.657984Z",
          "shell.execute_reply": "2023-10-29T11:55:25.656816Z",
          "shell.execute_reply.started": "2023-10-29T11:53:56.887934Z"
        },
        "id": "bIqmZaXui8xY",
        "outputId": "c0564245-73af-4d0e-a4c3-c6824cde383d",
        "trusted": true
      },
      "outputs": [
        {
          "name": "stdout",
          "output_type": "stream",
          "text": [
            "0 4 [0. 1.] [-0.08  1.08]\n",
            "0 4 [0.02 0.98] [-0.08  1.08]\n",
            "0 4 [0.04 0.96] [-0.08  1.08]\n",
            "0 4 [0.06 0.94] [-0.04  1.04]\n",
            "0 4 [0.08 0.92] [-0.08  1.08]\n",
            "0 4 [0.1 0.9] [-0.08  1.08]\n",
            "0 4 [0.12 0.88] [-0.16  1.16]\n",
            "0 4 [0.14 0.86] [-0.04  1.04]\n",
            "0 4 [0.16 0.84] [6.17561557e-16 1.00000000e+00]\n",
            "0 4 [0.18 0.82] [-0.08  1.08]\n",
            "0 4 [0.2 0.8] [-0.06  1.06]\n",
            "0 4 [0.22 0.78] [6.17561557e-16 1.00000000e+00]\n",
            "0 4 [0.24 0.76] [-0.06  1.06]\n",
            "0 4 [0.26 0.74] [-0.04  1.04]\n",
            "0 4 [0.28 0.72] [-0.06  1.06]\n",
            "0 4 [0.3 0.7] [-0.06  1.06]\n",
            "0 4 [0.32 0.68] [6.17561557e-16 1.00000000e+00]\n",
            "0 4 [0.34 0.66] [-0.04  1.04]\n",
            "0 4 [0.36 0.64] [6.17561557e-16 1.00000000e+00]\n",
            "0 4 [0.38 0.62] [-0.06  1.06]\n",
            "0 4 [0.4 0.6] [0.02 0.98]\n",
            "0 4 [0.42 0.58] [6.17561557e-16 1.00000000e+00]\n",
            "0 4 [0.44 0.56] [0.02 0.98]\n",
            "0 4 [0.46 0.54] [0.02 0.98]\n",
            "0 4 [0.48 0.52] [-0.06  1.06]\n",
            "0 4 [0.5 0.5] [6.17561557e-16 1.00000000e+00]\n",
            "0 4 [0.52 0.48] [-0.12  1.12]\n",
            "0 4 [0.54 0.46] [0.02 0.98]\n",
            "0 4 [0.56 0.44] [0.1 0.9]\n",
            "0 4 [0.58 0.42] [0.12 0.88]\n",
            "0 4 [0.6 0.4] [0.08 0.92]\n",
            "0 4 [0.62 0.38] [0.12 0.88]\n",
            "0 4 [0.64 0.36] [0.1 0.9]\n",
            "0 4 [0.66 0.34] [0.12 0.88]\n",
            "0 4 [0.68 0.32] [0.04 0.96]\n",
            "0 4 [0.7 0.3] [0.12 0.88]\n",
            "0 4 [0.72 0.28] [0.22 0.78]\n",
            "0 4 [0.74 0.26] [0.14 0.86]\n",
            "0 4 [0.76 0.24] [0.26 0.74]\n",
            "0 4 [0.78 0.22] [0.26 0.74]\n",
            "0 4 [0.8 0.2] [0.3 0.7]\n",
            "0 4 [0.82 0.18] [0.2 0.8]\n",
            "0 4 [0.84 0.16] [0.36 0.64]\n",
            "0 4 [0.86 0.14] [0.38 0.62]\n",
            "0 4 [0.88 0.12] [0.34 0.66]\n",
            "0 4 [0.9 0.1] [0.56 0.44]\n",
            "0 4 [0.92 0.08] [0.58 0.42]\n",
            "0 4 [0.94 0.06] [0.48 0.52]\n",
            "0 4 [0.96 0.04] [0.84 0.16]\n",
            "0 4 [0.98 0.02] [0.96 0.04]\n",
            "0 4 [1. 0.] [ 1.00000000e+00 -1.11022302e-15]\n",
            "\n",
            "\n",
            "0 3 [0. 1.] [-0.08  1.08]\n",
            "0 3 [0.02 0.98] [-0.04  1.04]\n",
            "0 3 [0.04 0.96] [-0.08  1.08]\n",
            "0 3 [0.06 0.94] [-0.02  1.02]\n",
            "0 3 [0.08 0.92] [-0.16  1.16]\n",
            "0 3 [0.1 0.9] [-0.04  1.04]\n",
            "0 3 [0.12 0.88] [-0.06  1.06]\n",
            "0 3 [0.14 0.86] [-0.08  1.08]\n",
            "0 3 [0.16 0.84] [6.17561557e-16 1.00000000e+00]\n",
            "0 3 [0.18 0.82] [6.17561557e-16 1.00000000e+00]\n",
            "0 3 [0.2 0.8] [-0.1  1.1]\n",
            "0 3 [0.22 0.78] [-0.06  1.06]\n",
            "0 3 [0.24 0.76] [-0.12  1.12]\n",
            "0 3 [0.26 0.74] [-0.06  1.06]\n",
            "0 3 [0.28 0.72] [-0.02  1.02]\n",
            "0 3 [0.3 0.7] [-0.08  1.08]\n",
            "0 3 [0.32 0.68] [6.17561557e-16 1.00000000e+00]\n",
            "0 3 [0.34 0.66] [6.17561557e-16 1.00000000e+00]\n",
            "0 3 [0.36 0.64] [-0.04  1.04]\n",
            "0 3 [0.38 0.62] [0.04 0.96]\n",
            "0 3 [0.4 0.6] [0.08 0.92]\n",
            "0 3 [0.42 0.58] [-0.1  1.1]\n",
            "0 3 [0.44 0.56] [0.06 0.94]\n",
            "0 3 [0.46 0.54] [-0.02  1.02]\n",
            "0 3 [0.48 0.52] [-0.02  1.02]\n",
            "0 3 [0.5 0.5] [-0.02  1.02]\n",
            "0 3 [0.52 0.48] [6.17561557e-16 1.00000000e+00]\n",
            "0 3 [0.54 0.46] [0.06 0.94]\n",
            "0 3 [0.56 0.44] [0.02 0.98]\n",
            "0 3 [0.58 0.42] [0.06 0.94]\n",
            "0 3 [0.6 0.4] [0.08 0.92]\n",
            "0 3 [0.62 0.38] [-0.04  1.04]\n",
            "0 3 [0.64 0.36] [0.04 0.96]\n",
            "0 3 [0.66 0.34] [0.06 0.94]\n",
            "0 3 [0.68 0.32] [0.04 0.96]\n",
            "0 3 [0.7 0.3] [0.06 0.94]\n",
            "0 3 [0.72 0.28] [-0.02  1.02]\n",
            "0 3 [0.74 0.26] [0.16 0.84]\n",
            "0 3 [0.76 0.24] [0.24 0.76]\n",
            "0 3 [0.78 0.22] [0.22 0.78]\n",
            "0 3 [0.8 0.2] [0.24 0.76]\n",
            "0 3 [0.82 0.18] [0.28 0.72]\n",
            "0 3 [0.84 0.16] [0.22 0.78]\n",
            "0 3 [0.86 0.14] [0.34 0.66]\n",
            "0 3 [0.88 0.12] [0.44 0.56]\n",
            "0 3 [0.9 0.1] [0.58 0.42]\n",
            "0 3 [0.92 0.08] [0.32 0.68]\n",
            "0 3 [0.94 0.06] [0.64 0.36]\n",
            "0 3 [0.96 0.04] [0.72 0.28]\n",
            "0 3 [0.98 0.02] [0.8 0.2]\n",
            "0 3 [1. 0.] [ 1.00000000e+00 -1.11022302e-15]\n",
            "\n",
            "\n",
            "0 2 [0. 1.] [-0.06  1.06]\n",
            "0 2 [0.02 0.98] [-0.02  1.02]\n",
            "0 2 [0.04 0.96] [-0.12  1.12]\n",
            "0 2 [0.06 0.94] [-0.04  1.04]\n",
            "0 2 [0.08 0.92] [-0.08  1.08]\n",
            "0 2 [0.1 0.9] [-0.02  1.02]\n",
            "0 2 [0.12 0.88] [-0.04  1.04]\n",
            "0 2 [0.14 0.86] [0.02 0.98]\n",
            "0 2 [0.16 0.84] [-0.02  1.02]\n",
            "0 2 [0.18 0.82] [-0.14  1.14]\n",
            "0 2 [0.2 0.8] [-0.04  1.04]\n",
            "0 2 [0.22 0.78] [-0.02  1.02]\n",
            "0 2 [0.24 0.76] [-0.06  1.06]\n",
            "0 2 [0.26 0.74] [-0.02  1.02]\n",
            "0 2 [0.28 0.72] [-0.02  1.02]\n",
            "0 2 [0.3 0.7] [6.17561557e-16 1.00000000e+00]\n",
            "0 2 [0.32 0.68] [-0.06  1.06]\n",
            "0 2 [0.34 0.66] [6.17561557e-16 1.00000000e+00]\n",
            "0 2 [0.36 0.64] [6.17561557e-16 1.00000000e+00]\n",
            "0 2 [0.38 0.62] [-0.06  1.06]\n",
            "0 2 [0.4 0.6] [-0.1  1.1]\n",
            "0 2 [0.42 0.58] [0.06 0.94]\n",
            "0 2 [0.44 0.56] [6.17561557e-16 1.00000000e+00]\n",
            "0 2 [0.46 0.54] [6.17561557e-16 1.00000000e+00]\n",
            "0 2 [0.48 0.52] [6.17561557e-16 1.00000000e+00]\n",
            "0 2 [0.5 0.5] [0.04 0.96]\n",
            "0 2 [0.52 0.48] [-0.04  1.04]\n",
            "0 2 [0.54 0.46] [0.02 0.98]\n",
            "0 2 [0.56 0.44] [-0.08  1.08]\n",
            "0 2 [0.58 0.42] [-0.02  1.02]\n",
            "0 2 [0.6 0.4] [0.08 0.92]\n",
            "0 2 [0.62 0.38] [0.12 0.88]\n",
            "0 2 [0.64 0.36] [0.06 0.94]\n",
            "0 2 [0.66 0.34] [0.1 0.9]\n",
            "0 2 [0.68 0.32] [0.12 0.88]\n",
            "0 2 [0.7 0.3] [0.22 0.78]\n",
            "0 2 [0.72 0.28] [0.28 0.72]\n",
            "0 2 [0.74 0.26] [0.16 0.84]\n",
            "0 2 [0.76 0.24] [0.16 0.84]\n",
            "0 2 [0.78 0.22] [0.16 0.84]\n",
            "0 2 [0.8 0.2] [0.22 0.78]\n",
            "0 2 [0.82 0.18] [0.42 0.58]\n",
            "0 2 [0.84 0.16] [0.18 0.82]\n",
            "0 2 [0.86 0.14] [0.36 0.64]\n",
            "0 2 [0.88 0.12] [0.4 0.6]\n",
            "0 2 [0.9 0.1] [0.52 0.48]\n",
            "0 2 [0.92 0.08] [0.62 0.38]\n",
            "0 2 [0.94 0.06] [0.62 0.38]\n",
            "0 2 [0.96 0.04] [0.74 0.26]\n",
            "0 2 [0.98 0.02] [0.86 0.14]\n",
            "0 2 [1. 0.] [ 1.00000000e+00 -1.11022302e-15]\n",
            "\n",
            "\n",
            "0 1 [0. 1.] [6.17561557e-16 1.00000000e+00]\n",
            "0 1 [0.02 0.98] [-0.1  1.1]\n",
            "0 1 [0.04 0.96] [-0.04  1.04]\n",
            "0 1 [0.06 0.94] [-0.08  1.08]\n",
            "0 1 [0.08 0.92] [-0.02  1.02]\n",
            "0 1 [0.1 0.9] [-0.04  1.04]\n",
            "0 1 [0.12 0.88] [-0.04  1.04]\n",
            "0 1 [0.14 0.86] [-0.08  1.08]\n",
            "0 1 [0.16 0.84] [6.17561557e-16 1.00000000e+00]\n",
            "0 1 [0.18 0.82] [-0.08  1.08]\n",
            "0 1 [0.2 0.8] [-0.04  1.04]\n",
            "0 1 [0.22 0.78] [-0.04  1.04]\n",
            "0 1 [0.24 0.76] [-0.04  1.04]\n",
            "0 1 [0.26 0.74] [-0.02  1.02]\n",
            "0 1 [0.28 0.72] [-0.02  1.02]\n",
            "0 1 [0.3 0.7] [-0.06  1.06]\n",
            "0 1 [0.32 0.68] [0.08 0.92]\n",
            "0 1 [0.34 0.66] [6.17561557e-16 1.00000000e+00]\n",
            "0 1 [0.36 0.64] [0.02 0.98]\n",
            "0 1 [0.38 0.62] [0.02 0.98]\n",
            "0 1 [0.4 0.6] [-0.04  1.04]\n",
            "0 1 [0.42 0.58] [-0.1  1.1]\n",
            "0 1 [0.44 0.56] [0.02 0.98]\n",
            "0 1 [0.46 0.54] [-0.02  1.02]\n",
            "0 1 [0.48 0.52] [0.08 0.92]\n",
            "0 1 [0.5 0.5] [-0.06  1.06]\n",
            "0 1 [0.52 0.48] [6.17561557e-16 1.00000000e+00]\n",
            "0 1 [0.54 0.46] [-0.02  1.02]\n",
            "0 1 [0.56 0.44] [0.1 0.9]\n",
            "0 1 [0.58 0.42] [0.1 0.9]\n",
            "0 1 [0.6 0.4] [0.16 0.84]\n",
            "0 1 [0.62 0.38] [0.04 0.96]\n",
            "0 1 [0.64 0.36] [0.02 0.98]\n",
            "0 1 [0.66 0.34] [0.2 0.8]\n",
            "0 1 [0.68 0.32] [6.17561557e-16 1.00000000e+00]\n",
            "0 1 [0.7 0.3] [0.04 0.96]\n",
            "0 1 [0.72 0.28] [0.14 0.86]\n",
            "0 1 [0.74 0.26] [0.16 0.84]\n",
            "0 1 [0.76 0.24] [0.28 0.72]\n",
            "0 1 [0.78 0.22] [0.12 0.88]\n",
            "0 1 [0.8 0.2] [0.16 0.84]\n",
            "0 1 [0.82 0.18] [0.24 0.76]\n",
            "0 1 [0.84 0.16] [0.12 0.88]\n",
            "0 1 [0.86 0.14] [0.34 0.66]\n",
            "0 1 [0.88 0.12] [0.42 0.58]\n",
            "0 1 [0.9 0.1] [0.44 0.56]\n",
            "0 1 [0.92 0.08] [0.78 0.22]\n",
            "0 1 [0.94 0.06] [0.66 0.34]\n",
            "0 1 [0.96 0.04] [0.6 0.4]\n",
            "0 1 [0.98 0.02] [0.7 0.3]\n",
            "0 1 [1. 0.] [0.96 0.04]\n",
            "\n",
            "\n",
            "0 0 [0. 1.] [-0.08  1.08]\n",
            "0 0 [0.02 0.98] [-0.04  1.04]\n",
            "0 0 [0.04 0.96] [-0.06  1.06]\n",
            "0 0 [0.06 0.94] [-0.04  1.04]\n",
            "0 0 [0.08 0.92] [-0.16  1.16]\n",
            "0 0 [0.1 0.9] [-0.1  1.1]\n",
            "0 0 [0.12 0.88] [-0.02  1.02]\n",
            "0 0 [0.14 0.86] [-0.06  1.06]\n",
            "0 0 [0.16 0.84] [-0.02  1.02]\n",
            "0 0 [0.18 0.82] [-0.1  1.1]\n",
            "0 0 [0.2 0.8] [-0.02  1.02]\n",
            "0 0 [0.22 0.78] [-0.02  1.02]\n",
            "0 0 [0.24 0.76] [-0.04  1.04]\n",
            "0 0 [0.26 0.74] [-0.02  1.02]\n",
            "0 0 [0.28 0.72] [-0.04  1.04]\n",
            "0 0 [0.3 0.7] [6.17561557e-16 1.00000000e+00]\n",
            "0 0 [0.32 0.68] [-0.02  1.02]\n",
            "0 0 [0.34 0.66] [-0.04  1.04]\n",
            "0 0 [0.36 0.64] [-0.04  1.04]\n",
            "0 0 [0.38 0.62] [-0.06  1.06]\n",
            "0 0 [0.4 0.6] [0.08 0.92]\n",
            "0 0 [0.42 0.58] [0.06 0.94]\n",
            "0 0 [0.44 0.56] [-0.12  1.12]\n",
            "0 0 [0.46 0.54] [6.17561557e-16 1.00000000e+00]\n",
            "0 0 [0.48 0.52] [-0.02  1.02]\n",
            "0 0 [0.5 0.5] [0.02 0.98]\n",
            "0 0 [0.52 0.48] [-0.1  1.1]\n",
            "0 0 [0.54 0.46] [0.04 0.96]\n",
            "0 0 [0.56 0.44] [-0.08  1.08]\n",
            "0 0 [0.58 0.42] [0.06 0.94]\n",
            "0 0 [0.6 0.4] [0.06 0.94]\n",
            "0 0 [0.62 0.38] [0.04 0.96]\n",
            "0 0 [0.64 0.36] [0.06 0.94]\n",
            "0 0 [0.66 0.34] [0.08 0.92]\n",
            "0 0 [0.68 0.32] [0.04 0.96]\n",
            "0 0 [0.7 0.3] [0.12 0.88]\n",
            "0 0 [0.72 0.28] [0.2 0.8]\n",
            "0 0 [0.74 0.26] [0.04 0.96]\n",
            "0 0 [0.76 0.24] [0.02 0.98]\n",
            "0 0 [0.78 0.22] [0.16 0.84]\n",
            "0 0 [0.8 0.2] [0.14 0.86]\n",
            "0 0 [0.82 0.18] [0.24 0.76]\n",
            "0 0 [0.84 0.16] [0.36 0.64]\n",
            "0 0 [0.86 0.14] [0.3 0.7]\n",
            "0 0 [0.88 0.12] [0.22 0.78]\n",
            "0 0 [0.9 0.1] [0.48 0.52]\n",
            "0 0 [0.92 0.08] [0.54 0.46]\n",
            "0 0 [0.94 0.06] [0.44 0.56]\n",
            "0 0 [0.96 0.04] [0.64 0.36]\n",
            "0 0 [0.98 0.02] [0.8 0.2]\n",
            "0 0 [1. 0.] [ 1.00000000e+00 -1.11022302e-15]\n",
            "\n",
            "\n"
          ]
        }
      ],
      "source": [
        "T = 5\n",
        "V = {}\n",
        "for _ in range(len(possible_probabities)):\n",
        "    V[(_,T)] = (1**gamma)/gamma\n",
        "\n",
        "\n",
        "t = T-1\n",
        "M = 10000\n",
        "pi_l = -1.0\n",
        "pi_u = 1.0\n",
        "\n",
        "\n",
        "optimal_pi_star = {}\n",
        "\n",
        "# scenarios = []_star = {}\n",
        "for iter in range(1):\n",
        "    # scenarios = []\n",
        "    # for j in range(M):\n",
        "    #     sample = generate_monte_carlo_sample()\n",
        "    #     scenarios.append(sample)\n",
        "    # print(\"Samples generated\")\n",
        "    t = T-1\n",
        "    while (t>=0):\n",
        "        # returns_at_this_time = [scenarios[i][t][1] for i in range(M)]\n",
        "        #print(returns_at_this_time)\n",
        "        for _ in range(len(possible_probabities)):\n",
        "            returns_at_this_time = []\n",
        "            updateBelief_saved = np.zeros(M)\n",
        "            for j in range(M):\n",
        "                sample = generate_scenario(possible_probabities[_],t)\n",
        "                returns_at_this_time.append(sample)\n",
        "                updateBelief_saved[j] = updateBelief(sample,possible_probabities[_])[1]\n",
        "\n",
        "            # print(updateBelief_saved)\n",
        "            def objective_function(pi):\n",
        "                return np.average(np.array([(newWealth(returns_at_this_time[i],pi)**gamma)*V[(updateBelief_saved[i],t+1)] for i in range(M)]))\n",
        "\n",
        "            # constraints = ([{'type': 'eq', 'fun': lambda pi: np.sum(pi) - 1}])  \n",
        "            # initial_pi_guess = np.ones(n+1)/(n+1)\n",
        "            # if(_):\n",
        "            #     initial_pi_guess = optimal_pi_star[(_-1,t)]\n",
        "            \n",
        "\n",
        "            # pi_star = minimize(lambda x: (-1)*objective_function(x),  initial_pi_guess,\n",
        "            #                    constraints=constraints,\n",
        "            #                     bounds = [(pi_l,pi_u) for i in range(n)] + [(None,None)],\n",
        "            #                   )\n",
        "\n",
        "            # print(pi_star.message)\n",
        "            # pi_star = pi_star.x\n",
        "\n",
        "\n",
        "            pi_star = max(possible_pi,key = objective_function)\n",
        "            \n",
        "            V[(_,t)] = np.average([(newWealth(returns_at_this_time[i],pi_star)**gamma)*V[(updateBelief_saved[i],t+1)] for i in range(M)])\n",
        "            optimal_pi_star[(_,t)] = pi_star\n",
        "            print(iter,t,possible_probabities[_],pi_star)\n",
        "\n",
        "        t= t-1\n",
        "        print(\"\\n\")\n",
        "\n"
      ]
    },
    {
      "cell_type": "code",
      "execution_count": 242,
      "metadata": {
        "colab": {
          "base_uri": "https://localhost:8080/",
          "height": 430
        },
        "execution": {
          "iopub.execute_input": "2023-10-29T11:55:25.659553Z",
          "iopub.status.busy": "2023-10-29T11:55:25.659250Z",
          "iopub.status.idle": "2023-10-29T11:55:25.941106Z",
          "shell.execute_reply": "2023-10-29T11:55:25.940016Z",
          "shell.execute_reply.started": "2023-10-29T11:55:25.659526Z"
        },
        "id": "PPN5MYbYi8xZ",
        "outputId": "36cd3a54-f577-438c-f52c-e0692f70b74e",
        "trusted": true
      },
      "outputs": [
        {
          "data": {
            "image/png": "[encoded data removed]",
            "text/plain": [
              "<Figure size 432x288 with 1 Axes>"
            ]
          },
          "metadata": {
            "needs_background": "light"
          },
          "output_type": "display_data"
        }
      ],
      "source": [
        "import matplotlib.pyplot as plt\n",
        "\n",
        "xpoints = [x[0] for x in possible_probabities]\n",
        "ypoints = [optimal_pi_star[_,2][0] for _ in range(len(possible_probabities))]\n",
        "\n",
        "plt.plot(xpoints,ypoints)\n",
        "plt.show()\n",
        "\n",
        "#print([optimal_pi_star[_,0] for _ in range(5)])"
      ]
    },
    {
      "cell_type": "code",
      "execution_count": 241,
      "metadata": {
        "colab": {
          "base_uri": "https://localhost:8080/"
        },
        "execution": {
          "iopub.execute_input": "2023-10-29T11:55:25.946917Z",
          "iopub.status.busy": "2023-10-29T11:55:25.946435Z",
          "iopub.status.idle": "2023-10-29T11:55:25.960740Z",
          "shell.execute_reply": "2023-10-29T11:55:25.959526Z",
          "shell.execute_reply.started": "2023-10-29T11:55:25.946882Z"
        },
        "id": "CAcRX7Ixi8xa",
        "outputId": "f318d603-09e2-4d07-b831-ad9199f73754",
        "trusted": true
      },
      "outputs": [],
      "source": [
        "import pickle\n",
        "\n",
        "\n",
        "with open(\"Axis_DP_rf5_V_values.pkl\", \"wb\") as fp:\n",
        "    pickle.dump(V, fp)  \n",
        "\n",
        "with open(\"Axis_DP_rf5_optimal_allocation.pkl\", \"wb\") as fp:\n",
        "    pickle.dump(optimal_pi_star, fp)  "
      ]
    },
    {
      "cell_type": "markdown",
      "metadata": {},
      "source": [
        "## Loading results"
      ]
    },
    {
      "cell_type": "code",
      "execution_count": 25,
      "metadata": {},
      "outputs": [],
      "source": [
        "import pickle\n",
        "\n",
        "with open('Axis_DP_rf5_V_values.pkl', \"rb\") as fp:\n",
        "    V = pickle.load(fp)\n",
        "\n",
        "with open(\"Axis_DP_rf5_optimal_allocation.pkl\", \"rb\") as fp:\n",
        "    optimal_pi_star = pickle.load(fp)"
      ]
    },
    {
      "cell_type": "markdown",
      "metadata": {},
      "source": [
        "## Random path observation"
      ]
    },
    {
      "cell_type": "code",
      "execution_count": 26,
      "metadata": {},
      "outputs": [
        {
          "data": {
            "image/png": "[encoded data removed]",
            "text/plain": [
              "<Figure size 432x288 with 2 Axes>"
            ]
          },
          "metadata": {
            "needs_background": "light"
          },
          "output_type": "display_data"
        }
      ],
      "source": [
        "sample_returns = generate_monte_carlo_sample()\n",
        "\n",
        "initial_belief = np.random.rand(N)\n",
        "initial_belief/=np.sum(initial_belief)\n",
        "\n",
        "belief_values = [initial_belief[0]]\n",
        "prev_belief = initial_belief\n",
        "\n",
        "for i in range(T):\n",
        "    upd_belief,_ = updateBelief(sample_returns[i][1],prev_belief)\n",
        "    belief_values.append(upd_belief[0])\n",
        "    prev_belief = upd_belief\n",
        "\n",
        "import matplotlib.pyplot as plt\n",
        "x_values = [i for i in range(T)]\n",
        "y_values = [array[1][0] for array in sample_returns]\n",
        "regimes_for_this_sample = [array[0] for array in sample_returns]\n",
        "fig,ax1 = plt.subplots()\n",
        "ax1.plot(x_values,y_values,color = 'r')\n",
        "ax1.fill_between(x_values,min(y_values),max(y_values),where = [regimes_for_this_sample[i]==1 for i in range(T)],color = 'grey',alpha = 0.2)\n",
        "ax1.set_xlabel(\"TIme in weeks\")\n",
        "ax1.set_ylabel(\"Return of risky asset (one sample path)\",color='r')\n",
        "ax1.tick_params(axis = 'y',labelcolor = 'r')\n",
        "\n",
        "ax2 = ax1.twinx()\n",
        "ax2.set_ylabel('prob of est.of current regime being normal', color = 'b') \n",
        "ax2.plot(x_values, belief_values[:-1], color = 'b',linestyle ='--',alpha = 0.5)  \n",
        "ax2.tick_params(axis = 'y',labelcolor = 'b')\n",
        "\n",
        "plt.title(\"Random path of returns of risky asset\")\n",
        "plt.show()"
      ]
    },
    {
      "cell_type": "code",
      "execution_count": 27,
      "metadata": {},
      "outputs": [
        {
          "data": {
            "image/png": "[encoded data removed]",
            "text/plain": [
              "<Figure size 432x288 with 1 Axes>"
            ]
          },
          "metadata": {
            "needs_background": "light"
          },
          "output_type": "display_data"
        }
      ],
      "source": [
        "import matplotlib.pyplot as plt\n",
        "\n",
        "xpoints = [x[0] for x in possible_probabities]\n",
        "ypoints = [optimal_pi_star[_,2][0] for _ in range(len(possible_probabities))]\n",
        "\n",
        "plt.plot(xpoints,ypoints)\n",
        "plt.xlabel(\"Probability of current regime being normal (t=2)\")\n",
        "plt.ylabel(\"Position in risky asset\")\n",
        "plt.show()\n",
        "\n",
        "#print([optimal_pi_star[_,0] for _ in range(5)])"
      ]
    },
    {
      "cell_type": "markdown",
      "metadata": {},
      "source": [
        "## Test for random path"
      ]
    },
    {
      "cell_type": "code",
      "execution_count": 81,
      "metadata": {},
      "outputs": [
        {
          "name": "stdout",
          "output_type": "stream",
          "text": [
            "[array([0.1402313, 0.8597687]), array([0.24692804, 0.75307196]), array([0.57209129, 0.42790871]), array([0.8265041, 0.1734959]), array([0.93462841, 0.06537159])] [[ 0.060592    0.001     ]\n",
            " [-0.01283784  0.001     ]\n",
            " [-0.01287825  0.001     ]\n",
            " [-0.01227766  0.001     ]\n",
            " [ 0.00704451  0.001     ]]\n"
          ]
        }
      ],
      "source": [
        "import torch\n",
        "def generate_random_path(n_samples):\n",
        "    input_data = []\n",
        "    return_samples= []\n",
        "    for i in range(n_samples):\n",
        "        sample = generate_monte_carlo_sample()\n",
        "        \n",
        "        returns_for_this_sample = []\n",
        "        for time in range(T):\n",
        "            returns_for_this_sample.append(sample[time][1])\n",
        "        return_samples.append(np.array(returns_for_this_sample))\n",
        "        \n",
        "        initial_p = np.random.rand(N)\n",
        "        initial_p/=np.sum(initial_p)\n",
        "        #plot_x.append(initial_p[0])\n",
        "        \n",
        "        input_to_rnn = [initial_p]\n",
        "        for time in range(T-1):\n",
        "            p = input_to_rnn[-1]\n",
        "            p_new,___ = updateBelief(sample[time][1],p)\n",
        "            #p_new = closest_probability_distn(p_new)[1]\n",
        "            \n",
        "            input_to_rnn.append(p_new)\n",
        "        input_data.append(input_to_rnn)\n",
        "\n",
        "    return input_data,return_samples\n",
        "\n",
        "random_path= generate_random_path(1)\n",
        "random_beliefs, random_returns = random_path[0][0],random_path[1][0]\n",
        "print(random_beliefs,random_returns)"
      ]
    },
    {
      "cell_type": "code",
      "execution_count": 82,
      "metadata": {
        "id": "4SopGsf-oYl-"
      },
      "outputs": [
        {
          "data": {
            "image/png": "[encoded data removed]",
            "text/plain": [
              "<Figure size 432x288 with 1 Axes>"
            ]
          },
          "metadata": {
            "needs_background": "light"
          },
          "output_type": "display_data"
        }
      ],
      "source": [
        "test_wealth = [1000]\n",
        "transaction_rate = 0.005\n",
        "test_inital_portfolio = np.random.rand(n+1)\n",
        "test_inital_portfolio = test_inital_portfolio/np.sum(test_inital_portfolio)\n",
        "transaction_rate_wealth = [1000]\n",
        "prev_portfolio = test_inital_portfolio\n",
        "prev_portfolio  = test_inital_portfolio\n",
        "\n",
        "for i in range(T):\n",
        "    closest_ind,_  = closest_probability_distn(random_beliefs[i])\n",
        "    optimal_alloc = optimal_pi_star[(closest_ind,i)]\n",
        "    prev_wealth = test_wealth[-1]\n",
        "    new_wealth = prev_wealth*newWealth(random_returns[i],optimal_alloc)\n",
        "    test_wealth.append(new_wealth)\n",
        "\n",
        "    new_wealth_with_transaction = prev_wealth-prev_wealth*transaction_rate*np.linalg.norm(prev_portfolio-optimal_alloc,ord= 1)\n",
        "    new_wealth_with_transaction = np.sum(optimal_alloc*new_wealth_with_transaction*(1+random_returns[i]))\n",
        "    transaction_rate_wealth.append(new_wealth_with_transaction)\n",
        "\n",
        "    curr_portfolio = prev_portfolio*(1+random_returns[i])\n",
        "    curr_portfolio/=np.sum(curr_portfolio)\n",
        "    prev_portfolio = curr_portfolio\n",
        "    \n",
        "\n",
        "\n",
        "fixed_strategy = np.array(([0.6,0.4]))\n",
        "wealth_fixed_strategy = [1000]\n",
        "for i in range(T):\n",
        "    prev_wealth = wealth_fixed_strategy[-1]\n",
        "    new_wealth = prev_wealth*np.sum(fixed_strategy*(1+random_returns[i]))\n",
        "    curr_allocation = fixed_strategy*(1+random_returns[i])\n",
        "    curr_allocation/=np.sum(curr_allocation)\n",
        "    #new_wealth -= transaction_rate*new_wealth*.norm(fixed_strategy-curr_allocation,p = 1)\n",
        "    wealth_fixed_strategy.append(new_wealth)\n",
        "\n",
        "\n",
        "wealth_buy_and_hold = [1000]\n",
        "for i in range(T):\n",
        "    prev_wealth = wealth_buy_and_hold[-1]\n",
        "    new_wealth = prev_wealth*(1+random_returns[i][0]).item()\n",
        "    wealth_buy_and_hold.append(new_wealth)\n",
        "\n",
        "import matplotlib.pyplot as plt\n",
        "plt.plot([i for i in range(T+1)],test_wealth,color ='b',label = 'Dynamic Programming strategy')\n",
        "plt.plot([i for i in range(T+1)],wealth_fixed_strategy,color ='g',label = 'Fixed Mix allocation')\n",
        "plt.plot([i for i in range(T+1)],wealth_buy_and_hold,color ='orange',label = 'Buy and hold risky asset')\n",
        "plt.xlabel(\"Time in weeks\")\n",
        "plt.ylabel(\"Wealth\")\n",
        "plt.legend()\n",
        "plt.show()"
      ]
    },
    {
      "cell_type": "code",
      "execution_count": 83,
      "metadata": {},
      "outputs": [
        {
          "name": "stdout",
          "output_type": "stream",
          "text": [
            "[1000, 991.2067808899153, 992.8048864197177, 994.3073179135075, 994.6317263772885, 1000.5477854986627]\n"
          ]
        },
        {
          "data": {
            "image/png": "[encoded data removed]",
            "text/plain": [
              "<Figure size 432x288 with 1 Axes>"
            ]
          },
          "metadata": {
            "needs_background": "light"
          },
          "output_type": "display_data"
        }
      ],
      "source": [
        "import matplotlib.pyplot as plt\n",
        "print(transaction_rate_wealth)\n",
        "plt.plot([i for i in range(T+1)],test_wealth,color ='b',label = 'Without Transaction cost')\n",
        "plt.plot([i for i in range(T+1)],transaction_rate_wealth,color ='g',label = 'with Transaction cost')\n",
        "plt.xlabel(\"Time in weeks\")\n",
        "plt.ylabel(\"Wealth following dynamic programming strategy\")\n",
        "plt.legend()\n",
        "plt.show()"
      ]
    }
  ],
  "metadata": {
    "accelerator": "GPU",
    "colab": {
      "gpuType": "T4",
      "provenance": []
    },
    "kernelspec": {
      "display_name": "Python 3",
      "name": "python3"
    },
    "language_info": {
      "codemirror_mode": {
        "name": "ipython",
        "version": 3
      },
      "file_extension": ".py",
      "mimetype": "text/x-python",
      "name": "python",
      "nbconvert_exporter": "python",
      "pygments_lexer": "ipython3",
      "version": "3.9.12"
    }
  },
  "nbformat": 4,
  "nbformat_minor": 0
}
