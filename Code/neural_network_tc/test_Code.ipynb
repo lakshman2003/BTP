{
 "cells": [
  {
   "cell_type": "code",
   "execution_count": 9,
   "metadata": {},
   "outputs": [
    {
     "name": "stdout",
     "output_type": "stream",
     "text": [
      "Requirement already satisfied: torch in c:\\users\\91897\\anaconda3\\lib\\site-packages (1.12.1)\n",
      "Requirement already satisfied: typing_extensions in c:\\users\\91897\\anaconda3\\lib\\site-packages (from torch) (4.1.1)\n",
      "Requirement already satisfied: pytorch-ignite in c:\\users\\91897\\anaconda3\\lib\\site-packages (0.4.13)\n",
      "Requirement already satisfied: torch<3,>=1.3 in c:\\users\\91897\\anaconda3\\lib\\site-packages (from pytorch-ignite) (1.12.1)\n",
      "Requirement already satisfied: packaging in c:\\users\\91897\\anaconda3\\lib\\site-packages (from pytorch-ignite) (21.3)\n",
      "Requirement already satisfied: typing_extensions in c:\\users\\91897\\anaconda3\\lib\\site-packages (from torch<3,>=1.3->pytorch-ignite) (4.1.1)\n",
      "Requirement already satisfied: pyparsing!=3.0.5,>=2.0.2 in c:\\users\\91897\\anaconda3\\lib\\site-packages (from packaging->pytorch-ignite) (3.0.4)\n",
      "Requirement already satisfied: netron in c:\\users\\91897\\anaconda3\\lib\\site-packages (7.2.7)\n"
     ]
    }
   ],
   "source": [
    "!pip install torch\n",
    "!pip install pytorch-ignite\n",
    "!pip install netron\n"
   ]
  },
  {
   "cell_type": "code",
   "execution_count": 12,
   "metadata": {},
   "outputs": [],
   "source": [
    "import torch\n",
    "import torch.autograd.profiler as profiler\n",
    "\n",
    "# Create the model.\n",
    "model = torch.nn.Sequential(\n",
    "    torch.nn.Linear(10, 20),\n",
    "    torch.nn.ReLU(),\n",
    "    torch.nn.Linear(20, 10)\n",
    ")\n",
    "\n",
    "# Create the input data.\n",
    "input_data = torch.randn(1, 10)\n",
    "\n",
    "# Profile the execution of the model.\n",
    "with profiler.profile() as prof:\n",
    "    output = model(input_data)\n"
   ]
  },
  {
   "cell_type": "code",
   "execution_count": 17,
   "metadata": {},
   "outputs": [
    {
     "ename": "RuntimeError",
     "evalue": "Trace is already saved.",
     "output_type": "error",
     "traceback": [
      "\u001b[1;31m---------------------------------------------------------------------------\u001b[0m",
      "\u001b[1;31mRuntimeError\u001b[0m                              Traceback (most recent call last)",
      "\u001b[1;32mc:\\Users\\91897\\OneDrive - iitkgp.ac.in\\Desktop\\IIT Khargpur\\seventh sem\\BTP\\Code\\test_Code.ipynb Cell 3\u001b[0m line \u001b[0;36m<cell line: 1>\u001b[1;34m()\u001b[0m\n\u001b[1;32m----> <a href='vscode-notebook-cell:/c%3A/Users/91897/OneDrive%20-%20iitkgp.ac.in/Desktop/IIT%20Khargpur/seventh%20sem/BTP/Code/test_Code.ipynb#W2sZmlsZQ%3D%3D?line=0'>1</a>\u001b[0m prof\u001b[39m.\u001b[39;49mexport_chrome_trace(\u001b[39m\"\u001b[39;49m\u001b[39mcomputation_graph.json\u001b[39;49m\u001b[39m\"\u001b[39;49m)\n",
      "File \u001b[1;32mc:\\Users\\91897\\anaconda3\\lib\\site-packages\\torch\\autograd\\profiler.py:248\u001b[0m, in \u001b[0;36mprofile.export_chrome_trace\u001b[1;34m(self, path)\u001b[0m\n\u001b[0;32m    246\u001b[0m \u001b[39mself\u001b[39m\u001b[39m.\u001b[39m_check_finish()\n\u001b[0;32m    247\u001b[0m \u001b[39mif\u001b[39;00m kineto_available():\n\u001b[1;32m--> 248\u001b[0m     \u001b[39mself\u001b[39;49m\u001b[39m.\u001b[39;49mkineto_results\u001b[39m.\u001b[39;49msave(path)  \u001b[39m# type: ignore[union-attr]\u001b[39;00m\n\u001b[0;32m    249\u001b[0m \u001b[39melse\u001b[39;00m:\n\u001b[0;32m    250\u001b[0m     \u001b[39mreturn\u001b[39;00m \u001b[39mself\u001b[39m\u001b[39m.\u001b[39mfunction_events\u001b[39m.\u001b[39mexport_chrome_trace(path)\n",
      "\u001b[1;31mRuntimeError\u001b[0m: Trace is already saved."
     ]
    }
   ],
   "source": [
    "prof.export_chrome_trace(\"computation_graph.json\")"
   ]
  },
  {
   "cell_type": "code",
   "execution_count": 21,
   "metadata": {},
   "outputs": [
    {
     "name": "stdout",
     "output_type": "stream",
     "text": [
      "Serving at http://localhost:8080\n"
     ]
    },
    {
     "data": {
      "text/plain": [
       "('localhost', 8080)"
      ]
     },
     "execution_count": 21,
     "metadata": {},
     "output_type": "execute_result"
    }
   ],
   "source": [
    "netron.start()"
   ]
  },
  {
   "cell_type": "code",
   "execution_count": 20,
   "metadata": {},
   "outputs": [
    {
     "name": "stdout",
     "output_type": "stream",
     "text": [
      "Requirement already satisfied: netron in c:\\users\\91897\\anaconda3\\lib\\site-packages (7.2.7)\n"
     ]
    }
   ],
   "source": [
    "!pip install netron --upgrade\n"
   ]
  },
  {
   "cell_type": "code",
   "execution_count": null,
   "metadata": {},
   "outputs": [],
   "source": []
  }
 ],
 "metadata": {
  "kernelspec": {
   "display_name": "base",
   "language": "python",
   "name": "python3"
  },
  "language_info": {
   "codemirror_mode": {
    "name": "ipython",
    "version": 3
   },
   "file_extension": ".py",
   "mimetype": "text/x-python",
   "name": "python",
   "nbconvert_exporter": "python",
   "pygments_lexer": "ipython3",
   "version": "3.9.12"
  }
 },
 "nbformat": 4,
 "nbformat_minor": 2
}
