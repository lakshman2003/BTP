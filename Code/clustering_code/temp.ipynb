{
 "cells": [
  {
   "cell_type": "code",
   "execution_count": 18,
   "metadata": {},
   "outputs": [
    {
     "name": "stdout",
     "output_type": "stream",
     "text": [
      "Date\n",
      "2012-01-31    0.022006\n",
      "2012-02-01    0.007011\n",
      "2012-02-02    0.006532\n",
      "2012-02-03    0.010617\n",
      "2012-02-06    0.006722\n",
      "                ...   \n",
      "2024-03-21    0.007915\n",
      "2024-03-22    0.003852\n",
      "2024-03-26   -0.004166\n",
      "2024-03-27    0.005406\n",
      "2024-03-28    0.009187\n",
      "Name: Daily returns, Length: 2983, dtype: float64\n"
     ]
    }
   ],
   "source": [
    "import pyfolio as pf\n",
    "import pandas as pd\n",
    "import matplotlib.pyplot as plt\n",
    "\n",
    "nifty50index = pd.read_csv(\"Dataset/nifty50Index.csv\")\n",
    "nifty50index = nifty50index.dropna()\n",
    "\n",
    "nifty50index['Date'] = pd.to_datetime(nifty50index['Date'])\n",
    "nifty50index = nifty50index.set_index('Date')\n",
    "data = nifty50index['Daily returns']\n",
    "\n",
    "print(data)\n"
   ]
  },
  {
   "cell_type": "code",
   "execution_count": 20,
   "metadata": {},
   "outputs": [
    {
     "ename": "AttributeError",
     "evalue": "'Series' object has no attribute 'iteritems'",
     "output_type": "error",
     "traceback": [
      "\u001b[1;31m---------------------------------------------------------------------------\u001b[0m",
      "\u001b[1;31mAttributeError\u001b[0m                            Traceback (most recent call last)",
      "\u001b[1;32m~\\AppData\\Local\\Temp\\ipykernel_7460\\3815178992.py\u001b[0m in \u001b[0;36m?\u001b[1;34m()\u001b[0m\n\u001b[1;32m----> 1\u001b[1;33m \u001b[0mpf\u001b[0m\u001b[1;33m.\u001b[0m\u001b[0mcreate_simple_tear_sheet\u001b[0m\u001b[1;33m(\u001b[0m\u001b[0mreturns\u001b[0m \u001b[1;33m=\u001b[0m \u001b[0mdata\u001b[0m\u001b[1;33m)\u001b[0m\u001b[1;33m\u001b[0m\u001b[1;33m\u001b[0m\u001b[0m\n\u001b[0m",
      "\u001b[1;32mc:\\Users\\SBC\\Downloads\\BTP\\.venv\\Lib\\site-packages\\pyfolio\\plotting.py\u001b[0m in \u001b[0;36m?\u001b[1;34m(*args, **kwargs)\u001b[0m\n\u001b[0;32m     48\u001b[0m     \u001b[1;32mdef\u001b[0m \u001b[0mcall_w_context\u001b[0m\u001b[1;33m(\u001b[0m\u001b[1;33m*\u001b[0m\u001b[0margs\u001b[0m\u001b[1;33m,\u001b[0m \u001b[1;33m**\u001b[0m\u001b[0mkwargs\u001b[0m\u001b[1;33m)\u001b[0m\u001b[1;33m:\u001b[0m\u001b[1;33m\u001b[0m\u001b[1;33m\u001b[0m\u001b[0m\n\u001b[0;32m     49\u001b[0m         \u001b[0mset_context\u001b[0m \u001b[1;33m=\u001b[0m \u001b[0mkwargs\u001b[0m\u001b[1;33m.\u001b[0m\u001b[0mpop\u001b[0m\u001b[1;33m(\u001b[0m\u001b[1;34m'set_context'\u001b[0m\u001b[1;33m,\u001b[0m \u001b[1;32mTrue\u001b[0m\u001b[1;33m)\u001b[0m\u001b[1;33m\u001b[0m\u001b[1;33m\u001b[0m\u001b[0m\n\u001b[0;32m     50\u001b[0m         \u001b[1;32mif\u001b[0m \u001b[0mset_context\u001b[0m\u001b[1;33m:\u001b[0m\u001b[1;33m\u001b[0m\u001b[1;33m\u001b[0m\u001b[0m\n\u001b[0;32m     51\u001b[0m             \u001b[1;32mwith\u001b[0m \u001b[0mplotting_context\u001b[0m\u001b[1;33m(\u001b[0m\u001b[1;33m)\u001b[0m\u001b[1;33m,\u001b[0m \u001b[0maxes_style\u001b[0m\u001b[1;33m(\u001b[0m\u001b[1;33m)\u001b[0m\u001b[1;33m:\u001b[0m\u001b[1;33m\u001b[0m\u001b[1;33m\u001b[0m\u001b[0m\n\u001b[1;32m---> 52\u001b[1;33m                 \u001b[1;32mreturn\u001b[0m \u001b[0mfunc\u001b[0m\u001b[1;33m(\u001b[0m\u001b[1;33m*\u001b[0m\u001b[0margs\u001b[0m\u001b[1;33m,\u001b[0m \u001b[1;33m**\u001b[0m\u001b[0mkwargs\u001b[0m\u001b[1;33m)\u001b[0m\u001b[1;33m\u001b[0m\u001b[1;33m\u001b[0m\u001b[0m\n\u001b[0m\u001b[0;32m     53\u001b[0m         \u001b[1;32melse\u001b[0m\u001b[1;33m:\u001b[0m\u001b[1;33m\u001b[0m\u001b[1;33m\u001b[0m\u001b[0m\n\u001b[0;32m     54\u001b[0m             \u001b[1;32mreturn\u001b[0m \u001b[0mfunc\u001b[0m\u001b[1;33m(\u001b[0m\u001b[1;33m*\u001b[0m\u001b[0margs\u001b[0m\u001b[1;33m,\u001b[0m \u001b[1;33m**\u001b[0m\u001b[0mkwargs\u001b[0m\u001b[1;33m)\u001b[0m\u001b[1;33m\u001b[0m\u001b[1;33m\u001b[0m\u001b[0m\n",
      "\u001b[1;32mc:\\Users\\SBC\\Downloads\\BTP\\.venv\\Lib\\site-packages\\pyfolio\\tears.py\u001b[0m in \u001b[0;36m?\u001b[1;34m(returns, positions, transactions, benchmark_rets, slippage, estimate_intraday, live_start_date, turnover_denom, header_rows)\u001b[0m\n\u001b[0;32m    355\u001b[0m \u001b[1;33m\u001b[0m\u001b[0m\n\u001b[0;32m    356\u001b[0m     \u001b[1;32mif\u001b[0m \u001b[0mlive_start_date\u001b[0m \u001b[1;32mis\u001b[0m \u001b[1;32mnot\u001b[0m \u001b[1;32mNone\u001b[0m\u001b[1;33m:\u001b[0m\u001b[1;33m\u001b[0m\u001b[1;33m\u001b[0m\u001b[0m\n\u001b[0;32m    357\u001b[0m         \u001b[0mlive_start_date\u001b[0m \u001b[1;33m=\u001b[0m \u001b[0mep\u001b[0m\u001b[1;33m.\u001b[0m\u001b[0mutils\u001b[0m\u001b[1;33m.\u001b[0m\u001b[0mget_utc_timestamp\u001b[0m\u001b[1;33m(\u001b[0m\u001b[0mlive_start_date\u001b[0m\u001b[1;33m)\u001b[0m\u001b[1;33m\u001b[0m\u001b[1;33m\u001b[0m\u001b[0m\n\u001b[0;32m    358\u001b[0m \u001b[1;33m\u001b[0m\u001b[0m\n\u001b[1;32m--> 359\u001b[1;33m     plotting.show_perf_stats(returns,\n\u001b[0m\u001b[0;32m    360\u001b[0m                              \u001b[0mbenchmark_rets\u001b[0m\u001b[1;33m,\u001b[0m\u001b[1;33m\u001b[0m\u001b[1;33m\u001b[0m\u001b[0m\n\u001b[0;32m    361\u001b[0m                              \u001b[0mpositions\u001b[0m\u001b[1;33m=\u001b[0m\u001b[0mpositions\u001b[0m\u001b[1;33m,\u001b[0m\u001b[1;33m\u001b[0m\u001b[1;33m\u001b[0m\u001b[0m\n\u001b[0;32m    362\u001b[0m                              \u001b[0mtransactions\u001b[0m\u001b[1;33m=\u001b[0m\u001b[0mtransactions\u001b[0m\u001b[1;33m,\u001b[0m\u001b[1;33m\u001b[0m\u001b[1;33m\u001b[0m\u001b[0m\n",
      "\u001b[1;32mc:\\Users\\SBC\\Downloads\\BTP\\.venv\\Lib\\site-packages\\pyfolio\\plotting.py\u001b[0m in \u001b[0;36m?\u001b[1;34m(returns, factor_returns, positions, transactions, turnover_denom, live_start_date, bootstrap, header_rows)\u001b[0m\n\u001b[0;32m    644\u001b[0m                                             APPROX_BDAYS_PER_MONTH)\n\u001b[0;32m    645\u001b[0m         \u001b[0mperf_stats\u001b[0m \u001b[1;33m=\u001b[0m \u001b[0mpd\u001b[0m\u001b[1;33m.\u001b[0m\u001b[0mDataFrame\u001b[0m\u001b[1;33m(\u001b[0m\u001b[0mperf_stats_all\u001b[0m\u001b[1;33m,\u001b[0m \u001b[0mcolumns\u001b[0m\u001b[1;33m=\u001b[0m\u001b[1;33m[\u001b[0m\u001b[1;34m'Backtest'\u001b[0m\u001b[1;33m]\u001b[0m\u001b[1;33m)\u001b[0m\u001b[1;33m\u001b[0m\u001b[1;33m\u001b[0m\u001b[0m\n\u001b[0;32m    646\u001b[0m \u001b[1;33m\u001b[0m\u001b[0m\n\u001b[0;32m    647\u001b[0m     \u001b[1;32mfor\u001b[0m \u001b[0mcolumn\u001b[0m \u001b[1;32min\u001b[0m \u001b[0mperf_stats\u001b[0m\u001b[1;33m.\u001b[0m\u001b[0mcolumns\u001b[0m\u001b[1;33m:\u001b[0m\u001b[1;33m\u001b[0m\u001b[1;33m\u001b[0m\u001b[0m\n\u001b[1;32m--> 648\u001b[1;33m         \u001b[1;32mfor\u001b[0m \u001b[0mstat\u001b[0m\u001b[1;33m,\u001b[0m \u001b[0mvalue\u001b[0m \u001b[1;32min\u001b[0m \u001b[0mperf_stats\u001b[0m\u001b[1;33m[\u001b[0m\u001b[0mcolumn\u001b[0m\u001b[1;33m]\u001b[0m\u001b[1;33m.\u001b[0m\u001b[0miteritems\u001b[0m\u001b[1;33m(\u001b[0m\u001b[1;33m)\u001b[0m\u001b[1;33m:\u001b[0m\u001b[1;33m\u001b[0m\u001b[1;33m\u001b[0m\u001b[0m\n\u001b[0m\u001b[0;32m    649\u001b[0m             \u001b[1;32mif\u001b[0m \u001b[0mstat\u001b[0m \u001b[1;32min\u001b[0m \u001b[0mSTAT_FUNCS_PCT\u001b[0m\u001b[1;33m:\u001b[0m\u001b[1;33m\u001b[0m\u001b[1;33m\u001b[0m\u001b[0m\n\u001b[0;32m    650\u001b[0m                 perf_stats.loc[stat, column] = str(np.round(value * 100,\n\u001b[0;32m    651\u001b[0m                                                             1)) + '%'\n",
      "\u001b[1;32mc:\\Users\\SBC\\Downloads\\BTP\\.venv\\Lib\\site-packages\\pandas\\core\\generic.py\u001b[0m in \u001b[0;36m?\u001b[1;34m(self, name)\u001b[0m\n\u001b[0;32m   6295\u001b[0m             \u001b[1;32mand\u001b[0m \u001b[0mname\u001b[0m \u001b[1;32mnot\u001b[0m \u001b[1;32min\u001b[0m \u001b[0mself\u001b[0m\u001b[1;33m.\u001b[0m\u001b[0m_accessors\u001b[0m\u001b[1;33m\u001b[0m\u001b[1;33m\u001b[0m\u001b[0m\n\u001b[0;32m   6296\u001b[0m             \u001b[1;32mand\u001b[0m \u001b[0mself\u001b[0m\u001b[1;33m.\u001b[0m\u001b[0m_info_axis\u001b[0m\u001b[1;33m.\u001b[0m\u001b[0m_can_hold_identifiers_and_holds_name\u001b[0m\u001b[1;33m(\u001b[0m\u001b[0mname\u001b[0m\u001b[1;33m)\u001b[0m\u001b[1;33m\u001b[0m\u001b[1;33m\u001b[0m\u001b[0m\n\u001b[0;32m   6297\u001b[0m         ):\n\u001b[0;32m   6298\u001b[0m             \u001b[1;32mreturn\u001b[0m \u001b[0mself\u001b[0m\u001b[1;33m[\u001b[0m\u001b[0mname\u001b[0m\u001b[1;33m]\u001b[0m\u001b[1;33m\u001b[0m\u001b[1;33m\u001b[0m\u001b[0m\n\u001b[1;32m-> 6299\u001b[1;33m         \u001b[1;32mreturn\u001b[0m \u001b[0mobject\u001b[0m\u001b[1;33m.\u001b[0m\u001b[0m__getattribute__\u001b[0m\u001b[1;33m(\u001b[0m\u001b[0mself\u001b[0m\u001b[1;33m,\u001b[0m \u001b[0mname\u001b[0m\u001b[1;33m)\u001b[0m\u001b[1;33m\u001b[0m\u001b[1;33m\u001b[0m\u001b[0m\n\u001b[0m",
      "\u001b[1;31mAttributeError\u001b[0m: 'Series' object has no attribute 'iteritems'"
     ]
    }
   ],
   "source": [
    "pf.create_simple_tear_sheet(returns = data)"
   ]
  },
  {
   "cell_type": "code",
   "execution_count": 5,
   "metadata": {},
   "outputs": [
    {
     "name": "stdout",
     "output_type": "stream",
     "text": [
      "Help on function create_simple_tear_sheet in module pyfolio.tears:\n",
      "\n",
      "create_simple_tear_sheet(returns, positions=None, transactions=None, benchmark_rets=None, slippage=None, estimate_intraday='infer', live_start_date=None, turnover_denom='AGB', header_rows=None)\n",
      "    Simpler version of create_full_tear_sheet; generates summary performance\n",
      "    statistics and important plots as a single image.\n",
      "    \n",
      "    - Plots: cumulative returns, rolling beta, rolling Sharpe, underwater,\n",
      "        exposure, top 10 holdings, total holdings, long/short holdings,\n",
      "        daily turnover, transaction time distribution.\n",
      "    - Never accept market_data input (market_data = None)\n",
      "    - Never accept sector_mappings input (sector_mappings = None)\n",
      "    - Never perform bootstrap analysis (bootstrap = False)\n",
      "    - Never hide posistions on top 10 holdings plot (hide_positions = False)\n",
      "    - Always use default cone_std (cone_std = (1.0, 1.5, 2.0))\n",
      "    \n",
      "    Parameters\n",
      "    ----------\n",
      "    returns : pd.Series\n",
      "        Daily returns of the strategy, noncumulative.\n",
      "         - Time series with decimal returns.\n",
      "         - Example:\n",
      "            2015-07-16    -0.012143\n",
      "            2015-07-17    0.045350\n",
      "            2015-07-20    0.030957\n",
      "            2015-07-21    0.004902\n",
      "    positions : pd.DataFrame, optional\n",
      "        Daily net position values.\n",
      "         - Time series of dollar amount invested in each position and cash.\n",
      "         - Days where stocks are not held can be represented by 0 or NaN.\n",
      "         - Non-working capital is labelled 'cash'\n",
      "         - Example:\n",
      "            index         'AAPL'         'MSFT'          cash\n",
      "            2004-01-09    13939.3800     -14012.9930     711.5585\n",
      "            2004-01-12    14492.6300     -14624.8700     27.1821\n",
      "            2004-01-13    -13853.2800    13653.6400      -43.6375\n",
      "    transactions : pd.DataFrame, optional\n",
      "        Executed trade volumes and fill prices.\n",
      "        - One row per trade.\n",
      "        - Trades on different names that occur at the\n",
      "          same time will have identical indicies.\n",
      "        - Example:\n",
      "            index                  amount   price    symbol\n",
      "            2004-01-09 12:18:01    483      324.12   'AAPL'\n",
      "            2004-01-09 12:18:01    122      83.10    'MSFT'\n",
      "            2004-01-13 14:12:23    -75      340.43   'AAPL'\n",
      "    benchmark_rets : pd.Series, optional\n",
      "        Daily returns of the benchmark, noncumulative.\n",
      "    slippage : int/float, optional\n",
      "        Basis points of slippage to apply to returns before generating\n",
      "        tearsheet stats and plots.\n",
      "        If a value is provided, slippage parameter sweep\n",
      "        plots will be generated from the unadjusted returns.\n",
      "        Transactions and positions must also be passed.\n",
      "        - See txn.adjust_returns_for_slippage for more details.\n",
      "    live_start_date : datetime, optional\n",
      "        The point in time when the strategy began live trading,\n",
      "        after its backtest period. This datetime should be normalized.\n",
      "    turnover_denom : str, optional\n",
      "        Either AGB or portfolio_value, default AGB.\n",
      "        - See full explanation in txn.get_turnover.\n",
      "    header_rows : dict or OrderedDict, optional\n",
      "        Extra rows to display at the top of the perf stats table.\n",
      "    set_context : boolean, optional\n",
      "        If True, set default plotting style context.\n",
      "\n"
     ]
    }
   ],
   "source": [
    "help(pf.create_simple_tear_sheet)"
   ]
  },
  {
   "cell_type": "code",
   "execution_count": null,
   "metadata": {},
   "outputs": [],
   "source": []
  }
 ],
 "metadata": {
  "kernelspec": {
   "display_name": ".venv",
   "language": "python",
   "name": "python3"
  },
  "language_info": {
   "codemirror_mode": {
    "name": "ipython",
    "version": 3
   },
   "file_extension": ".py",
   "mimetype": "text/x-python",
   "name": "python",
   "nbconvert_exporter": "python",
   "pygments_lexer": "ipython3",
   "version": "3.11.8"
  }
 },
 "nbformat": 4,
 "nbformat_minor": 2
}
