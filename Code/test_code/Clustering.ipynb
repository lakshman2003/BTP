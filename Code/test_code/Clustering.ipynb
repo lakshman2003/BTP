{
 "cells": [
  {
   "cell_type": "code",
   "execution_count": 1,
   "metadata": {},
   "outputs": [
    {
     "name": "stderr",
     "output_type": "stream",
     "text": [
      "C:\\Users\\91897\\AppData\\Local\\Temp\\ipykernel_9912\\1576438456.py:2: DeprecationWarning: \n",
      "Pyarrow will become a required dependency of pandas in the next major release of pandas (pandas 3.0),\n",
      "(to allow more performant data types, such as the Arrow string type, and better interoperability with other libraries)\n",
      "but was not found to be installed on your system.\n",
      "If this would cause problems for you,\n",
      "please provide us feedback at https://github.com/pandas-dev/pandas/issues/54466\n",
      "        \n",
      "  import pandas as pd\n"
     ]
    }
   ],
   "source": [
    "import os\n",
    "import pandas as pd\n",
    "import numpy as np"
   ]
  },
  {
   "cell_type": "code",
   "execution_count": 2,
   "metadata": {},
   "outputs": [
    {
     "data": {
      "text/html": [
       "<div>\n",
       "<style scoped>\n",
       "    .dataframe tbody tr th:only-of-type {\n",
       "        vertical-align: middle;\n",
       "    }\n",
       "\n",
       "    .dataframe tbody tr th {\n",
       "        vertical-align: top;\n",
       "    }\n",
       "\n",
       "    .dataframe thead th {\n",
       "        text-align: right;\n",
       "    }\n",
       "</style>\n",
       "<table border=\"1\" class=\"dataframe\">\n",
       "  <thead>\n",
       "    <tr style=\"text-align: right;\">\n",
       "      <th></th>\n",
       "      <th>ADANIENT</th>\n",
       "      <th>BRITANNIA</th>\n",
       "      <th>CIPLA</th>\n",
       "      <th>COALINDIA</th>\n",
       "      <th>DIVISLAB</th>\n",
       "      <th>DRREDDY</th>\n",
       "      <th>EICHERMOT</th>\n",
       "      <th>GRASIM</th>\n",
       "      <th>HCLTECH</th>\n",
       "      <th>HDFCBANK</th>\n",
       "      <th>...</th>\n",
       "      <th>TITAN</th>\n",
       "      <th>UPL</th>\n",
       "      <th>ULTRACEMCO</th>\n",
       "      <th>WIPRO</th>\n",
       "      <th>AXISBANK</th>\n",
       "      <th>BAJAJ-AUTO</th>\n",
       "      <th>BAJFINANCE</th>\n",
       "      <th>BAJAJFINSV</th>\n",
       "      <th>BPCL</th>\n",
       "      <th>BHARTIARTL</th>\n",
       "    </tr>\n",
       "  </thead>\n",
       "  <tbody>\n",
       "    <tr>\n",
       "      <th>count</th>\n",
       "      <td>3005.000000</td>\n",
       "      <td>3005.000000</td>\n",
       "      <td>3005.000000</td>\n",
       "      <td>3005.000000</td>\n",
       "      <td>3005.000000</td>\n",
       "      <td>3005.000000</td>\n",
       "      <td>3005.000000</td>\n",
       "      <td>3005.000000</td>\n",
       "      <td>3005.000000</td>\n",
       "      <td>3005.000000</td>\n",
       "      <td>...</td>\n",
       "      <td>3005.000000</td>\n",
       "      <td>3005.000000</td>\n",
       "      <td>3005.000000</td>\n",
       "      <td>3005.000000</td>\n",
       "      <td>3005.000000</td>\n",
       "      <td>3005.000000</td>\n",
       "      <td>3005.000000</td>\n",
       "      <td>3005.000000</td>\n",
       "      <td>3005.000000</td>\n",
       "      <td>3005.000000</td>\n",
       "    </tr>\n",
       "    <tr>\n",
       "      <th>mean</th>\n",
       "      <td>633.341357</td>\n",
       "      <td>2156.886180</td>\n",
       "      <td>640.758956</td>\n",
       "      <td>155.561973</td>\n",
       "      <td>1797.518830</td>\n",
       "      <td>3185.517052</td>\n",
       "      <td>1949.238653</td>\n",
       "      <td>906.600425</td>\n",
       "      <td>527.752811</td>\n",
       "      <td>882.586093</td>\n",
       "      <td>...</td>\n",
       "      <td>1067.947571</td>\n",
       "      <td>411.988163</td>\n",
       "      <td>4182.339237</td>\n",
       "      <td>271.766160</td>\n",
       "      <td>553.570925</td>\n",
       "      <td>2500.942075</td>\n",
       "      <td>2717.654767</td>\n",
       "      <td>638.130098</td>\n",
       "      <td>245.003161</td>\n",
       "      <td>438.739002</td>\n",
       "    </tr>\n",
       "    <tr>\n",
       "      <th>std</th>\n",
       "      <td>1013.359215</td>\n",
       "      <td>1440.439963</td>\n",
       "      <td>254.767135</td>\n",
       "      <td>52.458191</td>\n",
       "      <td>1377.658824</td>\n",
       "      <td>1188.163520</td>\n",
       "      <td>1033.313968</td>\n",
       "      <td>495.868959</td>\n",
       "      <td>349.694835</td>\n",
       "      <td>469.192995</td>\n",
       "      <td>...</td>\n",
       "      <td>944.366754</td>\n",
       "      <td>219.584657</td>\n",
       "      <td>2126.307625</td>\n",
       "      <td>135.562967</td>\n",
       "      <td>228.244484</td>\n",
       "      <td>1167.232985</td>\n",
       "      <td>2609.157504</td>\n",
       "      <td>558.827643</td>\n",
       "      <td>115.421963</td>\n",
       "      <td>211.752147</td>\n",
       "    </tr>\n",
       "    <tr>\n",
       "      <th>min</th>\n",
       "      <td>18.796553</td>\n",
       "      <td>186.168533</td>\n",
       "      <td>272.990204</td>\n",
       "      <td>75.514877</td>\n",
       "      <td>318.192383</td>\n",
       "      <td>1405.305420</td>\n",
       "      <td>137.076782</td>\n",
       "      <td>316.081879</td>\n",
       "      <td>74.488335</td>\n",
       "      <td>195.259384</td>\n",
       "      <td>...</td>\n",
       "      <td>162.429214</td>\n",
       "      <td>62.702530</td>\n",
       "      <td>1087.994873</td>\n",
       "      <td>111.145164</td>\n",
       "      <td>148.065018</td>\n",
       "      <td>996.573669</td>\n",
       "      <td>53.954967</td>\n",
       "      <td>40.620739</td>\n",
       "      <td>43.317684</td>\n",
       "      <td>205.996841</td>\n",
       "    </tr>\n",
       "    <tr>\n",
       "      <th>25%</th>\n",
       "      <td>42.255657</td>\n",
       "      <td>846.795044</td>\n",
       "      <td>454.789276</td>\n",
       "      <td>124.938423</td>\n",
       "      <td>683.712708</td>\n",
       "      <td>2284.340820</td>\n",
       "      <td>1376.775391</td>\n",
       "      <td>506.490631</td>\n",
       "      <td>315.875916</td>\n",
       "      <td>455.686371</td>\n",
       "      <td>...</td>\n",
       "      <td>330.461395</td>\n",
       "      <td>223.645325</td>\n",
       "      <td>2628.458984</td>\n",
       "      <td>186.984253</td>\n",
       "      <td>402.924896</td>\n",
       "      <td>1727.858765</td>\n",
       "      <td>378.976105</td>\n",
       "      <td>131.759201</td>\n",
       "      <td>147.589554</td>\n",
       "      <td>286.976349</td>\n",
       "    </tr>\n",
       "    <tr>\n",
       "      <th>50%</th>\n",
       "      <td>91.604172</td>\n",
       "      <td>2159.928955</td>\n",
       "      <td>572.538940</td>\n",
       "      <td>150.431915</td>\n",
       "      <td>1096.414551</td>\n",
       "      <td>2834.017334</td>\n",
       "      <td>2069.880127</td>\n",
       "      <td>739.326904</td>\n",
       "      <td>393.638824</td>\n",
       "      <td>890.442566</td>\n",
       "      <td>...</td>\n",
       "      <td>800.377502</td>\n",
       "      <td>437.294769</td>\n",
       "      <td>3843.958008</td>\n",
       "      <td>211.735443</td>\n",
       "      <td>534.344177</td>\n",
       "      <td>2261.286377</td>\n",
       "      <td>1784.374634</td>\n",
       "      <td>511.523285</td>\n",
       "      <td>277.779755</td>\n",
       "      <td>336.453400</td>\n",
       "    </tr>\n",
       "    <tr>\n",
       "      <th>75%</th>\n",
       "      <td>804.621216</td>\n",
       "      <td>3354.730469</td>\n",
       "      <td>811.459656</td>\n",
       "      <td>168.762100</td>\n",
       "      <td>3263.449951</td>\n",
       "      <td>4232.393555</td>\n",
       "      <td>2688.486084</td>\n",
       "      <td>1240.489990</td>\n",
       "      <td>830.965881</td>\n",
       "      <td>1349.573242</td>\n",
       "      <td>...</td>\n",
       "      <td>1478.045776</td>\n",
       "      <td>574.535400</td>\n",
       "      <td>5554.201172</td>\n",
       "      <td>378.757324</td>\n",
       "      <td>726.750977</td>\n",
       "      <td>3047.652588</td>\n",
       "      <td>5173.579590</td>\n",
       "      <td>968.819397</td>\n",
       "      <td>330.712097</td>\n",
       "      <td>534.702454</td>\n",
       "    </tr>\n",
       "    <tr>\n",
       "      <th>max</th>\n",
       "      <td>4163.219727</td>\n",
       "      <td>5361.299805</td>\n",
       "      <td>1487.449951</td>\n",
       "      <td>474.533630</td>\n",
       "      <td>5288.634277</td>\n",
       "      <td>6449.600098</td>\n",
       "      <td>4180.350098</td>\n",
       "      <td>2254.899902</td>\n",
       "      <td>1686.400024</td>\n",
       "      <td>1728.199951</td>\n",
       "      <td>...</td>\n",
       "      <td>3866.649902</td>\n",
       "      <td>818.247742</td>\n",
       "      <td>10503.049805</td>\n",
       "      <td>711.108215</td>\n",
       "      <td>1136.949951</td>\n",
       "      <td>8879.049805</td>\n",
       "      <td>8168.549805</td>\n",
       "      <td>1904.959839</td>\n",
       "      <td>657.599976</td>\n",
       "      <td>1199.699951</td>\n",
       "    </tr>\n",
       "  </tbody>\n",
       "</table>\n",
       "<p>8 rows × 47 columns</p>\n",
       "</div>"
      ],
      "text/plain": [
       "          ADANIENT    BRITANNIA        CIPLA    COALINDIA     DIVISLAB  \\\n",
       "count  3005.000000  3005.000000  3005.000000  3005.000000  3005.000000   \n",
       "mean    633.341357  2156.886180   640.758956   155.561973  1797.518830   \n",
       "std    1013.359215  1440.439963   254.767135    52.458191  1377.658824   \n",
       "min      18.796553   186.168533   272.990204    75.514877   318.192383   \n",
       "25%      42.255657   846.795044   454.789276   124.938423   683.712708   \n",
       "50%      91.604172  2159.928955   572.538940   150.431915  1096.414551   \n",
       "75%     804.621216  3354.730469   811.459656   168.762100  3263.449951   \n",
       "max    4163.219727  5361.299805  1487.449951   474.533630  5288.634277   \n",
       "\n",
       "           DRREDDY    EICHERMOT       GRASIM      HCLTECH     HDFCBANK  ...  \\\n",
       "count  3005.000000  3005.000000  3005.000000  3005.000000  3005.000000  ...   \n",
       "mean   3185.517052  1949.238653   906.600425   527.752811   882.586093  ...   \n",
       "std    1188.163520  1033.313968   495.868959   349.694835   469.192995  ...   \n",
       "min    1405.305420   137.076782   316.081879    74.488335   195.259384  ...   \n",
       "25%    2284.340820  1376.775391   506.490631   315.875916   455.686371  ...   \n",
       "50%    2834.017334  2069.880127   739.326904   393.638824   890.442566  ...   \n",
       "75%    4232.393555  2688.486084  1240.489990   830.965881  1349.573242  ...   \n",
       "max    6449.600098  4180.350098  2254.899902  1686.400024  1728.199951  ...   \n",
       "\n",
       "             TITAN          UPL    ULTRACEMCO        WIPRO     AXISBANK  \\\n",
       "count  3005.000000  3005.000000   3005.000000  3005.000000  3005.000000   \n",
       "mean   1067.947571   411.988163   4182.339237   271.766160   553.570925   \n",
       "std     944.366754   219.584657   2126.307625   135.562967   228.244484   \n",
       "min     162.429214    62.702530   1087.994873   111.145164   148.065018   \n",
       "25%     330.461395   223.645325   2628.458984   186.984253   402.924896   \n",
       "50%     800.377502   437.294769   3843.958008   211.735443   534.344177   \n",
       "75%    1478.045776   574.535400   5554.201172   378.757324   726.750977   \n",
       "max    3866.649902   818.247742  10503.049805   711.108215  1136.949951   \n",
       "\n",
       "        BAJAJ-AUTO   BAJFINANCE   BAJAJFINSV         BPCL   BHARTIARTL  \n",
       "count  3005.000000  3005.000000  3005.000000  3005.000000  3005.000000  \n",
       "mean   2500.942075  2717.654767   638.130098   245.003161   438.739002  \n",
       "std    1167.232985  2609.157504   558.827643   115.421963   211.752147  \n",
       "min     996.573669    53.954967    40.620739    43.317684   205.996841  \n",
       "25%    1727.858765   378.976105   131.759201   147.589554   286.976349  \n",
       "50%    2261.286377  1784.374634   511.523285   277.779755   336.453400  \n",
       "75%    3047.652588  5173.579590   968.819397   330.712097   534.702454  \n",
       "max    8879.049805  8168.549805  1904.959839   657.599976  1199.699951  \n",
       "\n",
       "[8 rows x 47 columns]"
      ]
     },
     "execution_count": 2,
     "metadata": {},
     "output_type": "execute_result"
    }
   ],
   "source": [
    "merged_df = pd.read_csv('Closed_price_Data.csv')\n",
    "merged_df.describe()"
   ]
  },
  {
   "cell_type": "code",
   "execution_count": 3,
   "metadata": {},
   "outputs": [
    {
     "data": {
      "text/html": [
       "<div>\n",
       "<style scoped>\n",
       "    .dataframe tbody tr th:only-of-type {\n",
       "        vertical-align: middle;\n",
       "    }\n",
       "\n",
       "    .dataframe tbody tr th {\n",
       "        vertical-align: top;\n",
       "    }\n",
       "\n",
       "    .dataframe thead th {\n",
       "        text-align: right;\n",
       "    }\n",
       "</style>\n",
       "<table border=\"1\" class=\"dataframe\">\n",
       "  <thead>\n",
       "    <tr style=\"text-align: right;\">\n",
       "      <th></th>\n",
       "      <th>Date</th>\n",
       "      <th>ADANIENT</th>\n",
       "      <th>BRITANNIA</th>\n",
       "      <th>CIPLA</th>\n",
       "      <th>COALINDIA</th>\n",
       "      <th>DIVISLAB</th>\n",
       "      <th>DRREDDY</th>\n",
       "      <th>EICHERMOT</th>\n",
       "      <th>GRASIM</th>\n",
       "      <th>HCLTECH</th>\n",
       "      <th>...</th>\n",
       "      <th>TITAN</th>\n",
       "      <th>UPL</th>\n",
       "      <th>ULTRACEMCO</th>\n",
       "      <th>WIPRO</th>\n",
       "      <th>AXISBANK</th>\n",
       "      <th>BAJAJ-AUTO</th>\n",
       "      <th>BAJFINANCE</th>\n",
       "      <th>BAJAJFINSV</th>\n",
       "      <th>BPCL</th>\n",
       "      <th>BHARTIARTL</th>\n",
       "    </tr>\n",
       "  </thead>\n",
       "  <tbody>\n",
       "    <tr>\n",
       "      <th>0</th>\n",
       "      <td>2012-01-02</td>\n",
       "      <td>37.360767</td>\n",
       "      <td>189.653061</td>\n",
       "      <td>302.981354</td>\n",
       "      <td>119.517441</td>\n",
       "      <td>347.175476</td>\n",
       "      <td>1429.439087</td>\n",
       "      <td>138.428375</td>\n",
       "      <td>344.951599</td>\n",
       "      <td>74.488335</td>\n",
       "      <td>...</td>\n",
       "      <td>164.542953</td>\n",
       "      <td>72.786537</td>\n",
       "      <td>1103.534058</td>\n",
       "      <td>133.781372</td>\n",
       "      <td>148.065018</td>\n",
       "      <td>1033.813477</td>\n",
       "      <td>55.180374</td>\n",
       "      <td>40.790676</td>\n",
       "      <td>45.257984</td>\n",
       "      <td>292.015533</td>\n",
       "    </tr>\n",
       "    <tr>\n",
       "      <th>1</th>\n",
       "      <td>2012-01-03</td>\n",
       "      <td>37.192513</td>\n",
       "      <td>190.077988</td>\n",
       "      <td>309.782532</td>\n",
       "      <td>125.279831</td>\n",
       "      <td>348.197083</td>\n",
       "      <td>1462.634155</td>\n",
       "      <td>144.936447</td>\n",
       "      <td>350.144135</td>\n",
       "      <td>76.305084</td>\n",
       "      <td>...</td>\n",
       "      <td>168.676483</td>\n",
       "      <td>75.050377</td>\n",
       "      <td>1124.237427</td>\n",
       "      <td>139.648972</td>\n",
       "      <td>156.029007</td>\n",
       "      <td>1047.125977</td>\n",
       "      <td>56.053715</td>\n",
       "      <td>42.358997</td>\n",
       "      <td>44.528019</td>\n",
       "      <td>303.745300</td>\n",
       "    </tr>\n",
       "    <tr>\n",
       "      <th>2</th>\n",
       "      <td>2012-01-04</td>\n",
       "      <td>36.001732</td>\n",
       "      <td>190.460495</td>\n",
       "      <td>312.521851</td>\n",
       "      <td>125.088425</td>\n",
       "      <td>348.197083</td>\n",
       "      <td>1449.109985</td>\n",
       "      <td>141.251953</td>\n",
       "      <td>343.417999</td>\n",
       "      <td>79.181679</td>\n",
       "      <td>...</td>\n",
       "      <td>167.032486</td>\n",
       "      <td>75.709450</td>\n",
       "      <td>1091.963257</td>\n",
       "      <td>140.235733</td>\n",
       "      <td>158.003708</td>\n",
       "      <td>998.816040</td>\n",
       "      <td>55.354130</td>\n",
       "      <td>40.620739</td>\n",
       "      <td>44.334942</td>\n",
       "      <td>293.328247</td>\n",
       "    </tr>\n",
       "    <tr>\n",
       "      <th>3</th>\n",
       "      <td>2012-01-05</td>\n",
       "      <td>34.571507</td>\n",
       "      <td>186.763428</td>\n",
       "      <td>316.441925</td>\n",
       "      <td>122.733643</td>\n",
       "      <td>343.089020</td>\n",
       "      <td>1440.412842</td>\n",
       "      <td>140.006805</td>\n",
       "      <td>342.733337</td>\n",
       "      <td>78.490944</td>\n",
       "      <td>...</td>\n",
       "      <td>165.764191</td>\n",
       "      <td>76.081985</td>\n",
       "      <td>1099.804443</td>\n",
       "      <td>139.129318</td>\n",
       "      <td>162.195297</td>\n",
       "      <td>1028.978882</td>\n",
       "      <td>55.514172</td>\n",
       "      <td>40.839226</td>\n",
       "      <td>43.317684</td>\n",
       "      <td>291.676758</td>\n",
       "    </tr>\n",
       "    <tr>\n",
       "      <th>4</th>\n",
       "      <td>2012-01-06</td>\n",
       "      <td>34.759171</td>\n",
       "      <td>188.314453</td>\n",
       "      <td>319.700897</td>\n",
       "      <td>121.776459</td>\n",
       "      <td>342.178436</td>\n",
       "      <td>1457.625366</td>\n",
       "      <td>138.280258</td>\n",
       "      <td>345.008636</td>\n",
       "      <td>79.020805</td>\n",
       "      <td>...</td>\n",
       "      <td>162.429214</td>\n",
       "      <td>76.110657</td>\n",
       "      <td>1100.282715</td>\n",
       "      <td>136.044586</td>\n",
       "      <td>159.000381</td>\n",
       "      <td>1020.676270</td>\n",
       "      <td>53.954967</td>\n",
       "      <td>40.960613</td>\n",
       "      <td>44.881233</td>\n",
       "      <td>279.947021</td>\n",
       "    </tr>\n",
       "  </tbody>\n",
       "</table>\n",
       "<p>5 rows × 48 columns</p>\n",
       "</div>"
      ],
      "text/plain": [
       "         Date   ADANIENT   BRITANNIA       CIPLA   COALINDIA    DIVISLAB  \\\n",
       "0  2012-01-02  37.360767  189.653061  302.981354  119.517441  347.175476   \n",
       "1  2012-01-03  37.192513  190.077988  309.782532  125.279831  348.197083   \n",
       "2  2012-01-04  36.001732  190.460495  312.521851  125.088425  348.197083   \n",
       "3  2012-01-05  34.571507  186.763428  316.441925  122.733643  343.089020   \n",
       "4  2012-01-06  34.759171  188.314453  319.700897  121.776459  342.178436   \n",
       "\n",
       "       DRREDDY   EICHERMOT      GRASIM    HCLTECH  ...       TITAN        UPL  \\\n",
       "0  1429.439087  138.428375  344.951599  74.488335  ...  164.542953  72.786537   \n",
       "1  1462.634155  144.936447  350.144135  76.305084  ...  168.676483  75.050377   \n",
       "2  1449.109985  141.251953  343.417999  79.181679  ...  167.032486  75.709450   \n",
       "3  1440.412842  140.006805  342.733337  78.490944  ...  165.764191  76.081985   \n",
       "4  1457.625366  138.280258  345.008636  79.020805  ...  162.429214  76.110657   \n",
       "\n",
       "    ULTRACEMCO       WIPRO    AXISBANK   BAJAJ-AUTO  BAJFINANCE  BAJAJFINSV  \\\n",
       "0  1103.534058  133.781372  148.065018  1033.813477   55.180374   40.790676   \n",
       "1  1124.237427  139.648972  156.029007  1047.125977   56.053715   42.358997   \n",
       "2  1091.963257  140.235733  158.003708   998.816040   55.354130   40.620739   \n",
       "3  1099.804443  139.129318  162.195297  1028.978882   55.514172   40.839226   \n",
       "4  1100.282715  136.044586  159.000381  1020.676270   53.954967   40.960613   \n",
       "\n",
       "        BPCL  BHARTIARTL  \n",
       "0  45.257984  292.015533  \n",
       "1  44.528019  303.745300  \n",
       "2  44.334942  293.328247  \n",
       "3  43.317684  291.676758  \n",
       "4  44.881233  279.947021  \n",
       "\n",
       "[5 rows x 48 columns]"
      ]
     },
     "execution_count": 3,
     "metadata": {},
     "output_type": "execute_result"
    }
   ],
   "source": [
    "merged_df.head()"
   ]
  },
  {
   "cell_type": "markdown",
   "metadata": {},
   "source": [
    "## Calculating indicators and downloading data"
   ]
  },
  {
   "cell_type": "code",
   "execution_count": 4,
   "metadata": {},
   "outputs": [
    {
     "name": "stdout",
     "output_type": "stream",
     "text": [
      "Parsing Started....\n"
     ]
    },
    {
     "name": "stderr",
     "output_type": "stream",
     "text": [
      "[*********************100%%**********************]  1 of 1 completed\n"
     ]
    },
    {
     "name": "stdout",
     "output_type": "stream",
     "text": [
      "Done  0   ADANIENT.NS\n",
      "PARSED!\n"
     ]
    },
    {
     "name": "stderr",
     "output_type": "stream",
     "text": [
      "[*********************100%%**********************]  1 of 1 completed\n"
     ]
    },
    {
     "name": "stdout",
     "output_type": "stream",
     "text": [
      "Done  1   ADANIPORTS.NS\n",
      "PARSED!\n"
     ]
    },
    {
     "name": "stderr",
     "output_type": "stream",
     "text": [
      "[*********************100%%**********************]  1 of 1 completed\n"
     ]
    },
    {
     "name": "stdout",
     "output_type": "stream",
     "text": [
      "Done  2   APOLLOHOSP.NS\n",
      "PARSED!\n"
     ]
    },
    {
     "name": "stderr",
     "output_type": "stream",
     "text": [
      "[*********************100%%**********************]  1 of 1 completed\n"
     ]
    },
    {
     "name": "stdout",
     "output_type": "stream",
     "text": [
      "Done  3   ASIANPAINT.NS\n",
      "PARSED!\n"
     ]
    },
    {
     "name": "stderr",
     "output_type": "stream",
     "text": [
      "[*********************100%%**********************]  1 of 1 completed\n"
     ]
    },
    {
     "name": "stdout",
     "output_type": "stream",
     "text": [
      "Done  4   AXISBANK.NS\n",
      "PARSED!\n"
     ]
    },
    {
     "name": "stderr",
     "output_type": "stream",
     "text": [
      "[*********************100%%**********************]  1 of 1 completed\n"
     ]
    },
    {
     "name": "stdout",
     "output_type": "stream",
     "text": [
      "Done  5   BAJAJ-AUTO.NS\n",
      "PARSED!\n"
     ]
    },
    {
     "name": "stderr",
     "output_type": "stream",
     "text": [
      "[*********************100%%**********************]  1 of 1 completed\n"
     ]
    },
    {
     "name": "stdout",
     "output_type": "stream",
     "text": [
      "Done  6   BAJFINANCE.NS\n",
      "PARSED!\n"
     ]
    },
    {
     "name": "stderr",
     "output_type": "stream",
     "text": [
      "[*********************100%%**********************]  1 of 1 completed\n"
     ]
    },
    {
     "name": "stdout",
     "output_type": "stream",
     "text": [
      "Done  7   BAJAJFINSV.NS\n",
      "PARSED!\n"
     ]
    },
    {
     "name": "stderr",
     "output_type": "stream",
     "text": [
      "[*********************100%%**********************]  1 of 1 completed\n"
     ]
    },
    {
     "name": "stdout",
     "output_type": "stream",
     "text": [
      "Done  8   BPCL.NS\n",
      "PARSED!\n"
     ]
    },
    {
     "name": "stderr",
     "output_type": "stream",
     "text": [
      "[*********************100%%**********************]  1 of 1 completed\n"
     ]
    },
    {
     "name": "stdout",
     "output_type": "stream",
     "text": [
      "Done  9   BHARTIARTL.NS\n",
      "PARSED!\n"
     ]
    },
    {
     "name": "stderr",
     "output_type": "stream",
     "text": [
      "[*********************100%%**********************]  1 of 1 completed\n"
     ]
    },
    {
     "name": "stdout",
     "output_type": "stream",
     "text": [
      "Done  10   BRITANNIA.NS\n",
      "PARSED!\n"
     ]
    },
    {
     "name": "stderr",
     "output_type": "stream",
     "text": [
      "[*********************100%%**********************]  1 of 1 completed\n"
     ]
    },
    {
     "name": "stdout",
     "output_type": "stream",
     "text": [
      "Done  11   CIPLA.NS\n",
      "PARSED!\n"
     ]
    },
    {
     "name": "stderr",
     "output_type": "stream",
     "text": [
      "[*********************100%%**********************]  1 of 1 completed\n"
     ]
    },
    {
     "name": "stdout",
     "output_type": "stream",
     "text": [
      "Done  12   COALINDIA.NS\n",
      "PARSED!\n"
     ]
    },
    {
     "name": "stderr",
     "output_type": "stream",
     "text": [
      "[*********************100%%**********************]  1 of 1 completed\n"
     ]
    },
    {
     "name": "stdout",
     "output_type": "stream",
     "text": [
      "Done  13   DIVISLAB.NS\n",
      "PARSED!\n"
     ]
    },
    {
     "name": "stderr",
     "output_type": "stream",
     "text": [
      "[*********************100%%**********************]  1 of 1 completed\n"
     ]
    },
    {
     "name": "stdout",
     "output_type": "stream",
     "text": [
      "Done  14   DRREDDY.NS\n",
      "PARSED!\n"
     ]
    },
    {
     "name": "stderr",
     "output_type": "stream",
     "text": [
      "[*********************100%%**********************]  1 of 1 completed\n"
     ]
    },
    {
     "name": "stdout",
     "output_type": "stream",
     "text": [
      "Done  15   EICHERMOT.NS\n",
      "PARSED!\n"
     ]
    },
    {
     "name": "stderr",
     "output_type": "stream",
     "text": [
      "[*********************100%%**********************]  1 of 1 completed\n"
     ]
    },
    {
     "name": "stdout",
     "output_type": "stream",
     "text": [
      "Done  16   GRASIM.NS\n",
      "PARSED!\n"
     ]
    },
    {
     "name": "stderr",
     "output_type": "stream",
     "text": [
      "[*********************100%%**********************]  1 of 1 completed\n"
     ]
    },
    {
     "name": "stdout",
     "output_type": "stream",
     "text": [
      "Done  17   HCLTECH.NS\n",
      "PARSED!\n"
     ]
    },
    {
     "name": "stderr",
     "output_type": "stream",
     "text": [
      "[*********************100%%**********************]  1 of 1 completed\n"
     ]
    },
    {
     "name": "stdout",
     "output_type": "stream",
     "text": [
      "Done  18   HDFCBANK.NS\n",
      "PARSED!\n"
     ]
    },
    {
     "name": "stderr",
     "output_type": "stream",
     "text": [
      "[*********************100%%**********************]  1 of 1 completed\n"
     ]
    },
    {
     "name": "stdout",
     "output_type": "stream",
     "text": [
      "Done  19   HDFCLIFE.NS\n",
      "PARSED!\n"
     ]
    },
    {
     "name": "stderr",
     "output_type": "stream",
     "text": [
      "[*********************100%%**********************]  1 of 1 completed\n"
     ]
    },
    {
     "name": "stdout",
     "output_type": "stream",
     "text": [
      "Done  20   HEROMOTOCO.NS\n",
      "PARSED!\n"
     ]
    },
    {
     "name": "stderr",
     "output_type": "stream",
     "text": [
      "[*********************100%%**********************]  1 of 1 completed\n"
     ]
    },
    {
     "name": "stdout",
     "output_type": "stream",
     "text": [
      "Done  21   HINDALCO.NS\n",
      "PARSED!\n"
     ]
    },
    {
     "name": "stderr",
     "output_type": "stream",
     "text": [
      "[*********************100%%**********************]  1 of 1 completed\n"
     ]
    },
    {
     "name": "stdout",
     "output_type": "stream",
     "text": [
      "Done  22   HINDUNILVR.NS\n",
      "PARSED!\n"
     ]
    },
    {
     "name": "stderr",
     "output_type": "stream",
     "text": [
      "[*********************100%%**********************]  1 of 1 completed\n"
     ]
    },
    {
     "name": "stdout",
     "output_type": "stream",
     "text": [
      "Done  23   ICICIBANK.NS\n",
      "PARSED!\n"
     ]
    },
    {
     "name": "stderr",
     "output_type": "stream",
     "text": [
      "[*********************100%%**********************]  1 of 1 completed\n"
     ]
    },
    {
     "name": "stdout",
     "output_type": "stream",
     "text": [
      "Done  24   ITC.NS\n",
      "PARSED!\n"
     ]
    },
    {
     "name": "stderr",
     "output_type": "stream",
     "text": [
      "[*********************100%%**********************]  1 of 1 completed\n"
     ]
    },
    {
     "name": "stdout",
     "output_type": "stream",
     "text": [
      "Done  25   INDUSINDBK.NS\n",
      "PARSED!\n"
     ]
    },
    {
     "name": "stderr",
     "output_type": "stream",
     "text": [
      "[*********************100%%**********************]  1 of 1 completed\n"
     ]
    },
    {
     "name": "stdout",
     "output_type": "stream",
     "text": [
      "Done  26   INFY.NS\n",
      "PARSED!\n"
     ]
    },
    {
     "name": "stderr",
     "output_type": "stream",
     "text": [
      "[*********************100%%**********************]  1 of 1 completed\n"
     ]
    },
    {
     "name": "stdout",
     "output_type": "stream",
     "text": [
      "Done  27   JSWSTEEL.NS\n",
      "PARSED!\n"
     ]
    },
    {
     "name": "stderr",
     "output_type": "stream",
     "text": [
      "[*********************100%%**********************]  1 of 1 completed\n"
     ]
    },
    {
     "name": "stdout",
     "output_type": "stream",
     "text": [
      "Done  28   KOTAKBANK.NS\n",
      "PARSED!\n"
     ]
    },
    {
     "name": "stderr",
     "output_type": "stream",
     "text": [
      "[*********************100%%**********************]  1 of 1 completed\n"
     ]
    },
    {
     "name": "stdout",
     "output_type": "stream",
     "text": [
      "Done  29   LTIM.NS\n",
      "PARSED!\n"
     ]
    },
    {
     "name": "stderr",
     "output_type": "stream",
     "text": [
      "[*********************100%%**********************]  1 of 1 completed\n"
     ]
    },
    {
     "name": "stdout",
     "output_type": "stream",
     "text": [
      "Done  30   LT.NS\n",
      "PARSED!\n"
     ]
    },
    {
     "name": "stderr",
     "output_type": "stream",
     "text": [
      "[*********************100%%**********************]  1 of 1 completed\n"
     ]
    },
    {
     "name": "stdout",
     "output_type": "stream",
     "text": [
      "Done  31   M&M.NS\n",
      "PARSED!\n"
     ]
    },
    {
     "name": "stderr",
     "output_type": "stream",
     "text": [
      "[*********************100%%**********************]  1 of 1 completed\n"
     ]
    },
    {
     "name": "stdout",
     "output_type": "stream",
     "text": [
      "Done  32   MARUTI.NS\n",
      "PARSED!\n"
     ]
    },
    {
     "name": "stderr",
     "output_type": "stream",
     "text": [
      "[*********************100%%**********************]  1 of 1 completed\n"
     ]
    },
    {
     "name": "stdout",
     "output_type": "stream",
     "text": [
      "Done  33   NTPC.NS\n",
      "PARSED!\n"
     ]
    },
    {
     "name": "stderr",
     "output_type": "stream",
     "text": [
      "[*********************100%%**********************]  1 of 1 completed\n"
     ]
    },
    {
     "name": "stdout",
     "output_type": "stream",
     "text": [
      "Done  34   NESTLEIND.NS\n",
      "PARSED!\n"
     ]
    },
    {
     "name": "stderr",
     "output_type": "stream",
     "text": [
      "[*********************100%%**********************]  1 of 1 completed\n"
     ]
    },
    {
     "name": "stdout",
     "output_type": "stream",
     "text": [
      "Done  35   ONGC.NS\n",
      "PARSED!\n"
     ]
    },
    {
     "name": "stderr",
     "output_type": "stream",
     "text": [
      "[*********************100%%**********************]  1 of 1 completed\n"
     ]
    },
    {
     "name": "stdout",
     "output_type": "stream",
     "text": [
      "Done  36   POWERGRID.NS\n",
      "PARSED!\n"
     ]
    },
    {
     "name": "stderr",
     "output_type": "stream",
     "text": [
      "[*********************100%%**********************]  1 of 1 completed\n"
     ]
    },
    {
     "name": "stdout",
     "output_type": "stream",
     "text": [
      "Done  37   RELIANCE.NS\n",
      "PARSED!\n"
     ]
    },
    {
     "name": "stderr",
     "output_type": "stream",
     "text": [
      "[*********************100%%**********************]  1 of 1 completed\n"
     ]
    },
    {
     "name": "stdout",
     "output_type": "stream",
     "text": [
      "Done  38   SBILIFE.NS\n",
      "PARSED!\n"
     ]
    },
    {
     "name": "stderr",
     "output_type": "stream",
     "text": [
      "[*********************100%%**********************]  1 of 1 completed\n"
     ]
    },
    {
     "name": "stdout",
     "output_type": "stream",
     "text": [
      "Done  39   SBIN.NS\n",
      "PARSED!\n"
     ]
    },
    {
     "name": "stderr",
     "output_type": "stream",
     "text": [
      "[*********************100%%**********************]  1 of 1 completed\n"
     ]
    },
    {
     "name": "stdout",
     "output_type": "stream",
     "text": [
      "Done  40   SUNPHARMA.NS\n",
      "PARSED!\n"
     ]
    },
    {
     "name": "stderr",
     "output_type": "stream",
     "text": [
      "[*********************100%%**********************]  1 of 1 completed\n"
     ]
    },
    {
     "name": "stdout",
     "output_type": "stream",
     "text": [
      "Done  41   TCS.NS\n",
      "PARSED!\n"
     ]
    },
    {
     "name": "stderr",
     "output_type": "stream",
     "text": [
      "[*********************100%%**********************]  1 of 1 completed\n"
     ]
    },
    {
     "name": "stdout",
     "output_type": "stream",
     "text": [
      "Done  42   TATACONSUM.NS\n",
      "PARSED!\n"
     ]
    },
    {
     "name": "stderr",
     "output_type": "stream",
     "text": [
      "[*********************100%%**********************]  1 of 1 completed\n"
     ]
    },
    {
     "name": "stdout",
     "output_type": "stream",
     "text": [
      "Done  43   TATAMOTORS.NS\n",
      "PARSED!\n"
     ]
    },
    {
     "name": "stderr",
     "output_type": "stream",
     "text": [
      "[*********************100%%**********************]  1 of 1 completed\n"
     ]
    },
    {
     "name": "stdout",
     "output_type": "stream",
     "text": [
      "Done  44   TATASTEEL.NS\n",
      "PARSED!\n"
     ]
    },
    {
     "name": "stderr",
     "output_type": "stream",
     "text": [
      "[*********************100%%**********************]  1 of 1 completed\n"
     ]
    },
    {
     "name": "stdout",
     "output_type": "stream",
     "text": [
      "Done  45   TECHM.NS\n",
      "PARSED!\n"
     ]
    },
    {
     "name": "stderr",
     "output_type": "stream",
     "text": [
      "[*********************100%%**********************]  1 of 1 completed\n"
     ]
    },
    {
     "name": "stdout",
     "output_type": "stream",
     "text": [
      "Done  46   TITAN.NS\n",
      "PARSED!\n"
     ]
    },
    {
     "name": "stderr",
     "output_type": "stream",
     "text": [
      "[*********************100%%**********************]  1 of 1 completed\n"
     ]
    },
    {
     "name": "stdout",
     "output_type": "stream",
     "text": [
      "Done  47   UPL.NS\n",
      "PARSED!\n"
     ]
    },
    {
     "name": "stderr",
     "output_type": "stream",
     "text": [
      "[*********************100%%**********************]  1 of 1 completed\n"
     ]
    },
    {
     "name": "stdout",
     "output_type": "stream",
     "text": [
      "Done  48   ULTRACEMCO.NS\n",
      "PARSED!\n"
     ]
    },
    {
     "name": "stderr",
     "output_type": "stream",
     "text": [
      "[*********************100%%**********************]  1 of 1 completed\n"
     ]
    },
    {
     "name": "stdout",
     "output_type": "stream",
     "text": [
      "Done  49   WIPRO.NS\n",
      "PARSED!\n"
     ]
    }
   ],
   "source": [
    "import yfinance as yf\n",
    "import pandas as pd\n",
    "\n",
    "def download_stock_data(ticker, start_date, end_date):\n",
    "    data = yf.download(ticker, start=start_date, end=end_date)\n",
    "    return data\n",
    "\n",
    "\n",
    "def calculate_technical_indicators(df):\n",
    "    df['SMA_20'] = df['Close'].rolling(window=20).mean()\n",
    "    df['EMA_20'] = df['Close'].ewm(span=20, min_periods=0, adjust=False).mean()\n",
    "    delta = df['Close'].diff()\n",
    "    gain = (delta.where(delta > 0, 0)).rolling(window=14).mean()\n",
    "    loss = (-delta.where(delta < 0, 0)).rolling(window=14).mean()\n",
    "    rs = gain / loss\n",
    "    df['RSI'] = 100 - (100 / (1 + rs))\n",
    "    df['MACD'] = df['Close'].ewm(span=12, min_periods=0, adjust=False).mean() - df['Close'].ewm(span=26, min_periods=0, adjust=False).mean()\n",
    "    df['MACD_Signal'] = df['MACD'].ewm(\n",
    "        span=9, min_periods=0, adjust=False).mean()\n",
    "    df['std_20'] = df['Close'].rolling(window=20).std()\n",
    "    df['Bollinger_Band_Upper'] = df['SMA_20'] + (df['std_20'] * 2)\n",
    "    df['Bollinger_Band_Lower'] = df['SMA_20'] - (df['std_20'] * 2)\n",
    "    high14 = df['High'].rolling(window=14).max()\n",
    "    low14 = df['Low'].rolling(window=14).min()\n",
    "    df['%K'] = 100 * ((df['Close'] - low14) / (high14 - low14))\n",
    "    df['%D'] = df['%K'].rolling(window=3).mean()\n",
    "    df['TR'] = np.maximum.reduce([df['High'] - df['Low'], abs(\n",
    "        df['High'] - df['Close'].shift()), abs(df['Low'] - df['Close'].shift())])\n",
    "    df['ATR'] = df['TR'].rolling(window=14).mean()\n",
    "    df['Daily returns']= df['Close'].pct_change()\n",
    "    df['Weekly returns'] = df['Close'].pct_change(periods = 5)\n",
    "    return df\n",
    "\n",
    "\n",
    "tickers = pd.read_csv(\"..\\..\\ind_nifty50list.csv\", index_col=0)\n",
    "\n",
    "start = '2012-01-01'\n",
    "end = '2024-03-26'\n",
    "\n",
    "print(\"Parsing Started....\")\n",
    "count = 0\n",
    "for i in tickers.Symbol:\n",
    "    symbol = i + '.NS'\n",
    "    stock_data = download_stock_data(symbol, start, end)\n",
    "    stock_data_with_indicators = calculate_technical_indicators(stock_data)\n",
    "    stock_data_with_indicators.to_csv(\"../Dataset_Indicators/\" +\n",
    "              str(count) + \"_\" + i + '.csv')\n",
    "    print(\"Done \", count, \" \", symbol)\n",
    "    count += 1\n",
    "    print(\"PARSED!\")"
   ]
  },
  {
   "cell_type": "markdown",
   "metadata": {},
   "source": [
    "### GET Nifty 50 index"
   ]
  },
  {
   "cell_type": "code",
   "execution_count": 5,
   "metadata": {},
   "outputs": [
    {
     "name": "stderr",
     "output_type": "stream",
     "text": [
      "[*********************100%%**********************]  1 of 1 completed\n"
     ]
    }
   ],
   "source": [
    "nifty_50_ticker = '^NSEI'\n",
    "stock_data = download_stock_data(nifty_50_ticker, start, end)\n",
    "stock_data_with_indicators = calculate_technical_indicators(stock_data)\n",
    "stock_data_with_indicators.to_csv(\"../Dataset_Indicators/nifty50Index.csv\")"
   ]
  },
  {
   "cell_type": "markdown",
   "metadata": {},
   "source": [
    "## Hidden markov model to predict regime of the market"
   ]
  },
  {
   "cell_type": "code",
   "execution_count": 6,
   "metadata": {},
   "outputs": [
    {
     "data": {
      "text/plain": [
       "19    0.030320\n",
       "20    0.021132\n",
       "21    0.021635\n",
       "22    0.023277\n",
       "23    0.053928\n",
       "Name: Weekly returns, dtype: float64"
      ]
     },
     "execution_count": 6,
     "metadata": {},
     "output_type": "execute_result"
    }
   ],
   "source": [
    "nifty50index = pd.read_csv(\"../Dataset_Indicators/nifty50Index.csv\")\n",
    "nifty50index = nifty50index.dropna()\n",
    "X = nifty50index['Weekly returns']\n",
    "X.head()"
   ]
  },
  {
   "cell_type": "code",
   "execution_count": 7,
   "metadata": {},
   "outputs": [
    {
     "data": {
      "text/html": [
       "<style>#sk-container-id-1 {\n",
       "  /* Definition of color scheme common for light and dark mode */\n",
       "  --sklearn-color-text: black;\n",
       "  --sklearn-color-line: gray;\n",
       "  /* Definition of color scheme for unfitted estimators */\n",
       "  --sklearn-color-unfitted-level-0: #fff5e6;\n",
       "  --sklearn-color-unfitted-level-1: #f6e4d2;\n",
       "  --sklearn-color-unfitted-level-2: #ffe0b3;\n",
       "  --sklearn-color-unfitted-level-3: chocolate;\n",
       "  /* Definition of color scheme for fitted estimators */\n",
       "  --sklearn-color-fitted-level-0: #f0f8ff;\n",
       "  --sklearn-color-fitted-level-1: #d4ebff;\n",
       "  --sklearn-color-fitted-level-2: #b3dbfd;\n",
       "  --sklearn-color-fitted-level-3: cornflowerblue;\n",
       "\n",
       "  /* Specific color for light theme */\n",
       "  --sklearn-color-text-on-default-background: var(--sg-text-color, var(--theme-code-foreground, var(--jp-content-font-color1, black)));\n",
       "  --sklearn-color-background: var(--sg-background-color, var(--theme-background, var(--jp-layout-color0, white)));\n",
       "  --sklearn-color-border-box: var(--sg-text-color, var(--theme-code-foreground, var(--jp-content-font-color1, black)));\n",
       "  --sklearn-color-icon: #696969;\n",
       "\n",
       "  @media (prefers-color-scheme: dark) {\n",
       "    /* Redefinition of color scheme for dark theme */\n",
       "    --sklearn-color-text-on-default-background: var(--sg-text-color, var(--theme-code-foreground, var(--jp-content-font-color1, white)));\n",
       "    --sklearn-color-background: var(--sg-background-color, var(--theme-background, var(--jp-layout-color0, #111)));\n",
       "    --sklearn-color-border-box: var(--sg-text-color, var(--theme-code-foreground, var(--jp-content-font-color1, white)));\n",
       "    --sklearn-color-icon: #878787;\n",
       "  }\n",
       "}\n",
       "\n",
       "#sk-container-id-1 {\n",
       "  color: var(--sklearn-color-text);\n",
       "}\n",
       "\n",
       "#sk-container-id-1 pre {\n",
       "  padding: 0;\n",
       "}\n",
       "\n",
       "#sk-container-id-1 input.sk-hidden--visually {\n",
       "  border: 0;\n",
       "  clip: rect(1px 1px 1px 1px);\n",
       "  clip: rect(1px, 1px, 1px, 1px);\n",
       "  height: 1px;\n",
       "  margin: -1px;\n",
       "  overflow: hidden;\n",
       "  padding: 0;\n",
       "  position: absolute;\n",
       "  width: 1px;\n",
       "}\n",
       "\n",
       "#sk-container-id-1 div.sk-dashed-wrapped {\n",
       "  border: 1px dashed var(--sklearn-color-line);\n",
       "  margin: 0 0.4em 0.5em 0.4em;\n",
       "  box-sizing: border-box;\n",
       "  padding-bottom: 0.4em;\n",
       "  background-color: var(--sklearn-color-background);\n",
       "}\n",
       "\n",
       "#sk-container-id-1 div.sk-container {\n",
       "  /* jupyter's `normalize.less` sets `[hidden] { display: none; }`\n",
       "     but bootstrap.min.css set `[hidden] { display: none !important; }`\n",
       "     so we also need the `!important` here to be able to override the\n",
       "     default hidden behavior on the sphinx rendered scikit-learn.org.\n",
       "     See: https://github.com/scikit-learn/scikit-learn/issues/21755 */\n",
       "  display: inline-block !important;\n",
       "  position: relative;\n",
       "}\n",
       "\n",
       "#sk-container-id-1 div.sk-text-repr-fallback {\n",
       "  display: none;\n",
       "}\n",
       "\n",
       "div.sk-parallel-item,\n",
       "div.sk-serial,\n",
       "div.sk-item {\n",
       "  /* draw centered vertical line to link estimators */\n",
       "  background-image: linear-gradient(var(--sklearn-color-text-on-default-background), var(--sklearn-color-text-on-default-background));\n",
       "  background-size: 2px 100%;\n",
       "  background-repeat: no-repeat;\n",
       "  background-position: center center;\n",
       "}\n",
       "\n",
       "/* Parallel-specific style estimator block */\n",
       "\n",
       "#sk-container-id-1 div.sk-parallel-item::after {\n",
       "  content: \"\";\n",
       "  width: 100%;\n",
       "  border-bottom: 2px solid var(--sklearn-color-text-on-default-background);\n",
       "  flex-grow: 1;\n",
       "}\n",
       "\n",
       "#sk-container-id-1 div.sk-parallel {\n",
       "  display: flex;\n",
       "  align-items: stretch;\n",
       "  justify-content: center;\n",
       "  background-color: var(--sklearn-color-background);\n",
       "  position: relative;\n",
       "}\n",
       "\n",
       "#sk-container-id-1 div.sk-parallel-item {\n",
       "  display: flex;\n",
       "  flex-direction: column;\n",
       "}\n",
       "\n",
       "#sk-container-id-1 div.sk-parallel-item:first-child::after {\n",
       "  align-self: flex-end;\n",
       "  width: 50%;\n",
       "}\n",
       "\n",
       "#sk-container-id-1 div.sk-parallel-item:last-child::after {\n",
       "  align-self: flex-start;\n",
       "  width: 50%;\n",
       "}\n",
       "\n",
       "#sk-container-id-1 div.sk-parallel-item:only-child::after {\n",
       "  width: 0;\n",
       "}\n",
       "\n",
       "/* Serial-specific style estimator block */\n",
       "\n",
       "#sk-container-id-1 div.sk-serial {\n",
       "  display: flex;\n",
       "  flex-direction: column;\n",
       "  align-items: center;\n",
       "  background-color: var(--sklearn-color-background);\n",
       "  padding-right: 1em;\n",
       "  padding-left: 1em;\n",
       "}\n",
       "\n",
       "\n",
       "/* Toggleable style: style used for estimator/Pipeline/ColumnTransformer box that is\n",
       "clickable and can be expanded/collapsed.\n",
       "- Pipeline and ColumnTransformer use this feature and define the default style\n",
       "- Estimators will overwrite some part of the style using the `sk-estimator` class\n",
       "*/\n",
       "\n",
       "/* Pipeline and ColumnTransformer style (default) */\n",
       "\n",
       "#sk-container-id-1 div.sk-toggleable {\n",
       "  /* Default theme specific background. It is overwritten whether we have a\n",
       "  specific estimator or a Pipeline/ColumnTransformer */\n",
       "  background-color: var(--sklearn-color-background);\n",
       "}\n",
       "\n",
       "/* Toggleable label */\n",
       "#sk-container-id-1 label.sk-toggleable__label {\n",
       "  cursor: pointer;\n",
       "  display: block;\n",
       "  width: 100%;\n",
       "  margin-bottom: 0;\n",
       "  padding: 0.5em;\n",
       "  box-sizing: border-box;\n",
       "  text-align: center;\n",
       "}\n",
       "\n",
       "#sk-container-id-1 label.sk-toggleable__label-arrow:before {\n",
       "  /* Arrow on the left of the label */\n",
       "  content: \"▸\";\n",
       "  float: left;\n",
       "  margin-right: 0.25em;\n",
       "  color: var(--sklearn-color-icon);\n",
       "}\n",
       "\n",
       "#sk-container-id-1 label.sk-toggleable__label-arrow:hover:before {\n",
       "  color: var(--sklearn-color-text);\n",
       "}\n",
       "\n",
       "/* Toggleable content - dropdown */\n",
       "\n",
       "#sk-container-id-1 div.sk-toggleable__content {\n",
       "  max-height: 0;\n",
       "  max-width: 0;\n",
       "  overflow: hidden;\n",
       "  text-align: left;\n",
       "  /* unfitted */\n",
       "  background-color: var(--sklearn-color-unfitted-level-0);\n",
       "}\n",
       "\n",
       "#sk-container-id-1 div.sk-toggleable__content.fitted {\n",
       "  /* fitted */\n",
       "  background-color: var(--sklearn-color-fitted-level-0);\n",
       "}\n",
       "\n",
       "#sk-container-id-1 div.sk-toggleable__content pre {\n",
       "  margin: 0.2em;\n",
       "  border-radius: 0.25em;\n",
       "  color: var(--sklearn-color-text);\n",
       "  /* unfitted */\n",
       "  background-color: var(--sklearn-color-unfitted-level-0);\n",
       "}\n",
       "\n",
       "#sk-container-id-1 div.sk-toggleable__content.fitted pre {\n",
       "  /* unfitted */\n",
       "  background-color: var(--sklearn-color-fitted-level-0);\n",
       "}\n",
       "\n",
       "#sk-container-id-1 input.sk-toggleable__control:checked~div.sk-toggleable__content {\n",
       "  /* Expand drop-down */\n",
       "  max-height: 200px;\n",
       "  max-width: 100%;\n",
       "  overflow: auto;\n",
       "}\n",
       "\n",
       "#sk-container-id-1 input.sk-toggleable__control:checked~label.sk-toggleable__label-arrow:before {\n",
       "  content: \"▾\";\n",
       "}\n",
       "\n",
       "/* Pipeline/ColumnTransformer-specific style */\n",
       "\n",
       "#sk-container-id-1 div.sk-label input.sk-toggleable__control:checked~label.sk-toggleable__label {\n",
       "  color: var(--sklearn-color-text);\n",
       "  background-color: var(--sklearn-color-unfitted-level-2);\n",
       "}\n",
       "\n",
       "#sk-container-id-1 div.sk-label.fitted input.sk-toggleable__control:checked~label.sk-toggleable__label {\n",
       "  background-color: var(--sklearn-color-fitted-level-2);\n",
       "}\n",
       "\n",
       "/* Estimator-specific style */\n",
       "\n",
       "/* Colorize estimator box */\n",
       "#sk-container-id-1 div.sk-estimator input.sk-toggleable__control:checked~label.sk-toggleable__label {\n",
       "  /* unfitted */\n",
       "  background-color: var(--sklearn-color-unfitted-level-2);\n",
       "}\n",
       "\n",
       "#sk-container-id-1 div.sk-estimator.fitted input.sk-toggleable__control:checked~label.sk-toggleable__label {\n",
       "  /* fitted */\n",
       "  background-color: var(--sklearn-color-fitted-level-2);\n",
       "}\n",
       "\n",
       "#sk-container-id-1 div.sk-label label.sk-toggleable__label,\n",
       "#sk-container-id-1 div.sk-label label {\n",
       "  /* The background is the default theme color */\n",
       "  color: var(--sklearn-color-text-on-default-background);\n",
       "}\n",
       "\n",
       "/* On hover, darken the color of the background */\n",
       "#sk-container-id-1 div.sk-label:hover label.sk-toggleable__label {\n",
       "  color: var(--sklearn-color-text);\n",
       "  background-color: var(--sklearn-color-unfitted-level-2);\n",
       "}\n",
       "\n",
       "/* Label box, darken color on hover, fitted */\n",
       "#sk-container-id-1 div.sk-label.fitted:hover label.sk-toggleable__label.fitted {\n",
       "  color: var(--sklearn-color-text);\n",
       "  background-color: var(--sklearn-color-fitted-level-2);\n",
       "}\n",
       "\n",
       "/* Estimator label */\n",
       "\n",
       "#sk-container-id-1 div.sk-label label {\n",
       "  font-family: monospace;\n",
       "  font-weight: bold;\n",
       "  display: inline-block;\n",
       "  line-height: 1.2em;\n",
       "}\n",
       "\n",
       "#sk-container-id-1 div.sk-label-container {\n",
       "  text-align: center;\n",
       "}\n",
       "\n",
       "/* Estimator-specific */\n",
       "#sk-container-id-1 div.sk-estimator {\n",
       "  font-family: monospace;\n",
       "  border: 1px dotted var(--sklearn-color-border-box);\n",
       "  border-radius: 0.25em;\n",
       "  box-sizing: border-box;\n",
       "  margin-bottom: 0.5em;\n",
       "  /* unfitted */\n",
       "  background-color: var(--sklearn-color-unfitted-level-0);\n",
       "}\n",
       "\n",
       "#sk-container-id-1 div.sk-estimator.fitted {\n",
       "  /* fitted */\n",
       "  background-color: var(--sklearn-color-fitted-level-0);\n",
       "}\n",
       "\n",
       "/* on hover */\n",
       "#sk-container-id-1 div.sk-estimator:hover {\n",
       "  /* unfitted */\n",
       "  background-color: var(--sklearn-color-unfitted-level-2);\n",
       "}\n",
       "\n",
       "#sk-container-id-1 div.sk-estimator.fitted:hover {\n",
       "  /* fitted */\n",
       "  background-color: var(--sklearn-color-fitted-level-2);\n",
       "}\n",
       "\n",
       "/* Specification for estimator info (e.g. \"i\" and \"?\") */\n",
       "\n",
       "/* Common style for \"i\" and \"?\" */\n",
       "\n",
       ".sk-estimator-doc-link,\n",
       "a:link.sk-estimator-doc-link,\n",
       "a:visited.sk-estimator-doc-link {\n",
       "  float: right;\n",
       "  font-size: smaller;\n",
       "  line-height: 1em;\n",
       "  font-family: monospace;\n",
       "  background-color: var(--sklearn-color-background);\n",
       "  border-radius: 1em;\n",
       "  height: 1em;\n",
       "  width: 1em;\n",
       "  text-decoration: none !important;\n",
       "  margin-left: 1ex;\n",
       "  /* unfitted */\n",
       "  border: var(--sklearn-color-unfitted-level-1) 1pt solid;\n",
       "  color: var(--sklearn-color-unfitted-level-1);\n",
       "}\n",
       "\n",
       ".sk-estimator-doc-link.fitted,\n",
       "a:link.sk-estimator-doc-link.fitted,\n",
       "a:visited.sk-estimator-doc-link.fitted {\n",
       "  /* fitted */\n",
       "  border: var(--sklearn-color-fitted-level-1) 1pt solid;\n",
       "  color: var(--sklearn-color-fitted-level-1);\n",
       "}\n",
       "\n",
       "/* On hover */\n",
       "div.sk-estimator:hover .sk-estimator-doc-link:hover,\n",
       ".sk-estimator-doc-link:hover,\n",
       "div.sk-label-container:hover .sk-estimator-doc-link:hover,\n",
       ".sk-estimator-doc-link:hover {\n",
       "  /* unfitted */\n",
       "  background-color: var(--sklearn-color-unfitted-level-3);\n",
       "  color: var(--sklearn-color-background);\n",
       "  text-decoration: none;\n",
       "}\n",
       "\n",
       "div.sk-estimator.fitted:hover .sk-estimator-doc-link.fitted:hover,\n",
       ".sk-estimator-doc-link.fitted:hover,\n",
       "div.sk-label-container:hover .sk-estimator-doc-link.fitted:hover,\n",
       ".sk-estimator-doc-link.fitted:hover {\n",
       "  /* fitted */\n",
       "  background-color: var(--sklearn-color-fitted-level-3);\n",
       "  color: var(--sklearn-color-background);\n",
       "  text-decoration: none;\n",
       "}\n",
       "\n",
       "/* Span, style for the box shown on hovering the info icon */\n",
       ".sk-estimator-doc-link span {\n",
       "  display: none;\n",
       "  z-index: 9999;\n",
       "  position: relative;\n",
       "  font-weight: normal;\n",
       "  right: .2ex;\n",
       "  padding: .5ex;\n",
       "  margin: .5ex;\n",
       "  width: min-content;\n",
       "  min-width: 20ex;\n",
       "  max-width: 50ex;\n",
       "  color: var(--sklearn-color-text);\n",
       "  box-shadow: 2pt 2pt 4pt #999;\n",
       "  /* unfitted */\n",
       "  background: var(--sklearn-color-unfitted-level-0);\n",
       "  border: .5pt solid var(--sklearn-color-unfitted-level-3);\n",
       "}\n",
       "\n",
       ".sk-estimator-doc-link.fitted span {\n",
       "  /* fitted */\n",
       "  background: var(--sklearn-color-fitted-level-0);\n",
       "  border: var(--sklearn-color-fitted-level-3);\n",
       "}\n",
       "\n",
       ".sk-estimator-doc-link:hover span {\n",
       "  display: block;\n",
       "}\n",
       "\n",
       "/* \"?\"-specific style due to the `<a>` HTML tag */\n",
       "\n",
       "#sk-container-id-1 a.estimator_doc_link {\n",
       "  float: right;\n",
       "  font-size: 1rem;\n",
       "  line-height: 1em;\n",
       "  font-family: monospace;\n",
       "  background-color: var(--sklearn-color-background);\n",
       "  border-radius: 1rem;\n",
       "  height: 1rem;\n",
       "  width: 1rem;\n",
       "  text-decoration: none;\n",
       "  /* unfitted */\n",
       "  color: var(--sklearn-color-unfitted-level-1);\n",
       "  border: var(--sklearn-color-unfitted-level-1) 1pt solid;\n",
       "}\n",
       "\n",
       "#sk-container-id-1 a.estimator_doc_link.fitted {\n",
       "  /* fitted */\n",
       "  border: var(--sklearn-color-fitted-level-1) 1pt solid;\n",
       "  color: var(--sklearn-color-fitted-level-1);\n",
       "}\n",
       "\n",
       "/* On hover */\n",
       "#sk-container-id-1 a.estimator_doc_link:hover {\n",
       "  /* unfitted */\n",
       "  background-color: var(--sklearn-color-unfitted-level-3);\n",
       "  color: var(--sklearn-color-background);\n",
       "  text-decoration: none;\n",
       "}\n",
       "\n",
       "#sk-container-id-1 a.estimator_doc_link.fitted:hover {\n",
       "  /* fitted */\n",
       "  background-color: var(--sklearn-color-fitted-level-3);\n",
       "}\n",
       "</style><div id=\"sk-container-id-1\" class=\"sk-top-container\"><div class=\"sk-text-repr-fallback\"><pre>GaussianHMM(n_components=2, n_iter=1000)</pre><b>In a Jupyter environment, please rerun this cell to show the HTML representation or trust the notebook. <br />On GitHub, the HTML representation is unable to render, please try loading this page with nbviewer.org.</b></div><div class=\"sk-container\" hidden><div class=\"sk-item\"><div class=\"sk-estimator fitted sk-toggleable\"><input class=\"sk-toggleable__control sk-hidden--visually\" id=\"sk-estimator-id-1\" type=\"checkbox\" checked><label for=\"sk-estimator-id-1\" class=\"sk-toggleable__label fitted sk-toggleable__label-arrow fitted\">&nbsp;GaussianHMM<span class=\"sk-estimator-doc-link fitted\">i<span>Fitted</span></span></label><div class=\"sk-toggleable__content fitted\"><pre>GaussianHMM(n_components=2, n_iter=1000)</pre></div> </div></div></div></div>"
      ],
      "text/plain": [
       "GaussianHMM(n_components=2, n_iter=1000)"
      ]
     },
     "execution_count": 7,
     "metadata": {},
     "output_type": "execute_result"
    }
   ],
   "source": [
    "from hmmlearn.hmm import GaussianHMM\n",
    "X = X.values.reshape(-1,1)\n",
    "model = GaussianHMM(n_components=2,\n",
    "                    covariance_type=\"diag\", n_iter=1000)\n",
    "model.fit(X)"
   ]
  },
  {
   "cell_type": "code",
   "execution_count": 8,
   "metadata": {},
   "outputs": [
    {
     "name": "stdout",
     "output_type": "stream",
     "text": [
      "Estimated Means for Each Regime:\n",
      "[[ 0.00964247]\n",
      " [-0.01034917]]\n",
      "Estimated Covariance Matrices for Each Regime:\n",
      "[[[0.00018625]]\n",
      "\n",
      " [[0.00096265]]]\n",
      "Estimated Transition Probabilities:\n",
      "[[0.94053086 0.05946914]\n",
      " [0.11178615 0.88821385]]\n"
     ]
    }
   ],
   "source": [
    "means = model.means_\n",
    "covariances = model.covars_\n",
    "transition_matrix = model.transmat_\n",
    "\n",
    "print(\"Estimated Means for Each Regime:\")\n",
    "print(means)\n",
    "print(\"Estimated Covariance Matrices for Each Regime:\")\n",
    "print(covariances)\n",
    "print(\"Estimated Transition Probabilities:\")\n",
    "print(transition_matrix)"
   ]
  },
  {
   "cell_type": "code",
   "execution_count": 9,
   "metadata": {},
   "outputs": [
    {
     "data": {
      "text/html": [
       "<div>\n",
       "<style scoped>\n",
       "    .dataframe tbody tr th:only-of-type {\n",
       "        vertical-align: middle;\n",
       "    }\n",
       "\n",
       "    .dataframe tbody tr th {\n",
       "        vertical-align: top;\n",
       "    }\n",
       "\n",
       "    .dataframe thead th {\n",
       "        text-align: right;\n",
       "    }\n",
       "</style>\n",
       "<table border=\"1\" class=\"dataframe\">\n",
       "  <thead>\n",
       "    <tr style=\"text-align: right;\">\n",
       "      <th></th>\n",
       "      <th>Date</th>\n",
       "      <th>Open</th>\n",
       "      <th>High</th>\n",
       "      <th>Low</th>\n",
       "      <th>Close</th>\n",
       "      <th>Adj Close</th>\n",
       "      <th>Volume</th>\n",
       "      <th>SMA_20</th>\n",
       "      <th>EMA_20</th>\n",
       "      <th>RSI</th>\n",
       "      <th>...</th>\n",
       "      <th>std_20</th>\n",
       "      <th>Bollinger_Band_Upper</th>\n",
       "      <th>Bollinger_Band_Lower</th>\n",
       "      <th>%K</th>\n",
       "      <th>%D</th>\n",
       "      <th>TR</th>\n",
       "      <th>ATR</th>\n",
       "      <th>Daily returns</th>\n",
       "      <th>Weekly returns</th>\n",
       "      <th>Regime</th>\n",
       "    </tr>\n",
       "  </thead>\n",
       "  <tbody>\n",
       "    <tr>\n",
       "      <th>2994</th>\n",
       "      <td>2024-03-18</td>\n",
       "      <td>21990.099609</td>\n",
       "      <td>22123.699219</td>\n",
       "      <td>21916.550781</td>\n",
       "      <td>22055.699219</td>\n",
       "      <td>22055.699219</td>\n",
       "      <td>356300</td>\n",
       "      <td>22200.937500</td>\n",
       "      <td>22136.794985</td>\n",
       "      <td>48.126770</td>\n",
       "      <td>...</td>\n",
       "      <td>165.709337</td>\n",
       "      <td>22532.356173</td>\n",
       "      <td>21869.518827</td>\n",
       "      <td>29.288844</td>\n",
       "      <td>32.222079</td>\n",
       "      <td>207.148438</td>\n",
       "      <td>235.778599</td>\n",
       "      <td>0.001469</td>\n",
       "      <td>-0.012401</td>\n",
       "      <td>1</td>\n",
       "    </tr>\n",
       "    <tr>\n",
       "      <th>2995</th>\n",
       "      <td>2024-03-19</td>\n",
       "      <td>21946.449219</td>\n",
       "      <td>21978.300781</td>\n",
       "      <td>21793.099609</td>\n",
       "      <td>21817.449219</td>\n",
       "      <td>21817.449219</td>\n",
       "      <td>344200</td>\n",
       "      <td>22185.697461</td>\n",
       "      <td>22106.381102</td>\n",
       "      <td>40.147419</td>\n",
       "      <td>...</td>\n",
       "      <td>186.089744</td>\n",
       "      <td>22557.876949</td>\n",
       "      <td>21813.517973</td>\n",
       "      <td>3.319647</td>\n",
       "      <td>19.013222</td>\n",
       "      <td>262.599609</td>\n",
       "      <td>245.064314</td>\n",
       "      <td>-0.010802</td>\n",
       "      <td>-0.023203</td>\n",
       "      <td>1</td>\n",
       "    </tr>\n",
       "    <tr>\n",
       "      <th>2996</th>\n",
       "      <td>2024-03-20</td>\n",
       "      <td>21843.900391</td>\n",
       "      <td>21930.900391</td>\n",
       "      <td>21710.199219</td>\n",
       "      <td>21839.099609</td>\n",
       "      <td>21839.099609</td>\n",
       "      <td>312400</td>\n",
       "      <td>22167.804980</td>\n",
       "      <td>22080.925722</td>\n",
       "      <td>46.718767</td>\n",
       "      <td>...</td>\n",
       "      <td>201.515197</td>\n",
       "      <td>22570.835374</td>\n",
       "      <td>21764.774587</td>\n",
       "      <td>15.788869</td>\n",
       "      <td>16.132453</td>\n",
       "      <td>220.701172</td>\n",
       "      <td>238.450056</td>\n",
       "      <td>0.000992</td>\n",
       "      <td>-0.007210</td>\n",
       "      <td>1</td>\n",
       "    </tr>\n",
       "    <tr>\n",
       "      <th>2997</th>\n",
       "      <td>2024-03-21</td>\n",
       "      <td>21989.900391</td>\n",
       "      <td>22080.949219</td>\n",
       "      <td>21941.300781</td>\n",
       "      <td>22011.949219</td>\n",
       "      <td>22011.949219</td>\n",
       "      <td>353200</td>\n",
       "      <td>22165.649902</td>\n",
       "      <td>22074.356531</td>\n",
       "      <td>50.788372</td>\n",
       "      <td>...</td>\n",
       "      <td>203.009429</td>\n",
       "      <td>22571.668761</td>\n",
       "      <td>21759.631044</td>\n",
       "      <td>36.961031</td>\n",
       "      <td>18.689849</td>\n",
       "      <td>241.849609</td>\n",
       "      <td>241.446429</td>\n",
       "      <td>0.007915</td>\n",
       "      <td>-0.006082</td>\n",
       "      <td>1</td>\n",
       "    </tr>\n",
       "    <tr>\n",
       "      <th>2998</th>\n",
       "      <td>2024-03-22</td>\n",
       "      <td>21932.199219</td>\n",
       "      <td>22180.699219</td>\n",
       "      <td>21883.300781</td>\n",
       "      <td>22096.750000</td>\n",
       "      <td>22096.750000</td>\n",
       "      <td>388700</td>\n",
       "      <td>22159.614941</td>\n",
       "      <td>22076.489243</td>\n",
       "      <td>42.329635</td>\n",
       "      <td>...</td>\n",
       "      <td>203.182489</td>\n",
       "      <td>22565.979919</td>\n",
       "      <td>21753.249964</td>\n",
       "      <td>47.348187</td>\n",
       "      <td>33.366029</td>\n",
       "      <td>297.398438</td>\n",
       "      <td>236.224888</td>\n",
       "      <td>0.003852</td>\n",
       "      <td>0.003333</td>\n",
       "      <td>1</td>\n",
       "    </tr>\n",
       "  </tbody>\n",
       "</table>\n",
       "<p>5 rows × 22 columns</p>\n",
       "</div>"
      ],
      "text/plain": [
       "            Date          Open          High           Low         Close  \\\n",
       "2994  2024-03-18  21990.099609  22123.699219  21916.550781  22055.699219   \n",
       "2995  2024-03-19  21946.449219  21978.300781  21793.099609  21817.449219   \n",
       "2996  2024-03-20  21843.900391  21930.900391  21710.199219  21839.099609   \n",
       "2997  2024-03-21  21989.900391  22080.949219  21941.300781  22011.949219   \n",
       "2998  2024-03-22  21932.199219  22180.699219  21883.300781  22096.750000   \n",
       "\n",
       "         Adj Close  Volume        SMA_20        EMA_20        RSI  ...  \\\n",
       "2994  22055.699219  356300  22200.937500  22136.794985  48.126770  ...   \n",
       "2995  21817.449219  344200  22185.697461  22106.381102  40.147419  ...   \n",
       "2996  21839.099609  312400  22167.804980  22080.925722  46.718767  ...   \n",
       "2997  22011.949219  353200  22165.649902  22074.356531  50.788372  ...   \n",
       "2998  22096.750000  388700  22159.614941  22076.489243  42.329635  ...   \n",
       "\n",
       "          std_20  Bollinger_Band_Upper  Bollinger_Band_Lower         %K  \\\n",
       "2994  165.709337          22532.356173          21869.518827  29.288844   \n",
       "2995  186.089744          22557.876949          21813.517973   3.319647   \n",
       "2996  201.515197          22570.835374          21764.774587  15.788869   \n",
       "2997  203.009429          22571.668761          21759.631044  36.961031   \n",
       "2998  203.182489          22565.979919          21753.249964  47.348187   \n",
       "\n",
       "             %D          TR         ATR  Daily returns  Weekly returns  Regime  \n",
       "2994  32.222079  207.148438  235.778599       0.001469       -0.012401       1  \n",
       "2995  19.013222  262.599609  245.064314      -0.010802       -0.023203       1  \n",
       "2996  16.132453  220.701172  238.450056       0.000992       -0.007210       1  \n",
       "2997  18.689849  241.849609  241.446429       0.007915       -0.006082       1  \n",
       "2998  33.366029  297.398438  236.224888       0.003852        0.003333       1  \n",
       "\n",
       "[5 rows x 22 columns]"
      ]
     },
     "execution_count": 9,
     "metadata": {},
     "output_type": "execute_result"
    }
   ],
   "source": [
    "regimes= model.predict(X)\n",
    "nifty50index['Regime'] = regimes\n",
    "nifty50index.tail()"
   ]
  },
  {
   "cell_type": "code",
   "execution_count": 10,
   "metadata": {},
   "outputs": [
    {
     "name": "stderr",
     "output_type": "stream",
     "text": [
      "C:\\Users\\91897\\AppData\\Local\\Temp\\ipykernel_9912\\2494947152.py:5: SettingWithCopyWarning: \n",
      "A value is trying to be set on a copy of a slice from a DataFrame.\n",
      "Try using .loc[row_indexer,col_indexer] = value instead\n",
      "\n",
      "See the caveats in the documentation: https://pandas.pydata.org/pandas-docs/stable/user_guide/indexing.html#returning-a-view-versus-a-copy\n",
      "  data['Date'] = pd.to_datetime(data['Date'])\n"
     ]
    },
    {
     "data": {
      "image/png": "[encoded data removed]",
      "text/plain": [
       "<Figure size 1000x600 with 1 Axes>"
      ]
     },
     "metadata": {},
     "output_type": "display_data"
    }
   ],
   "source": [
    "import pandas as pd\n",
    "import matplotlib.pyplot as plt\n",
    "\n",
    "data = nifty50index.tail(400)\n",
    "data['Date'] = pd.to_datetime(data['Date'])\n",
    "regime_0 = data[data['Regime'] == 0]\n",
    "regime_1 = data[data['Regime'] == 1]\n",
    "\n",
    "plt.figure(figsize=(10, 6))\n",
    "plt.plot(data['Date'], data['Close'], color='gray', label='Close Prices')\n",
    "plt.scatter(regime_0['Date'], regime_0['Close'], color='red', label='Regime 0')\n",
    "plt.scatter(regime_1['Date'], regime_1['Close'],\n",
    "            color='blue', label='Regime 1')\n",
    "plt.title('Market Regimes based on Close Prices')\n",
    "plt.xlabel('Date')\n",
    "plt.ylabel('Close Price')\n",
    "plt.legend()\n",
    "plt.show()"
   ]
  },
  {
   "cell_type": "markdown",
   "metadata": {},
   "source": [
    "# Clustering datapoints based on regimes"
   ]
  },
  {
   "cell_type": "code",
   "execution_count": null,
   "metadata": {},
   "outputs": [],
   "source": [
    "from sklearn.mixture import GaussianMixture\n",
    "\n",
    "def cluster_data(data,n_clusters = 10):\n",
    "    X = data.drop(['symbol','date'],axis = 1)\n",
    "    gmm = GaussianMixture(n_components=2)\n",
    "    gmm.fit(X)\n",
    "    labels = gmm.predict(data)\n",
    "    data['Cluster'] = labels\n",
    "    means = gmm.means_\n",
    "    covariances = gmm.covariances_\n",
    "    weights = gmm.weights_\n",
    "\n",
    "    return gmm, data"
   ]
  },
  {
   "cell_type": "code",
   "execution_count": 36,
   "metadata": {},
   "outputs": [
    {
     "data": {
      "text/html": [
       "<div>\n",
       "<style scoped>\n",
       "    .dataframe tbody tr th:only-of-type {\n",
       "        vertical-align: middle;\n",
       "    }\n",
       "\n",
       "    .dataframe tbody tr th {\n",
       "        vertical-align: top;\n",
       "    }\n",
       "\n",
       "    .dataframe thead th {\n",
       "        text-align: right;\n",
       "    }\n",
       "</style>\n",
       "<table border=\"1\" class=\"dataframe\">\n",
       "  <thead>\n",
       "    <tr style=\"text-align: right;\">\n",
       "      <th></th>\n",
       "      <th>Date</th>\n",
       "      <th>Open</th>\n",
       "      <th>High</th>\n",
       "      <th>Low</th>\n",
       "      <th>Close</th>\n",
       "      <th>Adj Close</th>\n",
       "      <th>Volume</th>\n",
       "      <th>SMA_20</th>\n",
       "      <th>EMA_20</th>\n",
       "      <th>RSI</th>\n",
       "      <th>...</th>\n",
       "      <th>std_20</th>\n",
       "      <th>Bollinger_Band_Upper</th>\n",
       "      <th>Bollinger_Band_Lower</th>\n",
       "      <th>%K</th>\n",
       "      <th>%D</th>\n",
       "      <th>TR</th>\n",
       "      <th>ATR</th>\n",
       "      <th>Daily returns</th>\n",
       "      <th>Weekly returns</th>\n",
       "      <th>symbol</th>\n",
       "    </tr>\n",
       "  </thead>\n",
       "  <tbody>\n",
       "    <tr>\n",
       "      <th>0</th>\n",
       "      <td>2012-01-02</td>\n",
       "      <td>44.909592</td>\n",
       "      <td>44.909592</td>\n",
       "      <td>43.376842</td>\n",
       "      <td>44.242844</td>\n",
       "      <td>37.360775</td>\n",
       "      <td>4426427</td>\n",
       "      <td>NaN</td>\n",
       "      <td>44.242844</td>\n",
       "      <td>NaN</td>\n",
       "      <td>...</td>\n",
       "      <td>NaN</td>\n",
       "      <td>NaN</td>\n",
       "      <td>NaN</td>\n",
       "      <td>NaN</td>\n",
       "      <td>NaN</td>\n",
       "      <td>NaN</td>\n",
       "      <td>NaN</td>\n",
       "      <td>NaN</td>\n",
       "      <td>NaN</td>\n",
       "      <td>ADANIENT</td>\n",
       "    </tr>\n",
       "    <tr>\n",
       "      <th>1</th>\n",
       "      <td>2012-01-03</td>\n",
       "      <td>44.449768</td>\n",
       "      <td>45.062866</td>\n",
       "      <td>43.491798</td>\n",
       "      <td>44.043587</td>\n",
       "      <td>37.192516</td>\n",
       "      <td>7148175</td>\n",
       "      <td>NaN</td>\n",
       "      <td>44.223867</td>\n",
       "      <td>NaN</td>\n",
       "      <td>...</td>\n",
       "      <td>NaN</td>\n",
       "      <td>NaN</td>\n",
       "      <td>NaN</td>\n",
       "      <td>NaN</td>\n",
       "      <td>NaN</td>\n",
       "      <td>1.571068</td>\n",
       "      <td>NaN</td>\n",
       "      <td>-0.004504</td>\n",
       "      <td>NaN</td>\n",
       "      <td>ADANIENT</td>\n",
       "    </tr>\n",
       "    <tr>\n",
       "      <th>2</th>\n",
       "      <td>2012-01-04</td>\n",
       "      <td>44.043587</td>\n",
       "      <td>45.062866</td>\n",
       "      <td>42.334572</td>\n",
       "      <td>42.633457</td>\n",
       "      <td>36.001732</td>\n",
       "      <td>7327278</td>\n",
       "      <td>NaN</td>\n",
       "      <td>44.072399</td>\n",
       "      <td>NaN</td>\n",
       "      <td>...</td>\n",
       "      <td>NaN</td>\n",
       "      <td>NaN</td>\n",
       "      <td>NaN</td>\n",
       "      <td>NaN</td>\n",
       "      <td>NaN</td>\n",
       "      <td>2.728294</td>\n",
       "      <td>NaN</td>\n",
       "      <td>-0.032017</td>\n",
       "      <td>NaN</td>\n",
       "      <td>ADANIENT</td>\n",
       "    </tr>\n",
       "    <tr>\n",
       "      <th>3</th>\n",
       "      <td>2012-01-05</td>\n",
       "      <td>42.319244</td>\n",
       "      <td>42.564484</td>\n",
       "      <td>40.617889</td>\n",
       "      <td>40.939770</td>\n",
       "      <td>34.571507</td>\n",
       "      <td>6668403</td>\n",
       "      <td>NaN</td>\n",
       "      <td>43.774054</td>\n",
       "      <td>NaN</td>\n",
       "      <td>...</td>\n",
       "      <td>NaN</td>\n",
       "      <td>NaN</td>\n",
       "      <td>NaN</td>\n",
       "      <td>NaN</td>\n",
       "      <td>NaN</td>\n",
       "      <td>2.015568</td>\n",
       "      <td>NaN</td>\n",
       "      <td>-0.039727</td>\n",
       "      <td>NaN</td>\n",
       "      <td>ADANIENT</td>\n",
       "    </tr>\n",
       "    <tr>\n",
       "      <th>4</th>\n",
       "      <td>2012-01-06</td>\n",
       "      <td>40.311340</td>\n",
       "      <td>41.920727</td>\n",
       "      <td>40.012455</td>\n",
       "      <td>41.162018</td>\n",
       "      <td>34.759178</td>\n",
       "      <td>7823555</td>\n",
       "      <td>NaN</td>\n",
       "      <td>43.525288</td>\n",
       "      <td>NaN</td>\n",
       "      <td>...</td>\n",
       "      <td>NaN</td>\n",
       "      <td>NaN</td>\n",
       "      <td>NaN</td>\n",
       "      <td>NaN</td>\n",
       "      <td>NaN</td>\n",
       "      <td>1.908272</td>\n",
       "      <td>NaN</td>\n",
       "      <td>0.005429</td>\n",
       "      <td>NaN</td>\n",
       "      <td>ADANIENT</td>\n",
       "    </tr>\n",
       "  </tbody>\n",
       "</table>\n",
       "<p>5 rows × 22 columns</p>\n",
       "</div>"
      ],
      "text/plain": [
       "         Date       Open       High        Low      Close  Adj Close   Volume  \\\n",
       "0  2012-01-02  44.909592  44.909592  43.376842  44.242844  37.360775  4426427   \n",
       "1  2012-01-03  44.449768  45.062866  43.491798  44.043587  37.192516  7148175   \n",
       "2  2012-01-04  44.043587  45.062866  42.334572  42.633457  36.001732  7327278   \n",
       "3  2012-01-05  42.319244  42.564484  40.617889  40.939770  34.571507  6668403   \n",
       "4  2012-01-06  40.311340  41.920727  40.012455  41.162018  34.759178  7823555   \n",
       "\n",
       "   SMA_20     EMA_20  RSI  ...  std_20  Bollinger_Band_Upper  \\\n",
       "0     NaN  44.242844  NaN  ...     NaN                   NaN   \n",
       "1     NaN  44.223867  NaN  ...     NaN                   NaN   \n",
       "2     NaN  44.072399  NaN  ...     NaN                   NaN   \n",
       "3     NaN  43.774054  NaN  ...     NaN                   NaN   \n",
       "4     NaN  43.525288  NaN  ...     NaN                   NaN   \n",
       "\n",
       "   Bollinger_Band_Lower  %K  %D        TR  ATR  Daily returns  Weekly returns  \\\n",
       "0                   NaN NaN NaN       NaN  NaN            NaN             NaN   \n",
       "1                   NaN NaN NaN  1.571068  NaN      -0.004504             NaN   \n",
       "2                   NaN NaN NaN  2.728294  NaN      -0.032017             NaN   \n",
       "3                   NaN NaN NaN  2.015568  NaN      -0.039727             NaN   \n",
       "4                   NaN NaN NaN  1.908272  NaN       0.005429             NaN   \n",
       "\n",
       "     symbol  \n",
       "0  ADANIENT  \n",
       "1  ADANIENT  \n",
       "2  ADANIENT  \n",
       "3  ADANIENT  \n",
       "4  ADANIENT  \n",
       "\n",
       "[5 rows x 22 columns]"
      ]
     },
     "execution_count": 36,
     "metadata": {},
     "output_type": "execute_result"
    }
   ],
   "source": [
    "import os\n",
    "import pandas as pd\n",
    "\n",
    "path = \"../Dataset_Indicators/\"\n",
    "\n",
    "\n",
    "def merge_data(path):\n",
    "    csv_files = [file for file in os.listdir(path) if file.endswith('.csv')]\n",
    "    dfs = []\n",
    "    for file in csv_files:\n",
    "        file_path = os.path.join(path, file)\n",
    "        df = pd.read_csv(file_path)\n",
    "        sym = file.split('.')[0]\n",
    "        sym = sym.split('_')\n",
    "        df['symbol'] = sym[-1]\n",
    "        dfs.append(df)\n",
    "\n",
    "    combined_df = pd.concat(dfs, ignore_index=True)\n",
    "    return combined_df\n",
    "\n",
    "\n",
    "df = merge_data(path)\n",
    "df.head()"
   ]
  },
  {
   "cell_type": "code",
   "execution_count": 37,
   "metadata": {},
   "outputs": [
    {
     "data": {
      "text/html": [
       "<div>\n",
       "<style scoped>\n",
       "    .dataframe tbody tr th:only-of-type {\n",
       "        vertical-align: middle;\n",
       "    }\n",
       "\n",
       "    .dataframe tbody tr th {\n",
       "        vertical-align: top;\n",
       "    }\n",
       "\n",
       "    .dataframe thead th {\n",
       "        text-align: right;\n",
       "    }\n",
       "</style>\n",
       "<table border=\"1\" class=\"dataframe\">\n",
       "  <thead>\n",
       "    <tr style=\"text-align: right;\">\n",
       "      <th></th>\n",
       "      <th>Date</th>\n",
       "      <th>Open</th>\n",
       "      <th>High</th>\n",
       "      <th>Low</th>\n",
       "      <th>Close</th>\n",
       "      <th>Adj Close</th>\n",
       "      <th>Volume</th>\n",
       "      <th>SMA_20</th>\n",
       "      <th>EMA_20</th>\n",
       "      <th>RSI</th>\n",
       "      <th>...</th>\n",
       "      <th>std_20</th>\n",
       "      <th>Bollinger_Band_Upper</th>\n",
       "      <th>Bollinger_Band_Lower</th>\n",
       "      <th>%K</th>\n",
       "      <th>%D</th>\n",
       "      <th>TR</th>\n",
       "      <th>ATR</th>\n",
       "      <th>Daily returns</th>\n",
       "      <th>Weekly returns</th>\n",
       "      <th>symbol</th>\n",
       "    </tr>\n",
       "  </thead>\n",
       "  <tbody>\n",
       "    <tr>\n",
       "      <th>149762</th>\n",
       "      <td>2024-03-18</td>\n",
       "      <td>21990.099609</td>\n",
       "      <td>22123.699219</td>\n",
       "      <td>21916.550781</td>\n",
       "      <td>22055.699219</td>\n",
       "      <td>22055.699219</td>\n",
       "      <td>356300</td>\n",
       "      <td>22200.937500</td>\n",
       "      <td>22136.794985</td>\n",
       "      <td>48.126770</td>\n",
       "      <td>...</td>\n",
       "      <td>165.709337</td>\n",
       "      <td>22532.356173</td>\n",
       "      <td>21869.518827</td>\n",
       "      <td>29.288844</td>\n",
       "      <td>32.222079</td>\n",
       "      <td>207.148438</td>\n",
       "      <td>235.778599</td>\n",
       "      <td>0.001469</td>\n",
       "      <td>-0.012401</td>\n",
       "      <td>nifty50Index</td>\n",
       "    </tr>\n",
       "    <tr>\n",
       "      <th>149763</th>\n",
       "      <td>2024-03-19</td>\n",
       "      <td>21946.449219</td>\n",
       "      <td>21978.300781</td>\n",
       "      <td>21793.099609</td>\n",
       "      <td>21817.449219</td>\n",
       "      <td>21817.449219</td>\n",
       "      <td>344200</td>\n",
       "      <td>22185.697461</td>\n",
       "      <td>22106.381102</td>\n",
       "      <td>40.147419</td>\n",
       "      <td>...</td>\n",
       "      <td>186.089744</td>\n",
       "      <td>22557.876949</td>\n",
       "      <td>21813.517973</td>\n",
       "      <td>3.319647</td>\n",
       "      <td>19.013222</td>\n",
       "      <td>262.599609</td>\n",
       "      <td>245.064314</td>\n",
       "      <td>-0.010802</td>\n",
       "      <td>-0.023203</td>\n",
       "      <td>nifty50Index</td>\n",
       "    </tr>\n",
       "    <tr>\n",
       "      <th>149764</th>\n",
       "      <td>2024-03-20</td>\n",
       "      <td>21843.900391</td>\n",
       "      <td>21930.900391</td>\n",
       "      <td>21710.199219</td>\n",
       "      <td>21839.099609</td>\n",
       "      <td>21839.099609</td>\n",
       "      <td>312400</td>\n",
       "      <td>22167.804980</td>\n",
       "      <td>22080.925722</td>\n",
       "      <td>46.718767</td>\n",
       "      <td>...</td>\n",
       "      <td>201.515197</td>\n",
       "      <td>22570.835374</td>\n",
       "      <td>21764.774587</td>\n",
       "      <td>15.788869</td>\n",
       "      <td>16.132453</td>\n",
       "      <td>220.701172</td>\n",
       "      <td>238.450056</td>\n",
       "      <td>0.000992</td>\n",
       "      <td>-0.007210</td>\n",
       "      <td>nifty50Index</td>\n",
       "    </tr>\n",
       "    <tr>\n",
       "      <th>149765</th>\n",
       "      <td>2024-03-21</td>\n",
       "      <td>21989.900391</td>\n",
       "      <td>22080.949219</td>\n",
       "      <td>21941.300781</td>\n",
       "      <td>22011.949219</td>\n",
       "      <td>22011.949219</td>\n",
       "      <td>353200</td>\n",
       "      <td>22165.649902</td>\n",
       "      <td>22074.356531</td>\n",
       "      <td>50.788372</td>\n",
       "      <td>...</td>\n",
       "      <td>203.009429</td>\n",
       "      <td>22571.668761</td>\n",
       "      <td>21759.631044</td>\n",
       "      <td>36.961031</td>\n",
       "      <td>18.689849</td>\n",
       "      <td>241.849609</td>\n",
       "      <td>241.446429</td>\n",
       "      <td>0.007915</td>\n",
       "      <td>-0.006082</td>\n",
       "      <td>nifty50Index</td>\n",
       "    </tr>\n",
       "    <tr>\n",
       "      <th>149766</th>\n",
       "      <td>2024-03-22</td>\n",
       "      <td>21932.199219</td>\n",
       "      <td>22180.699219</td>\n",
       "      <td>21883.300781</td>\n",
       "      <td>22096.750000</td>\n",
       "      <td>22096.750000</td>\n",
       "      <td>388700</td>\n",
       "      <td>22159.614941</td>\n",
       "      <td>22076.489243</td>\n",
       "      <td>42.329635</td>\n",
       "      <td>...</td>\n",
       "      <td>203.182489</td>\n",
       "      <td>22565.979919</td>\n",
       "      <td>21753.249964</td>\n",
       "      <td>47.348187</td>\n",
       "      <td>33.366029</td>\n",
       "      <td>297.398438</td>\n",
       "      <td>236.224888</td>\n",
       "      <td>0.003852</td>\n",
       "      <td>0.003333</td>\n",
       "      <td>nifty50Index</td>\n",
       "    </tr>\n",
       "  </tbody>\n",
       "</table>\n",
       "<p>5 rows × 22 columns</p>\n",
       "</div>"
      ],
      "text/plain": [
       "              Date          Open          High           Low         Close  \\\n",
       "149762  2024-03-18  21990.099609  22123.699219  21916.550781  22055.699219   \n",
       "149763  2024-03-19  21946.449219  21978.300781  21793.099609  21817.449219   \n",
       "149764  2024-03-20  21843.900391  21930.900391  21710.199219  21839.099609   \n",
       "149765  2024-03-21  21989.900391  22080.949219  21941.300781  22011.949219   \n",
       "149766  2024-03-22  21932.199219  22180.699219  21883.300781  22096.750000   \n",
       "\n",
       "           Adj Close  Volume        SMA_20        EMA_20        RSI  ...  \\\n",
       "149762  22055.699219  356300  22200.937500  22136.794985  48.126770  ...   \n",
       "149763  21817.449219  344200  22185.697461  22106.381102  40.147419  ...   \n",
       "149764  21839.099609  312400  22167.804980  22080.925722  46.718767  ...   \n",
       "149765  22011.949219  353200  22165.649902  22074.356531  50.788372  ...   \n",
       "149766  22096.750000  388700  22159.614941  22076.489243  42.329635  ...   \n",
       "\n",
       "            std_20  Bollinger_Band_Upper  Bollinger_Band_Lower         %K  \\\n",
       "149762  165.709337          22532.356173          21869.518827  29.288844   \n",
       "149763  186.089744          22557.876949          21813.517973   3.319647   \n",
       "149764  201.515197          22570.835374          21764.774587  15.788869   \n",
       "149765  203.009429          22571.668761          21759.631044  36.961031   \n",
       "149766  203.182489          22565.979919          21753.249964  47.348187   \n",
       "\n",
       "               %D          TR         ATR  Daily returns  Weekly returns  \\\n",
       "149762  32.222079  207.148438  235.778599       0.001469       -0.012401   \n",
       "149763  19.013222  262.599609  245.064314      -0.010802       -0.023203   \n",
       "149764  16.132453  220.701172  238.450056       0.000992       -0.007210   \n",
       "149765  18.689849  241.849609  241.446429       0.007915       -0.006082   \n",
       "149766  33.366029  297.398438  236.224888       0.003852        0.003333   \n",
       "\n",
       "              symbol  \n",
       "149762  nifty50Index  \n",
       "149763  nifty50Index  \n",
       "149764  nifty50Index  \n",
       "149765  nifty50Index  \n",
       "149766  nifty50Index  \n",
       "\n",
       "[5 rows x 22 columns]"
      ]
     },
     "execution_count": 37,
     "metadata": {},
     "output_type": "execute_result"
    }
   ],
   "source": [
    "df.tail()"
   ]
  },
  {
   "cell_type": "code",
   "execution_count": 40,
   "metadata": {},
   "outputs": [
    {
     "data": {
      "text/html": [
       "<div>\n",
       "<style scoped>\n",
       "    .dataframe tbody tr th:only-of-type {\n",
       "        vertical-align: middle;\n",
       "    }\n",
       "\n",
       "    .dataframe tbody tr th {\n",
       "        vertical-align: top;\n",
       "    }\n",
       "\n",
       "    .dataframe thead th {\n",
       "        text-align: right;\n",
       "    }\n",
       "</style>\n",
       "<table border=\"1\" class=\"dataframe\">\n",
       "  <thead>\n",
       "    <tr style=\"text-align: right;\">\n",
       "      <th></th>\n",
       "      <th>Open</th>\n",
       "      <th>High</th>\n",
       "      <th>Low</th>\n",
       "      <th>Close</th>\n",
       "      <th>Adj Close</th>\n",
       "      <th>Volume</th>\n",
       "      <th>SMA_20</th>\n",
       "      <th>EMA_20</th>\n",
       "      <th>RSI</th>\n",
       "      <th>MACD</th>\n",
       "      <th>MACD_Signal</th>\n",
       "      <th>std_20</th>\n",
       "      <th>Bollinger_Band_Upper</th>\n",
       "      <th>Bollinger_Band_Lower</th>\n",
       "      <th>%K</th>\n",
       "      <th>%D</th>\n",
       "      <th>TR</th>\n",
       "      <th>ATR</th>\n",
       "      <th>Daily returns</th>\n",
       "      <th>Weekly returns</th>\n",
       "    </tr>\n",
       "  </thead>\n",
       "  <tbody>\n",
       "    <tr>\n",
       "      <th>count</th>\n",
       "      <td>148798.000000</td>\n",
       "      <td>148798.000000</td>\n",
       "      <td>148798.000000</td>\n",
       "      <td>148798.000000</td>\n",
       "      <td>148798.000000</td>\n",
       "      <td>1.487980e+05</td>\n",
       "      <td>148798.000000</td>\n",
       "      <td>148798.000000</td>\n",
       "      <td>148798.000000</td>\n",
       "      <td>148798.000000</td>\n",
       "      <td>148798.000000</td>\n",
       "      <td>148798.000000</td>\n",
       "      <td>148798.000000</td>\n",
       "      <td>148798.000000</td>\n",
       "      <td>148798.000000</td>\n",
       "      <td>148798.000000</td>\n",
       "      <td>148798.000000</td>\n",
       "      <td>148798.000000</td>\n",
       "      <td>148798.000000</td>\n",
       "      <td>148798.000000</td>\n",
       "    </tr>\n",
       "    <tr>\n",
       "      <th>mean</th>\n",
       "      <td>1380.389705</td>\n",
       "      <td>1395.070451</td>\n",
       "      <td>1364.174266</td>\n",
       "      <td>1379.338395</td>\n",
       "      <td>1322.928264</td>\n",
       "      <td>6.897799e+06</td>\n",
       "      <td>1371.257245</td>\n",
       "      <td>1371.246654</td>\n",
       "      <td>52.810759</td>\n",
       "      <td>5.976104</td>\n",
       "      <td>5.977867</td>\n",
       "      <td>36.923499</td>\n",
       "      <td>1445.104242</td>\n",
       "      <td>1297.410248</td>\n",
       "      <td>53.698864</td>\n",
       "      <td>53.707196</td>\n",
       "      <td>32.249333</td>\n",
       "      <td>32.136555</td>\n",
       "      <td>0.000826</td>\n",
       "      <td>0.004142</td>\n",
       "    </tr>\n",
       "    <tr>\n",
       "      <th>std</th>\n",
       "      <td>2123.265369</td>\n",
       "      <td>2138.255947</td>\n",
       "      <td>2105.125539</td>\n",
       "      <td>2121.618973</td>\n",
       "      <td>2104.525586</td>\n",
       "      <td>1.675857e+07</td>\n",
       "      <td>2109.319776</td>\n",
       "      <td>2108.788563</td>\n",
       "      <td>16.869864</td>\n",
       "      <td>42.142329</td>\n",
       "      <td>39.754875</td>\n",
       "      <td>57.595072</td>\n",
       "      <td>2197.969359</td>\n",
       "      <td>2023.345763</td>\n",
       "      <td>29.280544</td>\n",
       "      <td>27.290066</td>\n",
       "      <td>48.558314</td>\n",
       "      <td>42.081204</td>\n",
       "      <td>0.019486</td>\n",
       "      <td>0.043534</td>\n",
       "    </tr>\n",
       "    <tr>\n",
       "      <th>min</th>\n",
       "      <td>18.816547</td>\n",
       "      <td>19.626373</td>\n",
       "      <td>18.606947</td>\n",
       "      <td>18.888002</td>\n",
       "      <td>14.492752</td>\n",
       "      <td>0.000000e+00</td>\n",
       "      <td>21.306049</td>\n",
       "      <td>21.148149</td>\n",
       "      <td>0.680313</td>\n",
       "      <td>-1005.837460</td>\n",
       "      <td>-848.332753</td>\n",
       "      <td>0.390362</td>\n",
       "      <td>23.109804</td>\n",
       "      <td>17.196570</td>\n",
       "      <td>0.177009</td>\n",
       "      <td>0.353162</td>\n",
       "      <td>0.000000</td>\n",
       "      <td>0.626786</td>\n",
       "      <td>-0.387493</td>\n",
       "      <td>-0.538131</td>\n",
       "    </tr>\n",
       "    <tr>\n",
       "      <th>25%</th>\n",
       "      <td>283.381248</td>\n",
       "      <td>287.500000</td>\n",
       "      <td>279.000000</td>\n",
       "      <td>283.162781</td>\n",
       "      <td>251.226498</td>\n",
       "      <td>7.751402e+05</td>\n",
       "      <td>281.665998</td>\n",
       "      <td>281.787726</td>\n",
       "      <td>40.724749</td>\n",
       "      <td>-3.563849</td>\n",
       "      <td>-3.213973</td>\n",
       "      <td>7.376130</td>\n",
       "      <td>299.504822</td>\n",
       "      <td>262.254258</td>\n",
       "      <td>27.751348</td>\n",
       "      <td>29.103309</td>\n",
       "      <td>6.899994</td>\n",
       "      <td>7.855694</td>\n",
       "      <td>-0.009036</td>\n",
       "      <td>-0.019473</td>\n",
       "    </tr>\n",
       "    <tr>\n",
       "      <th>50%</th>\n",
       "      <td>619.000000</td>\n",
       "      <td>626.500000</td>\n",
       "      <td>610.500000</td>\n",
       "      <td>618.299988</td>\n",
       "      <td>582.838715</td>\n",
       "      <td>2.471442e+06</td>\n",
       "      <td>614.231631</td>\n",
       "      <td>613.153551</td>\n",
       "      <td>53.029388</td>\n",
       "      <td>1.907966</td>\n",
       "      <td>1.950215</td>\n",
       "      <td>16.401749</td>\n",
       "      <td>649.260963</td>\n",
       "      <td>578.152958</td>\n",
       "      <td>56.074762</td>\n",
       "      <td>56.105624</td>\n",
       "      <td>15.200012</td>\n",
       "      <td>16.092860</td>\n",
       "      <td>0.000376</td>\n",
       "      <td>0.003200</td>\n",
       "    </tr>\n",
       "    <tr>\n",
       "      <th>75%</th>\n",
       "      <td>1590.099976</td>\n",
       "      <td>1609.900024</td>\n",
       "      <td>1567.882507</td>\n",
       "      <td>1589.944489</td>\n",
       "      <td>1498.538391</td>\n",
       "      <td>6.716686e+06</td>\n",
       "      <td>1580.567386</td>\n",
       "      <td>1581.097333</td>\n",
       "      <td>65.162318</td>\n",
       "      <td>11.727310</td>\n",
       "      <td>11.305949</td>\n",
       "      <td>41.394189</td>\n",
       "      <td>1674.483598</td>\n",
       "      <td>1472.563872</td>\n",
       "      <td>80.379294</td>\n",
       "      <td>78.814861</td>\n",
       "      <td>37.349976</td>\n",
       "      <td>38.987588</td>\n",
       "      <td>0.010227</td>\n",
       "      <td>0.026673</td>\n",
       "    </tr>\n",
       "    <tr>\n",
       "      <th>max</th>\n",
       "      <td>22517.500000</td>\n",
       "      <td>22526.599609</td>\n",
       "      <td>22430.000000</td>\n",
       "      <td>22493.550781</td>\n",
       "      <td>22493.550781</td>\n",
       "      <td>6.428460e+08</td>\n",
       "      <td>22200.937500</td>\n",
       "      <td>22176.403808</td>\n",
       "      <td>100.000000</td>\n",
       "      <td>451.083428</td>\n",
       "      <td>413.985339</td>\n",
       "      <td>1393.921659</td>\n",
       "      <td>22611.577748</td>\n",
       "      <td>21869.518827</td>\n",
       "      <td>100.000000</td>\n",
       "      <td>98.949217</td>\n",
       "      <td>1604.250000</td>\n",
       "      <td>729.792899</td>\n",
       "      <td>0.446731</td>\n",
       "      <td>0.661416</td>\n",
       "    </tr>\n",
       "  </tbody>\n",
       "</table>\n",
       "</div>"
      ],
      "text/plain": [
       "                Open           High            Low          Close  \\\n",
       "count  148798.000000  148798.000000  148798.000000  148798.000000   \n",
       "mean     1380.389705    1395.070451    1364.174266    1379.338395   \n",
       "std      2123.265369    2138.255947    2105.125539    2121.618973   \n",
       "min        18.816547      19.626373      18.606947      18.888002   \n",
       "25%       283.381248     287.500000     279.000000     283.162781   \n",
       "50%       619.000000     626.500000     610.500000     618.299988   \n",
       "75%      1590.099976    1609.900024    1567.882507    1589.944489   \n",
       "max     22517.500000   22526.599609   22430.000000   22493.550781   \n",
       "\n",
       "           Adj Close        Volume         SMA_20         EMA_20  \\\n",
       "count  148798.000000  1.487980e+05  148798.000000  148798.000000   \n",
       "mean     1322.928264  6.897799e+06    1371.257245    1371.246654   \n",
       "std      2104.525586  1.675857e+07    2109.319776    2108.788563   \n",
       "min        14.492752  0.000000e+00      21.306049      21.148149   \n",
       "25%       251.226498  7.751402e+05     281.665998     281.787726   \n",
       "50%       582.838715  2.471442e+06     614.231631     613.153551   \n",
       "75%      1498.538391  6.716686e+06    1580.567386    1581.097333   \n",
       "max     22493.550781  6.428460e+08   22200.937500   22176.403808   \n",
       "\n",
       "                 RSI           MACD    MACD_Signal         std_20  \\\n",
       "count  148798.000000  148798.000000  148798.000000  148798.000000   \n",
       "mean       52.810759       5.976104       5.977867      36.923499   \n",
       "std        16.869864      42.142329      39.754875      57.595072   \n",
       "min         0.680313   -1005.837460    -848.332753       0.390362   \n",
       "25%        40.724749      -3.563849      -3.213973       7.376130   \n",
       "50%        53.029388       1.907966       1.950215      16.401749   \n",
       "75%        65.162318      11.727310      11.305949      41.394189   \n",
       "max       100.000000     451.083428     413.985339    1393.921659   \n",
       "\n",
       "       Bollinger_Band_Upper  Bollinger_Band_Lower             %K  \\\n",
       "count         148798.000000         148798.000000  148798.000000   \n",
       "mean            1445.104242           1297.410248      53.698864   \n",
       "std             2197.969359           2023.345763      29.280544   \n",
       "min               23.109804             17.196570       0.177009   \n",
       "25%              299.504822            262.254258      27.751348   \n",
       "50%              649.260963            578.152958      56.074762   \n",
       "75%             1674.483598           1472.563872      80.379294   \n",
       "max            22611.577748          21869.518827     100.000000   \n",
       "\n",
       "                  %D             TR            ATR  Daily returns  \\\n",
       "count  148798.000000  148798.000000  148798.000000  148798.000000   \n",
       "mean       53.707196      32.249333      32.136555       0.000826   \n",
       "std        27.290066      48.558314      42.081204       0.019486   \n",
       "min         0.353162       0.000000       0.626786      -0.387493   \n",
       "25%        29.103309       6.899994       7.855694      -0.009036   \n",
       "50%        56.105624      15.200012      16.092860       0.000376   \n",
       "75%        78.814861      37.349976      38.987588       0.010227   \n",
       "max        98.949217    1604.250000     729.792899       0.446731   \n",
       "\n",
       "       Weekly returns  \n",
       "count   148798.000000  \n",
       "mean         0.004142  \n",
       "std          0.043534  \n",
       "min         -0.538131  \n",
       "25%         -0.019473  \n",
       "50%          0.003200  \n",
       "75%          0.026673  \n",
       "max          0.661416  "
      ]
     },
     "execution_count": 40,
     "metadata": {},
     "output_type": "execute_result"
    }
   ],
   "source": [
    "df = df.dropna()\n",
    "df.describe()"
   ]
  },
  {
   "cell_type": "code",
   "execution_count": null,
   "metadata": {},
   "outputs": [],
   "source": []
  }
 ],
 "metadata": {
  "kernelspec": {
   "display_name": "myenv",
   "language": "python",
   "name": "python3"
  },
  "language_info": {
   "codemirror_mode": {
    "name": "ipython",
    "version": 3
   },
   "file_extension": ".py",
   "mimetype": "text/x-python",
   "name": "python",
   "nbconvert_exporter": "python",
   "pygments_lexer": "ipython3",
   "version": "3.9.18"
  }
 },
 "nbformat": 4,
 "nbformat_minor": 2
}
