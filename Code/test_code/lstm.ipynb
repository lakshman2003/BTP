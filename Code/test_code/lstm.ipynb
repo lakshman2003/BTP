{
 "cells": [
  {
   "cell_type": "code",
   "execution_count": 1,
   "metadata": {
    "id": "iHvm-Sjn4YSQ"
   },
   "outputs": [
    {
     "name": "stderr",
     "output_type": "stream",
     "text": [
      "C:\\Users\\91897\\AppData\\Local\\Temp\\ipykernel_13756\\1576438456.py:2: DeprecationWarning: \n",
      "Pyarrow will become a required dependency of pandas in the next major release of pandas (pandas 3.0),\n",
      "(to allow more performant data types, such as the Arrow string type, and better interoperability with other libraries)\n",
      "but was not found to be installed on your system.\n",
      "If this would cause problems for you,\n",
      "please provide us feedback at https://github.com/pandas-dev/pandas/issues/54466\n",
      "        \n",
      "  import pandas as pd\n"
     ]
    }
   ],
   "source": [
    "import os\n",
    "import pandas as pd\n",
    "import numpy as np"
   ]
  },
  {
   "cell_type": "code",
   "execution_count": 2,
   "metadata": {
    "colab": {
     "base_uri": "https://localhost:8080/",
     "height": 349
    },
    "id": "JWGUmsl04YSR",
    "outputId": "08652394-b429-49ae-f6b1-c2f9d6d678d2"
   },
   "outputs": [
    {
     "data": {
      "text/html": [
       "<div>\n",
       "<style scoped>\n",
       "    .dataframe tbody tr th:only-of-type {\n",
       "        vertical-align: middle;\n",
       "    }\n",
       "\n",
       "    .dataframe tbody tr th {\n",
       "        vertical-align: top;\n",
       "    }\n",
       "\n",
       "    .dataframe thead th {\n",
       "        text-align: right;\n",
       "    }\n",
       "</style>\n",
       "<table border=\"1\" class=\"dataframe\">\n",
       "  <thead>\n",
       "    <tr style=\"text-align: right;\">\n",
       "      <th></th>\n",
       "      <th>ADANIENT</th>\n",
       "      <th>BRITANNIA</th>\n",
       "      <th>CIPLA</th>\n",
       "      <th>COALINDIA</th>\n",
       "      <th>DIVISLAB</th>\n",
       "      <th>DRREDDY</th>\n",
       "      <th>EICHERMOT</th>\n",
       "      <th>GRASIM</th>\n",
       "      <th>HCLTECH</th>\n",
       "      <th>HDFCBANK</th>\n",
       "      <th>...</th>\n",
       "      <th>TITAN</th>\n",
       "      <th>UPL</th>\n",
       "      <th>ULTRACEMCO</th>\n",
       "      <th>WIPRO</th>\n",
       "      <th>AXISBANK</th>\n",
       "      <th>BAJAJ-AUTO</th>\n",
       "      <th>BAJFINANCE</th>\n",
       "      <th>BAJAJFINSV</th>\n",
       "      <th>BPCL</th>\n",
       "      <th>BHARTIARTL</th>\n",
       "    </tr>\n",
       "  </thead>\n",
       "  <tbody>\n",
       "    <tr>\n",
       "      <th>count</th>\n",
       "      <td>3005.000000</td>\n",
       "      <td>3005.000000</td>\n",
       "      <td>3005.000000</td>\n",
       "      <td>3005.000000</td>\n",
       "      <td>3005.000000</td>\n",
       "      <td>3005.000000</td>\n",
       "      <td>3005.000000</td>\n",
       "      <td>3005.000000</td>\n",
       "      <td>3005.000000</td>\n",
       "      <td>3005.000000</td>\n",
       "      <td>...</td>\n",
       "      <td>3005.000000</td>\n",
       "      <td>3005.000000</td>\n",
       "      <td>3005.000000</td>\n",
       "      <td>3005.000000</td>\n",
       "      <td>3005.000000</td>\n",
       "      <td>3005.000000</td>\n",
       "      <td>3005.000000</td>\n",
       "      <td>3005.000000</td>\n",
       "      <td>3005.000000</td>\n",
       "      <td>3005.000000</td>\n",
       "    </tr>\n",
       "    <tr>\n",
       "      <th>mean</th>\n",
       "      <td>633.341357</td>\n",
       "      <td>2156.886180</td>\n",
       "      <td>640.758956</td>\n",
       "      <td>155.561973</td>\n",
       "      <td>1797.518830</td>\n",
       "      <td>3185.517052</td>\n",
       "      <td>1949.238653</td>\n",
       "      <td>906.600425</td>\n",
       "      <td>527.752811</td>\n",
       "      <td>882.586093</td>\n",
       "      <td>...</td>\n",
       "      <td>1067.947571</td>\n",
       "      <td>411.988163</td>\n",
       "      <td>4182.339237</td>\n",
       "      <td>271.766160</td>\n",
       "      <td>553.570925</td>\n",
       "      <td>2500.942075</td>\n",
       "      <td>2717.654767</td>\n",
       "      <td>638.130098</td>\n",
       "      <td>245.003161</td>\n",
       "      <td>438.739002</td>\n",
       "    </tr>\n",
       "    <tr>\n",
       "      <th>std</th>\n",
       "      <td>1013.359215</td>\n",
       "      <td>1440.439963</td>\n",
       "      <td>254.767135</td>\n",
       "      <td>52.458191</td>\n",
       "      <td>1377.658824</td>\n",
       "      <td>1188.163520</td>\n",
       "      <td>1033.313968</td>\n",
       "      <td>495.868959</td>\n",
       "      <td>349.694835</td>\n",
       "      <td>469.192995</td>\n",
       "      <td>...</td>\n",
       "      <td>944.366754</td>\n",
       "      <td>219.584657</td>\n",
       "      <td>2126.307625</td>\n",
       "      <td>135.562967</td>\n",
       "      <td>228.244484</td>\n",
       "      <td>1167.232985</td>\n",
       "      <td>2609.157504</td>\n",
       "      <td>558.827643</td>\n",
       "      <td>115.421963</td>\n",
       "      <td>211.752147</td>\n",
       "    </tr>\n",
       "    <tr>\n",
       "      <th>min</th>\n",
       "      <td>18.796553</td>\n",
       "      <td>186.168533</td>\n",
       "      <td>272.990204</td>\n",
       "      <td>75.514877</td>\n",
       "      <td>318.192383</td>\n",
       "      <td>1405.305420</td>\n",
       "      <td>137.076782</td>\n",
       "      <td>316.081879</td>\n",
       "      <td>74.488335</td>\n",
       "      <td>195.259384</td>\n",
       "      <td>...</td>\n",
       "      <td>162.429214</td>\n",
       "      <td>62.702530</td>\n",
       "      <td>1087.994873</td>\n",
       "      <td>111.145164</td>\n",
       "      <td>148.065018</td>\n",
       "      <td>996.573669</td>\n",
       "      <td>53.954967</td>\n",
       "      <td>40.620739</td>\n",
       "      <td>43.317684</td>\n",
       "      <td>205.996841</td>\n",
       "    </tr>\n",
       "    <tr>\n",
       "      <th>25%</th>\n",
       "      <td>42.255657</td>\n",
       "      <td>846.795044</td>\n",
       "      <td>454.789276</td>\n",
       "      <td>124.938423</td>\n",
       "      <td>683.712708</td>\n",
       "      <td>2284.340820</td>\n",
       "      <td>1376.775391</td>\n",
       "      <td>506.490631</td>\n",
       "      <td>315.875916</td>\n",
       "      <td>455.686371</td>\n",
       "      <td>...</td>\n",
       "      <td>330.461395</td>\n",
       "      <td>223.645325</td>\n",
       "      <td>2628.458984</td>\n",
       "      <td>186.984253</td>\n",
       "      <td>402.924896</td>\n",
       "      <td>1727.858765</td>\n",
       "      <td>378.976105</td>\n",
       "      <td>131.759201</td>\n",
       "      <td>147.589554</td>\n",
       "      <td>286.976349</td>\n",
       "    </tr>\n",
       "    <tr>\n",
       "      <th>50%</th>\n",
       "      <td>91.604172</td>\n",
       "      <td>2159.928955</td>\n",
       "      <td>572.538940</td>\n",
       "      <td>150.431915</td>\n",
       "      <td>1096.414551</td>\n",
       "      <td>2834.017334</td>\n",
       "      <td>2069.880127</td>\n",
       "      <td>739.326904</td>\n",
       "      <td>393.638824</td>\n",
       "      <td>890.442566</td>\n",
       "      <td>...</td>\n",
       "      <td>800.377502</td>\n",
       "      <td>437.294769</td>\n",
       "      <td>3843.958008</td>\n",
       "      <td>211.735443</td>\n",
       "      <td>534.344177</td>\n",
       "      <td>2261.286377</td>\n",
       "      <td>1784.374634</td>\n",
       "      <td>511.523285</td>\n",
       "      <td>277.779755</td>\n",
       "      <td>336.453400</td>\n",
       "    </tr>\n",
       "    <tr>\n",
       "      <th>75%</th>\n",
       "      <td>804.621216</td>\n",
       "      <td>3354.730469</td>\n",
       "      <td>811.459656</td>\n",
       "      <td>168.762100</td>\n",
       "      <td>3263.449951</td>\n",
       "      <td>4232.393555</td>\n",
       "      <td>2688.486084</td>\n",
       "      <td>1240.489990</td>\n",
       "      <td>830.965881</td>\n",
       "      <td>1349.573242</td>\n",
       "      <td>...</td>\n",
       "      <td>1478.045776</td>\n",
       "      <td>574.535400</td>\n",
       "      <td>5554.201172</td>\n",
       "      <td>378.757324</td>\n",
       "      <td>726.750977</td>\n",
       "      <td>3047.652588</td>\n",
       "      <td>5173.579590</td>\n",
       "      <td>968.819397</td>\n",
       "      <td>330.712097</td>\n",
       "      <td>534.702454</td>\n",
       "    </tr>\n",
       "    <tr>\n",
       "      <th>max</th>\n",
       "      <td>4163.219727</td>\n",
       "      <td>5361.299805</td>\n",
       "      <td>1487.449951</td>\n",
       "      <td>474.533630</td>\n",
       "      <td>5288.634277</td>\n",
       "      <td>6449.600098</td>\n",
       "      <td>4180.350098</td>\n",
       "      <td>2254.899902</td>\n",
       "      <td>1686.400024</td>\n",
       "      <td>1728.199951</td>\n",
       "      <td>...</td>\n",
       "      <td>3866.649902</td>\n",
       "      <td>818.247742</td>\n",
       "      <td>10503.049805</td>\n",
       "      <td>711.108215</td>\n",
       "      <td>1136.949951</td>\n",
       "      <td>8879.049805</td>\n",
       "      <td>8168.549805</td>\n",
       "      <td>1904.959839</td>\n",
       "      <td>657.599976</td>\n",
       "      <td>1199.699951</td>\n",
       "    </tr>\n",
       "  </tbody>\n",
       "</table>\n",
       "<p>8 rows × 47 columns</p>\n",
       "</div>"
      ],
      "text/plain": [
       "          ADANIENT    BRITANNIA        CIPLA    COALINDIA     DIVISLAB  \\\n",
       "count  3005.000000  3005.000000  3005.000000  3005.000000  3005.000000   \n",
       "mean    633.341357  2156.886180   640.758956   155.561973  1797.518830   \n",
       "std    1013.359215  1440.439963   254.767135    52.458191  1377.658824   \n",
       "min      18.796553   186.168533   272.990204    75.514877   318.192383   \n",
       "25%      42.255657   846.795044   454.789276   124.938423   683.712708   \n",
       "50%      91.604172  2159.928955   572.538940   150.431915  1096.414551   \n",
       "75%     804.621216  3354.730469   811.459656   168.762100  3263.449951   \n",
       "max    4163.219727  5361.299805  1487.449951   474.533630  5288.634277   \n",
       "\n",
       "           DRREDDY    EICHERMOT       GRASIM      HCLTECH     HDFCBANK  ...  \\\n",
       "count  3005.000000  3005.000000  3005.000000  3005.000000  3005.000000  ...   \n",
       "mean   3185.517052  1949.238653   906.600425   527.752811   882.586093  ...   \n",
       "std    1188.163520  1033.313968   495.868959   349.694835   469.192995  ...   \n",
       "min    1405.305420   137.076782   316.081879    74.488335   195.259384  ...   \n",
       "25%    2284.340820  1376.775391   506.490631   315.875916   455.686371  ...   \n",
       "50%    2834.017334  2069.880127   739.326904   393.638824   890.442566  ...   \n",
       "75%    4232.393555  2688.486084  1240.489990   830.965881  1349.573242  ...   \n",
       "max    6449.600098  4180.350098  2254.899902  1686.400024  1728.199951  ...   \n",
       "\n",
       "             TITAN          UPL    ULTRACEMCO        WIPRO     AXISBANK  \\\n",
       "count  3005.000000  3005.000000   3005.000000  3005.000000  3005.000000   \n",
       "mean   1067.947571   411.988163   4182.339237   271.766160   553.570925   \n",
       "std     944.366754   219.584657   2126.307625   135.562967   228.244484   \n",
       "min     162.429214    62.702530   1087.994873   111.145164   148.065018   \n",
       "25%     330.461395   223.645325   2628.458984   186.984253   402.924896   \n",
       "50%     800.377502   437.294769   3843.958008   211.735443   534.344177   \n",
       "75%    1478.045776   574.535400   5554.201172   378.757324   726.750977   \n",
       "max    3866.649902   818.247742  10503.049805   711.108215  1136.949951   \n",
       "\n",
       "        BAJAJ-AUTO   BAJFINANCE   BAJAJFINSV         BPCL   BHARTIARTL  \n",
       "count  3005.000000  3005.000000  3005.000000  3005.000000  3005.000000  \n",
       "mean   2500.942075  2717.654767   638.130098   245.003161   438.739002  \n",
       "std    1167.232985  2609.157504   558.827643   115.421963   211.752147  \n",
       "min     996.573669    53.954967    40.620739    43.317684   205.996841  \n",
       "25%    1727.858765   378.976105   131.759201   147.589554   286.976349  \n",
       "50%    2261.286377  1784.374634   511.523285   277.779755   336.453400  \n",
       "75%    3047.652588  5173.579590   968.819397   330.712097   534.702454  \n",
       "max    8879.049805  8168.549805  1904.959839   657.599976  1199.699951  \n",
       "\n",
       "[8 rows x 47 columns]"
      ]
     },
     "execution_count": 2,
     "metadata": {},
     "output_type": "execute_result"
    }
   ],
   "source": [
    "merged_df = pd.read_csv('Closed_price_Data.csv')\n",
    "merged_df.describe()"
   ]
  },
  {
   "cell_type": "code",
   "execution_count": 3,
   "metadata": {
    "colab": {
     "base_uri": "https://localhost:8080/",
     "height": 255
    },
    "id": "dNZrDOdn5oFg",
    "outputId": "56cd4103-a590-4098-e12b-aba804321fa3"
   },
   "outputs": [
    {
     "data": {
      "text/html": [
       "<div>\n",
       "<style scoped>\n",
       "    .dataframe tbody tr th:only-of-type {\n",
       "        vertical-align: middle;\n",
       "    }\n",
       "\n",
       "    .dataframe tbody tr th {\n",
       "        vertical-align: top;\n",
       "    }\n",
       "\n",
       "    .dataframe thead th {\n",
       "        text-align: right;\n",
       "    }\n",
       "</style>\n",
       "<table border=\"1\" class=\"dataframe\">\n",
       "  <thead>\n",
       "    <tr style=\"text-align: right;\">\n",
       "      <th></th>\n",
       "      <th>Date</th>\n",
       "      <th>ADANIENT</th>\n",
       "      <th>BRITANNIA</th>\n",
       "      <th>CIPLA</th>\n",
       "      <th>COALINDIA</th>\n",
       "      <th>DIVISLAB</th>\n",
       "      <th>DRREDDY</th>\n",
       "      <th>EICHERMOT</th>\n",
       "      <th>GRASIM</th>\n",
       "      <th>HCLTECH</th>\n",
       "      <th>...</th>\n",
       "      <th>TITAN</th>\n",
       "      <th>UPL</th>\n",
       "      <th>ULTRACEMCO</th>\n",
       "      <th>WIPRO</th>\n",
       "      <th>AXISBANK</th>\n",
       "      <th>BAJAJ-AUTO</th>\n",
       "      <th>BAJFINANCE</th>\n",
       "      <th>BAJAJFINSV</th>\n",
       "      <th>BPCL</th>\n",
       "      <th>BHARTIARTL</th>\n",
       "    </tr>\n",
       "  </thead>\n",
       "  <tbody>\n",
       "    <tr>\n",
       "      <th>0</th>\n",
       "      <td>2012-01-02</td>\n",
       "      <td>37.360767</td>\n",
       "      <td>189.653061</td>\n",
       "      <td>302.981354</td>\n",
       "      <td>119.517441</td>\n",
       "      <td>347.175476</td>\n",
       "      <td>1429.439087</td>\n",
       "      <td>138.428375</td>\n",
       "      <td>344.951599</td>\n",
       "      <td>74.488335</td>\n",
       "      <td>...</td>\n",
       "      <td>164.542953</td>\n",
       "      <td>72.786537</td>\n",
       "      <td>1103.534058</td>\n",
       "      <td>133.781372</td>\n",
       "      <td>148.065018</td>\n",
       "      <td>1033.813477</td>\n",
       "      <td>55.180374</td>\n",
       "      <td>40.790676</td>\n",
       "      <td>45.257984</td>\n",
       "      <td>292.015533</td>\n",
       "    </tr>\n",
       "    <tr>\n",
       "      <th>1</th>\n",
       "      <td>2012-01-03</td>\n",
       "      <td>37.192513</td>\n",
       "      <td>190.077988</td>\n",
       "      <td>309.782532</td>\n",
       "      <td>125.279831</td>\n",
       "      <td>348.197083</td>\n",
       "      <td>1462.634155</td>\n",
       "      <td>144.936447</td>\n",
       "      <td>350.144135</td>\n",
       "      <td>76.305084</td>\n",
       "      <td>...</td>\n",
       "      <td>168.676483</td>\n",
       "      <td>75.050377</td>\n",
       "      <td>1124.237427</td>\n",
       "      <td>139.648972</td>\n",
       "      <td>156.029007</td>\n",
       "      <td>1047.125977</td>\n",
       "      <td>56.053715</td>\n",
       "      <td>42.358997</td>\n",
       "      <td>44.528019</td>\n",
       "      <td>303.745300</td>\n",
       "    </tr>\n",
       "    <tr>\n",
       "      <th>2</th>\n",
       "      <td>2012-01-04</td>\n",
       "      <td>36.001732</td>\n",
       "      <td>190.460495</td>\n",
       "      <td>312.521851</td>\n",
       "      <td>125.088425</td>\n",
       "      <td>348.197083</td>\n",
       "      <td>1449.109985</td>\n",
       "      <td>141.251953</td>\n",
       "      <td>343.417999</td>\n",
       "      <td>79.181679</td>\n",
       "      <td>...</td>\n",
       "      <td>167.032486</td>\n",
       "      <td>75.709450</td>\n",
       "      <td>1091.963257</td>\n",
       "      <td>140.235733</td>\n",
       "      <td>158.003708</td>\n",
       "      <td>998.816040</td>\n",
       "      <td>55.354130</td>\n",
       "      <td>40.620739</td>\n",
       "      <td>44.334942</td>\n",
       "      <td>293.328247</td>\n",
       "    </tr>\n",
       "    <tr>\n",
       "      <th>3</th>\n",
       "      <td>2012-01-05</td>\n",
       "      <td>34.571507</td>\n",
       "      <td>186.763428</td>\n",
       "      <td>316.441925</td>\n",
       "      <td>122.733643</td>\n",
       "      <td>343.089020</td>\n",
       "      <td>1440.412842</td>\n",
       "      <td>140.006805</td>\n",
       "      <td>342.733337</td>\n",
       "      <td>78.490944</td>\n",
       "      <td>...</td>\n",
       "      <td>165.764191</td>\n",
       "      <td>76.081985</td>\n",
       "      <td>1099.804443</td>\n",
       "      <td>139.129318</td>\n",
       "      <td>162.195297</td>\n",
       "      <td>1028.978882</td>\n",
       "      <td>55.514172</td>\n",
       "      <td>40.839226</td>\n",
       "      <td>43.317684</td>\n",
       "      <td>291.676758</td>\n",
       "    </tr>\n",
       "    <tr>\n",
       "      <th>4</th>\n",
       "      <td>2012-01-06</td>\n",
       "      <td>34.759171</td>\n",
       "      <td>188.314453</td>\n",
       "      <td>319.700897</td>\n",
       "      <td>121.776459</td>\n",
       "      <td>342.178436</td>\n",
       "      <td>1457.625366</td>\n",
       "      <td>138.280258</td>\n",
       "      <td>345.008636</td>\n",
       "      <td>79.020805</td>\n",
       "      <td>...</td>\n",
       "      <td>162.429214</td>\n",
       "      <td>76.110657</td>\n",
       "      <td>1100.282715</td>\n",
       "      <td>136.044586</td>\n",
       "      <td>159.000381</td>\n",
       "      <td>1020.676270</td>\n",
       "      <td>53.954967</td>\n",
       "      <td>40.960613</td>\n",
       "      <td>44.881233</td>\n",
       "      <td>279.947021</td>\n",
       "    </tr>\n",
       "  </tbody>\n",
       "</table>\n",
       "<p>5 rows × 48 columns</p>\n",
       "</div>"
      ],
      "text/plain": [
       "         Date   ADANIENT   BRITANNIA       CIPLA   COALINDIA    DIVISLAB  \\\n",
       "0  2012-01-02  37.360767  189.653061  302.981354  119.517441  347.175476   \n",
       "1  2012-01-03  37.192513  190.077988  309.782532  125.279831  348.197083   \n",
       "2  2012-01-04  36.001732  190.460495  312.521851  125.088425  348.197083   \n",
       "3  2012-01-05  34.571507  186.763428  316.441925  122.733643  343.089020   \n",
       "4  2012-01-06  34.759171  188.314453  319.700897  121.776459  342.178436   \n",
       "\n",
       "       DRREDDY   EICHERMOT      GRASIM    HCLTECH  ...       TITAN        UPL  \\\n",
       "0  1429.439087  138.428375  344.951599  74.488335  ...  164.542953  72.786537   \n",
       "1  1462.634155  144.936447  350.144135  76.305084  ...  168.676483  75.050377   \n",
       "2  1449.109985  141.251953  343.417999  79.181679  ...  167.032486  75.709450   \n",
       "3  1440.412842  140.006805  342.733337  78.490944  ...  165.764191  76.081985   \n",
       "4  1457.625366  138.280258  345.008636  79.020805  ...  162.429214  76.110657   \n",
       "\n",
       "    ULTRACEMCO       WIPRO    AXISBANK   BAJAJ-AUTO  BAJFINANCE  BAJAJFINSV  \\\n",
       "0  1103.534058  133.781372  148.065018  1033.813477   55.180374   40.790676   \n",
       "1  1124.237427  139.648972  156.029007  1047.125977   56.053715   42.358997   \n",
       "2  1091.963257  140.235733  158.003708   998.816040   55.354130   40.620739   \n",
       "3  1099.804443  139.129318  162.195297  1028.978882   55.514172   40.839226   \n",
       "4  1100.282715  136.044586  159.000381  1020.676270   53.954967   40.960613   \n",
       "\n",
       "        BPCL  BHARTIARTL  \n",
       "0  45.257984  292.015533  \n",
       "1  44.528019  303.745300  \n",
       "2  44.334942  293.328247  \n",
       "3  43.317684  291.676758  \n",
       "4  44.881233  279.947021  \n",
       "\n",
       "[5 rows x 48 columns]"
      ]
     },
     "execution_count": 3,
     "metadata": {},
     "output_type": "execute_result"
    }
   ],
   "source": [
    "merged_df.head()"
   ]
  },
  {
   "cell_type": "code",
   "execution_count": 4,
   "metadata": {
    "colab": {
     "base_uri": "https://localhost:8080/",
     "height": 255
    },
    "id": "juNfNZu87OKF",
    "outputId": "c36c17fe-c854-430f-9a7c-490b34a4f8cd"
   },
   "outputs": [
    {
     "data": {
      "text/html": [
       "<div>\n",
       "<style scoped>\n",
       "    .dataframe tbody tr th:only-of-type {\n",
       "        vertical-align: middle;\n",
       "    }\n",
       "\n",
       "    .dataframe tbody tr th {\n",
       "        vertical-align: top;\n",
       "    }\n",
       "\n",
       "    .dataframe thead th {\n",
       "        text-align: right;\n",
       "    }\n",
       "</style>\n",
       "<table border=\"1\" class=\"dataframe\">\n",
       "  <thead>\n",
       "    <tr style=\"text-align: right;\">\n",
       "      <th></th>\n",
       "      <th>Date</th>\n",
       "      <th>ADANIENT</th>\n",
       "      <th>BRITANNIA</th>\n",
       "      <th>CIPLA</th>\n",
       "      <th>COALINDIA</th>\n",
       "      <th>DIVISLAB</th>\n",
       "      <th>DRREDDY</th>\n",
       "      <th>EICHERMOT</th>\n",
       "      <th>GRASIM</th>\n",
       "      <th>HCLTECH</th>\n",
       "      <th>...</th>\n",
       "      <th>TITAN</th>\n",
       "      <th>UPL</th>\n",
       "      <th>ULTRACEMCO</th>\n",
       "      <th>WIPRO</th>\n",
       "      <th>AXISBANK</th>\n",
       "      <th>BAJAJ-AUTO</th>\n",
       "      <th>BAJFINANCE</th>\n",
       "      <th>BAJAJFINSV</th>\n",
       "      <th>BPCL</th>\n",
       "      <th>BHARTIARTL</th>\n",
       "    </tr>\n",
       "  </thead>\n",
       "  <tbody>\n",
       "    <tr>\n",
       "      <th>0</th>\n",
       "      <td>2012-01-02</td>\n",
       "      <td>0.000000</td>\n",
       "      <td>0.000000</td>\n",
       "      <td>0.000000</td>\n",
       "      <td>0.000000</td>\n",
       "      <td>0.000000</td>\n",
       "      <td>0.000000</td>\n",
       "      <td>0.000000</td>\n",
       "      <td>0.000000</td>\n",
       "      <td>0.000000</td>\n",
       "      <td>...</td>\n",
       "      <td>0.000000</td>\n",
       "      <td>0.000000</td>\n",
       "      <td>0.000000</td>\n",
       "      <td>0.000000</td>\n",
       "      <td>0.000000</td>\n",
       "      <td>0.000000</td>\n",
       "      <td>0.000000</td>\n",
       "      <td>0.000000</td>\n",
       "      <td>0.000000</td>\n",
       "      <td>0.000000</td>\n",
       "    </tr>\n",
       "    <tr>\n",
       "      <th>1</th>\n",
       "      <td>2012-01-03</td>\n",
       "      <td>-0.004504</td>\n",
       "      <td>0.002241</td>\n",
       "      <td>0.022448</td>\n",
       "      <td>0.048214</td>\n",
       "      <td>0.002943</td>\n",
       "      <td>0.023222</td>\n",
       "      <td>0.047014</td>\n",
       "      <td>0.015053</td>\n",
       "      <td>0.024390</td>\n",
       "      <td>...</td>\n",
       "      <td>0.025121</td>\n",
       "      <td>0.031102</td>\n",
       "      <td>0.018761</td>\n",
       "      <td>0.043860</td>\n",
       "      <td>0.053787</td>\n",
       "      <td>0.012877</td>\n",
       "      <td>0.015827</td>\n",
       "      <td>0.038448</td>\n",
       "      <td>-0.016129</td>\n",
       "      <td>0.040168</td>\n",
       "    </tr>\n",
       "    <tr>\n",
       "      <th>2</th>\n",
       "      <td>2012-01-04</td>\n",
       "      <td>-0.032017</td>\n",
       "      <td>0.002012</td>\n",
       "      <td>0.008843</td>\n",
       "      <td>-0.001528</td>\n",
       "      <td>0.000000</td>\n",
       "      <td>-0.009246</td>\n",
       "      <td>-0.025421</td>\n",
       "      <td>-0.019210</td>\n",
       "      <td>0.037699</td>\n",
       "      <td>...</td>\n",
       "      <td>-0.009746</td>\n",
       "      <td>0.008782</td>\n",
       "      <td>-0.028708</td>\n",
       "      <td>0.004202</td>\n",
       "      <td>0.012656</td>\n",
       "      <td>-0.046136</td>\n",
       "      <td>-0.012481</td>\n",
       "      <td>-0.041036</td>\n",
       "      <td>-0.004336</td>\n",
       "      <td>-0.034295</td>\n",
       "    </tr>\n",
       "    <tr>\n",
       "      <th>3</th>\n",
       "      <td>2012-01-05</td>\n",
       "      <td>-0.039727</td>\n",
       "      <td>-0.019411</td>\n",
       "      <td>0.012543</td>\n",
       "      <td>-0.018825</td>\n",
       "      <td>-0.014670</td>\n",
       "      <td>-0.006002</td>\n",
       "      <td>-0.008815</td>\n",
       "      <td>-0.001994</td>\n",
       "      <td>-0.008723</td>\n",
       "      <td>...</td>\n",
       "      <td>-0.007593</td>\n",
       "      <td>0.004921</td>\n",
       "      <td>0.007181</td>\n",
       "      <td>-0.007890</td>\n",
       "      <td>0.026528</td>\n",
       "      <td>0.030199</td>\n",
       "      <td>0.002891</td>\n",
       "      <td>0.005379</td>\n",
       "      <td>-0.022945</td>\n",
       "      <td>-0.005630</td>\n",
       "    </tr>\n",
       "    <tr>\n",
       "      <th>4</th>\n",
       "      <td>2012-01-06</td>\n",
       "      <td>0.005428</td>\n",
       "      <td>0.008305</td>\n",
       "      <td>0.010299</td>\n",
       "      <td>-0.007799</td>\n",
       "      <td>-0.002654</td>\n",
       "      <td>0.011950</td>\n",
       "      <td>-0.012332</td>\n",
       "      <td>0.006639</td>\n",
       "      <td>0.006751</td>\n",
       "      <td>...</td>\n",
       "      <td>-0.020119</td>\n",
       "      <td>0.000377</td>\n",
       "      <td>0.000435</td>\n",
       "      <td>-0.022172</td>\n",
       "      <td>-0.019698</td>\n",
       "      <td>-0.008069</td>\n",
       "      <td>-0.028087</td>\n",
       "      <td>0.002972</td>\n",
       "      <td>0.036095</td>\n",
       "      <td>-0.040215</td>\n",
       "    </tr>\n",
       "  </tbody>\n",
       "</table>\n",
       "<p>5 rows × 48 columns</p>\n",
       "</div>"
      ],
      "text/plain": [
       "         Date  ADANIENT  BRITANNIA     CIPLA  COALINDIA  DIVISLAB   DRREDDY  \\\n",
       "0  2012-01-02  0.000000   0.000000  0.000000   0.000000  0.000000  0.000000   \n",
       "1  2012-01-03 -0.004504   0.002241  0.022448   0.048214  0.002943  0.023222   \n",
       "2  2012-01-04 -0.032017   0.002012  0.008843  -0.001528  0.000000 -0.009246   \n",
       "3  2012-01-05 -0.039727  -0.019411  0.012543  -0.018825 -0.014670 -0.006002   \n",
       "4  2012-01-06  0.005428   0.008305  0.010299  -0.007799 -0.002654  0.011950   \n",
       "\n",
       "   EICHERMOT    GRASIM   HCLTECH  ...     TITAN       UPL  ULTRACEMCO  \\\n",
       "0   0.000000  0.000000  0.000000  ...  0.000000  0.000000    0.000000   \n",
       "1   0.047014  0.015053  0.024390  ...  0.025121  0.031102    0.018761   \n",
       "2  -0.025421 -0.019210  0.037699  ... -0.009746  0.008782   -0.028708   \n",
       "3  -0.008815 -0.001994 -0.008723  ... -0.007593  0.004921    0.007181   \n",
       "4  -0.012332  0.006639  0.006751  ... -0.020119  0.000377    0.000435   \n",
       "\n",
       "      WIPRO  AXISBANK  BAJAJ-AUTO  BAJFINANCE  BAJAJFINSV      BPCL  \\\n",
       "0  0.000000  0.000000    0.000000    0.000000    0.000000  0.000000   \n",
       "1  0.043860  0.053787    0.012877    0.015827    0.038448 -0.016129   \n",
       "2  0.004202  0.012656   -0.046136   -0.012481   -0.041036 -0.004336   \n",
       "3 -0.007890  0.026528    0.030199    0.002891    0.005379 -0.022945   \n",
       "4 -0.022172 -0.019698   -0.008069   -0.028087    0.002972  0.036095   \n",
       "\n",
       "   BHARTIARTL  \n",
       "0    0.000000  \n",
       "1    0.040168  \n",
       "2   -0.034295  \n",
       "3   -0.005630  \n",
       "4   -0.040215  \n",
       "\n",
       "[5 rows x 48 columns]"
      ]
     },
     "execution_count": 4,
     "metadata": {},
     "output_type": "execute_result"
    }
   ],
   "source": [
    "prices = np.array(merged_df.drop(columns = ['Date']))\n",
    "returns = np.zeros_like(prices)\n",
    "for i in range(1,returns.shape[0]):\n",
    "  for j in range(returns.shape[1]):\n",
    "    returns[i][j] = (prices[i][j]-prices[i-1][j])/prices[i-1][j]\n",
    "\n",
    "returns_df = pd.DataFrame(columns = merged_df.drop(columns = 'Date').columns,data = returns)\n",
    "returns_df = pd.concat([merged_df['Date'],returns_df], axis = 1)\n",
    "returns_df.head()"
   ]
  },
  {
   "cell_type": "code",
   "execution_count": 5,
   "metadata": {
    "colab": {
     "base_uri": "https://localhost:8080/"
    },
    "id": "DqfAxfc-9Ywr",
    "outputId": "af035a49-a809-4d8a-d88b-38420f4b3176"
   },
   "outputs": [
    {
     "name": "stdout",
     "output_type": "stream",
     "text": [
      "(3005, 47)\n",
      "(2994, 10, 47)\n",
      "(2994, 47)\n"
     ]
    }
   ],
   "source": [
    "sliding_window = 10\n",
    "print(returns.shape)\n",
    "X = np.array([returns[i:i+sliding_window,:] for i in range(0,returns.shape[0]-sliding_window-1)])\n",
    "Y = np.array([returns[i+sliding_window,:] for i in range(0,returns.shape[0]-sliding_window-1)])\n",
    "print(X.shape)\n",
    "print(Y.shape)"
   ]
  },
  {
   "cell_type": "code",
   "execution_count": 6,
   "metadata": {
    "colab": {
     "base_uri": "https://localhost:8080/"
    },
    "id": "S8dleWmeZpwK",
    "outputId": "a920bfdb-b1c9-4e7b-9f75-43bf1986ed25"
   },
   "outputs": [
    {
     "name": "stdout",
     "output_type": "stream",
     "text": [
      "There are no NaN values in X.\n"
     ]
    }
   ],
   "source": [
    "nan_count = np.count_nonzero(np.isnan(X))\n",
    "if nan_count > 0:\n",
    "  print(\"There are\", nan_count, \"NaN values in X.\")\n",
    "else:\n",
    "  print(\"There are no NaN values in X.\")\n"
   ]
  },
  {
   "cell_type": "code",
   "execution_count": 7,
   "metadata": {
    "colab": {
     "base_uri": "https://localhost:8080/"
    },
    "id": "ioNWNlyZZ-25",
    "outputId": "a994744b-d1a1-4ccb-c985-fb2c1e1abf1f"
   },
   "outputs": [
    {
     "name": "stdout",
     "output_type": "stream",
     "text": [
      "There are no NaN values in Y.\n"
     ]
    }
   ],
   "source": [
    "nan_count = np.count_nonzero(np.isnan(Y))\n",
    "if nan_count > 0:\n",
    "  print(\"There are\", nan_count, \"NaN values in Y.\")\n",
    "else:\n",
    "  print(\"There are no NaN values in Y.\")\n"
   ]
  },
  {
   "cell_type": "code",
   "execution_count": 8,
   "metadata": {
    "id": "9crdghrlLACA"
   },
   "outputs": [],
   "source": [
    "from sklearn.model_selection import train_test_split\n",
    "X_train, X_valid, Y_train, Y_valid = train_test_split(X, Y, test_size=0.2, random_state=42)"
   ]
  },
  {
   "cell_type": "code",
   "execution_count": 9,
   "metadata": {
    "colab": {
     "base_uri": "https://localhost:8080/",
     "height": 332
    },
    "id": "iqk1pGiDbgu1",
    "outputId": "9ae01a02-d586-4305-8df5-7f62e5ecad86"
   },
   "outputs": [
    {
     "name": "stderr",
     "output_type": "stream",
     "text": [
      "100%|██████████| 300/300 [00:03<00:00, 76.47it/s] \n"
     ]
    },
    {
     "name": "stdout",
     "output_type": "stream",
     "text": [
      "Epoch [1/100], Loss: -0.0323\n"
     ]
    },
    {
     "name": "stderr",
     "output_type": "stream",
     "text": [
      "100%|██████████| 300/300 [00:01<00:00, 174.24it/s]\n"
     ]
    },
    {
     "name": "stdout",
     "output_type": "stream",
     "text": [
      "Epoch [2/100], Loss: -0.1663\n"
     ]
    },
    {
     "name": "stderr",
     "output_type": "stream",
     "text": [
      "100%|██████████| 300/300 [00:01<00:00, 151.65it/s]\n"
     ]
    },
    {
     "name": "stdout",
     "output_type": "stream",
     "text": [
      "Epoch [3/100], Loss: -0.2811\n"
     ]
    },
    {
     "name": "stderr",
     "output_type": "stream",
     "text": [
      "100%|██████████| 300/300 [00:01<00:00, 180.16it/s]\n"
     ]
    },
    {
     "name": "stdout",
     "output_type": "stream",
     "text": [
      "Epoch [4/100], Loss: -0.3842\n"
     ]
    },
    {
     "name": "stderr",
     "output_type": "stream",
     "text": [
      "100%|██████████| 300/300 [00:01<00:00, 175.26it/s]\n"
     ]
    },
    {
     "name": "stdout",
     "output_type": "stream",
     "text": [
      "Epoch [5/100], Loss: -0.4856\n"
     ]
    },
    {
     "name": "stderr",
     "output_type": "stream",
     "text": [
      "100%|██████████| 300/300 [00:01<00:00, 165.05it/s]\n"
     ]
    },
    {
     "name": "stdout",
     "output_type": "stream",
     "text": [
      "Epoch [6/100], Loss: -0.5837\n"
     ]
    },
    {
     "name": "stderr",
     "output_type": "stream",
     "text": [
      "100%|██████████| 300/300 [00:01<00:00, 201.49it/s]\n"
     ]
    },
    {
     "name": "stdout",
     "output_type": "stream",
     "text": [
      "Epoch [7/100], Loss: -0.6802\n"
     ]
    },
    {
     "name": "stderr",
     "output_type": "stream",
     "text": [
      "100%|██████████| 300/300 [00:01<00:00, 188.71it/s]\n"
     ]
    },
    {
     "name": "stdout",
     "output_type": "stream",
     "text": [
      "Epoch [8/100], Loss: -0.7785\n"
     ]
    },
    {
     "name": "stderr",
     "output_type": "stream",
     "text": [
      "100%|██████████| 300/300 [00:01<00:00, 202.37it/s]\n"
     ]
    },
    {
     "name": "stdout",
     "output_type": "stream",
     "text": [
      "Epoch [9/100], Loss: -0.8868\n"
     ]
    },
    {
     "name": "stderr",
     "output_type": "stream",
     "text": [
      "100%|██████████| 300/300 [00:01<00:00, 201.65it/s]\n"
     ]
    },
    {
     "name": "stdout",
     "output_type": "stream",
     "text": [
      "Epoch [10/100], Loss: -0.9965\n"
     ]
    },
    {
     "name": "stderr",
     "output_type": "stream",
     "text": [
      "100%|██████████| 300/300 [00:01<00:00, 183.38it/s]\n"
     ]
    },
    {
     "name": "stdout",
     "output_type": "stream",
     "text": [
      "Epoch [11/100], Loss: -1.1011\n"
     ]
    },
    {
     "name": "stderr",
     "output_type": "stream",
     "text": [
      "100%|██████████| 300/300 [00:01<00:00, 187.62it/s]\n"
     ]
    },
    {
     "name": "stdout",
     "output_type": "stream",
     "text": [
      "Epoch [12/100], Loss: -1.2035\n"
     ]
    },
    {
     "name": "stderr",
     "output_type": "stream",
     "text": [
      "100%|██████████| 300/300 [00:01<00:00, 189.01it/s]\n"
     ]
    },
    {
     "name": "stdout",
     "output_type": "stream",
     "text": [
      "Epoch [13/100], Loss: -1.3057\n"
     ]
    },
    {
     "name": "stderr",
     "output_type": "stream",
     "text": [
      "100%|██████████| 300/300 [00:01<00:00, 184.00it/s]\n"
     ]
    },
    {
     "name": "stdout",
     "output_type": "stream",
     "text": [
      "Epoch [14/100], Loss: -1.4108\n"
     ]
    },
    {
     "name": "stderr",
     "output_type": "stream",
     "text": [
      "100%|██████████| 300/300 [00:01<00:00, 151.98it/s]\n"
     ]
    },
    {
     "name": "stdout",
     "output_type": "stream",
     "text": [
      "Epoch [15/100], Loss: -1.5155\n"
     ]
    },
    {
     "name": "stderr",
     "output_type": "stream",
     "text": [
      "100%|██████████| 300/300 [00:01<00:00, 207.59it/s]\n"
     ]
    },
    {
     "name": "stdout",
     "output_type": "stream",
     "text": [
      "Epoch [16/100], Loss: -1.6186\n"
     ]
    },
    {
     "name": "stderr",
     "output_type": "stream",
     "text": [
      "100%|██████████| 300/300 [00:01<00:00, 218.86it/s]\n"
     ]
    },
    {
     "name": "stdout",
     "output_type": "stream",
     "text": [
      "Epoch [17/100], Loss: -1.7213\n"
     ]
    },
    {
     "name": "stderr",
     "output_type": "stream",
     "text": [
      "100%|██████████| 300/300 [00:01<00:00, 202.91it/s]\n"
     ]
    },
    {
     "name": "stdout",
     "output_type": "stream",
     "text": [
      "Epoch [18/100], Loss: -1.8275\n"
     ]
    },
    {
     "name": "stderr",
     "output_type": "stream",
     "text": [
      "100%|██████████| 300/300 [00:01<00:00, 203.40it/s]\n"
     ]
    },
    {
     "name": "stdout",
     "output_type": "stream",
     "text": [
      "Epoch [19/100], Loss: -1.9321\n"
     ]
    },
    {
     "name": "stderr",
     "output_type": "stream",
     "text": [
      "100%|██████████| 300/300 [00:01<00:00, 217.83it/s]\n"
     ]
    },
    {
     "name": "stdout",
     "output_type": "stream",
     "text": [
      "Epoch [20/100], Loss: -2.0386\n"
     ]
    },
    {
     "name": "stderr",
     "output_type": "stream",
     "text": [
      "100%|██████████| 300/300 [00:01<00:00, 208.52it/s]\n"
     ]
    },
    {
     "name": "stdout",
     "output_type": "stream",
     "text": [
      "Epoch [21/100], Loss: -2.1429\n"
     ]
    },
    {
     "name": "stderr",
     "output_type": "stream",
     "text": [
      "100%|██████████| 300/300 [00:01<00:00, 195.36it/s]\n"
     ]
    },
    {
     "name": "stdout",
     "output_type": "stream",
     "text": [
      "Epoch [22/100], Loss: -2.2468\n"
     ]
    },
    {
     "name": "stderr",
     "output_type": "stream",
     "text": [
      "100%|██████████| 300/300 [00:01<00:00, 216.37it/s]\n"
     ]
    },
    {
     "name": "stdout",
     "output_type": "stream",
     "text": [
      "Epoch [23/100], Loss: -2.3504\n"
     ]
    },
    {
     "name": "stderr",
     "output_type": "stream",
     "text": [
      "100%|██████████| 300/300 [00:01<00:00, 207.39it/s]\n"
     ]
    },
    {
     "name": "stdout",
     "output_type": "stream",
     "text": [
      "Epoch [24/100], Loss: -2.4540\n"
     ]
    },
    {
     "name": "stderr",
     "output_type": "stream",
     "text": [
      "100%|██████████| 300/300 [00:01<00:00, 202.50it/s]\n"
     ]
    },
    {
     "name": "stdout",
     "output_type": "stream",
     "text": [
      "Epoch [25/100], Loss: -2.5575\n"
     ]
    },
    {
     "name": "stderr",
     "output_type": "stream",
     "text": [
      "100%|██████████| 300/300 [00:01<00:00, 213.93it/s]\n"
     ]
    },
    {
     "name": "stdout",
     "output_type": "stream",
     "text": [
      "Epoch [26/100], Loss: -2.6609\n"
     ]
    },
    {
     "name": "stderr",
     "output_type": "stream",
     "text": [
      "100%|██████████| 300/300 [00:02<00:00, 136.90it/s]\n"
     ]
    },
    {
     "name": "stdout",
     "output_type": "stream",
     "text": [
      "Epoch [27/100], Loss: -2.7643\n"
     ]
    },
    {
     "name": "stderr",
     "output_type": "stream",
     "text": [
      "100%|██████████| 300/300 [00:01<00:00, 176.46it/s]\n"
     ]
    },
    {
     "name": "stdout",
     "output_type": "stream",
     "text": [
      "Epoch [28/100], Loss: -2.8676\n"
     ]
    },
    {
     "name": "stderr",
     "output_type": "stream",
     "text": [
      "100%|██████████| 300/300 [00:01<00:00, 156.65it/s]\n"
     ]
    },
    {
     "name": "stdout",
     "output_type": "stream",
     "text": [
      "Epoch [29/100], Loss: -2.9709\n"
     ]
    },
    {
     "name": "stderr",
     "output_type": "stream",
     "text": [
      "100%|██████████| 300/300 [00:01<00:00, 174.88it/s]\n"
     ]
    },
    {
     "name": "stdout",
     "output_type": "stream",
     "text": [
      "Epoch [30/100], Loss: -3.0742\n"
     ]
    },
    {
     "name": "stderr",
     "output_type": "stream",
     "text": [
      "100%|██████████| 300/300 [00:01<00:00, 184.40it/s]\n"
     ]
    },
    {
     "name": "stdout",
     "output_type": "stream",
     "text": [
      "Epoch [31/100], Loss: -3.1775\n"
     ]
    },
    {
     "name": "stderr",
     "output_type": "stream",
     "text": [
      "100%|██████████| 300/300 [00:01<00:00, 187.72it/s]\n"
     ]
    },
    {
     "name": "stdout",
     "output_type": "stream",
     "text": [
      "Epoch [32/100], Loss: -3.2808\n"
     ]
    },
    {
     "name": "stderr",
     "output_type": "stream",
     "text": [
      "100%|██████████| 300/300 [00:01<00:00, 188.53it/s]\n"
     ]
    },
    {
     "name": "stdout",
     "output_type": "stream",
     "text": [
      "Epoch [33/100], Loss: -3.3841\n"
     ]
    },
    {
     "name": "stderr",
     "output_type": "stream",
     "text": [
      "100%|██████████| 300/300 [00:01<00:00, 201.48it/s]\n"
     ]
    },
    {
     "name": "stdout",
     "output_type": "stream",
     "text": [
      "Epoch [34/100], Loss: -3.4874\n"
     ]
    },
    {
     "name": "stderr",
     "output_type": "stream",
     "text": [
      "100%|██████████| 300/300 [00:01<00:00, 187.80it/s]\n"
     ]
    },
    {
     "name": "stdout",
     "output_type": "stream",
     "text": [
      "Epoch [35/100], Loss: -3.5906\n"
     ]
    },
    {
     "name": "stderr",
     "output_type": "stream",
     "text": [
      "100%|██████████| 300/300 [00:01<00:00, 204.67it/s]\n"
     ]
    },
    {
     "name": "stdout",
     "output_type": "stream",
     "text": [
      "Epoch [36/100], Loss: -3.6939\n"
     ]
    },
    {
     "name": "stderr",
     "output_type": "stream",
     "text": [
      "100%|██████████| 300/300 [00:01<00:00, 188.83it/s]\n"
     ]
    },
    {
     "name": "stdout",
     "output_type": "stream",
     "text": [
      "Epoch [37/100], Loss: -3.7972\n"
     ]
    },
    {
     "name": "stderr",
     "output_type": "stream",
     "text": [
      "100%|██████████| 300/300 [00:01<00:00, 210.03it/s]\n"
     ]
    },
    {
     "name": "stdout",
     "output_type": "stream",
     "text": [
      "Epoch [38/100], Loss: -3.9004\n"
     ]
    },
    {
     "name": "stderr",
     "output_type": "stream",
     "text": [
      "100%|██████████| 300/300 [00:01<00:00, 183.89it/s]\n"
     ]
    },
    {
     "name": "stdout",
     "output_type": "stream",
     "text": [
      "Epoch [39/100], Loss: -4.0037\n"
     ]
    },
    {
     "name": "stderr",
     "output_type": "stream",
     "text": [
      "100%|██████████| 300/300 [00:01<00:00, 189.01it/s]\n"
     ]
    },
    {
     "name": "stdout",
     "output_type": "stream",
     "text": [
      "Epoch [40/100], Loss: -4.1070\n"
     ]
    },
    {
     "name": "stderr",
     "output_type": "stream",
     "text": [
      "100%|██████████| 300/300 [00:01<00:00, 181.03it/s]\n"
     ]
    },
    {
     "name": "stdout",
     "output_type": "stream",
     "text": [
      "Epoch [41/100], Loss: -4.2102\n"
     ]
    },
    {
     "name": "stderr",
     "output_type": "stream",
     "text": [
      "100%|██████████| 300/300 [00:01<00:00, 192.38it/s]\n"
     ]
    },
    {
     "name": "stdout",
     "output_type": "stream",
     "text": [
      "Epoch [42/100], Loss: -4.3135\n"
     ]
    },
    {
     "name": "stderr",
     "output_type": "stream",
     "text": [
      "100%|██████████| 300/300 [00:01<00:00, 185.76it/s]\n"
     ]
    },
    {
     "name": "stdout",
     "output_type": "stream",
     "text": [
      "Epoch [43/100], Loss: -4.4167\n"
     ]
    },
    {
     "name": "stderr",
     "output_type": "stream",
     "text": [
      "100%|██████████| 300/300 [00:01<00:00, 183.17it/s]\n"
     ]
    },
    {
     "name": "stdout",
     "output_type": "stream",
     "text": [
      "Epoch [44/100], Loss: -4.5200\n"
     ]
    },
    {
     "name": "stderr",
     "output_type": "stream",
     "text": [
      "100%|██████████| 300/300 [00:01<00:00, 197.87it/s]\n"
     ]
    },
    {
     "name": "stdout",
     "output_type": "stream",
     "text": [
      "Epoch [45/100], Loss: -4.6233\n"
     ]
    },
    {
     "name": "stderr",
     "output_type": "stream",
     "text": [
      "100%|██████████| 300/300 [00:01<00:00, 194.42it/s]\n"
     ]
    },
    {
     "name": "stdout",
     "output_type": "stream",
     "text": [
      "Epoch [46/100], Loss: -4.7265\n"
     ]
    },
    {
     "name": "stderr",
     "output_type": "stream",
     "text": [
      "100%|██████████| 300/300 [00:01<00:00, 192.74it/s]\n"
     ]
    },
    {
     "name": "stdout",
     "output_type": "stream",
     "text": [
      "Epoch [47/100], Loss: -4.8298\n"
     ]
    },
    {
     "name": "stderr",
     "output_type": "stream",
     "text": [
      "100%|██████████| 300/300 [00:01<00:00, 203.19it/s]\n"
     ]
    },
    {
     "name": "stdout",
     "output_type": "stream",
     "text": [
      "Epoch [48/100], Loss: -4.9330\n"
     ]
    },
    {
     "name": "stderr",
     "output_type": "stream",
     "text": [
      "100%|██████████| 300/300 [00:01<00:00, 172.17it/s]\n"
     ]
    },
    {
     "name": "stdout",
     "output_type": "stream",
     "text": [
      "Epoch [49/100], Loss: -5.0363\n"
     ]
    },
    {
     "name": "stderr",
     "output_type": "stream",
     "text": [
      "100%|██████████| 300/300 [00:01<00:00, 164.33it/s]\n"
     ]
    },
    {
     "name": "stdout",
     "output_type": "stream",
     "text": [
      "Epoch [50/100], Loss: -5.1396\n"
     ]
    },
    {
     "name": "stderr",
     "output_type": "stream",
     "text": [
      "100%|██████████| 300/300 [00:01<00:00, 180.02it/s]\n"
     ]
    },
    {
     "name": "stdout",
     "output_type": "stream",
     "text": [
      "Epoch [51/100], Loss: -5.2428\n"
     ]
    },
    {
     "name": "stderr",
     "output_type": "stream",
     "text": [
      "100%|██████████| 300/300 [00:01<00:00, 197.38it/s]\n"
     ]
    },
    {
     "name": "stdout",
     "output_type": "stream",
     "text": [
      "Epoch [52/100], Loss: -5.3461\n"
     ]
    },
    {
     "name": "stderr",
     "output_type": "stream",
     "text": [
      "100%|██████████| 300/300 [00:01<00:00, 165.34it/s]\n"
     ]
    },
    {
     "name": "stdout",
     "output_type": "stream",
     "text": [
      "Epoch [53/100], Loss: -5.4494\n"
     ]
    },
    {
     "name": "stderr",
     "output_type": "stream",
     "text": [
      "100%|██████████| 300/300 [00:01<00:00, 163.02it/s]\n"
     ]
    },
    {
     "name": "stdout",
     "output_type": "stream",
     "text": [
      "Epoch [54/100], Loss: -5.5526\n"
     ]
    },
    {
     "name": "stderr",
     "output_type": "stream",
     "text": [
      "100%|██████████| 300/300 [00:02<00:00, 141.14it/s]\n"
     ]
    },
    {
     "name": "stdout",
     "output_type": "stream",
     "text": [
      "Epoch [55/100], Loss: -5.6559\n"
     ]
    },
    {
     "name": "stderr",
     "output_type": "stream",
     "text": [
      "100%|██████████| 300/300 [00:02<00:00, 147.54it/s]\n"
     ]
    },
    {
     "name": "stdout",
     "output_type": "stream",
     "text": [
      "Epoch [56/100], Loss: -5.7591\n"
     ]
    },
    {
     "name": "stderr",
     "output_type": "stream",
     "text": [
      "100%|██████████| 300/300 [00:01<00:00, 157.61it/s]\n"
     ]
    },
    {
     "name": "stdout",
     "output_type": "stream",
     "text": [
      "Epoch [57/100], Loss: -5.8624\n"
     ]
    },
    {
     "name": "stderr",
     "output_type": "stream",
     "text": [
      "100%|██████████| 300/300 [00:02<00:00, 141.50it/s]\n"
     ]
    },
    {
     "name": "stdout",
     "output_type": "stream",
     "text": [
      "Epoch [58/100], Loss: -5.9657\n"
     ]
    },
    {
     "name": "stderr",
     "output_type": "stream",
     "text": [
      "100%|██████████| 300/300 [00:02<00:00, 143.50it/s]\n"
     ]
    },
    {
     "name": "stdout",
     "output_type": "stream",
     "text": [
      "Epoch [59/100], Loss: -6.0689\n"
     ]
    },
    {
     "name": "stderr",
     "output_type": "stream",
     "text": [
      "100%|██████████| 300/300 [00:01<00:00, 200.54it/s]\n"
     ]
    },
    {
     "name": "stdout",
     "output_type": "stream",
     "text": [
      "Epoch [60/100], Loss: -6.1722\n"
     ]
    },
    {
     "name": "stderr",
     "output_type": "stream",
     "text": [
      "100%|██████████| 300/300 [00:01<00:00, 186.75it/s]\n"
     ]
    },
    {
     "name": "stdout",
     "output_type": "stream",
     "text": [
      "Epoch [61/100], Loss: -6.2754\n"
     ]
    },
    {
     "name": "stderr",
     "output_type": "stream",
     "text": [
      "100%|██████████| 300/300 [00:02<00:00, 142.54it/s]\n"
     ]
    },
    {
     "name": "stdout",
     "output_type": "stream",
     "text": [
      "Epoch [62/100], Loss: -6.3787\n"
     ]
    },
    {
     "name": "stderr",
     "output_type": "stream",
     "text": [
      "100%|██████████| 300/300 [00:02<00:00, 146.91it/s]\n"
     ]
    },
    {
     "name": "stdout",
     "output_type": "stream",
     "text": [
      "Epoch [63/100], Loss: -6.4820\n"
     ]
    },
    {
     "name": "stderr",
     "output_type": "stream",
     "text": [
      "100%|██████████| 300/300 [00:02<00:00, 120.87it/s]\n"
     ]
    },
    {
     "name": "stdout",
     "output_type": "stream",
     "text": [
      "Epoch [64/100], Loss: -6.5852\n"
     ]
    },
    {
     "name": "stderr",
     "output_type": "stream",
     "text": [
      "100%|██████████| 300/300 [00:02<00:00, 122.38it/s]\n"
     ]
    },
    {
     "name": "stdout",
     "output_type": "stream",
     "text": [
      "Epoch [65/100], Loss: -6.6885\n"
     ]
    },
    {
     "name": "stderr",
     "output_type": "stream",
     "text": [
      "100%|██████████| 300/300 [00:01<00:00, 180.07it/s]\n"
     ]
    },
    {
     "name": "stdout",
     "output_type": "stream",
     "text": [
      "Epoch [66/100], Loss: -6.7917\n"
     ]
    },
    {
     "name": "stderr",
     "output_type": "stream",
     "text": [
      "100%|██████████| 300/300 [00:01<00:00, 184.43it/s]\n"
     ]
    },
    {
     "name": "stdout",
     "output_type": "stream",
     "text": [
      "Epoch [67/100], Loss: -6.8950\n"
     ]
    },
    {
     "name": "stderr",
     "output_type": "stream",
     "text": [
      "100%|██████████| 300/300 [00:01<00:00, 190.26it/s]\n"
     ]
    },
    {
     "name": "stdout",
     "output_type": "stream",
     "text": [
      "Epoch [68/100], Loss: -6.9983\n"
     ]
    },
    {
     "name": "stderr",
     "output_type": "stream",
     "text": [
      "100%|██████████| 300/300 [00:01<00:00, 187.97it/s]\n"
     ]
    },
    {
     "name": "stdout",
     "output_type": "stream",
     "text": [
      "Epoch [69/100], Loss: -7.1015\n"
     ]
    },
    {
     "name": "stderr",
     "output_type": "stream",
     "text": [
      "100%|██████████| 300/300 [00:01<00:00, 174.52it/s]\n"
     ]
    },
    {
     "name": "stdout",
     "output_type": "stream",
     "text": [
      "Epoch [70/100], Loss: -7.2048\n"
     ]
    },
    {
     "name": "stderr",
     "output_type": "stream",
     "text": [
      "100%|██████████| 300/300 [00:01<00:00, 181.04it/s]\n"
     ]
    },
    {
     "name": "stdout",
     "output_type": "stream",
     "text": [
      "Epoch [71/100], Loss: -7.3080\n"
     ]
    },
    {
     "name": "stderr",
     "output_type": "stream",
     "text": [
      "100%|██████████| 300/300 [00:01<00:00, 192.67it/s]\n"
     ]
    },
    {
     "name": "stdout",
     "output_type": "stream",
     "text": [
      "Epoch [72/100], Loss: -7.4113\n"
     ]
    },
    {
     "name": "stderr",
     "output_type": "stream",
     "text": [
      "100%|██████████| 300/300 [00:01<00:00, 191.29it/s]\n"
     ]
    },
    {
     "name": "stdout",
     "output_type": "stream",
     "text": [
      "Epoch [73/100], Loss: -7.5146\n"
     ]
    },
    {
     "name": "stderr",
     "output_type": "stream",
     "text": [
      "100%|██████████| 300/300 [00:01<00:00, 193.82it/s]\n"
     ]
    },
    {
     "name": "stdout",
     "output_type": "stream",
     "text": [
      "Epoch [74/100], Loss: -7.6178\n"
     ]
    },
    {
     "name": "stderr",
     "output_type": "stream",
     "text": [
      "100%|██████████| 300/300 [00:01<00:00, 199.44it/s]\n"
     ]
    },
    {
     "name": "stdout",
     "output_type": "stream",
     "text": [
      "Epoch [75/100], Loss: -7.7211\n"
     ]
    },
    {
     "name": "stderr",
     "output_type": "stream",
     "text": [
      "100%|██████████| 300/300 [00:01<00:00, 185.33it/s]\n"
     ]
    },
    {
     "name": "stdout",
     "output_type": "stream",
     "text": [
      "Epoch [76/100], Loss: -7.8243\n"
     ]
    },
    {
     "name": "stderr",
     "output_type": "stream",
     "text": [
      "100%|██████████| 300/300 [00:01<00:00, 185.77it/s]\n"
     ]
    },
    {
     "name": "stdout",
     "output_type": "stream",
     "text": [
      "Epoch [77/100], Loss: -7.9276\n"
     ]
    },
    {
     "name": "stderr",
     "output_type": "stream",
     "text": [
      "100%|██████████| 300/300 [00:01<00:00, 200.61it/s]\n"
     ]
    },
    {
     "name": "stdout",
     "output_type": "stream",
     "text": [
      "Epoch [78/100], Loss: -8.0309\n"
     ]
    },
    {
     "name": "stderr",
     "output_type": "stream",
     "text": [
      "100%|██████████| 300/300 [00:01<00:00, 186.98it/s]\n"
     ]
    },
    {
     "name": "stdout",
     "output_type": "stream",
     "text": [
      "Epoch [79/100], Loss: -8.1341\n"
     ]
    },
    {
     "name": "stderr",
     "output_type": "stream",
     "text": [
      "100%|██████████| 300/300 [00:01<00:00, 189.42it/s]\n"
     ]
    },
    {
     "name": "stdout",
     "output_type": "stream",
     "text": [
      "Epoch [80/100], Loss: -8.2374\n"
     ]
    },
    {
     "name": "stderr",
     "output_type": "stream",
     "text": [
      "100%|██████████| 300/300 [00:01<00:00, 191.87it/s]\n"
     ]
    },
    {
     "name": "stdout",
     "output_type": "stream",
     "text": [
      "Epoch [81/100], Loss: -8.3406\n"
     ]
    },
    {
     "name": "stderr",
     "output_type": "stream",
     "text": [
      "100%|██████████| 300/300 [00:01<00:00, 197.50it/s]\n"
     ]
    },
    {
     "name": "stdout",
     "output_type": "stream",
     "text": [
      "Epoch [82/100], Loss: -8.4439\n"
     ]
    },
    {
     "name": "stderr",
     "output_type": "stream",
     "text": [
      "100%|██████████| 300/300 [00:01<00:00, 184.09it/s]\n"
     ]
    },
    {
     "name": "stdout",
     "output_type": "stream",
     "text": [
      "Epoch [83/100], Loss: -8.5472\n"
     ]
    },
    {
     "name": "stderr",
     "output_type": "stream",
     "text": [
      "100%|██████████| 300/300 [00:01<00:00, 189.00it/s]\n"
     ]
    },
    {
     "name": "stdout",
     "output_type": "stream",
     "text": [
      "Epoch [84/100], Loss: -8.6504\n"
     ]
    },
    {
     "name": "stderr",
     "output_type": "stream",
     "text": [
      "100%|██████████| 300/300 [00:01<00:00, 197.00it/s]\n"
     ]
    },
    {
     "name": "stdout",
     "output_type": "stream",
     "text": [
      "Epoch [85/100], Loss: -8.7537\n"
     ]
    },
    {
     "name": "stderr",
     "output_type": "stream",
     "text": [
      "100%|██████████| 300/300 [00:01<00:00, 191.40it/s]\n"
     ]
    },
    {
     "name": "stdout",
     "output_type": "stream",
     "text": [
      "Epoch [86/100], Loss: -8.8569\n"
     ]
    },
    {
     "name": "stderr",
     "output_type": "stream",
     "text": [
      "100%|██████████| 300/300 [00:01<00:00, 176.66it/s]\n"
     ]
    },
    {
     "name": "stdout",
     "output_type": "stream",
     "text": [
      "Epoch [87/100], Loss: -8.9602\n"
     ]
    },
    {
     "name": "stderr",
     "output_type": "stream",
     "text": [
      "100%|██████████| 300/300 [00:01<00:00, 174.38it/s]\n"
     ]
    },
    {
     "name": "stdout",
     "output_type": "stream",
     "text": [
      "Epoch [88/100], Loss: -9.0635\n"
     ]
    },
    {
     "name": "stderr",
     "output_type": "stream",
     "text": [
      "100%|██████████| 300/300 [00:01<00:00, 189.79it/s]\n"
     ]
    },
    {
     "name": "stdout",
     "output_type": "stream",
     "text": [
      "Epoch [89/100], Loss: -9.1667\n"
     ]
    },
    {
     "name": "stderr",
     "output_type": "stream",
     "text": [
      "100%|██████████| 300/300 [00:01<00:00, 184.80it/s]\n"
     ]
    },
    {
     "name": "stdout",
     "output_type": "stream",
     "text": [
      "Epoch [90/100], Loss: -9.2700\n"
     ]
    },
    {
     "name": "stderr",
     "output_type": "stream",
     "text": [
      "100%|██████████| 300/300 [00:01<00:00, 178.67it/s]\n"
     ]
    },
    {
     "name": "stdout",
     "output_type": "stream",
     "text": [
      "Epoch [91/100], Loss: -9.3732\n"
     ]
    },
    {
     "name": "stderr",
     "output_type": "stream",
     "text": [
      "100%|██████████| 300/300 [00:01<00:00, 187.03it/s]\n"
     ]
    },
    {
     "name": "stdout",
     "output_type": "stream",
     "text": [
      "Epoch [92/100], Loss: -9.4765\n"
     ]
    },
    {
     "name": "stderr",
     "output_type": "stream",
     "text": [
      "100%|██████████| 300/300 [00:01<00:00, 192.49it/s]\n"
     ]
    },
    {
     "name": "stdout",
     "output_type": "stream",
     "text": [
      "Epoch [93/100], Loss: -9.5798\n"
     ]
    },
    {
     "name": "stderr",
     "output_type": "stream",
     "text": [
      "100%|██████████| 300/300 [00:01<00:00, 187.43it/s]\n"
     ]
    },
    {
     "name": "stdout",
     "output_type": "stream",
     "text": [
      "Epoch [94/100], Loss: -9.6830\n"
     ]
    },
    {
     "name": "stderr",
     "output_type": "stream",
     "text": [
      "100%|██████████| 300/300 [00:01<00:00, 189.20it/s]\n"
     ]
    },
    {
     "name": "stdout",
     "output_type": "stream",
     "text": [
      "Epoch [95/100], Loss: -9.7863\n"
     ]
    },
    {
     "name": "stderr",
     "output_type": "stream",
     "text": [
      "100%|██████████| 300/300 [00:01<00:00, 191.52it/s]\n"
     ]
    },
    {
     "name": "stdout",
     "output_type": "stream",
     "text": [
      "Epoch [96/100], Loss: -9.8895\n"
     ]
    },
    {
     "name": "stderr",
     "output_type": "stream",
     "text": [
      "100%|██████████| 300/300 [00:01<00:00, 190.89it/s]\n"
     ]
    },
    {
     "name": "stdout",
     "output_type": "stream",
     "text": [
      "Epoch [97/100], Loss: -9.9928\n"
     ]
    },
    {
     "name": "stderr",
     "output_type": "stream",
     "text": [
      "100%|██████████| 300/300 [00:01<00:00, 189.46it/s]\n"
     ]
    },
    {
     "name": "stdout",
     "output_type": "stream",
     "text": [
      "Epoch [98/100], Loss: -10.0961\n"
     ]
    },
    {
     "name": "stderr",
     "output_type": "stream",
     "text": [
      "100%|██████████| 300/300 [00:01<00:00, 178.69it/s]\n"
     ]
    },
    {
     "name": "stdout",
     "output_type": "stream",
     "text": [
      "Epoch [99/100], Loss: -10.1993\n"
     ]
    },
    {
     "name": "stderr",
     "output_type": "stream",
     "text": [
      "100%|██████████| 300/300 [00:01<00:00, 195.04it/s]\n"
     ]
    },
    {
     "name": "stdout",
     "output_type": "stream",
     "text": [
      "Epoch [100/100], Loss: -10.3026\n"
     ]
    },
    {
     "data": {
      "image/png": "[encoded data removed]",
      "text/plain": [
       "<Figure size 640x480 with 1 Axes>"
      ]
     },
     "metadata": {},
     "output_type": "display_data"
    }
   ],
   "source": [
    "import matplotlib.pyplot as plt\n",
    "import torch\n",
    "import torch.nn as nn\n",
    "import torch.optim as optim\n",
    "from torch.utils.data import TensorDataset, DataLoader\n",
    "from tqdm import tqdm\n",
    "from sklearn.preprocessing import MinMaxScaler\n",
    "\n",
    "X_train = torch.tensor(X_train, dtype=torch.float32)\n",
    "Y_train = torch.tensor(Y_train, dtype=torch.float32)\n",
    "\n",
    "device = torch.device('cuda' if torch.cuda.is_available() else 'cpu')\n",
    "X_train = X_train.to(device)\n",
    "Y_train = Y_train.to(device)\n",
    "\n",
    "num_samples, seq_length, num_features = X_train.shape\n",
    "X_train_reshaped = X_train.view(-1, num_features).cpu().numpy()\n",
    "\n",
    "scaler = MinMaxScaler()\n",
    "X_train_scaled = scaler.fit_transform(X_train_reshaped)\n",
    "X_train_scaled_tensor = torch.tensor(X_train_scaled, dtype=torch.float32).view(\n",
    "    num_samples, seq_length, num_features).to(device)\n",
    "\n",
    "dataset = TensorDataset(X_train_scaled_tensor, Y_train)\n",
    "dataloader = DataLoader(dataset, batch_size=8, shuffle=False)\n",
    "\n",
    "\n",
    "class LSTMPortfolioModel(nn.Module):\n",
    "    def __init__(self, input_size, hidden_size, num_layers, output_size):\n",
    "        super(LSTMPortfolioModel, self).__init__()\n",
    "        self.hidden_size = hidden_size\n",
    "        self.num_layers = num_layers\n",
    "        self.lstm = nn.LSTM(input_size, hidden_size,\n",
    "                            num_layers, batch_first=True)\n",
    "        self.fc = nn.Linear(hidden_size, output_size)\n",
    "        self.softmax = nn.Softmax(dim=1)\n",
    "\n",
    "    def forward(self, x):\n",
    "        h0 = torch.zeros(self.num_layers, x.size(\n",
    "            0), self.hidden_size).to(x.device)\n",
    "        c0 = torch.zeros(self.num_layers, x.size(\n",
    "            0), self.hidden_size).to(x.device)\n",
    "        out, _ = self.lstm(x, (h0, c0))\n",
    "        out = self.fc(out[:, -1, :])\n",
    "        # out = self.softmax(out)\n",
    "        return out\n",
    "\n",
    "\n",
    "class CustomLoss(nn.Module):\n",
    "    def __init__(self):\n",
    "        super(CustomLoss, self).__init__()\n",
    "\n",
    "    def forward(self, output, target):\n",
    "        returns = torch.sum(output * target, dim=1)\n",
    "        loss = -torch.mean(returns)\n",
    "        return loss\n",
    "\n",
    "\n",
    "input_size = X_train_scaled_tensor.shape[2]\n",
    "hidden_size = 64\n",
    "num_layers = 8\n",
    "output_size = input_size\n",
    "model = LSTMPortfolioModel(input_size, hidden_size,\n",
    "                           num_layers, output_size).to(device)\n",
    "criterion = CustomLoss()\n",
    "optimizer = optim.Adam(model.parameters(), lr=0.001)\n",
    "\n",
    "losses = []\n",
    "num_epochs = 100\n",
    "for epoch in range(num_epochs):\n",
    "    loss_avg = 0\n",
    "    for batch_X, batch_Y in tqdm(dataloader):\n",
    "        batch_X, batch_Y = batch_X.to(device), batch_Y.to(device)\n",
    "\n",
    "        optimizer.zero_grad()\n",
    "        outputs = model(batch_X)\n",
    "\n",
    "        loss = criterion(outputs, batch_Y)\n",
    "        loss.backward()\n",
    "        optimizer.step()\n",
    "\n",
    "        loss_avg += loss.item()\n",
    "\n",
    "    epoch_loss = loss_avg / len(dataloader)\n",
    "    losses.append(epoch_loss)\n",
    "    print(f\"Epoch [{epoch+1}/{num_epochs}], Loss: {epoch_loss:.4f}\")\n",
    "\n",
    "plt.plot(losses)\n",
    "plt.xlabel('Epoch')\n",
    "plt.ylabel('Negative Portfolio Return')\n",
    "plt.title('Training Loss (Negative Portfolio Return)')\n",
    "plt.show()"
   ]
  },
  {
   "cell_type": "code",
   "execution_count": 9,
   "metadata": {},
   "outputs": [
    {
     "name": "stderr",
     "output_type": "stream",
     "text": [
      "  0%|          | 0/300 [00:00<?, ?it/s]C:\\Users\\91897\\AppData\\Local\\Temp\\ipykernel_13756\\2971239651.py:50: UserWarning: The use of `x.T` on tensors of dimension other than 2 to reverse their shape is deprecated and it will throw an error in a future release. Consider `x.mT` to transpose batches of matrices or `x.permute(*torch.arange(x.ndim - 1, -1, -1))` to reverse the dimensions of a tensor. (Triggered internally at C:\\actions-runner\\_work\\pytorch\\pytorch\\builder\\windows\\pytorch\\aten\\src\\ATen\\native\\TensorShape.cpp:3618.)\n",
      "  output[i], mean) / torch.sqrt(torch.dot(output[i].T, torch.matmul(cov, output[i])))\n",
      "100%|██████████| 300/300 [00:07<00:00, 39.98it/s]\n",
      "100%|██████████| 300/300 [00:05<00:00, 50.15it/s]\n",
      "100%|██████████| 300/300 [00:05<00:00, 58.95it/s]\n",
      "100%|██████████| 300/300 [00:04<00:00, 61.82it/s]\n",
      "100%|██████████| 300/300 [00:04<00:00, 63.04it/s]\n",
      "100%|██████████| 300/300 [00:04<00:00, 61.53it/s]\n",
      "100%|██████████| 300/300 [00:05<00:00, 51.81it/s]\n",
      "100%|██████████| 300/300 [00:05<00:00, 53.14it/s]\n",
      "100%|██████████| 300/300 [00:05<00:00, 51.70it/s]\n",
      "100%|██████████| 300/300 [00:05<00:00, 54.15it/s]\n"
     ]
    },
    {
     "name": "stdout",
     "output_type": "stream",
     "text": [
      "Epoch [10/200], Loss: -0.3109\n"
     ]
    },
    {
     "name": "stderr",
     "output_type": "stream",
     "text": [
      "100%|██████████| 300/300 [00:05<00:00, 53.93it/s]\n",
      "100%|██████████| 300/300 [00:05<00:00, 50.63it/s]\n",
      "100%|██████████| 300/300 [00:05<00:00, 54.54it/s]\n",
      "100%|██████████| 300/300 [00:06<00:00, 46.90it/s]\n",
      "100%|██████████| 300/300 [00:06<00:00, 49.45it/s]\n",
      "100%|██████████| 300/300 [00:06<00:00, 47.75it/s]\n",
      "100%|██████████| 300/300 [00:07<00:00, 41.83it/s]\n",
      "100%|██████████| 300/300 [00:06<00:00, 49.85it/s]\n",
      "100%|██████████| 300/300 [00:08<00:00, 35.86it/s]\n",
      "100%|██████████| 300/300 [00:05<00:00, 53.16it/s]\n"
     ]
    },
    {
     "name": "stdout",
     "output_type": "stream",
     "text": [
      "Epoch [20/200], Loss: -0.4549\n"
     ]
    },
    {
     "name": "stderr",
     "output_type": "stream",
     "text": [
      "100%|██████████| 300/300 [00:05<00:00, 50.19it/s]\n",
      "100%|██████████| 300/300 [00:08<00:00, 34.67it/s]\n",
      "100%|██████████| 300/300 [00:07<00:00, 41.02it/s]\n",
      "100%|██████████| 300/300 [00:06<00:00, 48.72it/s]\n",
      "100%|██████████| 300/300 [00:07<00:00, 42.51it/s]\n",
      "100%|██████████| 300/300 [00:07<00:00, 38.66it/s]\n",
      "100%|██████████| 300/300 [00:08<00:00, 34.34it/s]\n",
      "100%|██████████| 300/300 [00:08<00:00, 36.87it/s]\n",
      "100%|██████████| 300/300 [00:07<00:00, 37.72it/s]\n",
      "100%|██████████| 300/300 [00:06<00:00, 46.11it/s]\n"
     ]
    },
    {
     "name": "stdout",
     "output_type": "stream",
     "text": [
      "Epoch [30/200], Loss: -0.5681\n"
     ]
    },
    {
     "name": "stderr",
     "output_type": "stream",
     "text": [
      "100%|██████████| 300/300 [00:09<00:00, 31.38it/s]\n",
      "100%|██████████| 300/300 [00:06<00:00, 46.36it/s]\n",
      "100%|██████████| 300/300 [00:06<00:00, 47.60it/s]\n",
      "100%|██████████| 300/300 [00:04<00:00, 63.98it/s]\n",
      "100%|██████████| 300/300 [00:05<00:00, 51.92it/s]\n",
      "100%|██████████| 300/300 [00:07<00:00, 40.32it/s]\n",
      "100%|██████████| 300/300 [00:06<00:00, 49.79it/s]\n",
      "100%|██████████| 300/300 [00:04<00:00, 62.01it/s]\n",
      "100%|██████████| 300/300 [00:04<00:00, 63.11it/s]\n",
      "100%|██████████| 300/300 [00:05<00:00, 55.68it/s]\n"
     ]
    },
    {
     "name": "stdout",
     "output_type": "stream",
     "text": [
      "Epoch [40/200], Loss: -0.6179\n"
     ]
    },
    {
     "name": "stderr",
     "output_type": "stream",
     "text": [
      "100%|██████████| 300/300 [00:07<00:00, 37.66it/s]\n",
      "100%|██████████| 300/300 [00:06<00:00, 49.46it/s]\n",
      "100%|██████████| 300/300 [00:05<00:00, 58.15it/s]\n",
      "100%|██████████| 300/300 [00:05<00:00, 58.95it/s]\n",
      "100%|██████████| 300/300 [00:04<00:00, 62.07it/s]\n",
      "100%|██████████| 300/300 [00:04<00:00, 63.23it/s]\n",
      "100%|██████████| 300/300 [00:04<00:00, 60.47it/s]\n",
      "100%|██████████| 300/300 [00:06<00:00, 49.34it/s]\n",
      "100%|██████████| 300/300 [00:06<00:00, 45.23it/s]\n",
      "100%|██████████| 300/300 [00:06<00:00, 48.64it/s]\n"
     ]
    },
    {
     "name": "stdout",
     "output_type": "stream",
     "text": [
      "Epoch [50/200], Loss: -0.6773\n"
     ]
    },
    {
     "name": "stderr",
     "output_type": "stream",
     "text": [
      "100%|██████████| 300/300 [00:06<00:00, 44.37it/s]\n",
      "100%|██████████| 300/300 [00:04<00:00, 62.69it/s]\n",
      "100%|██████████| 300/300 [00:04<00:00, 62.00it/s]\n",
      "100%|██████████| 300/300 [00:04<00:00, 62.96it/s]\n",
      "100%|██████████| 300/300 [00:04<00:00, 62.08it/s]\n",
      "100%|██████████| 300/300 [00:05<00:00, 53.98it/s]\n",
      "100%|██████████| 300/300 [00:05<00:00, 54.63it/s]\n",
      "100%|██████████| 300/300 [00:05<00:00, 55.39it/s]\n",
      "100%|██████████| 300/300 [00:04<00:00, 60.55it/s]\n",
      "100%|██████████| 300/300 [00:05<00:00, 53.58it/s]\n"
     ]
    },
    {
     "name": "stdout",
     "output_type": "stream",
     "text": [
      "Epoch [60/200], Loss: -0.7085\n"
     ]
    },
    {
     "name": "stderr",
     "output_type": "stream",
     "text": [
      "100%|██████████| 300/300 [00:05<00:00, 53.42it/s]\n",
      "100%|██████████| 300/300 [00:06<00:00, 49.46it/s]\n",
      "100%|██████████| 300/300 [00:05<00:00, 59.95it/s]\n",
      "100%|██████████| 300/300 [00:07<00:00, 37.52it/s]\n",
      "100%|██████████| 300/300 [00:08<00:00, 34.74it/s]\n",
      "100%|██████████| 300/300 [00:07<00:00, 39.52it/s]\n",
      "100%|██████████| 300/300 [00:07<00:00, 40.26it/s]\n",
      "100%|██████████| 300/300 [00:06<00:00, 45.39it/s]\n",
      "100%|██████████| 300/300 [00:04<00:00, 64.18it/s]\n",
      "100%|██████████| 300/300 [00:05<00:00, 50.50it/s]\n"
     ]
    },
    {
     "name": "stdout",
     "output_type": "stream",
     "text": [
      "Epoch [70/200], Loss: -0.8068\n"
     ]
    },
    {
     "name": "stderr",
     "output_type": "stream",
     "text": [
      "100%|██████████| 300/300 [00:07<00:00, 39.50it/s]\n",
      "100%|██████████| 300/300 [00:08<00:00, 37.15it/s]\n",
      "100%|██████████| 300/300 [00:06<00:00, 44.94it/s]\n",
      "100%|██████████| 300/300 [00:06<00:00, 49.41it/s]\n",
      "100%|██████████| 300/300 [00:07<00:00, 40.20it/s]\n",
      "100%|██████████| 300/300 [00:07<00:00, 41.50it/s]\n",
      "100%|██████████| 300/300 [00:04<00:00, 60.46it/s]\n",
      "100%|██████████| 300/300 [00:06<00:00, 47.11it/s]\n",
      "100%|██████████| 300/300 [00:08<00:00, 36.35it/s]\n",
      "100%|██████████| 300/300 [00:07<00:00, 39.44it/s]\n"
     ]
    },
    {
     "name": "stdout",
     "output_type": "stream",
     "text": [
      "Epoch [80/200], Loss: -0.8944\n"
     ]
    },
    {
     "name": "stderr",
     "output_type": "stream",
     "text": [
      "100%|██████████| 300/300 [00:07<00:00, 39.73it/s]\n",
      "100%|██████████| 300/300 [00:08<00:00, 37.39it/s]\n",
      "100%|██████████| 300/300 [00:07<00:00, 40.24it/s]\n",
      "100%|██████████| 300/300 [00:06<00:00, 44.62it/s]\n",
      "100%|██████████| 300/300 [00:04<00:00, 65.34it/s]\n",
      "100%|██████████| 300/300 [00:04<00:00, 67.10it/s]\n",
      "100%|██████████| 300/300 [00:04<00:00, 65.08it/s]\n",
      "100%|██████████| 300/300 [00:04<00:00, 64.11it/s]\n",
      "100%|██████████| 300/300 [00:04<00:00, 68.52it/s]\n",
      "100%|██████████| 300/300 [00:04<00:00, 67.61it/s]\n"
     ]
    },
    {
     "name": "stdout",
     "output_type": "stream",
     "text": [
      "Epoch [90/200], Loss: -1.0115\n"
     ]
    },
    {
     "name": "stderr",
     "output_type": "stream",
     "text": [
      "100%|██████████| 300/300 [00:04<00:00, 66.40it/s]\n",
      "100%|██████████| 300/300 [00:04<00:00, 64.19it/s]\n",
      "100%|██████████| 300/300 [00:04<00:00, 66.77it/s]\n",
      "100%|██████████| 300/300 [00:04<00:00, 66.01it/s]\n",
      "100%|██████████| 300/300 [00:07<00:00, 37.58it/s]\n",
      "100%|██████████| 300/300 [00:05<00:00, 52.31it/s]\n",
      "100%|██████████| 300/300 [00:05<00:00, 54.03it/s]\n",
      "100%|██████████| 300/300 [00:08<00:00, 37.10it/s]\n",
      "100%|██████████| 300/300 [00:05<00:00, 50.54it/s]\n",
      "100%|██████████| 300/300 [00:04<00:00, 61.01it/s]\n"
     ]
    },
    {
     "name": "stdout",
     "output_type": "stream",
     "text": [
      "Epoch [100/200], Loss: -1.1164\n"
     ]
    },
    {
     "name": "stderr",
     "output_type": "stream",
     "text": [
      "100%|██████████| 300/300 [00:04<00:00, 61.23it/s]\n",
      "100%|██████████| 300/300 [00:05<00:00, 55.57it/s]\n",
      "100%|██████████| 300/300 [00:06<00:00, 46.65it/s]\n",
      "100%|██████████| 300/300 [00:07<00:00, 40.73it/s]\n",
      "100%|██████████| 300/300 [00:06<00:00, 44.86it/s]\n",
      "100%|██████████| 300/300 [00:06<00:00, 45.55it/s]\n",
      "100%|██████████| 300/300 [00:07<00:00, 38.36it/s]\n",
      "100%|██████████| 300/300 [00:07<00:00, 42.71it/s]\n",
      "100%|██████████| 300/300 [00:07<00:00, 39.08it/s]\n",
      "100%|██████████| 300/300 [00:08<00:00, 37.31it/s]\n"
     ]
    },
    {
     "name": "stdout",
     "output_type": "stream",
     "text": [
      "Epoch [110/200], Loss: -1.1471\n"
     ]
    },
    {
     "name": "stderr",
     "output_type": "stream",
     "text": [
      "100%|██████████| 300/300 [00:08<00:00, 34.96it/s]\n",
      "100%|██████████| 300/300 [00:06<00:00, 46.49it/s]\n",
      "100%|██████████| 300/300 [00:06<00:00, 46.04it/s]\n",
      "100%|██████████| 300/300 [00:06<00:00, 49.98it/s]\n",
      "100%|██████████| 300/300 [00:05<00:00, 56.41it/s]\n",
      "100%|██████████| 300/300 [00:05<00:00, 50.11it/s]\n",
      "100%|██████████| 300/300 [00:06<00:00, 49.36it/s]\n",
      "100%|██████████| 300/300 [00:06<00:00, 49.74it/s]\n",
      "100%|██████████| 300/300 [00:05<00:00, 51.58it/s]\n",
      "100%|██████████| 300/300 [00:08<00:00, 37.31it/s]\n"
     ]
    },
    {
     "name": "stdout",
     "output_type": "stream",
     "text": [
      "Epoch [120/200], Loss: -1.1307\n"
     ]
    },
    {
     "name": "stderr",
     "output_type": "stream",
     "text": [
      "100%|██████████| 300/300 [00:06<00:00, 45.49it/s]\n",
      "100%|██████████| 300/300 [00:05<00:00, 51.66it/s]\n",
      "100%|██████████| 300/300 [00:05<00:00, 53.76it/s]\n",
      "100%|██████████| 300/300 [00:05<00:00, 50.52it/s]\n",
      "100%|██████████| 300/300 [00:05<00:00, 54.05it/s]\n",
      "100%|██████████| 300/300 [00:05<00:00, 51.19it/s]\n",
      "100%|██████████| 300/300 [00:06<00:00, 49.15it/s]\n",
      "100%|██████████| 300/300 [00:04<00:00, 60.08it/s]\n",
      "100%|██████████| 300/300 [00:05<00:00, 54.98it/s]\n",
      "100%|██████████| 300/300 [00:05<00:00, 56.84it/s]\n"
     ]
    },
    {
     "name": "stdout",
     "output_type": "stream",
     "text": [
      "Epoch [130/200], Loss: -1.2599\n"
     ]
    },
    {
     "name": "stderr",
     "output_type": "stream",
     "text": [
      "100%|██████████| 300/300 [00:05<00:00, 55.46it/s]\n",
      "100%|██████████| 300/300 [00:04<00:00, 63.18it/s]\n",
      "100%|██████████| 300/300 [00:04<00:00, 64.15it/s]\n",
      "100%|██████████| 300/300 [00:05<00:00, 57.38it/s]\n",
      "100%|██████████| 300/300 [00:04<00:00, 63.83it/s]\n",
      "100%|██████████| 300/300 [00:04<00:00, 62.72it/s]\n",
      "100%|██████████| 300/300 [00:04<00:00, 64.96it/s]\n",
      "100%|██████████| 300/300 [00:04<00:00, 65.72it/s]\n",
      "100%|██████████| 300/300 [00:04<00:00, 60.99it/s]\n",
      "100%|██████████| 300/300 [00:04<00:00, 60.56it/s]\n"
     ]
    },
    {
     "name": "stdout",
     "output_type": "stream",
     "text": [
      "Epoch [140/200], Loss: -1.2658\n"
     ]
    },
    {
     "name": "stderr",
     "output_type": "stream",
     "text": [
      "100%|██████████| 300/300 [00:04<00:00, 64.93it/s]\n",
      "100%|██████████| 300/300 [00:04<00:00, 64.08it/s]\n",
      "100%|██████████| 300/300 [00:04<00:00, 63.56it/s]\n",
      "100%|██████████| 300/300 [00:04<00:00, 63.59it/s]\n",
      "100%|██████████| 300/300 [00:05<00:00, 59.74it/s]\n",
      "100%|██████████| 300/300 [00:04<00:00, 60.91it/s]\n",
      "100%|██████████| 300/300 [00:04<00:00, 63.68it/s]\n",
      "100%|██████████| 300/300 [00:06<00:00, 46.23it/s]\n",
      "100%|██████████| 300/300 [00:06<00:00, 45.48it/s]\n",
      "100%|██████████| 300/300 [00:05<00:00, 51.05it/s]\n"
     ]
    },
    {
     "name": "stdout",
     "output_type": "stream",
     "text": [
      "Epoch [150/200], Loss: -1.3957\n"
     ]
    },
    {
     "name": "stderr",
     "output_type": "stream",
     "text": [
      "100%|██████████| 300/300 [00:06<00:00, 46.74it/s]\n",
      "100%|██████████| 300/300 [00:06<00:00, 49.83it/s]\n",
      "100%|██████████| 300/300 [00:05<00:00, 56.81it/s]\n",
      "100%|██████████| 300/300 [00:05<00:00, 52.73it/s]\n",
      "100%|██████████| 300/300 [00:05<00:00, 57.74it/s]\n",
      "100%|██████████| 300/300 [00:06<00:00, 45.26it/s]\n",
      "100%|██████████| 300/300 [00:08<00:00, 35.54it/s]\n",
      "100%|██████████| 300/300 [00:07<00:00, 37.68it/s]\n",
      "100%|██████████| 300/300 [00:06<00:00, 47.33it/s]\n",
      "100%|██████████| 300/300 [00:05<00:00, 52.73it/s]\n"
     ]
    },
    {
     "name": "stdout",
     "output_type": "stream",
     "text": [
      "Epoch [160/200], Loss: -1.4796\n"
     ]
    },
    {
     "name": "stderr",
     "output_type": "stream",
     "text": [
      "100%|██████████| 300/300 [00:06<00:00, 46.00it/s]\n",
      "100%|██████████| 300/300 [00:05<00:00, 52.94it/s]\n",
      "100%|██████████| 300/300 [00:04<00:00, 61.15it/s]\n",
      "100%|██████████| 300/300 [00:04<00:00, 63.41it/s]\n",
      "100%|██████████| 300/300 [00:05<00:00, 56.90it/s]\n",
      "100%|██████████| 300/300 [00:04<00:00, 63.62it/s]\n",
      "100%|██████████| 300/300 [00:04<00:00, 63.82it/s]\n",
      "100%|██████████| 300/300 [00:05<00:00, 59.64it/s]\n",
      "100%|██████████| 300/300 [00:04<00:00, 63.28it/s]\n",
      "100%|██████████| 300/300 [00:04<00:00, 63.01it/s]\n"
     ]
    },
    {
     "name": "stdout",
     "output_type": "stream",
     "text": [
      "Epoch [170/200], Loss: -1.5795\n"
     ]
    },
    {
     "name": "stderr",
     "output_type": "stream",
     "text": [
      "100%|██████████| 300/300 [00:05<00:00, 50.10it/s]\n",
      "100%|██████████| 300/300 [00:05<00:00, 56.51it/s]\n",
      "100%|██████████| 300/300 [00:05<00:00, 54.52it/s]\n",
      "100%|██████████| 300/300 [00:05<00:00, 56.17it/s]\n",
      "100%|██████████| 300/300 [00:04<00:00, 62.24it/s]\n",
      "100%|██████████| 300/300 [00:04<00:00, 63.96it/s]\n",
      "100%|██████████| 300/300 [00:04<00:00, 62.98it/s]\n",
      "100%|██████████| 300/300 [00:04<00:00, 62.86it/s]\n",
      "100%|██████████| 300/300 [00:04<00:00, 64.61it/s]\n",
      "100%|██████████| 300/300 [00:04<00:00, 65.77it/s]\n"
     ]
    },
    {
     "name": "stdout",
     "output_type": "stream",
     "text": [
      "Epoch [180/200], Loss: -1.3996\n"
     ]
    },
    {
     "name": "stderr",
     "output_type": "stream",
     "text": [
      "100%|██████████| 300/300 [00:04<00:00, 63.49it/s]\n",
      "100%|██████████| 300/300 [00:04<00:00, 64.35it/s]\n",
      "100%|██████████| 300/300 [00:04<00:00, 65.21it/s]\n",
      "100%|██████████| 300/300 [00:05<00:00, 53.44it/s]\n",
      "100%|██████████| 300/300 [00:07<00:00, 42.03it/s]\n",
      "100%|██████████| 300/300 [00:06<00:00, 43.27it/s]\n",
      "100%|██████████| 300/300 [00:06<00:00, 43.06it/s]\n",
      "100%|██████████| 300/300 [00:05<00:00, 53.14it/s]\n",
      "100%|██████████| 300/300 [00:07<00:00, 39.11it/s]\n",
      "100%|██████████| 300/300 [00:07<00:00, 38.56it/s]\n"
     ]
    },
    {
     "name": "stdout",
     "output_type": "stream",
     "text": [
      "Epoch [190/200], Loss: -1.6412\n"
     ]
    },
    {
     "name": "stderr",
     "output_type": "stream",
     "text": [
      "100%|██████████| 300/300 [00:06<00:00, 46.51it/s]\n",
      "100%|██████████| 300/300 [00:04<00:00, 61.92it/s]\n",
      "100%|██████████| 300/300 [00:06<00:00, 47.38it/s]\n",
      "100%|██████████| 300/300 [00:07<00:00, 41.66it/s]\n",
      "100%|██████████| 300/300 [00:05<00:00, 55.38it/s]\n",
      "100%|██████████| 300/300 [00:04<00:00, 63.55it/s]\n",
      "100%|██████████| 300/300 [00:06<00:00, 47.65it/s]\n",
      "100%|██████████| 300/300 [00:07<00:00, 40.87it/s]\n",
      "100%|██████████| 300/300 [00:04<00:00, 62.32it/s]\n",
      "100%|██████████| 300/300 [00:04<00:00, 60.05it/s]\n"
     ]
    },
    {
     "name": "stdout",
     "output_type": "stream",
     "text": [
      "Epoch [200/200], Loss: -1.6303\n"
     ]
    },
    {
     "data": {
      "image/png": "[encoded data removed]",
      "text/plain": [
       "<Figure size 640x480 with 1 Axes>"
      ]
     },
     "metadata": {},
     "output_type": "display_data"
    }
   ],
   "source": [
    "import matplotlib.pyplot as plt\n",
    "import torch\n",
    "import torch.nn as nn\n",
    "import torch.optim as optim\n",
    "from torch.utils.data import TensorDataset, DataLoader\n",
    "from tqdm import tqdm\n",
    "\n",
    "X_train = torch.tensor(X_train, dtype=torch.float32)\n",
    "Y_train = torch.tensor(Y_train, dtype=torch.float32)\n",
    "\n",
    "device = torch.device('cuda' if torch.cuda.is_available() else 'cpu')\n",
    "X_train = X_train.to(device)\n",
    "Y_train = Y_train.to(device)\n",
    "\n",
    "dataset = TensorDataset(X_train, Y_train)\n",
    "dataloader = DataLoader(dataset, batch_size=8, shuffle=False)\n",
    "\n",
    "\n",
    "class LSTMPortfolioModel(nn.Module):\n",
    "    def __init__(self, input_size, hidden_size, num_layers, output_size):\n",
    "        super(LSTMPortfolioModel, self).__init__()\n",
    "        self.hidden_size = hidden_size\n",
    "        self.num_layers = num_layers\n",
    "        self.lstm = nn.LSTM(input_size, hidden_size,\n",
    "                            num_layers, batch_first=True)\n",
    "        self.fc = nn.Linear(hidden_size, output_size)\n",
    "        self.softmax = nn.Softmax(dim=1)\n",
    "\n",
    "    def forward(self, x):\n",
    "        h0 = torch.zeros(self.num_layers, x.size(\n",
    "            0), self.hidden_size).to(x.device)\n",
    "        c0 = torch.zeros(self.num_layers, x.size(\n",
    "            0), self.hidden_size).to(x.device)\n",
    "        out, _ = self.lstm(x, (h0, c0))\n",
    "        out = self.fc(out[:, -1, :])\n",
    "        # out = self.softmax(out)\n",
    "        return out\n",
    "\n",
    "\n",
    "class CustomLoss(nn.Module):\n",
    "    def __init__(self):\n",
    "        super(CustomLoss, self).__init__()\n",
    "\n",
    "    def forward(self, inputs, output, target):\n",
    "        sharpe_ratio = torch.zeros(inputs.shape[0])\n",
    "        for i in range(inputs.shape[0]):\n",
    "            mean = torch.mean(inputs[i], axis=0)\n",
    "            cov = torch.cov(inputs[i].T)\n",
    "            sharpe_ratio[i] = torch.dot(\n",
    "                output[i], mean) / torch.sqrt(torch.dot(output[i].T, torch.matmul(cov, output[i])))\n",
    "\n",
    "        loss = -torch.mean(sharpe_ratio)\n",
    "        return loss\n",
    "\n",
    "\n",
    "input_size = X_train.shape[2]\n",
    "hidden_size = 64\n",
    "num_layers = 8\n",
    "output_size = input_size\n",
    "model = LSTMPortfolioModel(input_size, hidden_size,\n",
    "                           num_layers, output_size).to(device)\n",
    "criterion = CustomLoss()\n",
    "optimizer = optim.Adam(model.parameters(), lr=0.001)\n",
    "log_file = open(\"training_log.txt\", \"w\")\n",
    "training_logs = {}\n",
    "\n",
    "losses = []\n",
    "num_epochs = 200\n",
    "min_loss = float('inf')\n",
    "for epoch in range(num_epochs):\n",
    "    loss_avg = 0\n",
    "    for batch_X, batch_Y in tqdm(dataloader):\n",
    "        batch_X, batch_Y = batch_X.to(device), batch_Y.to(device)\n",
    "\n",
    "        optimizer.zero_grad()\n",
    "        outputs = model(batch_X)\n",
    "\n",
    "        loss = criterion(batch_X, outputs, batch_Y)\n",
    "        loss.backward()\n",
    "        optimizer.step()\n",
    "\n",
    "        loss_avg += loss.item()\n",
    "\n",
    "    epoch_loss = loss_avg / len(dataloader)\n",
    "    losses.append(epoch_loss)\n",
    "    if (epoch+1)%10==0:\n",
    "        print(f\"Epoch [{epoch+1}/{num_epochs}], Loss: {epoch_loss:.4f}\")\n",
    "\n",
    "    training_logs[f\"Epoch {epoch+1}\"] = epoch_loss\n",
    "\n",
    "    if epoch_loss < min_loss:\n",
    "        min_loss = epoch_loss\n",
    "        torch.save(model.state_dict(), 'best_model.pth')\n",
    "\n",
    "with open(\"training_log.txt\", \"w\") as log_file:\n",
    "    log_file.write(str(training_logs))\n",
    "\n",
    "plt.plot(losses)\n",
    "plt.xlabel('Epoch')\n",
    "plt.ylabel('Negative Sharpe Ratio')\n",
    "plt.title('Training Loss (Negative Sharpe Ratio)')\n",
    "plt.show()\n"
   ]
  }
 ],
 "metadata": {
  "accelerator": "GPU",
  "colab": {
   "gpuType": "T4",
   "provenance": []
  },
  "kernelspec": {
   "display_name": "Python 3 (ipykernel)",
   "language": "python",
   "name": "python3"
  },
  "language_info": {
   "codemirror_mode": {
    "name": "ipython",
    "version": 3
   },
   "file_extension": ".py",
   "mimetype": "text/x-python",
   "name": "python",
   "nbconvert_exporter": "python",
   "pygments_lexer": "ipython3",
   "version": "3.9.18"
  }
 },
 "nbformat": 4,
 "nbformat_minor": 1
}
