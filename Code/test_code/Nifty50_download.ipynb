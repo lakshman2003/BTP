{
 "cells": [
  {
   "cell_type": "code",
   "execution_count": 1,
   "metadata": {},
   "outputs": [
    {
     "name": "stdout",
     "output_type": "stream",
     "text": [
      "Collecting yfinance\n",
      "  Downloading yfinance-0.2.37-py2.py3-none-any.whl.metadata (11 kB)\n",
      "Requirement already satisfied: pandas>=1.3.0 in c:\\users\\91897\\anaconda3\\envs\\myenv\\lib\\site-packages (from yfinance) (2.2.0)\n",
      "Requirement already satisfied: numpy>=1.16.5 in c:\\users\\91897\\anaconda3\\envs\\myenv\\lib\\site-packages (from yfinance) (1.24.1)\n",
      "Collecting requests>=2.31 (from yfinance)\n",
      "  Downloading requests-2.31.0-py3-none-any.whl.metadata (4.6 kB)\n",
      "Collecting multitasking>=0.0.7 (from yfinance)\n",
      "  Downloading multitasking-0.0.11-py3-none-any.whl.metadata (5.5 kB)\n",
      "Collecting lxml>=4.9.1 (from yfinance)\n",
      "  Downloading lxml-5.1.0-cp39-cp39-win_amd64.whl.metadata (3.6 kB)\n",
      "Collecting appdirs>=1.4.4 (from yfinance)\n",
      "  Downloading appdirs-1.4.4-py2.py3-none-any.whl.metadata (9.0 kB)\n",
      "Requirement already satisfied: pytz>=2022.5 in c:\\users\\91897\\anaconda3\\envs\\myenv\\lib\\site-packages (from yfinance) (2024.1)\n",
      "Collecting frozendict>=2.3.4 (from yfinance)\n",
      "  Downloading frozendict-2.4.0-cp39-cp39-win_amd64.whl.metadata (23 kB)\n",
      "Collecting peewee>=3.16.2 (from yfinance)\n",
      "  Downloading peewee-3.17.1.tar.gz (3.0 MB)\n",
      "     ---------------------------------------- 0.0/3.0 MB ? eta -:--:--\n",
      "      --------------------------------------- 0.0/3.0 MB 991.0 kB/s eta 0:00:03\n",
      "     - -------------------------------------- 0.1/3.0 MB 1.3 MB/s eta 0:00:03\n",
      "     - -------------------------------------- 0.1/3.0 MB 1.1 MB/s eta 0:00:03\n",
      "     --- ------------------------------------ 0.2/3.0 MB 1.4 MB/s eta 0:00:02\n",
      "     --- ------------------------------------ 0.2/3.0 MB 1.4 MB/s eta 0:00:02\n",
      "     ------ --------------------------------- 0.5/3.0 MB 1.9 MB/s eta 0:00:02\n",
      "     ------- -------------------------------- 0.5/3.0 MB 1.7 MB/s eta 0:00:02\n",
      "     -------- ------------------------------- 0.6/3.0 MB 1.8 MB/s eta 0:00:02\n",
      "     ----------- ---------------------------- 0.9/3.0 MB 2.1 MB/s eta 0:00:01\n",
      "     -------------- ------------------------- 1.0/3.0 MB 2.3 MB/s eta 0:00:01\n",
      "     ----------------- ---------------------- 1.3/3.0 MB 2.6 MB/s eta 0:00:01\n",
      "     ------------------- -------------------- 1.4/3.0 MB 2.6 MB/s eta 0:00:01\n",
      "     ------------------- -------------------- 1.4/3.0 MB 2.6 MB/s eta 0:00:01\n",
      "     -------------------- ------------------- 1.5/3.0 MB 2.4 MB/s eta 0:00:01\n",
      "     ----------------------- ---------------- 1.8/3.0 MB 2.5 MB/s eta 0:00:01\n",
      "     ------------------------- -------------- 1.9/3.0 MB 2.6 MB/s eta 0:00:01\n",
      "     ----------------------------- ---------- 2.2/3.0 MB 2.7 MB/s eta 0:00:01\n",
      "     ------------------------------ --------- 2.3/3.0 MB 2.7 MB/s eta 0:00:01\n",
      "     ------------------------------- -------- 2.4/3.0 MB 2.6 MB/s eta 0:00:01\n",
      "     ---------------------------------- ----- 2.5/3.0 MB 2.7 MB/s eta 0:00:01\n",
      "     ----------------------------------- ---- 2.6/3.0 MB 2.7 MB/s eta 0:00:01\n",
      "     ------------------------------------ --- 2.7/3.0 MB 2.7 MB/s eta 0:00:01\n",
      "     ------------------------------------- -- 2.8/3.0 MB 2.6 MB/s eta 0:00:01\n",
      "     ---------------------------------------  2.9/3.0 MB 2.6 MB/s eta 0:00:01\n",
      "     ---------------------------------------- 3.0/3.0 MB 2.6 MB/s eta 0:00:00\n",
      "  Installing build dependencies: started\n",
      "  Installing build dependencies: finished with status 'done'\n",
      "  Getting requirements to build wheel: started\n",
      "  Getting requirements to build wheel: finished with status 'done'\n",
      "  Preparing metadata (pyproject.toml): started\n",
      "  Preparing metadata (pyproject.toml): finished with status 'done'\n",
      "Collecting beautifulsoup4>=4.11.1 (from yfinance)\n",
      "  Downloading beautifulsoup4-4.12.3-py3-none-any.whl.metadata (3.8 kB)\n",
      "Collecting html5lib>=1.1 (from yfinance)\n",
      "  Downloading html5lib-1.1-py2.py3-none-any.whl.metadata (16 kB)\n",
      "Collecting soupsieve>1.2 (from beautifulsoup4>=4.11.1->yfinance)\n",
      "  Downloading soupsieve-2.5-py3-none-any.whl.metadata (4.7 kB)\n",
      "Requirement already satisfied: six>=1.9 in c:\\users\\91897\\anaconda3\\envs\\myenv\\lib\\site-packages (from html5lib>=1.1->yfinance) (1.16.0)\n",
      "Collecting webencodings (from html5lib>=1.1->yfinance)\n",
      "  Downloading webencodings-0.5.1-py2.py3-none-any.whl.metadata (2.1 kB)\n",
      "Requirement already satisfied: python-dateutil>=2.8.2 in c:\\users\\91897\\anaconda3\\envs\\myenv\\lib\\site-packages (from pandas>=1.3.0->yfinance) (2.8.2)\n",
      "Requirement already satisfied: tzdata>=2022.7 in c:\\users\\91897\\anaconda3\\envs\\myenv\\lib\\site-packages (from pandas>=1.3.0->yfinance) (2023.4)\n",
      "Requirement already satisfied: charset-normalizer<4,>=2 in c:\\users\\91897\\anaconda3\\envs\\myenv\\lib\\site-packages (from requests>=2.31->yfinance) (2.1.1)\n",
      "Requirement already satisfied: idna<4,>=2.5 in c:\\users\\91897\\anaconda3\\envs\\myenv\\lib\\site-packages (from requests>=2.31->yfinance) (3.4)\n",
      "Requirement already satisfied: urllib3<3,>=1.21.1 in c:\\users\\91897\\anaconda3\\envs\\myenv\\lib\\site-packages (from requests>=2.31->yfinance) (1.26.13)\n",
      "Requirement already satisfied: certifi>=2017.4.17 in c:\\users\\91897\\anaconda3\\envs\\myenv\\lib\\site-packages (from requests>=2.31->yfinance) (2022.12.7)\n",
      "Downloading yfinance-0.2.37-py2.py3-none-any.whl (72 kB)\n",
      "   ---------------------------------------- 0.0/73.0 kB ? eta -:--:--\n",
      "   ---------------------------------------- 73.0/73.0 kB 4.2 MB/s eta 0:00:00\n",
      "Downloading appdirs-1.4.4-py2.py3-none-any.whl (9.6 kB)\n",
      "Downloading beautifulsoup4-4.12.3-py3-none-any.whl (147 kB)\n",
      "   ---------------------------------------- 0.0/147.9 kB ? eta -:--:--\n",
      "   ---------------------------------------- 147.9/147.9 kB 4.4 MB/s eta 0:00:00\n",
      "Downloading frozendict-2.4.0-cp39-cp39-win_amd64.whl (36 kB)\n",
      "Downloading html5lib-1.1-py2.py3-none-any.whl (112 kB)\n",
      "   ---------------------------------------- 0.0/112.2 kB ? eta -:--:--\n",
      "   ---------------------------------------- 112.2/112.2 kB 6.8 MB/s eta 0:00:00\n",
      "Downloading lxml-5.1.0-cp39-cp39-win_amd64.whl (3.9 MB)\n",
      "   ---------------------------------------- 0.0/3.9 MB ? eta -:--:--\n",
      "   - -------------------------------------- 0.1/3.9 MB 3.3 MB/s eta 0:00:02\n",
      "   -- ------------------------------------- 0.2/3.9 MB 3.0 MB/s eta 0:00:02\n",
      "   ---- ----------------------------------- 0.5/3.9 MB 3.4 MB/s eta 0:00:02\n",
      "   ------- -------------------------------- 0.8/3.9 MB 4.3 MB/s eta 0:00:01\n",
      "   ---------- ----------------------------- 1.0/3.9 MB 4.6 MB/s eta 0:00:01\n",
      "   ----------- ---------------------------- 1.1/3.9 MB 4.2 MB/s eta 0:00:01\n",
      "   ------------- -------------------------- 1.3/3.9 MB 4.0 MB/s eta 0:00:01\n",
      "   --------------- ------------------------ 1.5/3.9 MB 4.2 MB/s eta 0:00:01\n",
      "   ---------------- ----------------------- 1.6/3.9 MB 4.1 MB/s eta 0:00:01\n",
      "   ----------------- ---------------------- 1.8/3.9 MB 4.0 MB/s eta 0:00:01\n",
      "   ------------------ --------------------- 1.8/3.9 MB 3.8 MB/s eta 0:00:01\n",
      "   -------------------- ------------------- 2.0/3.9 MB 3.6 MB/s eta 0:00:01\n",
      "   -------------------- ------------------- 2.0/3.9 MB 3.6 MB/s eta 0:00:01\n",
      "   ---------------------- ----------------- 2.2/3.9 MB 3.4 MB/s eta 0:00:01\n",
      "   ---------------------- ----------------- 2.2/3.9 MB 3.4 MB/s eta 0:00:01\n",
      "   ----------------------- ---------------- 2.3/3.9 MB 3.1 MB/s eta 0:00:01\n",
      "   ------------------------ --------------- 2.4/3.9 MB 3.1 MB/s eta 0:00:01\n",
      "   ------------------------- -------------- 2.5/3.9 MB 3.0 MB/s eta 0:00:01\n",
      "   -------------------------- ------------- 2.6/3.9 MB 3.0 MB/s eta 0:00:01\n",
      "   ---------------------------- ----------- 2.8/3.9 MB 3.0 MB/s eta 0:00:01\n",
      "   ------------------------------ --------- 3.0/3.9 MB 3.1 MB/s eta 0:00:01\n",
      "   -------------------------------- ------- 3.1/3.9 MB 3.1 MB/s eta 0:00:01\n",
      "   --------------------------------- ------ 3.3/3.9 MB 3.1 MB/s eta 0:00:01\n",
      "   ----------------------------------- ---- 3.4/3.9 MB 3.1 MB/s eta 0:00:01\n",
      "   ------------------------------------ --- 3.6/3.9 MB 3.1 MB/s eta 0:00:01\n",
      "   ------------------------------------- -- 3.7/3.9 MB 3.1 MB/s eta 0:00:01\n",
      "   -------------------------------------- - 3.8/3.9 MB 3.0 MB/s eta 0:00:01\n",
      "   ---------------------------------------- 3.9/3.9 MB 3.1 MB/s eta 0:00:00\n",
      "Downloading multitasking-0.0.11-py3-none-any.whl (8.5 kB)\n",
      "Downloading requests-2.31.0-py3-none-any.whl (62 kB)\n",
      "   ---------------------------------------- 0.0/62.6 kB ? eta -:--:--\n",
      "   ---------------------------------------- 62.6/62.6 kB 3.3 MB/s eta 0:00:00\n",
      "Downloading soupsieve-2.5-py3-none-any.whl (36 kB)\n",
      "Downloading webencodings-0.5.1-py2.py3-none-any.whl (11 kB)\n",
      "Building wheels for collected packages: peewee\n",
      "  Building wheel for peewee (pyproject.toml): started\n",
      "  Building wheel for peewee (pyproject.toml): finished with status 'done'\n",
      "  Created wheel for peewee: filename=peewee-3.17.1-py3-none-any.whl size=136948 sha256=fc42fea2fa574be249509aff93cc692cb6eda2460a86853be244db7f87d96022\n",
      "  Stored in directory: C:\\Users\\91897\\AppData\\Local\\Temp\\pip-ephem-wheel-cache-5q9je2bs\\wheels\\77\\ca\\43\\00120282a2aa9323dd8da301fb17ea79f84c35fc6faa9f94ea\n",
      "Successfully built peewee\n",
      "Installing collected packages: webencodings, peewee, multitasking, appdirs, soupsieve, requests, lxml, html5lib, frozendict, beautifulsoup4, yfinance\n",
      "  Attempting uninstall: requests\n",
      "    Found existing installation: requests 2.28.1\n",
      "    Uninstalling requests-2.28.1:\n",
      "      Successfully uninstalled requests-2.28.1\n",
      "Successfully installed appdirs-1.4.4 beautifulsoup4-4.12.3 frozendict-2.4.0 html5lib-1.1 lxml-5.1.0 multitasking-0.0.11 peewee-3.17.1 requests-2.31.0 soupsieve-2.5 webencodings-0.5.1 yfinance-0.2.37\n"
     ]
    }
   ],
   "source": [
    "!pip install yfinance --upgrade --no-cache-dir"
   ]
  },
  {
   "cell_type": "code",
   "execution_count": 23,
   "metadata": {},
   "outputs": [],
   "source": [
    "import warnings\n",
    "import pandas as pd\n",
    "import numpy as np\n",
    "import openpyxl\n",
    "import yfinance as yf\n",
    "yf.pdr_override()\n",
    "\n",
    "warnings.filterwarnings(\"ignore\")"
   ]
  },
  {
   "cell_type": "code",
   "execution_count": 25,
   "metadata": {},
   "outputs": [
    {
     "data": {
      "text/html": [
       "<div>\n",
       "<style scoped>\n",
       "    .dataframe tbody tr th:only-of-type {\n",
       "        vertical-align: middle;\n",
       "    }\n",
       "\n",
       "    .dataframe tbody tr th {\n",
       "        vertical-align: top;\n",
       "    }\n",
       "\n",
       "    .dataframe thead th {\n",
       "        text-align: right;\n",
       "    }\n",
       "</style>\n",
       "<table border=\"1\" class=\"dataframe\">\n",
       "  <thead>\n",
       "    <tr style=\"text-align: right;\">\n",
       "      <th></th>\n",
       "      <th>Industry</th>\n",
       "      <th>Symbol</th>\n",
       "      <th>Series</th>\n",
       "      <th>ISIN Code</th>\n",
       "    </tr>\n",
       "    <tr>\n",
       "      <th>Company Name</th>\n",
       "      <th></th>\n",
       "      <th></th>\n",
       "      <th></th>\n",
       "      <th></th>\n",
       "    </tr>\n",
       "  </thead>\n",
       "  <tbody>\n",
       "    <tr>\n",
       "      <th>Adani Enterprises Ltd.</th>\n",
       "      <td>Metals &amp; Mining</td>\n",
       "      <td>ADANIENT</td>\n",
       "      <td>EQ</td>\n",
       "      <td>INE423A01024</td>\n",
       "    </tr>\n",
       "    <tr>\n",
       "      <th>Adani Ports and Special Economic Zone Ltd.</th>\n",
       "      <td>Services</td>\n",
       "      <td>ADANIPORTS</td>\n",
       "      <td>EQ</td>\n",
       "      <td>INE742F01042</td>\n",
       "    </tr>\n",
       "    <tr>\n",
       "      <th>Apollo Hospitals Enterprise Ltd.</th>\n",
       "      <td>Healthcare</td>\n",
       "      <td>APOLLOHOSP</td>\n",
       "      <td>EQ</td>\n",
       "      <td>INE437A01024</td>\n",
       "    </tr>\n",
       "    <tr>\n",
       "      <th>Asian Paints Ltd.</th>\n",
       "      <td>Consumer Durables</td>\n",
       "      <td>ASIANPAINT</td>\n",
       "      <td>EQ</td>\n",
       "      <td>INE021A01026</td>\n",
       "    </tr>\n",
       "    <tr>\n",
       "      <th>Axis Bank Ltd.</th>\n",
       "      <td>Financial Services</td>\n",
       "      <td>AXISBANK</td>\n",
       "      <td>EQ</td>\n",
       "      <td>INE238A01034</td>\n",
       "    </tr>\n",
       "  </tbody>\n",
       "</table>\n",
       "</div>"
      ],
      "text/plain": [
       "                                                      Industry      Symbol  \\\n",
       "Company Name                                                                 \n",
       "Adani Enterprises Ltd.                         Metals & Mining    ADANIENT   \n",
       "Adani Ports and Special Economic Zone Ltd.            Services  ADANIPORTS   \n",
       "Apollo Hospitals Enterprise Ltd.                    Healthcare  APOLLOHOSP   \n",
       "Asian Paints Ltd.                            Consumer Durables  ASIANPAINT   \n",
       "Axis Bank Ltd.                              Financial Services    AXISBANK   \n",
       "\n",
       "                                           Series     ISIN Code  \n",
       "Company Name                                                     \n",
       "Adani Enterprises Ltd.                         EQ  INE423A01024  \n",
       "Adani Ports and Special Economic Zone Ltd.     EQ  INE742F01042  \n",
       "Apollo Hospitals Enterprise Ltd.               EQ  INE437A01024  \n",
       "Asian Paints Ltd.                              EQ  INE021A01026  \n",
       "Axis Bank Ltd.                                 EQ  INE238A01034  "
      ]
     },
     "execution_count": 25,
     "metadata": {},
     "output_type": "execute_result"
    }
   ],
   "source": [
    "tickers = pd.read_csv(\"..\\..\\Dataset\\ind_nifty50list.csv\", index_col=0)\n",
    "tickers.head()"
   ]
  },
  {
   "cell_type": "code",
   "execution_count": 26,
   "metadata": {},
   "outputs": [
    {
     "name": "stdout",
     "output_type": "stream",
     "text": [
      "Parsing Started....\n"
     ]
    },
    {
     "name": "stderr",
     "output_type": "stream",
     "text": [
      "[*********************100%%**********************]  1 of 1 completed\n"
     ]
    },
    {
     "name": "stdout",
     "output_type": "stream",
     "text": [
      "Done  0   ADANIENT.NS\n",
      "PARSED!\n"
     ]
    },
    {
     "name": "stderr",
     "output_type": "stream",
     "text": [
      "[*********************100%%**********************]  1 of 1 completed\n"
     ]
    },
    {
     "name": "stdout",
     "output_type": "stream",
     "text": [
      "Done  1   ADANIPORTS.NS\n",
      "PARSED!\n"
     ]
    },
    {
     "name": "stderr",
     "output_type": "stream",
     "text": [
      "[*********************100%%**********************]  1 of 1 completed\n"
     ]
    },
    {
     "name": "stdout",
     "output_type": "stream",
     "text": [
      "Done  2   APOLLOHOSP.NS\n",
      "PARSED!\n"
     ]
    },
    {
     "name": "stderr",
     "output_type": "stream",
     "text": [
      "[*********************100%%**********************]  1 of 1 completed\n"
     ]
    },
    {
     "name": "stdout",
     "output_type": "stream",
     "text": [
      "Done  3   ASIANPAINT.NS\n",
      "PARSED!\n"
     ]
    },
    {
     "name": "stderr",
     "output_type": "stream",
     "text": [
      "[*********************100%%**********************]  1 of 1 completed\n"
     ]
    },
    {
     "name": "stdout",
     "output_type": "stream",
     "text": [
      "Done  4   AXISBANK.NS\n",
      "PARSED!\n"
     ]
    },
    {
     "name": "stderr",
     "output_type": "stream",
     "text": [
      "[*********************100%%**********************]  1 of 1 completed\n"
     ]
    },
    {
     "name": "stdout",
     "output_type": "stream",
     "text": [
      "Done  5   BAJAJ-AUTO.NS\n",
      "PARSED!\n"
     ]
    },
    {
     "name": "stderr",
     "output_type": "stream",
     "text": [
      "[*********************100%%**********************]  1 of 1 completed\n"
     ]
    },
    {
     "name": "stdout",
     "output_type": "stream",
     "text": [
      "Done  6   BAJFINANCE.NS\n",
      "PARSED!\n"
     ]
    },
    {
     "name": "stderr",
     "output_type": "stream",
     "text": [
      "[*********************100%%**********************]  1 of 1 completed\n"
     ]
    },
    {
     "name": "stdout",
     "output_type": "stream",
     "text": [
      "Done  7   BAJAJFINSV.NS\n",
      "PARSED!\n"
     ]
    },
    {
     "name": "stderr",
     "output_type": "stream",
     "text": [
      "[*********************100%%**********************]  1 of 1 completed\n"
     ]
    },
    {
     "name": "stdout",
     "output_type": "stream",
     "text": [
      "Done  8   BPCL.NS\n",
      "PARSED!\n"
     ]
    },
    {
     "name": "stderr",
     "output_type": "stream",
     "text": [
      "[*********************100%%**********************]  1 of 1 completed\n"
     ]
    },
    {
     "name": "stdout",
     "output_type": "stream",
     "text": [
      "Done  9   BHARTIARTL.NS\n",
      "PARSED!\n"
     ]
    },
    {
     "name": "stderr",
     "output_type": "stream",
     "text": [
      "[*********************100%%**********************]  1 of 1 completed\n"
     ]
    },
    {
     "name": "stdout",
     "output_type": "stream",
     "text": [
      "Done  10   BRITANNIA.NS\n",
      "PARSED!\n"
     ]
    },
    {
     "name": "stderr",
     "output_type": "stream",
     "text": [
      "[*********************100%%**********************]  1 of 1 completed\n"
     ]
    },
    {
     "name": "stdout",
     "output_type": "stream",
     "text": [
      "Done  11   CIPLA.NS\n",
      "PARSED!\n"
     ]
    },
    {
     "name": "stderr",
     "output_type": "stream",
     "text": [
      "[*********************100%%**********************]  1 of 1 completed\n"
     ]
    },
    {
     "name": "stdout",
     "output_type": "stream",
     "text": [
      "Done  12   COALINDIA.NS\n",
      "PARSED!\n"
     ]
    },
    {
     "name": "stderr",
     "output_type": "stream",
     "text": [
      "[*********************100%%**********************]  1 of 1 completed\n"
     ]
    },
    {
     "name": "stdout",
     "output_type": "stream",
     "text": [
      "Done  13   DIVISLAB.NS\n",
      "PARSED!\n"
     ]
    },
    {
     "name": "stderr",
     "output_type": "stream",
     "text": [
      "[*********************100%%**********************]  1 of 1 completed\n"
     ]
    },
    {
     "name": "stdout",
     "output_type": "stream",
     "text": [
      "Done  14   DRREDDY.NS\n",
      "PARSED!\n"
     ]
    },
    {
     "name": "stderr",
     "output_type": "stream",
     "text": [
      "[*********************100%%**********************]  1 of 1 completed\n"
     ]
    },
    {
     "name": "stdout",
     "output_type": "stream",
     "text": [
      "Done  15   EICHERMOT.NS\n",
      "PARSED!\n"
     ]
    },
    {
     "name": "stderr",
     "output_type": "stream",
     "text": [
      "[*********************100%%**********************]  1 of 1 completed\n"
     ]
    },
    {
     "name": "stdout",
     "output_type": "stream",
     "text": [
      "Done  16   GRASIM.NS\n",
      "PARSED!\n"
     ]
    },
    {
     "name": "stderr",
     "output_type": "stream",
     "text": [
      "[*********************100%%**********************]  1 of 1 completed\n"
     ]
    },
    {
     "name": "stdout",
     "output_type": "stream",
     "text": [
      "Done  17   HCLTECH.NS\n",
      "PARSED!\n"
     ]
    },
    {
     "name": "stderr",
     "output_type": "stream",
     "text": [
      "[*********************100%%**********************]  1 of 1 completed\n"
     ]
    },
    {
     "name": "stdout",
     "output_type": "stream",
     "text": [
      "Done  18   HDFCBANK.NS\n",
      "PARSED!\n"
     ]
    },
    {
     "name": "stderr",
     "output_type": "stream",
     "text": [
      "[*********************100%%**********************]  1 of 1 completed\n"
     ]
    },
    {
     "name": "stdout",
     "output_type": "stream",
     "text": [
      "Done  19   HDFCLIFE.NS\n",
      "PARSED!\n"
     ]
    },
    {
     "name": "stderr",
     "output_type": "stream",
     "text": [
      "[*********************100%%**********************]  1 of 1 completed\n"
     ]
    },
    {
     "name": "stdout",
     "output_type": "stream",
     "text": [
      "Done  20   HEROMOTOCO.NS\n",
      "PARSED!\n"
     ]
    },
    {
     "name": "stderr",
     "output_type": "stream",
     "text": [
      "[*********************100%%**********************]  1 of 1 completed\n"
     ]
    },
    {
     "name": "stdout",
     "output_type": "stream",
     "text": [
      "Done  21   HINDALCO.NS\n",
      "PARSED!\n"
     ]
    },
    {
     "name": "stderr",
     "output_type": "stream",
     "text": [
      "[*********************100%%**********************]  1 of 1 completed\n"
     ]
    },
    {
     "name": "stdout",
     "output_type": "stream",
     "text": [
      "Done  22   HINDUNILVR.NS\n",
      "PARSED!\n"
     ]
    },
    {
     "name": "stderr",
     "output_type": "stream",
     "text": [
      "[*********************100%%**********************]  1 of 1 completed\n"
     ]
    },
    {
     "name": "stdout",
     "output_type": "stream",
     "text": [
      "Done  23   ICICIBANK.NS\n",
      "PARSED!\n"
     ]
    },
    {
     "name": "stderr",
     "output_type": "stream",
     "text": [
      "[*********************100%%**********************]  1 of 1 completed\n"
     ]
    },
    {
     "name": "stdout",
     "output_type": "stream",
     "text": [
      "Done  24   ITC.NS\n",
      "PARSED!\n"
     ]
    },
    {
     "name": "stderr",
     "output_type": "stream",
     "text": [
      "[*********************100%%**********************]  1 of 1 completed\n"
     ]
    },
    {
     "name": "stdout",
     "output_type": "stream",
     "text": [
      "Done  25   INDUSINDBK.NS\n",
      "PARSED!\n"
     ]
    },
    {
     "name": "stderr",
     "output_type": "stream",
     "text": [
      "[*********************100%%**********************]  1 of 1 completed\n"
     ]
    },
    {
     "name": "stdout",
     "output_type": "stream",
     "text": [
      "Done  26   INFY.NS\n",
      "PARSED!\n"
     ]
    },
    {
     "name": "stderr",
     "output_type": "stream",
     "text": [
      "[*********************100%%**********************]  1 of 1 completed\n"
     ]
    },
    {
     "name": "stdout",
     "output_type": "stream",
     "text": [
      "Done  27   JSWSTEEL.NS\n",
      "PARSED!\n"
     ]
    },
    {
     "name": "stderr",
     "output_type": "stream",
     "text": [
      "[*********************100%%**********************]  1 of 1 completed\n"
     ]
    },
    {
     "name": "stdout",
     "output_type": "stream",
     "text": [
      "Done  28   KOTAKBANK.NS\n",
      "PARSED!\n"
     ]
    },
    {
     "name": "stderr",
     "output_type": "stream",
     "text": [
      "[*********************100%%**********************]  1 of 1 completed\n"
     ]
    },
    {
     "name": "stdout",
     "output_type": "stream",
     "text": [
      "Done  29   LTIM.NS\n",
      "PARSED!\n"
     ]
    },
    {
     "name": "stderr",
     "output_type": "stream",
     "text": [
      "[*********************100%%**********************]  1 of 1 completed\n"
     ]
    },
    {
     "name": "stdout",
     "output_type": "stream",
     "text": [
      "Done  30   LT.NS\n",
      "PARSED!\n"
     ]
    },
    {
     "name": "stderr",
     "output_type": "stream",
     "text": [
      "[*********************100%%**********************]  1 of 1 completed\n"
     ]
    },
    {
     "name": "stdout",
     "output_type": "stream",
     "text": [
      "Done  31   M&M.NS\n",
      "PARSED!\n"
     ]
    },
    {
     "name": "stderr",
     "output_type": "stream",
     "text": [
      "[*********************100%%**********************]  1 of 1 completed\n"
     ]
    },
    {
     "name": "stdout",
     "output_type": "stream",
     "text": [
      "Done  32   MARUTI.NS\n",
      "PARSED!\n"
     ]
    },
    {
     "name": "stderr",
     "output_type": "stream",
     "text": [
      "[*********************100%%**********************]  1 of 1 completed\n"
     ]
    },
    {
     "name": "stdout",
     "output_type": "stream",
     "text": [
      "Done  33   NTPC.NS\n",
      "PARSED!\n"
     ]
    },
    {
     "name": "stderr",
     "output_type": "stream",
     "text": [
      "[*********************100%%**********************]  1 of 1 completed\n"
     ]
    },
    {
     "name": "stdout",
     "output_type": "stream",
     "text": [
      "Done  34   NESTLEIND.NS\n",
      "PARSED!\n"
     ]
    },
    {
     "name": "stderr",
     "output_type": "stream",
     "text": [
      "[*********************100%%**********************]  1 of 1 completed\n"
     ]
    },
    {
     "name": "stdout",
     "output_type": "stream",
     "text": [
      "Done  35   ONGC.NS\n",
      "PARSED!\n"
     ]
    },
    {
     "name": "stderr",
     "output_type": "stream",
     "text": [
      "[*********************100%%**********************]  1 of 1 completed\n"
     ]
    },
    {
     "name": "stdout",
     "output_type": "stream",
     "text": [
      "Done  36   POWERGRID.NS\n",
      "PARSED!\n"
     ]
    },
    {
     "name": "stderr",
     "output_type": "stream",
     "text": [
      "[*********************100%%**********************]  1 of 1 completed\n"
     ]
    },
    {
     "name": "stdout",
     "output_type": "stream",
     "text": [
      "Done  37   RELIANCE.NS\n",
      "PARSED!\n"
     ]
    },
    {
     "name": "stderr",
     "output_type": "stream",
     "text": [
      "[*********************100%%**********************]  1 of 1 completed\n"
     ]
    },
    {
     "name": "stdout",
     "output_type": "stream",
     "text": [
      "Done  38   SBILIFE.NS\n",
      "PARSED!\n"
     ]
    },
    {
     "name": "stderr",
     "output_type": "stream",
     "text": [
      "[*********************100%%**********************]  1 of 1 completed\n"
     ]
    },
    {
     "name": "stdout",
     "output_type": "stream",
     "text": [
      "Done  39   SBIN.NS\n",
      "PARSED!\n"
     ]
    },
    {
     "name": "stderr",
     "output_type": "stream",
     "text": [
      "[*********************100%%**********************]  1 of 1 completed\n"
     ]
    },
    {
     "name": "stdout",
     "output_type": "stream",
     "text": [
      "Done  40   SUNPHARMA.NS\n",
      "PARSED!\n"
     ]
    },
    {
     "name": "stderr",
     "output_type": "stream",
     "text": [
      "[*********************100%%**********************]  1 of 1 completed\n"
     ]
    },
    {
     "name": "stdout",
     "output_type": "stream",
     "text": [
      "Done  41   TCS.NS\n",
      "PARSED!\n"
     ]
    },
    {
     "name": "stderr",
     "output_type": "stream",
     "text": [
      "[*********************100%%**********************]  1 of 1 completed\n"
     ]
    },
    {
     "name": "stdout",
     "output_type": "stream",
     "text": [
      "Done  42   TATACONSUM.NS\n",
      "PARSED!\n"
     ]
    },
    {
     "name": "stderr",
     "output_type": "stream",
     "text": [
      "[*********************100%%**********************]  1 of 1 completed\n"
     ]
    },
    {
     "name": "stdout",
     "output_type": "stream",
     "text": [
      "Done  43   TATAMOTORS.NS\n",
      "PARSED!\n"
     ]
    },
    {
     "name": "stderr",
     "output_type": "stream",
     "text": [
      "[*********************100%%**********************]  1 of 1 completed\n"
     ]
    },
    {
     "name": "stdout",
     "output_type": "stream",
     "text": [
      "Done  44   TATASTEEL.NS\n",
      "PARSED!\n"
     ]
    },
    {
     "name": "stderr",
     "output_type": "stream",
     "text": [
      "[*********************100%%**********************]  1 of 1 completed\n"
     ]
    },
    {
     "name": "stdout",
     "output_type": "stream",
     "text": [
      "Done  45   TECHM.NS\n",
      "PARSED!\n"
     ]
    },
    {
     "name": "stderr",
     "output_type": "stream",
     "text": [
      "[*********************100%%**********************]  1 of 1 completed\n"
     ]
    },
    {
     "name": "stdout",
     "output_type": "stream",
     "text": [
      "Done  46   TITAN.NS\n",
      "PARSED!\n"
     ]
    },
    {
     "name": "stderr",
     "output_type": "stream",
     "text": [
      "[*********************100%%**********************]  1 of 1 completed\n"
     ]
    },
    {
     "name": "stdout",
     "output_type": "stream",
     "text": [
      "Done  47   UPL.NS\n",
      "PARSED!\n"
     ]
    },
    {
     "name": "stderr",
     "output_type": "stream",
     "text": [
      "[*********************100%%**********************]  1 of 1 completed\n"
     ]
    },
    {
     "name": "stdout",
     "output_type": "stream",
     "text": [
      "Done  48   ULTRACEMCO.NS\n",
      "PARSED!\n"
     ]
    },
    {
     "name": "stderr",
     "output_type": "stream",
     "text": [
      "[*********************100%%**********************]  1 of 1 completed"
     ]
    },
    {
     "name": "stdout",
     "output_type": "stream",
     "text": [
      "Done  49   WIPRO.NS\n",
      "PARSED!\n"
     ]
    },
    {
     "name": "stderr",
     "output_type": "stream",
     "text": [
      "\n"
     ]
    }
   ],
   "source": [
    "# input\n",
    "start = '2012-01-01'\n",
    "end = '2024-03-26'\n",
    "\n",
    "print(\"Parsing Started....\")\n",
    "count = 0\n",
    "for i in tickers.Symbol:\n",
    "  symbol = i + '.NS'\n",
    "  df = yf.download(symbol, start, end)\n",
    "  df.to_csv(\"../../Dataset/\" +\n",
    "            str(count) + \"_\" + i + '.csv')\n",
    "  print(\"Done \", count, \" \", symbol)\n",
    "  count += 1\n",
    "  print(\"PARSED!\")"
   ]
  },
  {
   "cell_type": "code",
   "execution_count": null,
   "metadata": {},
   "outputs": [],
   "source": []
  }
 ],
 "metadata": {
  "kernelspec": {
   "display_name": "myenv",
   "language": "python",
   "name": "python3"
  },
  "language_info": {
   "codemirror_mode": {
    "name": "ipython",
    "version": 3
   },
   "file_extension": ".py",
   "mimetype": "text/x-python",
   "name": "python",
   "nbconvert_exporter": "python",
   "pygments_lexer": "ipython3",
   "version": "3.9.18"
  }
 },
 "nbformat": 4,
 "nbformat_minor": 2
}
